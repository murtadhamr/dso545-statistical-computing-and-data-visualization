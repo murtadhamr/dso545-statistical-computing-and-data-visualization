{
 "cells": [
  {
   "cell_type": "markdown",
   "metadata": {
    "id": "rnjBziHYnFwH"
   },
   "source": [
    "# Week 3: Exploratory Data Analysis (Categorical Variables)"
   ]
  },
  {
   "cell_type": "markdown",
   "metadata": {},
   "source": [
    "**Sources:**\n",
    "\n",
    "- Python for Marketing Reserach and Analytics. J. Schwarz, C. Chapman, and E.M. Feit. Springer 2020.\n",
    "- Matplotlib: https://matplotlib.org\n",
    "- Color Brewer: https://colorbrewer2.org/"
   ]
  },
  {
   "cell_type": "markdown",
   "metadata": {},
   "source": [
    "## 3.1 Data"
   ]
  },
  {
   "cell_type": "markdown",
   "metadata": {},
   "source": [
    "- The dataset records total sales by week for two competing products at a chain of stores. \n",
    "- In addition to sales, the price and promotion status were recorded. \n",
    "- The promotion status record whether the produced was promoted (1) or not (0).\n",
    "- The data was collected over a period of two years."
   ]
  },
  {
   "cell_type": "code",
   "execution_count": 59,
   "metadata": {},
   "outputs": [],
   "source": [
    "import numpy as np\n",
    "import pandas as pd\n",
    "\n",
    "# for visualization \n",
    "import matplotlib.pyplot as plt\n",
    "import seaborn as sns \n",
    "\n",
    "# set the style of the graphs to ggplot\n",
    "\n",
    "plt.style.use('ggplot')\n"
   ]
  },
  {
   "cell_type": "code",
   "execution_count": 9,
   "metadata": {
    "scrolled": false
   },
   "outputs": [
    {
     "data": {
      "text/html": [
       "<div>\n",
       "<style scoped>\n",
       "    .dataframe tbody tr th:only-of-type {\n",
       "        vertical-align: middle;\n",
       "    }\n",
       "\n",
       "    .dataframe tbody tr th {\n",
       "        vertical-align: top;\n",
       "    }\n",
       "\n",
       "    .dataframe thead th {\n",
       "        text-align: right;\n",
       "    }\n",
       "</style>\n",
       "<table border=\"1\" class=\"dataframe\">\n",
       "  <thead>\n",
       "    <tr style=\"text-align: right;\">\n",
       "      <th></th>\n",
       "      <th>store_num</th>\n",
       "      <th>year</th>\n",
       "      <th>week</th>\n",
       "      <th>p1_sales</th>\n",
       "      <th>p2_sales</th>\n",
       "      <th>p1_price</th>\n",
       "      <th>p2_price</th>\n",
       "      <th>p1_promo</th>\n",
       "      <th>p2_promo</th>\n",
       "      <th>country</th>\n",
       "    </tr>\n",
       "  </thead>\n",
       "  <tbody>\n",
       "    <tr>\n",
       "      <th>0</th>\n",
       "      <td>101.0</td>\n",
       "      <td>1.0</td>\n",
       "      <td>1.0</td>\n",
       "      <td>122.0</td>\n",
       "      <td>110.0</td>\n",
       "      <td>2.99</td>\n",
       "      <td>2.99</td>\n",
       "      <td>0</td>\n",
       "      <td>1</td>\n",
       "      <td>USA</td>\n",
       "    </tr>\n",
       "    <tr>\n",
       "      <th>1</th>\n",
       "      <td>101.0</td>\n",
       "      <td>1.0</td>\n",
       "      <td>2.0</td>\n",
       "      <td>160.0</td>\n",
       "      <td>79.0</td>\n",
       "      <td>2.49</td>\n",
       "      <td>3.19</td>\n",
       "      <td>0</td>\n",
       "      <td>0</td>\n",
       "      <td>USA</td>\n",
       "    </tr>\n",
       "    <tr>\n",
       "      <th>2</th>\n",
       "      <td>101.0</td>\n",
       "      <td>1.0</td>\n",
       "      <td>3.0</td>\n",
       "      <td>169.0</td>\n",
       "      <td>80.0</td>\n",
       "      <td>2.19</td>\n",
       "      <td>2.99</td>\n",
       "      <td>0</td>\n",
       "      <td>0</td>\n",
       "      <td>USA</td>\n",
       "    </tr>\n",
       "    <tr>\n",
       "      <th>3</th>\n",
       "      <td>101.0</td>\n",
       "      <td>1.0</td>\n",
       "      <td>4.0</td>\n",
       "      <td>119.0</td>\n",
       "      <td>102.0</td>\n",
       "      <td>2.49</td>\n",
       "      <td>2.49</td>\n",
       "      <td>0</td>\n",
       "      <td>0</td>\n",
       "      <td>USA</td>\n",
       "    </tr>\n",
       "    <tr>\n",
       "      <th>4</th>\n",
       "      <td>101.0</td>\n",
       "      <td>1.0</td>\n",
       "      <td>5.0</td>\n",
       "      <td>114.0</td>\n",
       "      <td>143.0</td>\n",
       "      <td>2.49</td>\n",
       "      <td>2.59</td>\n",
       "      <td>0</td>\n",
       "      <td>1</td>\n",
       "      <td>USA</td>\n",
       "    </tr>\n",
       "  </tbody>\n",
       "</table>\n",
       "</div>"
      ],
      "text/plain": [
       "   store_num  year  week  p1_sales  p2_sales  p1_price  p2_price  p1_promo  \\\n",
       "0      101.0   1.0   1.0     122.0     110.0      2.99      2.99         0   \n",
       "1      101.0   1.0   2.0     160.0      79.0      2.49      3.19         0   \n",
       "2      101.0   1.0   3.0     169.0      80.0      2.19      2.99         0   \n",
       "3      101.0   1.0   4.0     119.0     102.0      2.49      2.49         0   \n",
       "4      101.0   1.0   5.0     114.0     143.0      2.49      2.59         0   \n",
       "\n",
       "   p2_promo country  \n",
       "0         1     USA  \n",
       "1         0     USA  \n",
       "2         0     USA  \n",
       "3         0     USA  \n",
       "4         1     USA  "
      ]
     },
     "execution_count": 9,
     "metadata": {},
     "output_type": "execute_result"
    }
   ],
   "source": [
    "# import the dataset into python\n",
    "store_sales = pd.read_csv(\"chapter3_data.csv\")\n",
    "store_sales.head()"
   ]
  },
  {
   "cell_type": "code",
   "execution_count": 64,
   "metadata": {},
   "outputs": [
    {
     "data": {
      "text/plain": [
       "pandas.core.frame.DataFrame"
      ]
     },
     "execution_count": 64,
     "metadata": {},
     "output_type": "execute_result"
    }
   ],
   "source": [
    "type(store_sales)"
   ]
  },
  {
   "cell_type": "markdown",
   "metadata": {
    "colab_type": "text",
    "heading_collapsed": true,
    "id": "5XBgPlBATOrj"
   },
   "source": [
    "## 3.2 Data Aggregation Tool: the `groupby()` method"
   ]
  },
  {
   "cell_type": "markdown",
   "metadata": {
    "hidden": true
   },
   "source": [
    "- Used to break out data into groups \n",
    "- We break down the data to look at groups similar on one or more dimensions\n",
    "- Usually the purpose of breaking down the data is to describe each group of data using summary statistics (count, mean, median, std, etc)"
   ]
  },
  {
   "cell_type": "code",
   "execution_count": 8,
   "metadata": {
    "colab": {},
    "colab_type": "code",
    "hidden": true,
    "id": "y_3ggAFHzVWu"
   },
   "outputs": [
    {
     "data": {
      "text/plain": [
       "<pandas.core.groupby.generic.DataFrameGroupBy object at 0x7f9357c98580>"
      ]
     },
     "execution_count": 8,
     "metadata": {},
     "output_type": "execute_result"
    }
   ],
   "source": [
    "# groupby() is a DataFrame method\n",
    "# returns a SeriesGroupBy object which can be saved to a variable\n",
    "# the following code is grouping obervations by store_num\n",
    "\n",
    "store_sales.groupby('store_num')"
   ]
  },
  {
   "cell_type": "code",
   "execution_count": 11,
   "metadata": {
    "colab": {},
    "colab_type": "code",
    "hidden": true,
    "id": "Fv5S_8K8zbgz"
   },
   "outputs": [
    {
     "data": {
      "text/plain": [
       "store_num\n",
       "101.0    133.500000\n",
       "102.0    138.807692\n",
       "103.0    132.682692\n",
       "104.0    131.798077\n",
       "105.0    135.480769\n",
       "106.0    136.057692\n",
       "107.0    138.980769\n",
       "108.0    133.865385\n",
       "109.0    134.096154\n",
       "110.0    134.653846\n",
       "111.0    134.278846\n",
       "112.0    133.000000\n",
       "113.0    134.855769\n",
       "114.0    128.211538\n",
       "115.0    130.923077\n",
       "116.0    132.576923\n",
       "117.0    135.375000\n",
       "118.0    134.423077\n",
       "119.0    132.336538\n",
       "120.0    133.451923\n",
       "Name: p1_sales, dtype: float64"
      ]
     },
     "execution_count": 11,
     "metadata": {},
     "output_type": "execute_result"
    }
   ],
   "source": [
    "# note that the object returned by groupby has all the columns in the orginal dataframe\n",
    "# we can access a column in the SeriesGroupby object using the dot notation\n",
    "# and once we access the specific column then we can produce any summary statistic such as mean\n",
    "# The following gives us the mean of p1 sales for each of the 20 stores we have\n",
    "\n",
    "store_sales.groupby('store_num').p1_sales.mean()"
   ]
  },
  {
   "cell_type": "code",
   "execution_count": 22,
   "metadata": {
    "colab": {},
    "colab_type": "code",
    "hidden": true,
    "id": "YdxPWud0zbWu"
   },
   "outputs": [
    {
     "data": {
      "text/plain": [
       "store_num  year\n",
       "101.0      1.0     132.538462\n",
       "           2.0     134.461538\n",
       "102.0      1.0     139.692308\n",
       "           2.0     137.923077\n",
       "103.0      1.0     130.557692\n",
       "           2.0     134.807692\n",
       "104.0      1.0     127.653846\n",
       "           2.0     135.942308\n",
       "105.0      1.0     136.000000\n",
       "           2.0     134.961538\n",
       "106.0      1.0     135.653846\n",
       "           2.0     136.461538\n",
       "107.0      1.0     139.615385\n",
       "           2.0     138.346154\n",
       "108.0      1.0     136.230769\n",
       "           2.0     131.500000\n",
       "109.0      1.0     130.557692\n",
       "           2.0     137.634615\n",
       "110.0      1.0     130.961538\n",
       "           2.0     138.346154\n",
       "111.0      1.0     136.461538\n",
       "           2.0     132.096154\n",
       "112.0      1.0     130.500000\n",
       "           2.0     135.500000\n",
       "113.0      1.0     135.384615\n",
       "           2.0     134.326923\n",
       "114.0      1.0     124.519231\n",
       "           2.0     131.903846\n",
       "115.0      1.0     130.788462\n",
       "           2.0     131.057692\n",
       "116.0      1.0     132.884615\n",
       "           2.0     132.269231\n",
       "117.0      1.0     134.134615\n",
       "           2.0     136.615385\n",
       "118.0      1.0     129.519231\n",
       "           2.0     139.326923\n",
       "119.0      1.0     137.134615\n",
       "           2.0     127.538462\n",
       "120.0      1.0     136.019231\n",
       "           2.0     130.884615\n",
       "Name: p1_sales, dtype: float64"
      ]
     },
     "execution_count": 22,
     "metadata": {},
     "output_type": "execute_result"
    }
   ],
   "source": [
    "# we can group by more than one factor\n",
    "# we pass the multiple grouping factors as a list \n",
    "store_sales.groupby(['store_num', 'year']).p1_sales.mean()\n"
   ]
  },
  {
   "cell_type": "code",
   "execution_count": 23,
   "metadata": {},
   "outputs": [
    {
     "data": {
      "text/plain": [
       "pandas.core.series.Series"
      ]
     },
     "execution_count": 23,
     "metadata": {},
     "output_type": "execute_result"
    }
   ],
   "source": [
    "type(store_sales.groupby(['store_num', 'year']).p1_sales.mean())"
   ]
  },
  {
   "cell_type": "code",
   "execution_count": null,
   "metadata": {
    "colab": {},
    "colab_type": "code",
    "hidden": true,
    "id": "K5yOyhhNzbJ8"
   },
   "outputs": [],
   "source": [
    "# A limitation for Groupby() is that the output from grouping by multiple factors is \n",
    "# not structured for reuse (not a regular dataframe)\n",
    "\n",
    "# to solve this issue, we can use the unstack() method as follows\n",
    "# the unstack() method pivot the indicies and returns a nicely formatted dataframe\n",
    "\n"
   ]
  },
  {
   "cell_type": "code",
   "execution_count": 24,
   "metadata": {},
   "outputs": [
    {
     "data": {
      "text/html": [
       "<div>\n",
       "<style scoped>\n",
       "    .dataframe tbody tr th:only-of-type {\n",
       "        vertical-align: middle;\n",
       "    }\n",
       "\n",
       "    .dataframe tbody tr th {\n",
       "        vertical-align: top;\n",
       "    }\n",
       "\n",
       "    .dataframe thead th {\n",
       "        text-align: right;\n",
       "    }\n",
       "</style>\n",
       "<table border=\"1\" class=\"dataframe\">\n",
       "  <thead>\n",
       "    <tr style=\"text-align: right;\">\n",
       "      <th>year</th>\n",
       "      <th>1.0</th>\n",
       "      <th>2.0</th>\n",
       "    </tr>\n",
       "    <tr>\n",
       "      <th>store_num</th>\n",
       "      <th></th>\n",
       "      <th></th>\n",
       "    </tr>\n",
       "  </thead>\n",
       "  <tbody>\n",
       "    <tr>\n",
       "      <th>101.0</th>\n",
       "      <td>132.538462</td>\n",
       "      <td>134.461538</td>\n",
       "    </tr>\n",
       "    <tr>\n",
       "      <th>102.0</th>\n",
       "      <td>139.692308</td>\n",
       "      <td>137.923077</td>\n",
       "    </tr>\n",
       "    <tr>\n",
       "      <th>103.0</th>\n",
       "      <td>130.557692</td>\n",
       "      <td>134.807692</td>\n",
       "    </tr>\n",
       "    <tr>\n",
       "      <th>104.0</th>\n",
       "      <td>127.653846</td>\n",
       "      <td>135.942308</td>\n",
       "    </tr>\n",
       "    <tr>\n",
       "      <th>105.0</th>\n",
       "      <td>136.000000</td>\n",
       "      <td>134.961538</td>\n",
       "    </tr>\n",
       "    <tr>\n",
       "      <th>106.0</th>\n",
       "      <td>135.653846</td>\n",
       "      <td>136.461538</td>\n",
       "    </tr>\n",
       "    <tr>\n",
       "      <th>107.0</th>\n",
       "      <td>139.615385</td>\n",
       "      <td>138.346154</td>\n",
       "    </tr>\n",
       "    <tr>\n",
       "      <th>108.0</th>\n",
       "      <td>136.230769</td>\n",
       "      <td>131.500000</td>\n",
       "    </tr>\n",
       "    <tr>\n",
       "      <th>109.0</th>\n",
       "      <td>130.557692</td>\n",
       "      <td>137.634615</td>\n",
       "    </tr>\n",
       "    <tr>\n",
       "      <th>110.0</th>\n",
       "      <td>130.961538</td>\n",
       "      <td>138.346154</td>\n",
       "    </tr>\n",
       "    <tr>\n",
       "      <th>111.0</th>\n",
       "      <td>136.461538</td>\n",
       "      <td>132.096154</td>\n",
       "    </tr>\n",
       "    <tr>\n",
       "      <th>112.0</th>\n",
       "      <td>130.500000</td>\n",
       "      <td>135.500000</td>\n",
       "    </tr>\n",
       "    <tr>\n",
       "      <th>113.0</th>\n",
       "      <td>135.384615</td>\n",
       "      <td>134.326923</td>\n",
       "    </tr>\n",
       "    <tr>\n",
       "      <th>114.0</th>\n",
       "      <td>124.519231</td>\n",
       "      <td>131.903846</td>\n",
       "    </tr>\n",
       "    <tr>\n",
       "      <th>115.0</th>\n",
       "      <td>130.788462</td>\n",
       "      <td>131.057692</td>\n",
       "    </tr>\n",
       "    <tr>\n",
       "      <th>116.0</th>\n",
       "      <td>132.884615</td>\n",
       "      <td>132.269231</td>\n",
       "    </tr>\n",
       "    <tr>\n",
       "      <th>117.0</th>\n",
       "      <td>134.134615</td>\n",
       "      <td>136.615385</td>\n",
       "    </tr>\n",
       "    <tr>\n",
       "      <th>118.0</th>\n",
       "      <td>129.519231</td>\n",
       "      <td>139.326923</td>\n",
       "    </tr>\n",
       "    <tr>\n",
       "      <th>119.0</th>\n",
       "      <td>137.134615</td>\n",
       "      <td>127.538462</td>\n",
       "    </tr>\n",
       "    <tr>\n",
       "      <th>120.0</th>\n",
       "      <td>136.019231</td>\n",
       "      <td>130.884615</td>\n",
       "    </tr>\n",
       "  </tbody>\n",
       "</table>\n",
       "</div>"
      ],
      "text/plain": [
       "year              1.0         2.0\n",
       "store_num                        \n",
       "101.0      132.538462  134.461538\n",
       "102.0      139.692308  137.923077\n",
       "103.0      130.557692  134.807692\n",
       "104.0      127.653846  135.942308\n",
       "105.0      136.000000  134.961538\n",
       "106.0      135.653846  136.461538\n",
       "107.0      139.615385  138.346154\n",
       "108.0      136.230769  131.500000\n",
       "109.0      130.557692  137.634615\n",
       "110.0      130.961538  138.346154\n",
       "111.0      136.461538  132.096154\n",
       "112.0      130.500000  135.500000\n",
       "113.0      135.384615  134.326923\n",
       "114.0      124.519231  131.903846\n",
       "115.0      130.788462  131.057692\n",
       "116.0      132.884615  132.269231\n",
       "117.0      134.134615  136.615385\n",
       "118.0      129.519231  139.326923\n",
       "119.0      137.134615  127.538462\n",
       "120.0      136.019231  130.884615"
      ]
     },
     "execution_count": 24,
     "metadata": {},
     "output_type": "execute_result"
    }
   ],
   "source": [
    "store_sales.groupby(['store_num', 'year']).p1_sales.mean().unstack()"
   ]
  },
  {
   "cell_type": "code",
   "execution_count": 25,
   "metadata": {
    "colab": {},
    "colab_type": "code",
    "hidden": true,
    "id": "FnogDmQlziZ-"
   },
   "outputs": [
    {
     "data": {
      "text/plain": [
       "country\n",
       "AUS    13980.0\n",
       "BRA    27857.0\n",
       "CHN    27642.0\n",
       "DEU    70323.0\n",
       "GBR    41915.0\n",
       "JPN    54817.0\n",
       "USA    42119.0\n",
       "Name: p1_sales, dtype: float64"
      ]
     },
     "execution_count": 25,
     "metadata": {},
     "output_type": "execute_result"
    }
   ],
   "source": [
    "# here is another example to find the total sales for p1 across different countries\n",
    "store_sales.groupby('country').p1_sales.sum()\n"
   ]
  },
  {
   "cell_type": "code",
   "execution_count": null,
   "metadata": {},
   "outputs": [],
   "source": [
    "#here is another example to find total sacles for p1 across different countries and year\n",
    "yearly_sales=store_sales.groupby(['country', 'year']).p1_sales.sum().unstack()\n",
    "yearly_sales"
   ]
  },
  {
   "cell_type": "markdown",
   "metadata": {
    "colab_type": "text",
    "id": "TL4E-fjG2ARc"
   },
   "source": [
    "## 3.3 Distribution of One Categorical (Discrete) Variables"
   ]
  },
  {
   "cell_type": "markdown",
   "metadata": {},
   "source": [
    "- We use **frequency tables** and **relative frequency tables** to decribe discrete (categorical) data\n",
    "- The method value_counts() is a pandas method that helps us create such table"
   ]
  },
  {
   "cell_type": "markdown",
   "metadata": {},
   "source": [
    "### 3.3.1 Fequency Tables"
   ]
  },
  {
   "cell_type": "code",
   "execution_count": 28,
   "metadata": {},
   "outputs": [
    {
     "data": {
      "text/plain": [
       "DEU    520\n",
       "JPN    416\n",
       "USA    312\n",
       "GBR    312\n",
       "BRA    208\n",
       "CHN    208\n",
       "AUS    104\n",
       "Name: country, dtype: int64"
      ]
     },
     "execution_count": 28,
     "metadata": {},
     "output_type": "execute_result"
    }
   ],
   "source": [
    "# notice here that we have 5 price levels\n",
    "# by default the value_counts created a sorted output\n",
    "\n",
    "store_sales.country.value_counts()\n",
    "# store_sales['country'].value_counts()"
   ]
  },
  {
   "cell_type": "code",
   "execution_count": 31,
   "metadata": {},
   "outputs": [
    {
     "data": {
      "text/plain": [
       "country\n",
       "AUS    104\n",
       "BRA    208\n",
       "CHN    208\n",
       "DEU    520\n",
       "GBR    312\n",
       "JPN    416\n",
       "USA    312\n",
       "Name: country, dtype: int64"
      ]
     },
     "execution_count": 31,
     "metadata": {},
     "output_type": "execute_result"
    }
   ],
   "source": [
    "# note that we can use groupby to find the count as follows using the count() method\n",
    "store_sales.groupby('country').country.count()"
   ]
  },
  {
   "cell_type": "code",
   "execution_count": 32,
   "metadata": {
    "colab": {},
    "colab_type": "code",
    "id": "ZeW-k3bgYwB5"
   },
   "outputs": [
    {
     "data": {
      "text/plain": [
       "2.29    420\n",
       "2.19    417\n",
       "2.49    416\n",
       "2.99    415\n",
       "2.79    412\n",
       "Name: p1_price, dtype: int64"
      ]
     },
     "execution_count": 32,
     "metadata": {},
     "output_type": "execute_result"
    }
   ],
   "source": [
    "# notice here that we have 5 price levels\n",
    "# eventhough price is a numerical value, but here we can consider it categorical since\n",
    "# it has five unique values as shown below \n",
    "\n",
    "store_sales.p1_price.value_counts()\n"
   ]
  },
  {
   "cell_type": "markdown",
   "metadata": {},
   "source": [
    "### 3.3.2 Relative Frequency Table"
   ]
  },
  {
   "cell_type": "code",
   "execution_count": 36,
   "metadata": {},
   "outputs": [
    {
     "data": {
      "text/plain": [
       "2080"
      ]
     },
     "execution_count": 36,
     "metadata": {},
     "output_type": "execute_result"
    }
   ],
   "source": [
    "len(store_sales) # number of observations in a dataframe"
   ]
  },
  {
   "cell_type": "code",
   "execution_count": 38,
   "metadata": {},
   "outputs": [
    {
     "data": {
      "text/plain": [
       "(2080, 10)"
      ]
     },
     "execution_count": 38,
     "metadata": {},
     "output_type": "execute_result"
    }
   ],
   "source": [
    "store_sales.shape"
   ]
  },
  {
   "cell_type": "code",
   "execution_count": 39,
   "metadata": {},
   "outputs": [
    {
     "data": {
      "text/plain": [
       "2080"
      ]
     },
     "execution_count": 39,
     "metadata": {},
     "output_type": "execute_result"
    }
   ],
   "source": [
    "store_sales.shape[0] # number of obs"
   ]
  },
  {
   "cell_type": "code",
   "execution_count": 41,
   "metadata": {},
   "outputs": [
    {
     "data": {
      "text/plain": [
       "DEU    0.25\n",
       "JPN    0.20\n",
       "USA    0.15\n",
       "GBR    0.15\n",
       "BRA    0.10\n",
       "CHN    0.10\n",
       "AUS    0.05\n",
       "Name: country, dtype: float64"
      ]
     },
     "execution_count": 41,
     "metadata": {},
     "output_type": "execute_result"
    }
   ],
   "source": [
    "store_sales.country.value_counts()/len(store_sales)"
   ]
  },
  {
   "cell_type": "code",
   "execution_count": 42,
   "metadata": {},
   "outputs": [
    {
     "data": {
      "text/plain": [
       "DEU    25.0\n",
       "JPN    20.0\n",
       "USA    15.0\n",
       "GBR    15.0\n",
       "BRA    10.0\n",
       "CHN    10.0\n",
       "AUS     5.0\n",
       "Name: country, dtype: float64"
      ]
     },
     "execution_count": 42,
     "metadata": {},
     "output_type": "execute_result"
    }
   ],
   "source": [
    "# relative frequency table\n",
    "store_sales.country.value_counts(normalize=True)*100"
   ]
  },
  {
   "cell_type": "code",
   "execution_count": null,
   "metadata": {},
   "outputs": [],
   "source": [
    "# we can show them in percentages by multiplying the output vector by 100\n",
    "# notice that this is allowed in Pandas since it supports vectorized operations\n"
   ]
  },
  {
   "cell_type": "markdown",
   "metadata": {},
   "source": [
    "## 3.4 Visual Distribution of One Categorical Data"
   ]
  },
  {
   "cell_type": "markdown",
   "metadata": {},
   "source": [
    "### 3.4.1 Barchart"
   ]
  },
  {
   "cell_type": "code",
   "execution_count": 49,
   "metadata": {
    "colab": {},
    "colab_type": "code",
    "id": "rDLnesIoTRre"
   },
   "outputs": [
    {
     "data": {
      "text/plain": [
       "DEU    520\n",
       "JPN    416\n",
       "USA    312\n",
       "GBR    312\n",
       "BRA    208\n",
       "CHN    208\n",
       "AUS    104\n",
       "Name: country, dtype: int64"
      ]
     },
     "execution_count": 49,
     "metadata": {},
     "output_type": "execute_result"
    }
   ],
   "source": [
    "# we can always store our output in a variable that we can act upon later\n",
    "\n",
    "country_sales = store_sales.country.value_counts()\n",
    "country_sales"
   ]
  },
  {
   "cell_type": "code",
   "execution_count": 57,
   "metadata": {},
   "outputs": [
    {
     "data": {
      "text/plain": [
       "pandas.core.series.Series"
      ]
     },
     "execution_count": 57,
     "metadata": {},
     "output_type": "execute_result"
    }
   ],
   "source": [
    "type(country_sales)"
   ]
  },
  {
   "cell_type": "code",
   "execution_count": 58,
   "metadata": {},
   "outputs": [
    {
     "data": {
      "text/plain": [
       "Text(0.5, 1.0, 'I am a title')"
      ]
     },
     "execution_count": 58,
     "metadata": {},
     "output_type": "execute_result"
    },
    {
     "data": {
      "image/png": "[encoded data removed]",
      "text/plain": [
       "<Figure size 432x288 with 1 Axes>"
      ]
     },
     "metadata": {
      "needs_background": "light"
     },
     "output_type": "display_data"
    }
   ],
   "source": [
    "country_sales.plot.bar()\n",
    "plt.title('I am a title')"
   ]
  },
  {
   "cell_type": "code",
   "execution_count": null,
   "metadata": {},
   "outputs": [],
   "source": [
    "#another example\n",
    "yearly_sales.plot.bar()"
   ]
  },
  {
   "cell_type": "code",
   "execution_count": 60,
   "metadata": {
    "colab": {},
    "colab_type": "code",
    "id": "FxBN43TGwbOU",
    "scrolled": true
   },
   "outputs": [
    {
     "data": {
      "image/png": "[encoded data removed]",
      "text/plain": [
       "<Figure size 432x288 with 1 Axes>"
      ]
     },
     "metadata": {},
     "output_type": "display_data"
    }
   ],
   "source": [
    "# for example, we can use plot method on country_sales to show the distribution of sales transactions by country\n",
    "# the plot.bar() method is Pandas method that acts on a Pandas DataFrame to pro\n",
    "\n",
    "plt.bar(country_sales.index, country_sales)\n",
    "plt.title('Number of Transactions by Country')\n",
    "plt.xlabel('Country')\n",
    "plt.ylabel('Count')\n",
    "\n",
    "plt.show()"
   ]
  },
  {
   "cell_type": "markdown",
   "metadata": {},
   "source": [
    "**DIY**: Visualize the average sales for product 1 by country. \n"
   ]
  },
  {
   "cell_type": "code",
   "execution_count": 72,
   "metadata": {},
   "outputs": [
    {
     "data": {
      "text/plain": [
       "<BarContainer object of 7 artists>"
      ]
     },
     "execution_count": 72,
     "metadata": {},
     "output_type": "execute_result"
    },
    {
     "data": {
      "image/png": "[encoded data removed]",
      "text/plain": [
       "<Figure size 432x288 with 1 Axes>"
      ]
     },
     "metadata": {},
     "output_type": "display_data"
    }
   ],
   "source": [
    "avg_sales = store_sales.groupby('country').p1_sales.mean()\n",
    "\n",
    "plt.bar(avg_sales.index, avg_sales)"
   ]
  },
  {
   "cell_type": "code",
   "execution_count": null,
   "metadata": {},
   "outputs": [],
   "source": []
  },
  {
   "cell_type": "markdown",
   "metadata": {},
   "source": [
    "### 3.4.3 Horizontal barcharts "
   ]
  },
  {
   "cell_type": "code",
   "execution_count": 75,
   "metadata": {},
   "outputs": [
    {
     "data": {
      "image/png": "[encoded data removed]",
      "text/plain": [
       "<Figure size 432x288 with 1 Axes>"
      ]
     },
     "metadata": {},
     "output_type": "display_data"
    }
   ],
   "source": [
    "# We can create a horizontal barchart using the barh() method that comes with \n",
    "\n",
    "country_sales = store_sales.country.value_counts()\n",
    "country_sales\n",
    "\n",
    "plt.barh(country_sales.index, country_sales)\n",
    "\n",
    "# update the tick labels on the y-axis \n",
    "# 1. initialize a list of new lables\n",
    "# 2. use the plt.yticks() method to update the labels\n",
    "\n",
    "y_ticklabels = ['Netherland', 'Japan', 'United States of America', 'Britan', 'Brazil', \n",
    "                'China', 'Australia']\n",
    "\n",
    "plt.yticks(range(7), y_ticklabels)\n",
    "\n",
    "plt.show()"
   ]
  },
  {
   "cell_type": "markdown",
   "metadata": {},
   "source": [
    "### 3.4.4 Barcharts with text to show value"
   ]
  },
  {
   "cell_type": "markdown",
   "metadata": {},
   "source": [
    "- We can also add labels to the bars to show the value for each bar"
   ]
  },
  {
   "cell_type": "code",
   "execution_count": null,
   "metadata": {},
   "outputs": [],
   "source": [
    "\n",
    "\n",
    "# v: value from a Series\n",
    "# i: index from a Series \n",
    "\n",
    "# in the following code, we are iterating over all the barlabels\n",
    "# use the v and i as the coordinate for which the text shows up\n",
    "# show the v value from the Series\n",
    "\n"
   ]
  },
  {
   "cell_type": "markdown",
   "metadata": {},
   "source": [
    "### 3.4.5 Treemap"
   ]
  },
  {
   "cell_type": "markdown",
   "metadata": {},
   "source": [
    "Note on installing pip: https://www.geeksforgeeks.org/download-and-install-pip-latest-version/"
   ]
  },
  {
   "cell_type": "code",
   "execution_count": 82,
   "metadata": {},
   "outputs": [
    {
     "data": {
      "text/plain": [
       "(0.0, 100.0, 0.0, 100.0)"
      ]
     },
     "execution_count": 82,
     "metadata": {},
     "output_type": "execute_result"
    },
    {
     "data": {
      "image/png": "[encoded data removed]",
      "text/plain": [
       "<Figure size 432x288 with 1 Axes>"
      ]
     },
     "metadata": {},
     "output_type": "display_data"
    }
   ],
   "source": [
    "# pip install squarify \n",
    "# you might need to install pip to run this command\n",
    "# Color Brewer: https://colorbrewer2.org/\n",
    "\n",
    "import squarify\n",
    "import matplotlib\n",
    "\n",
    "color_map = ['#b3e2cd','#fdcdac','#cbd5e8','#f4cae4','#e6f5c9','#fff2ae','#f1e2cc']\n",
    "\n",
    "squarify.plot(sizes=country_sales, label = country_sales.index, color = color_map)\n",
    "\n",
    "plt.axis('off')"
   ]
  },
  {
   "cell_type": "markdown",
   "metadata": {},
   "source": [
    "### 3.4.6 Lollipop plot"
   ]
  },
  {
   "cell_type": "markdown",
   "metadata": {},
   "source": [
    "- For more references on plot Style: https://matplotlib.org/stable/gallery/style_sheets/style_sheets_reference.html"
   ]
  },
  {
   "cell_type": "code",
   "execution_count": 89,
   "metadata": {},
   "outputs": [
    {
     "data": {
      "text/plain": [
       "DEU    520\n",
       "JPN    416\n",
       "USA    312\n",
       "GBR    312\n",
       "BRA    208\n",
       "CHN    208\n",
       "AUS    104\n",
       "Name: country, dtype: int64"
      ]
     },
     "execution_count": 89,
     "metadata": {},
     "output_type": "execute_result"
    }
   ],
   "source": [
    "country_sales"
   ]
  },
  {
   "cell_type": "code",
   "execution_count": 92,
   "metadata": {},
   "outputs": [
    {
     "data": {
      "text/plain": [
       "['skyblue', 'skyblue', 'orange', 'skyblue', 'skyblue', 'skyblue', 'skyblue']"
      ]
     },
     "execution_count": 92,
     "metadata": {},
     "output_type": "execute_result"
    }
   ],
   "source": [
    "['orange' if i== 2 else 'skyblue' for i,v in enumerate(country_sales)]"
   ]
  },
  {
   "cell_type": "code",
   "execution_count": 96,
   "metadata": {},
   "outputs": [
    {
     "data": {
      "image/png": "[encoded data removed]",
      "text/plain": [
       "<Figure size 640x480 with 1 Axes>"
      ]
     },
     "metadata": {},
     "output_type": "display_data"
    }
   ],
   "source": [
    "mycolors = ['orange' if i== 2 else 'skyblue' for i,v in enumerate(country_sales)]\n",
    "\n",
    "plt.style.use('default')\n",
    "plt.hlines(y = country_sales.index, xmin = 0, xmax = country_sales, color = mycolors)\n",
    "plt.scatter(country_sales, country_sales.index, color = mycolors)\n",
    "plt.title('What about the USA?')\n",
    "\n",
    "plt.show()"
   ]
  },
  {
   "cell_type": "markdown",
   "metadata": {},
   "source": [
    "### 3.4.7 Why to **AVOID** using Pie charts"
   ]
  },
  {
   "cell_type": "markdown",
   "metadata": {},
   "source": [
    "- It is really hard to compare different groups/categories compared to a barchart or a lollipo chart\n",
    "- Humans are really bad at reading angles\n",
    "- For more on this topic: https://www.data-to-viz.com/caveat/pie.html"
   ]
  },
  {
   "cell_type": "code",
   "execution_count": 105,
   "metadata": {},
   "outputs": [
    {
     "data": {
      "image/png": "[encoded data removed]",
      "text/plain": [
       "<Figure size 640x480 with 1 Axes>"
      ]
     },
     "metadata": {},
     "output_type": "display_data"
    }
   ],
   "source": [
    "# %.1f stands for \"print a float with 1 decimal places\"\n",
    "# %% prints literal %\n",
    "\n",
    "plt.pie(country_sales, labels= country_sales.index, autopct= '%.1f%%')\n",
    "plt.show()\n"
   ]
  }
 ],
 "metadata": {
  "colab": {
   "collapsed_sections": [],
   "name": "Chapter 3 - Describing Data",
   "provenance": []
  },
  "interpreter": {
   "hash": "dca0ade3e726a953b501b15e8e990130d2b7799f14cfd9f4271676035ebe5511"
  },
  "kernelspec": {
   "display_name": "Python 3 (ipykernel)",
   "language": "python",
   "name": "python3"
  },
  "language_info": {
   "codemirror_mode": {
    "name": "ipython",
    "version": 3
   },
   "file_extension": ".py",
   "mimetype": "text/x-python",
   "name": "python",
   "nbconvert_exporter": "python",
   "pygments_lexer": "ipython3",
   "version": "3.11.4"
  },
  "varInspector": {
   "cols": {
    "lenName": 16,
    "lenType": 16,
    "lenVar": 40
   },
   "kernels_config": {
    "python": {
     "delete_cmd_postfix": "",
     "delete_cmd_prefix": "del ",
     "library": "var_list.py",
     "varRefreshCmd": "print(var_dic_list())"
    },
    "r": {
     "delete_cmd_postfix": ") ",
     "delete_cmd_prefix": "rm(",
     "library": "var_list.r",
     "varRefreshCmd": "cat(var_dic_list()) "
    }
   },
   "types_to_exclude": [
    "module",
    "function",
    "builtin_function_or_method",
    "instance",
    "_Feature"
   ],
   "window_display": false
  }
 },
 "nbformat": 4,
 "nbformat_minor": 1
}
