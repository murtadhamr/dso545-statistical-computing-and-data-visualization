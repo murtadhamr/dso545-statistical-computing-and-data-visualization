{
 "cells": [
  {
   "cell_type": "markdown",
   "metadata": {
    "id": "rnjBziHYnFwH"
   },
   "source": [
    "# Week 1: Overview of Python"
   ]
  },
  {
   "cell_type": "markdown",
   "metadata": {},
   "source": [
    "**Sources:**\n",
    "\n",
    "- Python for Marketing Reserach and Analytics. J. Schwarz, C. Chapman, and E.M. Feit. Springer 2020."
   ]
  },
  {
   "cell_type": "markdown",
   "metadata": {
    "id": "42pJz3wBpyZC"
   },
   "source": [
    "## 2. Basic Python Types"
   ]
  },
  {
   "cell_type": "markdown",
   "metadata": {
    "id": "NYeSN9bMIQXe"
   },
   "source": [
    "- Almost all entities in python are objects (strings, classes, functions, etc.)\n",
    "- Python is a weakly typed or dynamically typed language which means: (1) flexibility to change an object's type (e.g. from numeric to string), and (2) many basic operators are overloaded (e.g the + operator)\n",
    "\n"
   ]
  },
  {
   "cell_type": "markdown",
   "metadata": {
    "heading_collapsed": true,
    "id": "mgY03qmLqUBG"
   },
   "source": [
    "### 2.1 Numeric Types"
   ]
  },
  {
   "cell_type": "markdown",
   "metadata": {
    "hidden": true,
    "id": "kyq09KYsJMlo"
   },
   "source": [
    "- Python has three built-in numeric types: int, float, and complex\n",
    "- float: floating-point numbers, i.e. real numbers. floats can represent decimal values unlike integers int\n",
    "- ints are more memory efficient\n",
    "- complex: represent complex numbers that include an imaginary component"
   ]
  },
  {
   "cell_type": "code",
   "execution_count": 1,
   "metadata": {
    "colab": {
     "base_uri": "https://localhost:8080/"
    },
    "hidden": true,
    "id": "X-NLK0QZfPNa",
    "outputId": "87df1d03-ee1d-4c98-ad8f-8dd84a572e2e"
   },
   "outputs": [
    {
     "data": {
      "text/plain": [
       "6"
      ]
     },
     "execution_count": 1,
     "metadata": {},
     "output_type": "execute_result"
    }
   ],
   "source": [
    "# int\n",
    "\n",
    "x = 2\n",
    "y = 4\n",
    "x+y # addition operator"
   ]
  },
  {
   "cell_type": "code",
   "execution_count": 2,
   "metadata": {
    "colab": {
     "base_uri": "https://localhost:8080/"
    },
    "hidden": true,
    "id": "M2-LG5rFfevc",
    "outputId": "acc6b62e-5d06-4f41-f81b-a2d6766b6713"
   },
   "outputs": [
    {
     "data": {
      "text/plain": [
       "int"
      ]
     },
     "execution_count": 2,
     "metadata": {},
     "output_type": "execute_result"
    }
   ],
   "source": [
    "type(x)"
   ]
  },
  {
   "cell_type": "code",
   "execution_count": 3,
   "metadata": {
    "colab": {
     "base_uri": "https://localhost:8080/"
    },
    "hidden": true,
    "id": "7KHk5NaffReC",
    "outputId": "ae22da5f-7c26-4b5b-8160-fb84fc9ced5d"
   },
   "outputs": [
    {
     "data": {
      "text/plain": [
       "0.5"
      ]
     },
     "execution_count": 3,
     "metadata": {},
     "output_type": "execute_result"
    }
   ],
   "source": [
    "# float\n",
    "\n",
    "w = x/y # division operator \n",
    "w"
   ]
  },
  {
   "cell_type": "code",
   "execution_count": 4,
   "metadata": {
    "colab": {
     "base_uri": "https://localhost:8080/"
    },
    "hidden": true,
    "id": "wtPwohnQfRYV",
    "outputId": "2b6202c9-c91a-4b00-d546-72b0e0e7deae"
   },
   "outputs": [
    {
     "data": {
      "text/plain": [
       "float"
      ]
     },
     "execution_count": 4,
     "metadata": {},
     "output_type": "execute_result"
    }
   ],
   "source": [
    "type(w) # object type"
   ]
  },
  {
   "cell_type": "code",
   "execution_count": 5,
   "metadata": {
    "colab": {
     "base_uri": "https://localhost:8080/"
    },
    "hidden": true,
    "id": "rCPYaDiFKF6s",
    "outputId": "333b7f1d-ec39-40bd-ac13-a9055ecf3bd3"
   },
   "outputs": [
    {
     "data": {
      "text/plain": [
       "16"
      ]
     },
     "execution_count": 5,
     "metadata": {},
     "output_type": "execute_result"
    }
   ],
   "source": [
    "x**y # exponentiation"
   ]
  },
  {
   "cell_type": "code",
   "execution_count": 6,
   "metadata": {
    "colab": {
     "base_uri": "https://localhost:8080/"
    },
    "hidden": true,
    "id": "ZWw5ReQ7fRSj",
    "outputId": "036ed9c3-9335-4e5d-d0d7-bae90552a72b"
   },
   "outputs": [
    {
     "data": {
      "text/plain": [
       "float"
      ]
     },
     "execution_count": 6,
     "metadata": {},
     "output_type": "execute_result"
    }
   ],
   "source": [
    "z = 3.2\n",
    "type(x*z)"
   ]
  },
  {
   "cell_type": "markdown",
   "metadata": {
    "heading_collapsed": true,
    "id": "KycEVXCmqTt7"
   },
   "source": [
    "### 2.2 Sequence Types"
   ]
  },
  {
   "cell_type": "markdown",
   "metadata": {
    "hidden": true,
    "id": "9kcEdhg0KROy"
   },
   "source": [
    "- Python has three sequence types\n",
    "- Each of the sequence type is an ordered array of objects\n",
    "- The three types: lists, tuples, and ranges"
   ]
  },
  {
   "cell_type": "markdown",
   "metadata": {
    "hidden": true,
    "id": "Pth6Vpt8N2sW"
   },
   "source": [
    "#### 2.2.1 Lists"
   ]
  },
  {
   "cell_type": "markdown",
   "metadata": {
    "hidden": true,
    "id": "WwJ1OAOZN5jK"
   },
   "source": [
    "- Lists are ordered, mutable sequences of objects\n",
    "- Defined with square brackets []"
   ]
  },
  {
   "cell_type": "code",
   "execution_count": 7,
   "metadata": {
    "hidden": true,
    "id": "2NKJZ3BufrWF"
   },
   "outputs": [],
   "source": [
    "x = [0, 1, 2, 3, 4, 5]\n",
    "y = ['a', 'b', 'c']"
   ]
  },
  {
   "cell_type": "markdown",
   "metadata": {
    "hidden": true,
    "id": "gRNpK41LOJVb"
   },
   "source": [
    "- When we add two lists, we concatenate them together"
   ]
  },
  {
   "cell_type": "code",
   "execution_count": 8,
   "metadata": {
    "colab": {
     "base_uri": "https://localhost:8080/"
    },
    "hidden": true,
    "id": "gVcc_6krfrQG",
    "outputId": "e9769045-eed3-4fb1-d934-2a018ee3bb5b"
   },
   "outputs": [
    {
     "data": {
      "text/plain": [
       "[0, 1, 2, 3, 4, 5, 'a', 'b', 'c']"
      ]
     },
     "execution_count": 8,
     "metadata": {},
     "output_type": "execute_result"
    }
   ],
   "source": [
    "x+y"
   ]
  },
  {
   "cell_type": "code",
   "execution_count": 9,
   "metadata": {
    "colab": {
     "base_uri": "https://localhost:8080/"
    },
    "hidden": true,
    "id": "-K9_L0ZYfrKT",
    "outputId": "092afe8e-ba5f-40d6-d68a-a6a988b97ecf"
   },
   "outputs": [
    {
     "data": {
      "text/plain": [
       "list"
      ]
     },
     "execution_count": 9,
     "metadata": {},
     "output_type": "execute_result"
    }
   ],
   "source": [
    "type(x)"
   ]
  },
  {
   "cell_type": "code",
   "execution_count": 10,
   "metadata": {
    "colab": {
     "base_uri": "https://localhost:8080/"
    },
    "hidden": true,
    "id": "sbuxqKxOfrGQ",
    "outputId": "8fe63233-a545-45bb-def7-f3fa1ec38e52"
   },
   "outputs": [
    {
     "data": {
      "text/plain": [
       "list"
      ]
     },
     "execution_count": 10,
     "metadata": {},
     "output_type": "execute_result"
    }
   ],
   "source": [
    "type(x+y)"
   ]
  },
  {
   "cell_type": "markdown",
   "metadata": {
    "hidden": true,
    "id": "ChbpMQJgOTse"
   },
   "source": [
    "- Use the append() method to add an element to the end of the list\n",
    "- We pass the element we want to add as an argument to the method append(object)"
   ]
  },
  {
   "cell_type": "code",
   "execution_count": 11,
   "metadata": {
    "colab": {
     "base_uri": "https://localhost:8080/"
    },
    "hidden": true,
    "id": "c3osZWDofrAW",
    "outputId": "2341dc83-7012-4a35-e1bd-635c2e8f7aa3"
   },
   "outputs": [
    {
     "name": "stdout",
     "output_type": "stream",
     "text": [
      "[0, 1, 2, 3, 4, 5, 'r']\n"
     ]
    }
   ],
   "source": [
    "x.append('r')\n",
    "print(x)"
   ]
  },
  {
   "cell_type": "markdown",
   "metadata": {
    "hidden": true,
    "id": "oOth2A5cOsjN"
   },
   "source": [
    "- Lists can contain a mix of types (e.g. int and strings)"
   ]
  },
  {
   "cell_type": "code",
   "execution_count": 12,
   "metadata": {
    "colab": {
     "base_uri": "https://localhost:8080/"
    },
    "hidden": true,
    "id": "jk7r3Ouefq7N",
    "outputId": "ba3b6bec-32ce-41c8-c661-4a3bc506335d"
   },
   "outputs": [
    {
     "data": {
      "text/plain": [
       "[0, 1, 2, 3, 4, 5, 'r']"
      ]
     },
     "execution_count": 12,
     "metadata": {},
     "output_type": "execute_result"
    }
   ],
   "source": [
    "x"
   ]
  },
  {
   "cell_type": "markdown",
   "metadata": {
    "hidden": true,
    "id": "KiEy8q-4vVx4"
   },
   "source": [
    "- Use the sort() method to sort the list numerically or alphabitically"
   ]
  },
  {
   "cell_type": "code",
   "execution_count": 13,
   "metadata": {
    "colab": {
     "base_uri": "https://localhost:8080/"
    },
    "hidden": true,
    "id": "cusH9vRuvd2l",
    "outputId": "eadf1c57-44e2-4d0e-c9f6-16fa7d478737"
   },
   "outputs": [
    {
     "name": "stdout",
     "output_type": "stream",
     "text": [
      "[1, 2, 3, 4, 5, 7]\n"
     ]
    }
   ],
   "source": [
    "a = [5, 3, 7, 2, 4, 1]\n",
    "a.sort()\n",
    "print(a)"
   ]
  },
  {
   "cell_type": "markdown",
   "metadata": {
    "hidden": true,
    "id": "Tzw-b3YPRGw1"
   },
   "source": [
    "- We can find the length of the list using len() Python's built-in function"
   ]
  },
  {
   "cell_type": "code",
   "execution_count": 14,
   "metadata": {
    "colab": {
     "base_uri": "https://localhost:8080/"
    },
    "hidden": true,
    "id": "C8ItXEfzRTAd",
    "outputId": "62adfb6e-1700-4ef0-8b71-85246739f8fe"
   },
   "outputs": [
    {
     "data": {
      "text/plain": [
       "7"
      ]
     },
     "execution_count": 14,
     "metadata": {},
     "output_type": "execute_result"
    }
   ],
   "source": [
    "len(x)"
   ]
  },
  {
   "cell_type": "markdown",
   "metadata": {
    "hidden": true,
    "id": "edkYC963QnQ3"
   },
   "source": [
    "- A list has an index that starts at 0\n",
    "- The index represents the position of the element in the list\n",
    "- The following line of code returns the second element. The list's index starts at 0, so element with index 0 is the first element in the list, and the element with index 1 is the second element in the list\n"
   ]
  },
  {
   "cell_type": "code",
   "execution_count": 15,
   "metadata": {
    "colab": {
     "base_uri": "https://localhost:8080/"
    },
    "hidden": true,
    "id": "-nUVUPg1f8o5",
    "outputId": "b4f069d3-4d56-4907-f95f-ea4afe9d0e14"
   },
   "outputs": [
    {
     "data": {
      "text/plain": [
       "1"
      ]
     },
     "execution_count": 15,
     "metadata": {},
     "output_type": "execute_result"
    }
   ],
   "source": [
    "x[1]"
   ]
  },
  {
   "cell_type": "markdown",
   "metadata": {
    "hidden": true,
    "id": "-bD2NsNJRg32"
   },
   "source": [
    "- We can index a range of values using the operator :\n",
    "- In the code below, we retrieve a elements starting from index 2 up to and not including 4 (i.e. 2 and 3)\n",
    "- In Python, the lower bound is inclusive and the upper bound is exlusive"
   ]
  },
  {
   "cell_type": "code",
   "execution_count": 16,
   "metadata": {
    "colab": {
     "base_uri": "https://localhost:8080/"
    },
    "hidden": true,
    "id": "tvkBE7X0f_8i",
    "outputId": "0db37737-b103-45f0-a4ba-e09ae1f8c977"
   },
   "outputs": [
    {
     "data": {
      "text/plain": [
       "[2, 3]"
      ]
     },
     "execution_count": 16,
     "metadata": {},
     "output_type": "execute_result"
    }
   ],
   "source": [
    "x[2:4]"
   ]
  },
  {
   "cell_type": "markdown",
   "metadata": {
    "hidden": true,
    "id": "3B0v0AaiS9eM"
   },
   "source": [
    "- If we want to start indexing from the begining of the list, a starting number needs not to be specified"
   ]
  },
  {
   "cell_type": "code",
   "execution_count": 17,
   "metadata": {
    "colab": {
     "base_uri": "https://localhost:8080/"
    },
    "hidden": true,
    "id": "kz-Q225Gf_24",
    "outputId": "722f54b4-9825-4c67-8bc3-bb4d3ae1dc43"
   },
   "outputs": [
    {
     "data": {
      "text/plain": [
       "[0, 1]"
      ]
     },
     "execution_count": 17,
     "metadata": {},
     "output_type": "execute_result"
    }
   ],
   "source": [
    "x[:2]"
   ]
  },
  {
   "cell_type": "markdown",
   "metadata": {
    "hidden": true,
    "id": "kXQqwuJZTbqD"
   },
   "source": [
    "- We can index the list all the way till the end by not specifying the end index"
   ]
  },
  {
   "cell_type": "code",
   "execution_count": 18,
   "metadata": {
    "colab": {
     "base_uri": "https://localhost:8080/"
    },
    "hidden": true,
    "id": "KmXETBaRf_xn",
    "outputId": "a213baa1-4ad6-4992-8cd3-a7e74a01a550"
   },
   "outputs": [
    {
     "data": {
      "text/plain": [
       "[1, 2, 3, 4, 5, 'r']"
      ]
     },
     "execution_count": 18,
     "metadata": {},
     "output_type": "execute_result"
    }
   ],
   "source": [
    "x[1:]"
   ]
  },
  {
   "cell_type": "markdown",
   "metadata": {
    "hidden": true,
    "id": "4PfYEZKlTp6k"
   },
   "source": [
    "- Negative indicies are relative to the end of the list\n",
    "- The code below retrieves the last two elements of the list x"
   ]
  },
  {
   "cell_type": "code",
   "execution_count": 19,
   "metadata": {
    "colab": {
     "base_uri": "https://localhost:8080/"
    },
    "hidden": true,
    "id": "nW2g6nk-f_sN",
    "outputId": "73a824dc-b7a5-492e-f0d5-98959eb5be4f"
   },
   "outputs": [
    {
     "data": {
      "text/plain": [
       "[5, 'r']"
      ]
     },
     "execution_count": 19,
     "metadata": {},
     "output_type": "execute_result"
    }
   ],
   "source": [
    "x[-2:]"
   ]
  },
  {
   "cell_type": "markdown",
   "metadata": {
    "hidden": true,
    "id": "JT9odlKcUlK-"
   },
   "source": [
    "- When the programming language does not support negative index similar to Python, then we compute as follows:"
   ]
  },
  {
   "cell_type": "code",
   "execution_count": 20,
   "metadata": {
    "colab": {
     "base_uri": "https://localhost:8080/"
    },
    "hidden": true,
    "id": "gbbsNcajUbSf",
    "outputId": "5f3ff904-0b35-4470-f1db-1e7ec229136b"
   },
   "outputs": [
    {
     "data": {
      "text/plain": [
       "[5, 'r']"
      ]
     },
     "execution_count": 20,
     "metadata": {},
     "output_type": "execute_result"
    }
   ],
   "source": [
    "x[len(x)-2:len(x)]"
   ]
  },
  {
   "cell_type": "markdown",
   "metadata": {
    "hidden": true,
    "id": "1hbMuABAUQaX"
   },
   "source": [
    "- Lists are mutable\n",
    "- Mutable means that we can append elements and substitute elements (i.e. change the content)\n"
   ]
  },
  {
   "cell_type": "code",
   "execution_count": 21,
   "metadata": {
    "colab": {
     "base_uri": "https://localhost:8080/"
    },
    "hidden": true,
    "id": "06ww1ebKf8iO",
    "outputId": "fdd0d599-90ba-4d93-a975-1943f0558d80"
   },
   "outputs": [
    {
     "data": {
      "text/plain": [
       "[0, 1, 'freez', 3, 4, 5, 'r']"
      ]
     },
     "execution_count": 21,
     "metadata": {},
     "output_type": "execute_result"
    }
   ],
   "source": [
    "x[2] = 'freez'\n",
    "x"
   ]
  },
  {
   "cell_type": "markdown",
   "metadata": {
    "hidden": true,
    "id": "omxvQLupV4OB"
   },
   "source": [
    "#### 2.1.2 Tuples"
   ]
  },
  {
   "cell_type": "markdown",
   "metadata": {
    "hidden": true,
    "id": "GswuKPJSV-tr"
   },
   "source": [
    "- Tuples are similar to lists with one major caveat: they're immutable\n",
    "- Tuples are defined with paranthetical brackets ()"
   ]
  },
  {
   "cell_type": "code",
   "execution_count": 22,
   "metadata": {
    "hidden": true,
    "id": "CWQSdUhwf8e5"
   },
   "outputs": [],
   "source": [
    "#tuples\n",
    "z = (7,8,9)"
   ]
  },
  {
   "cell_type": "markdown",
   "metadata": {
    "hidden": true,
    "id": "riSXkloWWScC"
   },
   "source": [
    "- We index tuples just like lists"
   ]
  },
  {
   "cell_type": "code",
   "execution_count": 23,
   "metadata": {
    "colab": {
     "base_uri": "https://localhost:8080/"
    },
    "hidden": true,
    "id": "e2EMtAWLf8Z1",
    "outputId": "7acae04f-fb4b-4889-8e12-5231173d846d"
   },
   "outputs": [
    {
     "data": {
      "text/plain": [
       "8"
      ]
     },
     "execution_count": 23,
     "metadata": {},
     "output_type": "execute_result"
    }
   ],
   "source": [
    "z[1]"
   ]
  },
  {
   "cell_type": "markdown",
   "metadata": {
    "hidden": true,
    "id": "wZM2QuERWYDk"
   },
   "source": [
    "- Attempting to modify a tuple leads to an error"
   ]
  },
  {
   "cell_type": "code",
   "execution_count": 24,
   "metadata": {
    "hidden": true,
    "id": "JVKiFyckf8VC"
   },
   "outputs": [],
   "source": [
    "# z[1] = 'boil'"
   ]
  },
  {
   "cell_type": "markdown",
   "metadata": {
    "hidden": true,
    "id": "_R4XqJo1WkOg"
   },
   "source": [
    "#### 2.1.3 Ranges"
   ]
  },
  {
   "cell_type": "markdown",
   "metadata": {
    "hidden": true,
    "id": "0kCt7mfhXp4D"
   },
   "source": [
    "- Ranges are immutable sequence of numbers\n",
    "- Mostly used with for loops (we will discuss in a later section, see Control Flow section below)\n",
    "- It has three positional arguments (start, stop, ans step)\n",
    "- In the code below, we create a range object. The range of values starts at 5, stops at 30 (not inclusive), with steps of 2"
   ]
  },
  {
   "cell_type": "code",
   "execution_count": 25,
   "metadata": {
    "colab": {
     "base_uri": "https://localhost:8080/"
    },
    "hidden": true,
    "id": "ntGXMUrEYUj2",
    "outputId": "be34da2a-2462-4283-98d2-55692875ed52"
   },
   "outputs": [
    {
     "data": {
      "text/plain": [
       "range(5, 30, 2)"
      ]
     },
     "execution_count": 25,
     "metadata": {},
     "output_type": "execute_result"
    }
   ],
   "source": [
    "range(5, 30, 2)"
   ]
  },
  {
   "cell_type": "code",
   "execution_count": 26,
   "metadata": {
    "colab": {
     "base_uri": "https://localhost:8080/"
    },
    "hidden": true,
    "id": "OUk0TWfngi3o",
    "outputId": "6178b67b-9200-474d-8f07-992bf72142b8"
   },
   "outputs": [
    {
     "data": {
      "text/plain": [
       "[5, 7, 9, 11, 13, 15, 17, 19, 21, 23, 25, 27, 29]"
      ]
     },
     "execution_count": 26,
     "metadata": {},
     "output_type": "execute_result"
    }
   ],
   "source": [
    "list(range(5, 30, 2))"
   ]
  },
  {
   "cell_type": "markdown",
   "metadata": {
    "hidden": true,
    "id": "LIWJhPCjY-eF"
   },
   "source": [
    "- Only the stop argument is required\n",
    "- If only the stop argument is provided, the range will start at 0 and increments by 1 up to that value\n",
    "- In the following code, we specify stop =10, so we get a range of numbers starting at 0 up to 10 (not inclusive, we stop at 9)"
   ]
  },
  {
   "cell_type": "code",
   "execution_count": 27,
   "metadata": {
    "colab": {
     "base_uri": "https://localhost:8080/"
    },
    "hidden": true,
    "id": "jlXeTUq_f8QU",
    "outputId": "7e0de0ac-ec8c-40e0-a24c-6767ccef0ea3"
   },
   "outputs": [
    {
     "data": {
      "text/plain": [
       "range(0, 10)"
      ]
     },
     "execution_count": 27,
     "metadata": {},
     "output_type": "execute_result"
    }
   ],
   "source": [
    "range(10)"
   ]
  },
  {
   "cell_type": "code",
   "execution_count": 28,
   "metadata": {
    "colab": {
     "base_uri": "https://localhost:8080/"
    },
    "hidden": true,
    "id": "PInSDZafgjIM",
    "outputId": "f31f1a72-3d63-43aa-da1d-0fc59018a0bf"
   },
   "outputs": [
    {
     "data": {
      "text/plain": [
       "[0, 1, 2, 3, 4, 5, 6, 7, 8, 9]"
      ]
     },
     "execution_count": 28,
     "metadata": {},
     "output_type": "execute_result"
    }
   ],
   "source": [
    "list(range(10))"
   ]
  },
  {
   "cell_type": "markdown",
   "metadata": {
    "hidden": true,
    "id": "NxTDmRtaa3tH"
   },
   "source": [
    "- In the following code, we starts at 2 and ends at 12 (not inclusive, we stop at 11)"
   ]
  },
  {
   "cell_type": "code",
   "execution_count": 29,
   "metadata": {
    "colab": {
     "base_uri": "https://localhost:8080/"
    },
    "hidden": true,
    "id": "_pzeB_8tgi_x",
    "outputId": "4c22aa6c-c580-4a76-b063-07eae046b0d7"
   },
   "outputs": [
    {
     "data": {
      "text/plain": [
       "[2, 3, 4, 5, 6, 7, 8, 9, 10, 11]"
      ]
     },
     "execution_count": 29,
     "metadata": {},
     "output_type": "execute_result"
    }
   ],
   "source": [
    "list(range(2,12))"
   ]
  },
  {
   "cell_type": "markdown",
   "metadata": {
    "heading_collapsed": true,
    "id": "nvg22pfBqSf_"
   },
   "source": [
    "### 2.3 Text Sequence Type"
   ]
  },
  {
   "cell_type": "markdown",
   "metadata": {
    "hidden": true,
    "id": "xctbDWXlbRVw"
   },
   "source": [
    "- Python has a type for text: str (string)\n",
    "- Strings can be specified using 'single', \"dobule\", or '''triple''' quotes\n",
    "- The following code concatenates two string objects using the + operator"
   ]
  },
  {
   "cell_type": "code",
   "execution_count": 30,
   "metadata": {
    "colab": {
     "base_uri": "https://localhost:8080/",
     "height": 37
    },
    "hidden": true,
    "id": "zqwO0m7kguzG",
    "outputId": "0272b35c-abc7-4d9a-a529-a0c3cced70e4"
   },
   "outputs": [
    {
     "data": {
      "text/plain": [
       "'HelloWorld!'"
      ]
     },
     "execution_count": 30,
     "metadata": {},
     "output_type": "execute_result"
    }
   ],
   "source": [
    "x = 'Hello'\n",
    "y = \"World!\"\n",
    "\n",
    "x+y"
   ]
  },
  {
   "cell_type": "markdown",
   "metadata": {
    "hidden": true,
    "id": "6vlQzp4tcw9L"
   },
   "source": [
    "- We can index the string similar to lists using square brackets []"
   ]
  },
  {
   "cell_type": "code",
   "execution_count": 31,
   "metadata": {
    "colab": {
     "base_uri": "https://localhost:8080/",
     "height": 37
    },
    "hidden": true,
    "id": "l3_Wq6Ssgusx",
    "outputId": "a868095b-a9d8-4b9b-f9dd-3dab180f66c3"
   },
   "outputs": [
    {
     "data": {
      "text/plain": [
       "'lo'"
      ]
     },
     "execution_count": 31,
     "metadata": {},
     "output_type": "execute_result"
    }
   ],
   "source": [
    "x[3:]"
   ]
  },
  {
   "cell_type": "markdown",
   "metadata": {
    "hidden": true,
    "id": "0gXJiCfLc7zr"
   },
   "source": [
    "- String objects have many string-specific methods\n",
    "- In the following code, we use the method lower() to modify the case of the letters to lower, and the upper() method to UPER"
   ]
  },
  {
   "cell_type": "code",
   "execution_count": 32,
   "metadata": {
    "colab": {
     "base_uri": "https://localhost:8080/",
     "height": 37
    },
    "hidden": true,
    "id": "OOVkDDZNguoB",
    "outputId": "f872d79b-64de-4873-d8d0-07f78c9918f1"
   },
   "outputs": [
    {
     "data": {
      "text/plain": [
       "'hello'"
      ]
     },
     "execution_count": 32,
     "metadata": {},
     "output_type": "execute_result"
    }
   ],
   "source": [
    "x.lower()"
   ]
  },
  {
   "cell_type": "code",
   "execution_count": 33,
   "metadata": {
    "colab": {
     "base_uri": "https://localhost:8080/",
     "height": 37
    },
    "hidden": true,
    "id": "_4x_cNqPgui9",
    "outputId": "f866f5e1-9c3a-4c9f-93cb-df1050d071cb"
   },
   "outputs": [
    {
     "data": {
      "text/plain": [
       "'HELLO'"
      ]
     },
     "execution_count": 33,
     "metadata": {},
     "output_type": "execute_result"
    }
   ],
   "source": [
    "x.upper()"
   ]
  },
  {
   "cell_type": "markdown",
   "metadata": {
    "hidden": true,
    "id": "Z2uw6bPjdVNp"
   },
   "source": [
    "- Strings are mutable\n",
    "- We can use the replace() method to replace elements in the string object\n",
    "- In the following line of code, we replace the 'lo' portion in the string 'hello' with the letter 'p'"
   ]
  },
  {
   "cell_type": "code",
   "execution_count": 34,
   "metadata": {
    "colab": {
     "base_uri": "https://localhost:8080/",
     "height": 37
    },
    "hidden": true,
    "id": "0fMnbSGwguec",
    "outputId": "56f1da18-c73f-4649-cd85-91e4e175750b"
   },
   "outputs": [
    {
     "data": {
      "text/plain": [
       "'Help'"
      ]
     },
     "execution_count": 34,
     "metadata": {},
     "output_type": "execute_result"
    }
   ],
   "source": [
    "x.replace('lo','p')"
   ]
  },
  {
   "cell_type": "markdown",
   "metadata": {
    "hidden": true,
    "id": "24iy_szGeIjk"
   },
   "source": [
    "- A list of strings can be joined on another string"
   ]
  },
  {
   "cell_type": "code",
   "execution_count": 35,
   "metadata": {
    "colab": {
     "base_uri": "https://localhost:8080/",
     "height": 37
    },
    "hidden": true,
    "id": "euXfUF0GguZl",
    "outputId": "377c9065-a238-4cd9-b546-e73d6b53be7e"
   },
   "outputs": [
    {
     "data": {
      "text/plain": [
       "'Hello, World!, what a day!'"
      ]
     },
     "execution_count": 35,
     "metadata": {},
     "output_type": "execute_result"
    }
   ],
   "source": [
    "', '.join([x,y, 'what a day!'])"
   ]
  },
  {
   "cell_type": "markdown",
   "metadata": {
    "hidden": true,
    "id": "9l6lFrhxeT90"
   },
   "source": [
    "- A string could be split on a delimiter\n",
    "- In the following code, we split the string 'Hello, world, what, a, day!' on the comma delimiter ','"
   ]
  },
  {
   "cell_type": "code",
   "execution_count": 36,
   "metadata": {
    "colab": {
     "base_uri": "https://localhost:8080/"
    },
    "hidden": true,
    "id": "qm1brTYwguVR",
    "outputId": "4badde62-bbfc-4704-94b2-0ed6dc8ad54a"
   },
   "outputs": [
    {
     "data": {
      "text/plain": [
       "['Hello', ' world', ' what a day!']"
      ]
     },
     "execution_count": 36,
     "metadata": {},
     "output_type": "execute_result"
    }
   ],
   "source": [
    "'Hello, world, what a day!'.split(',')"
   ]
  },
  {
   "cell_type": "markdown",
   "metadata": {
    "hidden": true,
    "id": "4AhGmYAne9qg"
   },
   "source": [
    "- format() method is used to insert values from variables into a string\n",
    "- The substitution locations are specified using {}\n",
    "- The values to be substituted in are passed as arguments to format()"
   ]
  },
  {
   "cell_type": "code",
   "execution_count": 37,
   "metadata": {
    "colab": {
     "base_uri": "https://localhost:8080/",
     "height": 37
    },
    "hidden": true,
    "id": "GqOZpaxiguQu",
    "outputId": "c3b860ff-23a6-4680-f372-d2e245245c1d"
   },
   "outputs": [
    {
     "data": {
      "text/plain": [
       "'The temperature today is 21.34 degrees'"
      ]
     },
     "execution_count": 37,
     "metadata": {},
     "output_type": "execute_result"
    }
   ],
   "source": [
    "temperature = 21.34\n",
    "\n",
    "'The temperature today is {} degrees'.format(temperature)"
   ]
  },
  {
   "cell_type": "markdown",
   "metadata": {
    "hidden": true,
    "id": "H4MhTlKKf_xR"
   },
   "source": [
    "- We can also specify names for each substitution"
   ]
  },
  {
   "cell_type": "code",
   "execution_count": 38,
   "metadata": {
    "colab": {
     "base_uri": "https://localhost:8080/",
     "height": 37
    },
    "hidden": true,
    "id": "hpMNF64lhgYe",
    "outputId": "a087d8a0-5063-4f9d-b784-123615aafb77"
   },
   "outputs": [
    {
     "data": {
      "text/plain": [
       "'18.93 plus 18.93 plus 345.234 equals 383.094'"
      ]
     },
     "execution_count": 38,
     "metadata": {},
     "output_type": "execute_result"
    }
   ],
   "source": [
    "x = 18.93\n",
    "y = 345.234\n",
    "\n",
    "'{x} plus {x} plus {y} equals {r}'.format(x = x, y = y, r = x + x + y)"
   ]
  },
  {
   "cell_type": "markdown",
   "metadata": {
    "heading_collapsed": true,
    "id": "7wPPHnz7p-Fk"
   },
   "source": [
    "### 2.4 Booleans"
   ]
  },
  {
   "cell_type": "markdown",
   "metadata": {
    "hidden": true,
    "id": "d3wgs1r_ggWc"
   },
   "source": [
    "- A boolean (or bool) can have only one of two values: `True` or `False`\n",
    "- Bools are often produced from copmarisons\n",
    "\n",
    "\n"
   ]
  },
  {
   "cell_type": "code",
   "execution_count": 39,
   "metadata": {
    "colab": {
     "base_uri": "https://localhost:8080/"
    },
    "hidden": true,
    "id": "b9qd7FCLhTDt",
    "outputId": "eafbb55a-7cb0-4c53-96ea-96507043d9bf"
   },
   "outputs": [
    {
     "data": {
      "text/plain": [
       "True"
      ]
     },
     "execution_count": 39,
     "metadata": {},
     "output_type": "execute_result"
    }
   ],
   "source": [
    "1==1 # Is 1 equal to 1?"
   ]
  },
  {
   "cell_type": "code",
   "execution_count": 40,
   "metadata": {
    "colab": {
     "base_uri": "https://localhost:8080/"
    },
    "hidden": true,
    "id": "JDgu-yGn_6cc",
    "outputId": "9fadebae-a083-4fc4-ec9b-cb8c05650e1b"
   },
   "outputs": [
    {
     "data": {
      "text/plain": [
       "True"
      ]
     },
     "execution_count": 40,
     "metadata": {},
     "output_type": "execute_result"
    }
   ],
   "source": [
    "1 < 2 # Is 1 less than 2?"
   ]
  },
  {
   "cell_type": "code",
   "execution_count": 41,
   "metadata": {
    "colab": {
     "base_uri": "https://localhost:8080/"
    },
    "hidden": true,
    "id": "tzDfen1p_6YU",
    "outputId": "81136610-ff0c-4058-bca4-66c70df8976d"
   },
   "outputs": [
    {
     "data": {
      "text/plain": [
       "False"
      ]
     },
     "execution_count": 41,
     "metadata": {},
     "output_type": "execute_result"
    }
   ],
   "source": [
    "1 == 2 # Is 1 equal to 2?"
   ]
  },
  {
   "cell_type": "markdown",
   "metadata": {
    "hidden": true,
    "id": "uQ0yzgoYhrQU"
   },
   "source": [
    "- We can save the boolean in a bool object"
   ]
  },
  {
   "cell_type": "code",
   "execution_count": 42,
   "metadata": {
    "colab": {
     "base_uri": "https://localhost:8080/"
    },
    "hidden": true,
    "id": "MzlP_n4__6f_",
    "outputId": "2fa7dab7-338e-4d72-e013-f2f789811abb"
   },
   "outputs": [
    {
     "data": {
      "text/plain": [
       "True"
      ]
     },
     "execution_count": 42,
     "metadata": {},
     "output_type": "execute_result"
    }
   ],
   "source": [
    "x = 1 == 1\n",
    "x"
   ]
  },
  {
   "cell_type": "markdown",
   "metadata": {
    "hidden": true,
    "id": "aHUiEVgph2Sy"
   },
   "source": [
    "- Bools can also be compared using the `and`, `or`, and `not` operators\n",
    "- Bools are used a lot in control statements (see section below)\n",
    "- Bools are also used when indexing dataframes (in future class sessions)"
   ]
  },
  {
   "cell_type": "code",
   "execution_count": 43,
   "metadata": {
    "colab": {
     "base_uri": "https://localhost:8080/"
    },
    "hidden": true,
    "id": "U9uVPwlI_6UK",
    "outputId": "53050efd-f0b2-459d-d104-01998b456980"
   },
   "outputs": [
    {
     "data": {
      "text/plain": [
       "True"
      ]
     },
     "execution_count": 43,
     "metadata": {},
     "output_type": "execute_result"
    }
   ],
   "source": [
    "x = True\n",
    "y = False \n",
    "x or y"
   ]
  },
  {
   "cell_type": "code",
   "execution_count": 44,
   "metadata": {
    "colab": {
     "base_uri": "https://localhost:8080/"
    },
    "hidden": true,
    "id": "2rl1m8sT_6QJ",
    "outputId": "2eb95b9f-d3f2-4e19-8eab-5e2407f86737"
   },
   "outputs": [
    {
     "data": {
      "text/plain": [
       "False"
      ]
     },
     "execution_count": 44,
     "metadata": {},
     "output_type": "execute_result"
    }
   ],
   "source": [
    "x and y"
   ]
  },
  {
   "cell_type": "code",
   "execution_count": 45,
   "metadata": {
    "colab": {
     "base_uri": "https://localhost:8080/"
    },
    "hidden": true,
    "id": "R6_W0vdY_6L3",
    "outputId": "1110822c-78df-43df-cea2-d65e04a35170"
   },
   "outputs": [
    {
     "data": {
      "text/plain": [
       "True"
      ]
     },
     "execution_count": 45,
     "metadata": {},
     "output_type": "execute_result"
    }
   ],
   "source": [
    "x and not y"
   ]
  },
  {
   "cell_type": "markdown",
   "metadata": {
    "id": "CF5JxaPjqig6"
   },
   "source": [
    "### 2.5 Mapping Types (Dictionaries)"
   ]
  },
  {
   "cell_type": "markdown",
   "metadata": {
    "id": "3TTxUMxME232"
   },
   "source": [
    "- Dictionaries or dicts are data structure that use one object to index another object\n",
    "- Lists or tuples can store any object but only with an integer index\n",
    "- A dictionary has two types of objects (keys and values)\n",
    "- Dictionaries are very efficient\n",
    "- In the following line of code, we creat a dictionary using the `dict()` function\n",
    "  - Keys: a, b, and c\n",
    "  - Values: 1, 2, 3"
   ]
  },
  {
   "cell_type": "code",
   "execution_count": 46,
   "metadata": {
    "colab": {
     "base_uri": "https://localhost:8080/"
    },
    "id": "DTe8Gbd0jHxF",
    "outputId": "1d7809db-ac4d-4979-f542-832a1372d977"
   },
   "outputs": [
    {
     "data": {
      "text/plain": [
       "{'a': 1, 'b': 2, 'c': 3}"
      ]
     },
     "execution_count": 46,
     "metadata": {},
     "output_type": "execute_result"
    }
   ],
   "source": [
    "x = dict(a = 1, b = 2, c = 3)\n",
    "x"
   ]
  },
  {
   "cell_type": "markdown",
   "metadata": {
    "id": "FupXTXYmHNxV"
   },
   "source": [
    "- We can also define a dictionary using curly brackets"
   ]
  },
  {
   "cell_type": "code",
   "execution_count": 47,
   "metadata": {
    "colab": {
     "base_uri": "https://localhost:8080/"
    },
    "id": "mIx-PvcgjHox",
    "outputId": "4f4f9583-4c8c-4b8c-e30b-6bab9c235e81"
   },
   "outputs": [
    {
     "data": {
      "text/plain": [
       "{'a': 1, 'b': 2, 'c': 3}"
      ]
     },
     "execution_count": 47,
     "metadata": {},
     "output_type": "execute_result"
    }
   ],
   "source": [
    "x = {'a': 1, 'b':2, 'c':3}\n",
    "x"
   ]
  },
  {
   "cell_type": "markdown",
   "metadata": {
    "id": "VqcrUWcoIA2D"
   },
   "source": [
    "- Just like lists and tuples, indicies are passed using square brackets"
   ]
  },
  {
   "cell_type": "code",
   "execution_count": 48,
   "metadata": {
    "colab": {
     "base_uri": "https://localhost:8080/"
    },
    "id": "gXayNSUSjHcT",
    "outputId": "85de5a5c-2024-4521-8667-4a60c257fac0"
   },
   "outputs": [
    {
     "data": {
      "text/plain": [
       "1"
      ]
     },
     "execution_count": 48,
     "metadata": {},
     "output_type": "execute_result"
    }
   ],
   "source": [
    "x['a']"
   ]
  },
  {
   "cell_type": "markdown",
   "metadata": {
    "id": "874eoniuIL1k"
   },
   "source": [
    "- The key-value pairs can be accessed directly as tuples using `items()` method"
   ]
  },
  {
   "cell_type": "code",
   "execution_count": 49,
   "metadata": {
    "colab": {
     "base_uri": "https://localhost:8080/"
    },
    "id": "TJeSrWDjjHX5",
    "outputId": "d4b05506-5cd2-4d9a-fc1c-7e772bbae53c"
   },
   "outputs": [
    {
     "data": {
      "text/plain": [
       "dict_items([('a', 1), ('b', 2), ('c', 3)])"
      ]
     },
     "execution_count": 49,
     "metadata": {},
     "output_type": "execute_result"
    }
   ],
   "source": [
    "x.items()"
   ]
  },
  {
   "cell_type": "markdown",
   "metadata": {
    "id": "m9t6VAG-Ifep"
   },
   "source": [
    "- Keys in a dictionary can be accessed using `keys()` method"
   ]
  },
  {
   "cell_type": "code",
   "execution_count": 50,
   "metadata": {
    "colab": {
     "base_uri": "https://localhost:8080/"
    },
    "id": "v9XiYZYYjICe",
    "outputId": "89b7a41f-510e-4ef7-ea9e-a586e7235c6a"
   },
   "outputs": [
    {
     "data": {
      "text/plain": [
       "dict_keys(['a', 'b', 'c'])"
      ]
     },
     "execution_count": 50,
     "metadata": {},
     "output_type": "execute_result"
    }
   ],
   "source": [
    "x.keys()"
   ]
  },
  {
   "cell_type": "markdown",
   "metadata": {
    "id": "be0c99kpIshM"
   },
   "source": [
    "- Values in a dictionary can be accessed using `values()` method"
   ]
  },
  {
   "cell_type": "code",
   "execution_count": 51,
   "metadata": {
    "colab": {
     "base_uri": "https://localhost:8080/"
    },
    "id": "i4TfAlDkjHR3",
    "outputId": "37d1d146-1be0-4e84-e3bf-297cafdec4ad"
   },
   "outputs": [
    {
     "data": {
      "text/plain": [
       "dict_values([1, 2, 3])"
      ]
     },
     "execution_count": 51,
     "metadata": {},
     "output_type": "execute_result"
    }
   ],
   "source": [
    "x.values()"
   ]
  },
  {
   "cell_type": "markdown",
   "metadata": {
    "id": "hTODLJ32rSy1"
   },
   "source": [
    "## 3. Control Flow"
   ]
  },
  {
   "cell_type": "markdown",
   "metadata": {
    "id": "cJNMUv9yMLns"
   },
   "source": [
    "- Control flow is the order in which the statements in the program are evaluated\n",
    "- Two type of control flow: conditionals and loops\n"
   ]
  },
  {
   "cell_type": "markdown",
   "metadata": {
    "id": "fB1LG66mrShX"
   },
   "source": [
    "### 3.1 If statement"
   ]
  },
  {
   "cell_type": "markdown",
   "metadata": {
    "id": "WZhGL2fSN8AX"
   },
   "source": [
    "- Conditional statements use boolean conditions to create branch points in the code\n",
    "- The condition is assessed using boolean logic and if the result is True, then the following line of code is executed, otherwise if it is False, the following line will be skipped\n",
    "- In the following peice of code, the evaluation of the condition x = 5 leads to True since the value of x is 5, and 5 is greater than 2"
   ]
  },
  {
   "cell_type": "code",
   "execution_count": 52,
   "metadata": {
    "colab": {
     "base_uri": "https://localhost:8080/"
    },
    "id": "fReg4HKRmz5O",
    "outputId": "19205e11-936e-4f6e-b159-e2f6f20b483f"
   },
   "outputs": [
    {
     "name": "stdout",
     "output_type": "stream",
     "text": [
      "x = 5, which is greater than 2\n",
      "Done!\n"
     ]
    }
   ],
   "source": [
    "x = 5\n",
    "if x > 2:\n",
    "  print('x = {}, which is greater than 2'.format(x))\n",
    "print('Done!')"
   ]
  },
  {
   "cell_type": "markdown",
   "metadata": {
    "id": "gyLrPL_QOUie"
   },
   "source": [
    "- In the following peice of code, the condition evaluation leads to False becase 0 is not greater than 2"
   ]
  },
  {
   "cell_type": "code",
   "execution_count": 53,
   "metadata": {
    "colab": {
     "base_uri": "https://localhost:8080/"
    },
    "id": "BCr4cAhqmzvl",
    "outputId": "b844b411-6ed6-4f1f-8eb6-143f9739e450"
   },
   "outputs": [
    {
     "name": "stdout",
     "output_type": "stream",
     "text": [
      "Done\n"
     ]
    }
   ],
   "source": [
    "x = 0\n",
    "if x > 2: \n",
    "  print('x = {}, which is greater than 2'.format(x))\n",
    "print('Done')"
   ]
  },
  {
   "cell_type": "markdown",
   "metadata": {
    "id": "4s5_KeKIOhr5"
   },
   "source": [
    "- `if` statements often includes a paired `else` statement\n",
    "- In the following peice of code, the `else` statement will be executed since 0 is not greater than 2 "
   ]
  },
  {
   "cell_type": "code",
   "execution_count": 54,
   "metadata": {
    "colab": {
     "base_uri": "https://localhost:8080/"
    },
    "id": "ba8RVpbjmzju",
    "outputId": "84885da0-f7b0-4615-ff4e-5568598feb40"
   },
   "outputs": [
    {
     "name": "stdout",
     "output_type": "stream",
     "text": [
      "x = 0, which is less than or equal to 2\n"
     ]
    }
   ],
   "source": [
    "x = 0\n",
    "if x > 2:\n",
    "  print('x = {}, which is greater than 2'.format(x))\n",
    "else:\n",
    "  print('x = {}, which is less than or equal to 2'.format(x))"
   ]
  },
  {
   "cell_type": "markdown",
   "metadata": {
    "id": "OpP3tDwmSgJO"
   },
   "source": [
    "- There is also an `elif` (else if) which evaluates if the previous `if` or `elif` statement evaluated to False\n",
    "- In the following code, x is not greater than 2; x is not equal to 2; the `else` statement is executed when all the previous `if` or `elif` statements evaluate to False"
   ]
  },
  {
   "cell_type": "code",
   "execution_count": 55,
   "metadata": {
    "colab": {
     "base_uri": "https://localhost:8080/"
    },
    "id": "fLObhPd4mzXk",
    "outputId": "af681c9b-e4fd-4110-cc40-94bf95e67eac"
   },
   "outputs": [
    {
     "name": "stdout",
     "output_type": "stream",
     "text": [
      "x = 2, which is equals 2!\n"
     ]
    }
   ],
   "source": [
    "x = 2\n",
    "if x > 2:\n",
    "  print('x = {}, which is greater than 2'.format(x))\n",
    "elif x == 2:\n",
    "  print('x = {}, which is equals 2!'.format(x))\n",
    "else:\n",
    "  print('x = {}, which is less than 2'.format(x))"
   ]
  },
  {
   "cell_type": "markdown",
   "metadata": {
    "id": "pYzv-HQprkrK"
   },
   "source": [
    "### 3.2 For loop statement"
   ]
  },
  {
   "cell_type": "markdown",
   "metadata": {
    "id": "XzjwCKnGWZ48"
   },
   "source": [
    "- Loops iterates through an *iterator*, which is a collection of objects: e.g. lists, tuples, strings, and sets\n",
    "- In the following code, we iterate through a collection of integer values in the list `a`.\n",
    "- Note that the iteration is through the elements of the lists directly, and not through an index to reference into the list\n",
    "\n",
    "- An *iterator* is an object that contains a countable number of values (source: W3 Schools)\n",
    "- An *iterator* is an object that can be iterated upon, meaning that you can traverse through all the values (sourse W3 Schools).\n",
    " "
   ]
  },
  {
   "cell_type": "markdown",
   "metadata": {
    "id": "RDk9HhnyiDeA"
   },
   "source": [
    "[For loop flow chart](https://cdn.techbeamers.com/wp-content/uploads/2018/08/Regular-Python-for-loop-flowchart.png)"
   ]
  },
  {
   "cell_type": "code",
   "execution_count": 3,
   "metadata": {},
   "outputs": [
    {
     "name": "stdout",
     "output_type": "stream",
     "text": [
      "16\n",
      "4\n",
      "25\n",
      "1\n",
      "144\n",
      "169\n"
     ]
    }
   ],
   "source": [
    "# given a list a, find the square of each value in a\n",
    "a = [4, 2, 5, 1, 12, 13]\n",
    "a_squared = []\n",
    "\n",
    "for x in a:\n",
    "    print(x**2)"
   ]
  },
  {
   "cell_type": "code",
   "execution_count": 57,
   "metadata": {
    "colab": {
     "base_uri": "https://localhost:8080/"
    },
    "id": "aLGf9TSSm5Q0",
    "outputId": "1e7d24b4-0065-4d5e-ff6c-4ea68f86ee13"
   },
   "outputs": [
    {
     "name": "stdout",
     "output_type": "stream",
     "text": [
      "a_squared generated: [16, 4, 25, 1, 144, 169]\n"
     ]
    }
   ],
   "source": [
    "a = [4, 2, 5, 1, 12, 13]\n",
    "a_squared = []\n",
    "\n",
    "for x in a:\n",
    "  a_squared.append(x**2)\n",
    "\n",
    "print('a_squared generated: {}'.format(a_squared))"
   ]
  },
  {
   "cell_type": "markdown",
   "metadata": {
    "id": "ChLtruymIO72"
   },
   "source": [
    "- We can also iterate through a set of numbers using the `range()` function to produce an iterator"
   ]
  },
  {
   "cell_type": "code",
   "execution_count": 58,
   "metadata": {
    "colab": {
     "base_uri": "https://localhost:8080/"
    },
    "id": "hMlj5RRCm5HX",
    "outputId": "a54ac2f2-3d39-437f-8884-1c9170be877f"
   },
   "outputs": [
    {
     "name": "stdout",
     "output_type": "stream",
     "text": [
      "0\n",
      "1\n",
      "2\n",
      "3\n",
      "4\n"
     ]
    }
   ],
   "source": [
    "for i in range(5):\n",
    "  print(i)"
   ]
  },
  {
   "cell_type": "code",
   "execution_count": 59,
   "metadata": {
    "colab": {
     "base_uri": "https://localhost:8080/"
    },
    "id": "XZH2oA73KKkg",
    "outputId": "5b538f2f-b6c7-4c12-ec70-5b0094b39027"
   },
   "outputs": [
    {
     "data": {
      "text/plain": [
       "range"
      ]
     },
     "execution_count": 59,
     "metadata": {},
     "output_type": "execute_result"
    }
   ],
   "source": [
    "type(range(5))"
   ]
  },
  {
   "cell_type": "code",
   "execution_count": 60,
   "metadata": {
    "colab": {
     "base_uri": "https://localhost:8080/"
    },
    "id": "qdKgmDX2m4xp",
    "outputId": "84e60971-f9e8-4ab1-9055-a9ddaeba6dcc"
   },
   "outputs": [
    {
     "name": "stdout",
     "output_type": "stream",
     "text": [
      "21\n",
      "33\n",
      "45\n",
      "57\n",
      "69\n",
      "81\n",
      "93\n"
     ]
    }
   ],
   "source": [
    "for i in range(21, 100, 12):\n",
    "  print(i)"
   ]
  },
  {
   "cell_type": "markdown",
   "metadata": {
    "id": "hNzQEx6fKVUz"
   },
   "source": [
    "- We can iterate through a list indirectly using a range of numbers as as indicies to index into a list"
   ]
  },
  {
   "cell_type": "code",
   "execution_count": 4,
   "metadata": {
    "colab": {
     "base_uri": "https://localhost:8080/"
    },
    "id": "GHBNYKW7m44-",
    "outputId": "8f0af762-4335-4173-e44a-842018a1f29f"
   },
   "outputs": [
    {
     "name": "stdout",
     "output_type": "stream",
     "text": [
      "a_squared generated: [16, 4, 25, 1, 144, 169]\n"
     ]
    }
   ],
   "source": [
    "a_squared = []\n",
    "\n",
    "for i in range(len(a)):\n",
    "  a_squared.append(a[i]**2)\n",
    "\n",
    "print('a_squared generated: {}'.format(a_squared))"
   ]
  },
  {
   "cell_type": "markdown",
   "metadata": {
    "id": "n226sFflKwFR"
   },
   "source": [
    "- The `zip()` function \"zips\" together two collections and iterates through a pair of values\n",
    "- In the following code, we define two ranges, and then we iterate through pairs of values using the `zip()` function"
   ]
  },
  {
   "cell_type": "code",
   "execution_count": 62,
   "metadata": {
    "colab": {
     "base_uri": "https://localhost:8080/"
    },
    "id": "aUrAsSsIm4WV",
    "outputId": "b7b70359-9c3c-4eb4-d489-f8a946f783bb"
   },
   "outputs": [
    {
     "name": "stdout",
     "output_type": "stream",
     "text": [
      "0 6\n",
      "1 8\n",
      "2 10\n",
      "3 12\n",
      "4 14\n",
      "5 16\n"
     ]
    }
   ],
   "source": [
    "range1 = range(6)\n",
    "range2 = range(6, 18, 2)\n",
    "\n",
    "for x, y in zip(range1, range2):\n",
    "  print(x, y)\n",
    "\n",
    "# for x, y in zip(range(6), range(6, 18, 2)):\n",
    "#   print(x, y)"
   ]
  },
  {
   "cell_type": "markdown",
   "metadata": {
    "id": "ICs7hXRrNGaq"
   },
   "source": [
    "- If one of the collections in the `zip()` function is shorter, then the iteration proceeds for the lenght of the shorter collection\n",
    "- In the following, `range(6)` produces 6 value and `range(6,12,2)` produces 3 values, thus the output of the `zip()` function will be of length 3 (Since 3 is less than 6)"
   ]
  },
  {
   "cell_type": "code",
   "execution_count": 63,
   "metadata": {
    "colab": {
     "base_uri": "https://localhost:8080/"
    },
    "id": "sjiHbe381viY",
    "outputId": "7babd403-f108-430d-d4ee-9565a86dd4b7"
   },
   "outputs": [
    {
     "name": "stdout",
     "output_type": "stream",
     "text": [
      "0 6\n",
      "1 8\n",
      "2 10\n"
     ]
    }
   ],
   "source": [
    "for j, k in zip(range(6), range(6, 12, 2)):\n",
    "  print(j, k)"
   ]
  },
  {
   "cell_type": "markdown",
   "metadata": {
    "id": "J44lnd-JN-FQ"
   },
   "source": [
    "- `enumerate()` function returns not only the value from a collection, but also the index"
   ]
  },
  {
   "cell_type": "code",
   "execution_count": 64,
   "metadata": {
    "colab": {
     "base_uri": "https://localhost:8080/"
    },
    "id": "fj_xmgxWN7PI",
    "outputId": "02188eb5-548a-4269-fef7-11dc30964751"
   },
   "outputs": [
    {
     "name": "stdout",
     "output_type": "stream",
     "text": [
      "[4, 2, 5, 1, 12, 13]\n"
     ]
    }
   ],
   "source": [
    "print(a)"
   ]
  },
  {
   "cell_type": "code",
   "execution_count": 65,
   "metadata": {
    "colab": {
     "base_uri": "https://localhost:8080/"
    },
    "id": "dEwuL4aym4J6",
    "outputId": "aa38d0ab-0d7d-44a6-bf70-4a0aade80d7f"
   },
   "outputs": [
    {
     "name": "stdout",
     "output_type": "stream",
     "text": [
      "0 4\n",
      "1 2\n",
      "2 5\n",
      "3 1\n",
      "4 12\n",
      "5 13\n"
     ]
    }
   ],
   "source": [
    "for i, x in enumerate(a):\n",
    "  print(i, x)"
   ]
  },
  {
   "cell_type": "markdown",
   "metadata": {
    "id": "03Wh__E9rknY"
   },
   "source": [
    "### 3.3 List Comprehension"
   ]
  },
  {
   "cell_type": "markdown",
   "metadata": {
    "id": "QwOKazWCOYQb"
   },
   "source": [
    "- List comprehenision is a concise syntax for generating a list from another list\n",
    "- In the following example, the code takes a list of numbers as input and produces a new list where each element has been incremented by one\n"
   ]
  },
  {
   "cell_type": "code",
   "execution_count": 66,
   "metadata": {
    "id": "8zp-GLC9m9fw"
   },
   "outputs": [],
   "source": [
    "a = [4, 2, 5, 1, 12, 33]"
   ]
  },
  {
   "cell_type": "code",
   "execution_count": 67,
   "metadata": {
    "colab": {
     "base_uri": "https://localhost:8080/"
    },
    "id": "fJV3beVHaETi",
    "outputId": "35e0f387-5eaf-498f-c5d0-a8b96f7e6bfc"
   },
   "outputs": [
    {
     "data": {
      "text/plain": [
       "[5, 3, 6, 2, 13, 34]"
      ]
     },
     "execution_count": 67,
     "metadata": {},
     "output_type": "execute_result"
    }
   ],
   "source": [
    "a_plus_one = [] # empty list\n",
    "\n",
    "for x in a:\n",
    "  a_plus_one.append(x+1)\n",
    "\n",
    "a_plus_one"
   ]
  },
  {
   "cell_type": "markdown",
   "metadata": {
    "id": "X1HjMqKZacn9"
   },
   "source": [
    "- Instead of instantiating an (1) empty list, (2) creating a `for` statment to iterate through the source list, and (3) writing statements to append to a new list; all of those operations can be done in a single line using list comprehension\n",
    "- List comprehension is in the following form\n",
    "\n",
    "`newlist = [expression for item in iterable if condition == True]`\n",
    "\n",
    "- The return value *expresson* is a new list, leaving the old list unchanged (source: w3 schools)\n",
    "\n",
    "- The *iterable* can be any iterable object, like a list, tuple, set etc.(source: w3 schools)\n",
    "- The *expression* is the current item in the iteration, but it is also the outcome, which you can manipulate before it ends up like a list item in the new list (source: w3 schools)\n"
   ]
  },
  {
   "cell_type": "code",
   "execution_count": 68,
   "metadata": {
    "colab": {
     "base_uri": "https://localhost:8080/"
    },
    "id": "9_jJWOMxm9VT",
    "outputId": "efbee115-1fd4-4724-a5ae-d7946f9e0cea"
   },
   "outputs": [
    {
     "data": {
      "text/plain": [
       "[5, 3, 6, 2, 13, 34]"
      ]
     },
     "execution_count": 68,
     "metadata": {},
     "output_type": "execute_result"
    }
   ],
   "source": [
    "a_plus_one = [x+1 for x in a]\n",
    "a_plus_one"
   ]
  },
  {
   "cell_type": "markdown",
   "metadata": {
    "id": "nS9PAjMCcgdm"
   },
   "source": [
    "- The *condition* is like a filter that only accepts the items that valuate to `True` (source: w3 schools)\n",
    "- The condition below is `x<12` only includes the elements that are less the 12 in the result\n"
   ]
  },
  {
   "cell_type": "code",
   "execution_count": 69,
   "metadata": {
    "colab": {
     "base_uri": "https://localhost:8080/"
    },
    "id": "qGn3qZ0mm9LG",
    "outputId": "672532df-8b93-4123-f44d-f6952932ca8e"
   },
   "outputs": [
    {
     "data": {
      "text/plain": [
       "[5, 3, 6, 2]"
      ]
     },
     "execution_count": 69,
     "metadata": {},
     "output_type": "execute_result"
    }
   ],
   "source": [
    "a_plus_one_filtered = [x+1 for x in a if x < 12]\n",
    "a_plus_one_filtered"
   ]
  },
  {
   "cell_type": "markdown",
   "metadata": {
    "id": "3PLdF05yc4za"
   },
   "source": [
    "- If we want a differential behavior based on a particular condition (if else statement), we can place the `if else` statement before the `for`"
   ]
  },
  {
   "cell_type": "code",
   "execution_count": 70,
   "metadata": {
    "colab": {
     "base_uri": "https://localhost:8080/"
    },
    "id": "KS1gaJSbm8_J",
    "outputId": "fb8b909e-584b-4406-e777-2b645f94952a"
   },
   "outputs": [
    {
     "data": {
      "text/plain": [
       "[5, 3, 6, 2, 1200, 3300]"
      ]
     },
     "execution_count": 70,
     "metadata": {},
     "output_type": "execute_result"
    }
   ],
   "source": [
    "a_modified = [x+1 if x <12 else x*100 for x in a]\n",
    "a_modified"
   ]
  },
  {
   "cell_type": "markdown",
   "metadata": {
    "id": "t7rrgwFxgakr"
   },
   "source": [
    "- The following code generates a list of tupples, where each tuple pair is a number and its square value"
   ]
  },
  {
   "cell_type": "code",
   "execution_count": 71,
   "metadata": {
    "colab": {
     "base_uri": "https://localhost:8080/"
    },
    "id": "-wfYowj5m81p",
    "outputId": "60c5e1df-55b7-41ef-82e3-34253d8fb8ab"
   },
   "outputs": [
    {
     "data": {
      "text/plain": [
       "[(4, 16), (2, 4), (5, 25), (1, 1), (12, 144), (33, 1089)]"
      ]
     },
     "execution_count": 71,
     "metadata": {},
     "output_type": "execute_result"
    }
   ],
   "source": [
    "a_square_tuples = [(v, v**2) for v in a]\n",
    "a_square_tuples"
   ]
  },
  {
   "cell_type": "markdown",
   "metadata": {
    "id": "Vb3_Ha3CgoFY"
   },
   "source": [
    "- In the following code, we iterate over a list of tuples"
   ]
  },
  {
   "cell_type": "code",
   "execution_count": 72,
   "metadata": {
    "colab": {
     "base_uri": "https://localhost:8080/"
    },
    "id": "Mh3M2Lttm8qH",
    "outputId": "3f31c9cb-cc3c-43ef-ea21-466b7098b9bf"
   },
   "outputs": [
    {
     "data": {
      "text/plain": [
       "[4.0, 2.0, 5.0, 1.0, 12.0, 33.0]"
      ]
     },
     "execution_count": 72,
     "metadata": {},
     "output_type": "execute_result"
    }
   ],
   "source": [
    "a_reconstructed = [w/v for v, w in a_square_tuples]\n",
    "a_reconstructed"
   ]
  },
  {
   "cell_type": "markdown",
   "metadata": {
    "id": "hjy1nsZngxAv"
   },
   "source": [
    "- We can generate dictionaries as follows using dictionary comprehension"
   ]
  },
  {
   "cell_type": "code",
   "execution_count": 73,
   "metadata": {
    "id": "oiZ-Fbkim8fF"
   },
   "outputs": [
    {
     "data": {
      "text/plain": [
       "{4: 16, 2: 4, 5: 25, 1: 1, 12: 144, 33: 1089}"
      ]
     },
     "execution_count": 73,
     "metadata": {},
     "output_type": "execute_result"
    }
   ],
   "source": [
    "a_square_dict = {v: v**2 for v in a}\n",
    "a_square_dict"
   ]
  },
  {
   "cell_type": "markdown",
   "metadata": {
    "id": "RMXJiuM8rkyk"
   },
   "source": [
    "### 3.4 While loop statement"
   ]
  },
  {
   "cell_type": "markdown",
   "metadata": {
    "id": "mJeLnIM4Wr1i"
   },
   "source": [
    "- Loops allow one to run the same code repeatedly while systematically changing specific variables\n",
    "- `while` loops will iteratively run the code as long as the loop condition is True\n",
    "- The code below, we initialize the variable x to be 0\n",
    "- The variable x is used in to control the flow of the loop\n",
    "- The following loop produces a sequence of integers starting at 0 up to 5 (not inclusive, so the count is to 4)"
   ]
  },
  {
   "cell_type": "code",
   "execution_count": 74,
   "metadata": {
    "colab": {
     "base_uri": "https://localhost:8080/"
    },
    "id": "ZgcgBXc_m1fC",
    "outputId": "f016f52c-fa07-4ecc-e06b-6ffbd1462ccd"
   },
   "outputs": [
    {
     "name": "stdout",
     "output_type": "stream",
     "text": [
      "0\n",
      "1\n",
      "2\n",
      "3\n",
      "4\n"
     ]
    }
   ],
   "source": [
    "x = 0\n",
    "\n",
    "while x <5: \n",
    "  print(x)\n",
    "  x += 1"
   ]
  },
  {
   "cell_type": "markdown",
   "metadata": {
    "id": "f7CMs6rpY3ey"
   },
   "source": [
    "- The following loop runs until `i` was no longer than `len(a)` i.e. the length of the list `a`\n",
    "- "
   ]
  },
  {
   "cell_type": "code",
   "execution_count": 75,
   "metadata": {
    "colab": {
     "base_uri": "https://localhost:8080/"
    },
    "id": "yHYZaOJmm1ZB",
    "outputId": "8786375f-c453-48fc-a29c-6833b252b8f5"
   },
   "outputs": [
    {
     "name": "stdout",
     "output_type": "stream",
     "text": [
      "a_squared generated: [16, 4, 25, 1, 144, 1089]\n"
     ]
    }
   ],
   "source": [
    "a = [4, 2, 5 ,1, 12, 33]\n",
    "a_squared = []\n",
    "i = 0 \n",
    "\n",
    "while i < len(a):\n",
    "  a_squared.append(a[i]**2)\n",
    "  i += 1\n",
    "print('a_squared generated: {}'.format(a_squared))"
   ]
  },
  {
   "cell_type": "code",
   "execution_count": 76,
   "metadata": {
    "colab": {
     "base_uri": "https://localhost:8080/"
    },
    "id": "KyZ0H8YNm4Ak",
    "outputId": "de0841a6-3ae4-49c5-df38-ecf744a064bf"
   },
   "outputs": [
    {
     "name": "stdout",
     "output_type": "stream",
     "text": [
      "17 is the largest factor of 34, \n",
      "2.0 times 17 equals 34\n"
     ]
    }
   ],
   "source": [
    "x = 34\n",
    "y = x - 1\n",
    "\n",
    "while True:\n",
    "  if x % y == 0:\n",
    "    break\n",
    "  y -= 1\n",
    "\n",
    "print('{y} is the largest factor of {x}, \\n{f2} times {y} equals {x}'.format(y = y, x = x, f2 = x/y))"
   ]
  }
 ],
 "metadata": {
  "colab": {
   "collapsed_sections": [
    "ehHGCIpgkFx1",
    "7wPPHnz7p-Fk",
    "mgY03qmLqUBG",
    "KycEVXCmqTt7",
    "nvg22pfBqSf_",
    "IcVtByCiqi_X",
    "CF5JxaPjqig6",
    "aMEm_s6vrDKk",
    "fB1LG66mrShX",
    "BYOpHGCRrkji",
    "nIbWojkVrkgU",
    "iM_gd9KZsonX"
   ],
   "name": "dso545_session01_Abbass.ipynb",
   "provenance": []
  },
  "kernelspec": {
   "display_name": "Python 3 (ipykernel)",
   "language": "python",
   "name": "python3"
  },
  "language_info": {
   "codemirror_mode": {
    "name": "ipython",
    "version": 3
   },
   "file_extension": ".py",
   "mimetype": "text/x-python",
   "name": "python",
   "nbconvert_exporter": "python",
   "pygments_lexer": "ipython3",
   "version": "3.11.4"
  }
 },
 "nbformat": 4,
 "nbformat_minor": 1
}
