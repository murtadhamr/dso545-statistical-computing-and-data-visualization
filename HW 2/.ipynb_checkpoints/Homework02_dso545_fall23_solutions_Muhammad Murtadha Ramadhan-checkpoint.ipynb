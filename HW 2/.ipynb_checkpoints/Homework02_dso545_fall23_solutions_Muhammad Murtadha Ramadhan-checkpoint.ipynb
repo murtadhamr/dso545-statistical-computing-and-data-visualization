{
 "cells": [
  {
   "cell_type": "markdown",
   "metadata": {
    "id": "ty_Gvth62Tav"
   },
   "source": [
    "# Homework 2\n",
    "\n",
    "### Due: Tuesday Sep 19, at 11:59pm via Blackboard\n"
   ]
  },
  {
   "cell_type": "markdown",
   "metadata": {},
   "source": [
    "A car dealership wants to understand their customers and their buying habbits. The data (`cardealership.csv`) represents a randsome sample of their sales. \n",
    "\n",
    "|**VARIABLE**|**DESCRIPTION**|\n",
    "|------------|---------------|\n",
    "| **Gender** | gender for customer |\n",
    "| **marital status** | is the customer 'Married' or 'Single'? |\n",
    "| **age** | age of the customer |\n",
    "| **country** | country make of the car |\n",
    "| **size** |  the size of the car they bought ('Small', 'Medium', 'Large') |\n",
    "| **type** | the type of the car they bought ('Family', 'Sporty', 'work') |"
   ]
  },
  {
   "cell_type": "code",
   "execution_count": 1,
   "metadata": {
    "tags": []
   },
   "outputs": [
    {
     "data": {
      "text/html": [
       "<div>\n",
       "<style scoped>\n",
       "    .dataframe tbody tr th:only-of-type {\n",
       "        vertical-align: middle;\n",
       "    }\n",
       "\n",
       "    .dataframe tbody tr th {\n",
       "        vertical-align: top;\n",
       "    }\n",
       "\n",
       "    .dataframe thead th {\n",
       "        text-align: right;\n",
       "    }\n",
       "</style>\n",
       "<table border=\"1\" class=\"dataframe\">\n",
       "  <thead>\n",
       "    <tr style=\"text-align: right;\">\n",
       "      <th></th>\n",
       "      <th>Gender</th>\n",
       "      <th>marital status</th>\n",
       "      <th>age</th>\n",
       "      <th>country</th>\n",
       "      <th>size</th>\n",
       "      <th>type</th>\n",
       "    </tr>\n",
       "  </thead>\n",
       "  <tbody>\n",
       "    <tr>\n",
       "      <th>0</th>\n",
       "      <td>Male</td>\n",
       "      <td>Married</td>\n",
       "      <td>34</td>\n",
       "      <td>American</td>\n",
       "      <td>Large</td>\n",
       "      <td>Family</td>\n",
       "    </tr>\n",
       "    <tr>\n",
       "      <th>1</th>\n",
       "      <td>Male</td>\n",
       "      <td>Single</td>\n",
       "      <td>36</td>\n",
       "      <td>Japanese</td>\n",
       "      <td>Small</td>\n",
       "      <td>Sporty</td>\n",
       "    </tr>\n",
       "    <tr>\n",
       "      <th>2</th>\n",
       "      <td>Male</td>\n",
       "      <td>Married</td>\n",
       "      <td>23</td>\n",
       "      <td>Japanese</td>\n",
       "      <td>Small</td>\n",
       "      <td>Family</td>\n",
       "    </tr>\n",
       "    <tr>\n",
       "      <th>3</th>\n",
       "      <td>Male</td>\n",
       "      <td>Single</td>\n",
       "      <td>29</td>\n",
       "      <td>American</td>\n",
       "      <td>Large</td>\n",
       "      <td>Family</td>\n",
       "    </tr>\n",
       "    <tr>\n",
       "      <th>4</th>\n",
       "      <td>Male</td>\n",
       "      <td>Married</td>\n",
       "      <td>39</td>\n",
       "      <td>American</td>\n",
       "      <td>Medium</td>\n",
       "      <td>Family</td>\n",
       "    </tr>\n",
       "  </tbody>\n",
       "</table>\n",
       "</div>"
      ],
      "text/plain": [
       "  Gender marital status  age   country    size    type\n",
       "0   Male        Married   34  American   Large  Family\n",
       "1   Male         Single   36  Japanese   Small  Sporty\n",
       "2   Male        Married   23  Japanese   Small  Family\n",
       "3   Male         Single   29  American   Large  Family\n",
       "4   Male        Married   39  American  Medium  Family"
      ]
     },
     "execution_count": 1,
     "metadata": {},
     "output_type": "execute_result"
    }
   ],
   "source": [
    "import pandas as pd\n",
    "import numpy as np\n",
    "\n",
    "df = pd.read_csv('cardealership.csv')\n",
    "df.head()"
   ]
  },
  {
   "cell_type": "code",
   "execution_count": 2,
   "metadata": {
    "tags": []
   },
   "outputs": [
    {
     "data": {
      "text/plain": [
       "6"
      ]
     },
     "execution_count": 2,
     "metadata": {},
     "output_type": "execute_result"
    }
   ],
   "source": [
    "df.shape[1]"
   ]
  },
  {
   "cell_type": "markdown",
   "metadata": {},
   "source": [
    "1. (1 point) Select all the married customers in the given dataset, and save it in a variable (`married_customers`). What is the percentage of married customers in the sample?"
   ]
  },
  {
   "cell_type": "markdown",
   "metadata": {},
   "source": [
    "### **Answer No 1**"
   ]
  },
  {
   "cell_type": "code",
   "execution_count": 3,
   "metadata": {
    "tags": []
   },
   "outputs": [
    {
     "data": {
      "text/plain": [
       "array(['Married', 'Single'], dtype=object)"
      ]
     },
     "execution_count": 3,
     "metadata": {},
     "output_type": "execute_result"
    }
   ],
   "source": [
    "df['marital status'].unique()"
   ]
  },
  {
   "cell_type": "code",
   "execution_count": 4,
   "metadata": {
    "tags": []
   },
   "outputs": [
    {
     "data": {
      "text/plain": [
       "marital status\n",
       "Married    64.686469\n",
       "Single     35.313531\n",
       "Name: proportion, dtype: float64"
      ]
     },
     "execution_count": 4,
     "metadata": {},
     "output_type": "execute_result"
    }
   ],
   "source": [
    "married_customers = df[df['marital status'] == 'Married']\n",
    "married_customers.head()\n",
    "\n",
    "df['marital status'].value_counts(normalize=True)*100"
   ]
  },
  {
   "cell_type": "code",
   "execution_count": 5,
   "metadata": {
    "tags": []
   },
   "outputs": [
    {
     "data": {
      "text/plain": [
       "0.6468646864686468"
      ]
     },
     "execution_count": 5,
     "metadata": {},
     "output_type": "execute_result"
    }
   ],
   "source": [
    "len(married_customers)/len(df)"
   ]
  },
  {
   "cell_type": "markdown",
   "metadata": {},
   "source": [
    "2. (1 point) Use a list comprehension to create a list with two age categories. The category is `Below or equal to 30` if `age <= 30`, otherwise the category is `Above 30`. Use the result from this question to compute the number of customers in each category."
   ]
  },
  {
   "cell_type": "markdown",
   "metadata": {},
   "source": [
    "### **Answer No 2**"
   ]
  },
  {
   "cell_type": "code",
   "execution_count": 6,
   "metadata": {
    "tags": []
   },
   "outputs": [
    {
     "data": {
      "text/html": [
       "<div>\n",
       "<style scoped>\n",
       "    .dataframe tbody tr th:only-of-type {\n",
       "        vertical-align: middle;\n",
       "    }\n",
       "\n",
       "    .dataframe tbody tr th {\n",
       "        vertical-align: top;\n",
       "    }\n",
       "\n",
       "    .dataframe thead th {\n",
       "        text-align: right;\n",
       "    }\n",
       "</style>\n",
       "<table border=\"1\" class=\"dataframe\">\n",
       "  <thead>\n",
       "    <tr style=\"text-align: right;\">\n",
       "      <th></th>\n",
       "      <th>Gender</th>\n",
       "      <th>marital status</th>\n",
       "      <th>age</th>\n",
       "      <th>country</th>\n",
       "      <th>size</th>\n",
       "      <th>type</th>\n",
       "      <th>Age Categories</th>\n",
       "    </tr>\n",
       "  </thead>\n",
       "  <tbody>\n",
       "    <tr>\n",
       "      <th>0</th>\n",
       "      <td>Male</td>\n",
       "      <td>Married</td>\n",
       "      <td>34</td>\n",
       "      <td>American</td>\n",
       "      <td>Large</td>\n",
       "      <td>Family</td>\n",
       "      <td>Above 30</td>\n",
       "    </tr>\n",
       "    <tr>\n",
       "      <th>1</th>\n",
       "      <td>Male</td>\n",
       "      <td>Single</td>\n",
       "      <td>36</td>\n",
       "      <td>Japanese</td>\n",
       "      <td>Small</td>\n",
       "      <td>Sporty</td>\n",
       "      <td>Above 30</td>\n",
       "    </tr>\n",
       "    <tr>\n",
       "      <th>2</th>\n",
       "      <td>Male</td>\n",
       "      <td>Married</td>\n",
       "      <td>23</td>\n",
       "      <td>Japanese</td>\n",
       "      <td>Small</td>\n",
       "      <td>Family</td>\n",
       "      <td>Below 30</td>\n",
       "    </tr>\n",
       "    <tr>\n",
       "      <th>3</th>\n",
       "      <td>Male</td>\n",
       "      <td>Single</td>\n",
       "      <td>29</td>\n",
       "      <td>American</td>\n",
       "      <td>Large</td>\n",
       "      <td>Family</td>\n",
       "      <td>Below 30</td>\n",
       "    </tr>\n",
       "    <tr>\n",
       "      <th>4</th>\n",
       "      <td>Male</td>\n",
       "      <td>Married</td>\n",
       "      <td>39</td>\n",
       "      <td>American</td>\n",
       "      <td>Medium</td>\n",
       "      <td>Family</td>\n",
       "      <td>Above 30</td>\n",
       "    </tr>\n",
       "    <tr>\n",
       "      <th>5</th>\n",
       "      <td>Male</td>\n",
       "      <td>Single</td>\n",
       "      <td>34</td>\n",
       "      <td>Japanese</td>\n",
       "      <td>Medium</td>\n",
       "      <td>Family</td>\n",
       "      <td>Above 30</td>\n",
       "    </tr>\n",
       "    <tr>\n",
       "      <th>6</th>\n",
       "      <td>Female</td>\n",
       "      <td>Married</td>\n",
       "      <td>42</td>\n",
       "      <td>American</td>\n",
       "      <td>Large</td>\n",
       "      <td>Family</td>\n",
       "      <td>Above 30</td>\n",
       "    </tr>\n",
       "    <tr>\n",
       "      <th>7</th>\n",
       "      <td>Female</td>\n",
       "      <td>Married</td>\n",
       "      <td>40</td>\n",
       "      <td>European</td>\n",
       "      <td>Medium</td>\n",
       "      <td>Family</td>\n",
       "      <td>Above 30</td>\n",
       "    </tr>\n",
       "    <tr>\n",
       "      <th>8</th>\n",
       "      <td>Male</td>\n",
       "      <td>Married</td>\n",
       "      <td>28</td>\n",
       "      <td>American</td>\n",
       "      <td>Medium</td>\n",
       "      <td>Sporty</td>\n",
       "      <td>Below 30</td>\n",
       "    </tr>\n",
       "    <tr>\n",
       "      <th>9</th>\n",
       "      <td>Female</td>\n",
       "      <td>Married</td>\n",
       "      <td>26</td>\n",
       "      <td>American</td>\n",
       "      <td>Medium</td>\n",
       "      <td>Family</td>\n",
       "      <td>Below 30</td>\n",
       "    </tr>\n",
       "  </tbody>\n",
       "</table>\n",
       "</div>"
      ],
      "text/plain": [
       "   Gender marital status  age   country    size    type Age Categories\n",
       "0    Male        Married   34  American   Large  Family       Above 30\n",
       "1    Male         Single   36  Japanese   Small  Sporty       Above 30\n",
       "2    Male        Married   23  Japanese   Small  Family       Below 30\n",
       "3    Male         Single   29  American   Large  Family       Below 30\n",
       "4    Male        Married   39  American  Medium  Family       Above 30\n",
       "5    Male         Single   34  Japanese  Medium  Family       Above 30\n",
       "6  Female        Married   42  American   Large  Family       Above 30\n",
       "7  Female        Married   40  European  Medium  Family       Above 30\n",
       "8    Male        Married   28  American  Medium  Sporty       Below 30\n",
       "9  Female        Married   26  American  Medium  Family       Below 30"
      ]
     },
     "execution_count": 6,
     "metadata": {},
     "output_type": "execute_result"
    }
   ],
   "source": [
    "df['Age Categories'] = ['Below 30' if x <= 30 else 'Above 30' for x in df['age']]\n",
    "df.head(10)"
   ]
  },
  {
   "cell_type": "code",
   "execution_count": 7,
   "metadata": {
    "tags": []
   },
   "outputs": [
    {
     "data": {
      "text/plain": [
       "Age Categories\n",
       "Below 30          159\n",
       "Above 30          144\n",
       "Name: count, dtype: int64"
      ]
     },
     "execution_count": 7,
     "metadata": {},
     "output_type": "execute_result"
    }
   ],
   "source": [
    "df[['Age Categories']].value_counts()"
   ]
  },
  {
   "cell_type": "markdown",
   "metadata": {},
   "source": [
    "3. (2 points) The current version of `Pandas` has 142 methods including (`DataFrame()`, `Series()`, `value_counts()`, etc.). In this question, you are expected to learn about the `cut()` method which allows you to categorize a numerical vector into user-defined categories. [Click here](https://pandas.pydata.org/docs/reference/api/pandas.cut.html) to learn more about the `cut` method.\n",
    "\n",
    "    - Use the `cut()` method to categorize the `age` variable into three buckets: `(0,30]`, `(30, 34]`, and `(34,60]`. (For this exercise, you don't have to add the new column to the original dataframe. You can save it in a seperate variable instead)\n",
    "    - Rename the labels of the buckets to the ones shown in the table below.  \n",
    "    - How many element are there in each category? \n",
    "\n",
    "\n",
    "\n",
    "<center> \n",
    "\n",
    "|bucket | label |\n",
    "|-------|-------|\n",
    "|(0,30] | Below 30 | \n",
    "|(30, 34]| Between 30 and 34|\n",
    "|(34,60]| Above 34|\n",
    "\n",
    "<center>\n",
    "\n",
    "\n"
   ]
  },
  {
   "cell_type": "markdown",
   "metadata": {},
   "source": [
    "### **Answer No 3**"
   ]
  },
  {
   "cell_type": "code",
   "execution_count": 8,
   "metadata": {
    "tags": []
   },
   "outputs": [
    {
     "data": {
      "text/html": [
       "<div>\n",
       "<style scoped>\n",
       "    .dataframe tbody tr th:only-of-type {\n",
       "        vertical-align: middle;\n",
       "    }\n",
       "\n",
       "    .dataframe tbody tr th {\n",
       "        vertical-align: top;\n",
       "    }\n",
       "\n",
       "    .dataframe thead th {\n",
       "        text-align: right;\n",
       "    }\n",
       "</style>\n",
       "<table border=\"1\" class=\"dataframe\">\n",
       "  <thead>\n",
       "    <tr style=\"text-align: right;\">\n",
       "      <th></th>\n",
       "      <th>Gender</th>\n",
       "      <th>marital status</th>\n",
       "      <th>age</th>\n",
       "      <th>country</th>\n",
       "      <th>size</th>\n",
       "      <th>type</th>\n",
       "      <th>Age Categories</th>\n",
       "      <th>bucket</th>\n",
       "      <th>label</th>\n",
       "    </tr>\n",
       "  </thead>\n",
       "  <tbody>\n",
       "    <tr>\n",
       "      <th>0</th>\n",
       "      <td>Male</td>\n",
       "      <td>Married</td>\n",
       "      <td>34</td>\n",
       "      <td>American</td>\n",
       "      <td>Large</td>\n",
       "      <td>Family</td>\n",
       "      <td>Above 30</td>\n",
       "      <td>(30, 34]</td>\n",
       "      <td>Between 30 and 34</td>\n",
       "    </tr>\n",
       "    <tr>\n",
       "      <th>1</th>\n",
       "      <td>Male</td>\n",
       "      <td>Single</td>\n",
       "      <td>36</td>\n",
       "      <td>Japanese</td>\n",
       "      <td>Small</td>\n",
       "      <td>Sporty</td>\n",
       "      <td>Above 30</td>\n",
       "      <td>(34, 60]</td>\n",
       "      <td>Above 34</td>\n",
       "    </tr>\n",
       "    <tr>\n",
       "      <th>2</th>\n",
       "      <td>Male</td>\n",
       "      <td>Married</td>\n",
       "      <td>23</td>\n",
       "      <td>Japanese</td>\n",
       "      <td>Small</td>\n",
       "      <td>Family</td>\n",
       "      <td>Below 30</td>\n",
       "      <td>(0, 30]</td>\n",
       "      <td>Below 30</td>\n",
       "    </tr>\n",
       "    <tr>\n",
       "      <th>3</th>\n",
       "      <td>Male</td>\n",
       "      <td>Single</td>\n",
       "      <td>29</td>\n",
       "      <td>American</td>\n",
       "      <td>Large</td>\n",
       "      <td>Family</td>\n",
       "      <td>Below 30</td>\n",
       "      <td>(0, 30]</td>\n",
       "      <td>Below 30</td>\n",
       "    </tr>\n",
       "    <tr>\n",
       "      <th>4</th>\n",
       "      <td>Male</td>\n",
       "      <td>Married</td>\n",
       "      <td>39</td>\n",
       "      <td>American</td>\n",
       "      <td>Medium</td>\n",
       "      <td>Family</td>\n",
       "      <td>Above 30</td>\n",
       "      <td>(34, 60]</td>\n",
       "      <td>Above 34</td>\n",
       "    </tr>\n",
       "  </tbody>\n",
       "</table>\n",
       "</div>"
      ],
      "text/plain": [
       "  Gender marital status  age   country    size    type Age Categories  \\\n",
       "0   Male        Married   34  American   Large  Family       Above 30   \n",
       "1   Male         Single   36  Japanese   Small  Sporty       Above 30   \n",
       "2   Male        Married   23  Japanese   Small  Family       Below 30   \n",
       "3   Male         Single   29  American   Large  Family       Below 30   \n",
       "4   Male        Married   39  American  Medium  Family       Above 30   \n",
       "\n",
       "     bucket              label  \n",
       "0  (30, 34]  Between 30 and 34  \n",
       "1  (34, 60]           Above 34  \n",
       "2   (0, 30]           Below 30  \n",
       "3   (0, 30]           Below 30  \n",
       "4  (34, 60]           Above 34  "
      ]
     },
     "execution_count": 8,
     "metadata": {},
     "output_type": "execute_result"
    }
   ],
   "source": [
    "df['bucket'] = pd.cut(x=df['age'], bins=[0, 30, 34, 60])\n",
    "df['label'] = pd.cut(x=df['age'], bins=[0, 30, 34, 60], labels=['Below 30', 'Between 30 and 34', 'Above 34'])\n",
    "df.head()"
   ]
  },
  {
   "cell_type": "code",
   "execution_count": 9,
   "metadata": {
    "tags": []
   },
   "outputs": [
    {
     "data": {
      "text/plain": [
       "label            \n",
       "Below 30             159\n",
       "Above 34              76\n",
       "Between 30 and 34     68\n",
       "Name: count, dtype: int64"
      ]
     },
     "execution_count": 9,
     "metadata": {},
     "output_type": "execute_result"
    }
   ],
   "source": [
    "df[['label']].value_counts()"
   ]
  },
  {
   "cell_type": "markdown",
   "metadata": {},
   "source": [
    "There are 159 elements for the age below 30, 76 elements for the age above 34 and 68 elements for the age between 30 and 34 "
   ]
  },
  {
   "cell_type": "markdown",
   "metadata": {},
   "source": [
    "4. (1 point) `Pandas` has another method called `qcut`, which allows you to categorize a numerical variable into equal-sized buckets based on quantiles. Use the `qcut()` method to categorize `age` into quartiles (4 buckets). [Click here](https://pandas.pydata.org/docs/reference/api/pandas.qcut.html) to learn more about the `cut` method"
   ]
  },
  {
   "cell_type": "markdown",
   "metadata": {},
   "source": [
    "### **Answer No 4**"
   ]
  },
  {
   "cell_type": "code",
   "execution_count": 10,
   "metadata": {
    "tags": []
   },
   "outputs": [
    {
     "data": {
      "text/html": [
       "<div>\n",
       "<style scoped>\n",
       "    .dataframe tbody tr th:only-of-type {\n",
       "        vertical-align: middle;\n",
       "    }\n",
       "\n",
       "    .dataframe tbody tr th {\n",
       "        vertical-align: top;\n",
       "    }\n",
       "\n",
       "    .dataframe thead th {\n",
       "        text-align: right;\n",
       "    }\n",
       "</style>\n",
       "<table border=\"1\" class=\"dataframe\">\n",
       "  <thead>\n",
       "    <tr style=\"text-align: right;\">\n",
       "      <th></th>\n",
       "      <th>Gender</th>\n",
       "      <th>marital status</th>\n",
       "      <th>age</th>\n",
       "      <th>country</th>\n",
       "      <th>size</th>\n",
       "      <th>type</th>\n",
       "      <th>Age Categories</th>\n",
       "      <th>bucket</th>\n",
       "      <th>label</th>\n",
       "      <th>qcut_bucket</th>\n",
       "    </tr>\n",
       "  </thead>\n",
       "  <tbody>\n",
       "    <tr>\n",
       "      <th>0</th>\n",
       "      <td>Male</td>\n",
       "      <td>Married</td>\n",
       "      <td>34</td>\n",
       "      <td>American</td>\n",
       "      <td>Large</td>\n",
       "      <td>Family</td>\n",
       "      <td>Above 30</td>\n",
       "      <td>(30, 34]</td>\n",
       "      <td>Between 30 and 34</td>\n",
       "      <td>(30.0, 34.5]</td>\n",
       "    </tr>\n",
       "    <tr>\n",
       "      <th>1</th>\n",
       "      <td>Male</td>\n",
       "      <td>Single</td>\n",
       "      <td>36</td>\n",
       "      <td>Japanese</td>\n",
       "      <td>Small</td>\n",
       "      <td>Sporty</td>\n",
       "      <td>Above 30</td>\n",
       "      <td>(34, 60]</td>\n",
       "      <td>Above 34</td>\n",
       "      <td>(34.5, 60.0]</td>\n",
       "    </tr>\n",
       "    <tr>\n",
       "      <th>2</th>\n",
       "      <td>Male</td>\n",
       "      <td>Married</td>\n",
       "      <td>23</td>\n",
       "      <td>Japanese</td>\n",
       "      <td>Small</td>\n",
       "      <td>Family</td>\n",
       "      <td>Below 30</td>\n",
       "      <td>(0, 30]</td>\n",
       "      <td>Below 30</td>\n",
       "      <td>(17.999, 26.0]</td>\n",
       "    </tr>\n",
       "    <tr>\n",
       "      <th>3</th>\n",
       "      <td>Male</td>\n",
       "      <td>Single</td>\n",
       "      <td>29</td>\n",
       "      <td>American</td>\n",
       "      <td>Large</td>\n",
       "      <td>Family</td>\n",
       "      <td>Below 30</td>\n",
       "      <td>(0, 30]</td>\n",
       "      <td>Below 30</td>\n",
       "      <td>(26.0, 30.0]</td>\n",
       "    </tr>\n",
       "    <tr>\n",
       "      <th>4</th>\n",
       "      <td>Male</td>\n",
       "      <td>Married</td>\n",
       "      <td>39</td>\n",
       "      <td>American</td>\n",
       "      <td>Medium</td>\n",
       "      <td>Family</td>\n",
       "      <td>Above 30</td>\n",
       "      <td>(34, 60]</td>\n",
       "      <td>Above 34</td>\n",
       "      <td>(34.5, 60.0]</td>\n",
       "    </tr>\n",
       "  </tbody>\n",
       "</table>\n",
       "</div>"
      ],
      "text/plain": [
       "  Gender marital status  age   country    size    type Age Categories  \\\n",
       "0   Male        Married   34  American   Large  Family       Above 30   \n",
       "1   Male         Single   36  Japanese   Small  Sporty       Above 30   \n",
       "2   Male        Married   23  Japanese   Small  Family       Below 30   \n",
       "3   Male         Single   29  American   Large  Family       Below 30   \n",
       "4   Male        Married   39  American  Medium  Family       Above 30   \n",
       "\n",
       "     bucket              label     qcut_bucket  \n",
       "0  (30, 34]  Between 30 and 34    (30.0, 34.5]  \n",
       "1  (34, 60]           Above 34    (34.5, 60.0]  \n",
       "2   (0, 30]           Below 30  (17.999, 26.0]  \n",
       "3   (0, 30]           Below 30    (26.0, 30.0]  \n",
       "4  (34, 60]           Above 34    (34.5, 60.0]  "
      ]
     },
     "execution_count": 10,
     "metadata": {},
     "output_type": "execute_result"
    }
   ],
   "source": [
    "df['qcut_bucket'] = pd.qcut(x=df['age'], q = 4)\n",
    "df.head()"
   ]
  },
  {
   "cell_type": "code",
   "execution_count": 11,
   "metadata": {
    "tags": []
   },
   "outputs": [
    {
     "data": {
      "text/plain": [
       "[(30.0, 34.5], (34.5, 60.0], (17.999, 26.0], (26.0, 30.0]]\n",
       "Categories (4, interval[float64, right]): [(17.999, 26.0] < (26.0, 30.0] < (30.0, 34.5] < (34.5, 60.0]]"
      ]
     },
     "execution_count": 11,
     "metadata": {},
     "output_type": "execute_result"
    }
   ],
   "source": [
    "df.qcut_bucket.unique()"
   ]
  },
  {
   "cell_type": "code",
   "execution_count": 12,
   "metadata": {
    "tags": []
   },
   "outputs": [
    {
     "data": {
      "text/plain": [
       "qcut_bucket   \n",
       "(17.999, 26.0]    85\n",
       "(34.5, 60.0]      76\n",
       "(26.0, 30.0]      74\n",
       "(30.0, 34.5]      68\n",
       "Name: count, dtype: int64"
      ]
     },
     "execution_count": 12,
     "metadata": {},
     "output_type": "execute_result"
    }
   ],
   "source": [
    "df[['qcut_bucket']].value_counts()"
   ]
  },
  {
   "cell_type": "markdown",
   "metadata": {},
   "source": [
    "5. (1 point) Using `pandas`, summarize the customer characteristics: `Gender`, `marital status` (using relative frequency tables) and `age` (using the `describe()` method). "
   ]
  },
  {
   "cell_type": "markdown",
   "metadata": {},
   "source": [
    "### **Answer No 5**"
   ]
  },
  {
   "cell_type": "code",
   "execution_count": 13,
   "metadata": {
    "tags": []
   },
   "outputs": [
    {
     "data": {
      "text/plain": [
       "marital status\n",
       "Married    64.686469\n",
       "Single     35.313531\n",
       "Name: proportion, dtype: float64"
      ]
     },
     "execution_count": 13,
     "metadata": {},
     "output_type": "execute_result"
    }
   ],
   "source": [
    "df['marital status'].value_counts(normalize=True)*100"
   ]
  },
  {
   "cell_type": "code",
   "execution_count": 14,
   "metadata": {
    "tags": []
   },
   "outputs": [
    {
     "data": {
      "text/plain": [
       "Gender\n",
       "Male      54.455446\n",
       "Female    45.544554\n",
       "Name: proportion, dtype: float64"
      ]
     },
     "execution_count": 14,
     "metadata": {},
     "output_type": "execute_result"
    }
   ],
   "source": [
    "df['Gender'].value_counts(normalize=True)*100"
   ]
  },
  {
   "cell_type": "code",
   "execution_count": 15,
   "metadata": {
    "tags": []
   },
   "outputs": [
    {
     "data": {
      "text/plain": [
       "count    303.000000\n",
       "mean      30.719472\n",
       "std        5.984294\n",
       "min       18.000000\n",
       "25%       26.000000\n",
       "50%       30.000000\n",
       "75%       34.500000\n",
       "max       60.000000\n",
       "Name: age, dtype: float64"
      ]
     },
     "execution_count": 15,
     "metadata": {},
     "output_type": "execute_result"
    }
   ],
   "source": [
    "df['age'].describe()"
   ]
  },
  {
   "cell_type": "markdown",
   "metadata": {},
   "source": [
    "6. (1 point) Using `pandas`, summarize the data on the cars sold: `country`, `size`, and `type` (using relative frequency tables)."
   ]
  },
  {
   "cell_type": "markdown",
   "metadata": {},
   "source": [
    "### **Answer No 6**"
   ]
  },
  {
   "cell_type": "code",
   "execution_count": 16,
   "metadata": {
    "tags": []
   },
   "outputs": [
    {
     "data": {
      "text/plain": [
       "country\n",
       "Japanese    48.844884\n",
       "American    37.953795\n",
       "European    13.201320\n",
       "Name: proportion, dtype: float64"
      ]
     },
     "execution_count": 16,
     "metadata": {},
     "output_type": "execute_result"
    }
   ],
   "source": [
    "df['country'].value_counts(normalize=True)*100"
   ]
  },
  {
   "cell_type": "code",
   "execution_count": 17,
   "metadata": {
    "tags": []
   },
   "outputs": [
    {
     "data": {
      "text/plain": [
       "size\n",
       "Small     45.214521\n",
       "Medium    40.924092\n",
       "Large     13.861386\n",
       "Name: proportion, dtype: float64"
      ]
     },
     "execution_count": 17,
     "metadata": {},
     "output_type": "execute_result"
    }
   ],
   "source": [
    "df['size'].value_counts(normalize=True)*100"
   ]
  },
  {
   "cell_type": "code",
   "execution_count": 18,
   "metadata": {
    "tags": []
   },
   "outputs": [
    {
     "data": {
      "text/plain": [
       "type\n",
       "Family    51.155116\n",
       "Sporty    33.003300\n",
       "Work      15.841584\n",
       "Name: proportion, dtype: float64"
      ]
     },
     "execution_count": 18,
     "metadata": {},
     "output_type": "execute_result"
    }
   ],
   "source": [
    "df['type'].value_counts(normalize=True)*100"
   ]
  },
  {
   "cell_type": "markdown",
   "metadata": {},
   "source": [
    "7. (1 point) Write a summary paragraph describing the customers and cars sold data. Round all numbers in this paragraph to nearest integers."
   ]
  },
  {
   "cell_type": "markdown",
   "metadata": {},
   "source": [
    "### **Answer No 7**"
   ]
  },
  {
   "cell_type": "code",
   "execution_count": 19,
   "metadata": {
    "tags": []
   },
   "outputs": [
    {
     "data": {
      "text/html": [
       "<div>\n",
       "<style scoped>\n",
       "    .dataframe tbody tr th:only-of-type {\n",
       "        vertical-align: middle;\n",
       "    }\n",
       "\n",
       "    .dataframe tbody tr th {\n",
       "        vertical-align: top;\n",
       "    }\n",
       "\n",
       "    .dataframe thead th {\n",
       "        text-align: right;\n",
       "    }\n",
       "</style>\n",
       "<table border=\"1\" class=\"dataframe\">\n",
       "  <thead>\n",
       "    <tr style=\"text-align: right;\">\n",
       "      <th></th>\n",
       "      <th>Gender</th>\n",
       "      <th>marital status</th>\n",
       "      <th>age</th>\n",
       "      <th>country</th>\n",
       "      <th>size</th>\n",
       "      <th>type</th>\n",
       "      <th>Age Categories</th>\n",
       "      <th>bucket</th>\n",
       "      <th>label</th>\n",
       "      <th>qcut_bucket</th>\n",
       "    </tr>\n",
       "  </thead>\n",
       "  <tbody>\n",
       "    <tr>\n",
       "      <th>0</th>\n",
       "      <td>Male</td>\n",
       "      <td>Married</td>\n",
       "      <td>34</td>\n",
       "      <td>American</td>\n",
       "      <td>Large</td>\n",
       "      <td>Family</td>\n",
       "      <td>Above 30</td>\n",
       "      <td>(30, 34]</td>\n",
       "      <td>Between 30 and 34</td>\n",
       "      <td>(30.0, 34.5]</td>\n",
       "    </tr>\n",
       "    <tr>\n",
       "      <th>1</th>\n",
       "      <td>Male</td>\n",
       "      <td>Single</td>\n",
       "      <td>36</td>\n",
       "      <td>Japanese</td>\n",
       "      <td>Small</td>\n",
       "      <td>Sporty</td>\n",
       "      <td>Above 30</td>\n",
       "      <td>(34, 60]</td>\n",
       "      <td>Above 34</td>\n",
       "      <td>(34.5, 60.0]</td>\n",
       "    </tr>\n",
       "    <tr>\n",
       "      <th>2</th>\n",
       "      <td>Male</td>\n",
       "      <td>Married</td>\n",
       "      <td>23</td>\n",
       "      <td>Japanese</td>\n",
       "      <td>Small</td>\n",
       "      <td>Family</td>\n",
       "      <td>Below 30</td>\n",
       "      <td>(0, 30]</td>\n",
       "      <td>Below 30</td>\n",
       "      <td>(17.999, 26.0]</td>\n",
       "    </tr>\n",
       "    <tr>\n",
       "      <th>3</th>\n",
       "      <td>Male</td>\n",
       "      <td>Single</td>\n",
       "      <td>29</td>\n",
       "      <td>American</td>\n",
       "      <td>Large</td>\n",
       "      <td>Family</td>\n",
       "      <td>Below 30</td>\n",
       "      <td>(0, 30]</td>\n",
       "      <td>Below 30</td>\n",
       "      <td>(26.0, 30.0]</td>\n",
       "    </tr>\n",
       "    <tr>\n",
       "      <th>4</th>\n",
       "      <td>Male</td>\n",
       "      <td>Married</td>\n",
       "      <td>39</td>\n",
       "      <td>American</td>\n",
       "      <td>Medium</td>\n",
       "      <td>Family</td>\n",
       "      <td>Above 30</td>\n",
       "      <td>(34, 60]</td>\n",
       "      <td>Above 34</td>\n",
       "      <td>(34.5, 60.0]</td>\n",
       "    </tr>\n",
       "  </tbody>\n",
       "</table>\n",
       "</div>"
      ],
      "text/plain": [
       "  Gender marital status  age   country    size    type Age Categories  \\\n",
       "0   Male        Married   34  American   Large  Family       Above 30   \n",
       "1   Male         Single   36  Japanese   Small  Sporty       Above 30   \n",
       "2   Male        Married   23  Japanese   Small  Family       Below 30   \n",
       "3   Male         Single   29  American   Large  Family       Below 30   \n",
       "4   Male        Married   39  American  Medium  Family       Above 30   \n",
       "\n",
       "     bucket              label     qcut_bucket  \n",
       "0  (30, 34]  Between 30 and 34    (30.0, 34.5]  \n",
       "1  (34, 60]           Above 34    (34.5, 60.0]  \n",
       "2   (0, 30]           Below 30  (17.999, 26.0]  \n",
       "3   (0, 30]           Below 30    (26.0, 30.0]  \n",
       "4  (34, 60]           Above 34    (34.5, 60.0]  "
      ]
     },
     "execution_count": 19,
     "metadata": {},
     "output_type": "execute_result"
    }
   ],
   "source": [
    "df.head()"
   ]
  },
  {
   "cell_type": "code",
   "execution_count": 20,
   "metadata": {
    "tags": []
   },
   "outputs": [
    {
     "data": {
      "text/html": [
       "<div>\n",
       "<style scoped>\n",
       "    .dataframe tbody tr th:only-of-type {\n",
       "        vertical-align: middle;\n",
       "    }\n",
       "\n",
       "    .dataframe tbody tr th {\n",
       "        vertical-align: top;\n",
       "    }\n",
       "\n",
       "    .dataframe thead th {\n",
       "        text-align: right;\n",
       "    }\n",
       "</style>\n",
       "<table border=\"1\" class=\"dataframe\">\n",
       "  <thead>\n",
       "    <tr style=\"text-align: right;\">\n",
       "      <th>marital status</th>\n",
       "      <th>Married</th>\n",
       "      <th>Single</th>\n",
       "    </tr>\n",
       "    <tr>\n",
       "      <th>Gender</th>\n",
       "      <th></th>\n",
       "      <th></th>\n",
       "    </tr>\n",
       "  </thead>\n",
       "  <tbody>\n",
       "    <tr>\n",
       "      <th>Female</th>\n",
       "      <td>0.313531</td>\n",
       "      <td>0.141914</td>\n",
       "    </tr>\n",
       "    <tr>\n",
       "      <th>Male</th>\n",
       "      <td>0.333333</td>\n",
       "      <td>0.211221</td>\n",
       "    </tr>\n",
       "  </tbody>\n",
       "</table>\n",
       "</div>"
      ],
      "text/plain": [
       "marital status   Married    Single\n",
       "Gender                            \n",
       "Female          0.313531  0.141914\n",
       "Male            0.333333  0.211221"
      ]
     },
     "execution_count": 20,
     "metadata": {},
     "output_type": "execute_result"
    }
   ],
   "source": [
    "df[['Gender', 'marital status']].value_counts(normalize=True).unstack()"
   ]
  },
  {
   "cell_type": "code",
   "execution_count": 21,
   "metadata": {
    "tags": []
   },
   "outputs": [
    {
     "data": {
      "text/plain": [
       "marital status\n",
       "Married    0.646865\n",
       "Single     0.353135\n",
       "Name: proportion, dtype: float64"
      ]
     },
     "execution_count": 21,
     "metadata": {},
     "output_type": "execute_result"
    }
   ],
   "source": [
    "df['marital status'].value_counts(normalize=True)"
   ]
  },
  {
   "cell_type": "code",
   "execution_count": 22,
   "metadata": {
    "tags": []
   },
   "outputs": [
    {
     "data": {
      "text/plain": [
       "Gender\n",
       "Male      0.544554\n",
       "Female    0.455446\n",
       "Name: proportion, dtype: float64"
      ]
     },
     "execution_count": 22,
     "metadata": {},
     "output_type": "execute_result"
    }
   ],
   "source": [
    "df['Gender'].value_counts(normalize=True)"
   ]
  },
  {
   "cell_type": "code",
   "execution_count": 23,
   "metadata": {
    "tags": []
   },
   "outputs": [
    {
     "data": {
      "text/plain": [
       "label\n",
       "Below 30             0.524752\n",
       "Above 34             0.250825\n",
       "Between 30 and 34    0.224422\n",
       "Name: proportion, dtype: float64"
      ]
     },
     "execution_count": 23,
     "metadata": {},
     "output_type": "execute_result"
    }
   ],
   "source": [
    "df['label'].value_counts(normalize=True)"
   ]
  },
  {
   "cell_type": "code",
   "execution_count": 24,
   "metadata": {
    "tags": []
   },
   "outputs": [
    {
     "data": {
      "text/plain": [
       "type\n",
       "Family    0.511551\n",
       "Sporty    0.330033\n",
       "Work      0.158416\n",
       "Name: proportion, dtype: float64"
      ]
     },
     "execution_count": 24,
     "metadata": {},
     "output_type": "execute_result"
    }
   ],
   "source": [
    "df['type'].value_counts(normalize=True)"
   ]
  },
  {
   "cell_type": "code",
   "execution_count": 25,
   "metadata": {
    "tags": []
   },
   "outputs": [
    {
     "data": {
      "text/plain": [
       "size\n",
       "Small     0.452145\n",
       "Medium    0.409241\n",
       "Large     0.138614\n",
       "Name: proportion, dtype: float64"
      ]
     },
     "execution_count": 25,
     "metadata": {},
     "output_type": "execute_result"
    }
   ],
   "source": [
    "df['size'].value_counts(normalize=True)"
   ]
  },
  {
   "cell_type": "code",
   "execution_count": 26,
   "metadata": {
    "tags": []
   },
   "outputs": [
    {
     "data": {
      "text/plain": [
       "country\n",
       "Japanese    0.488449\n",
       "American    0.379538\n",
       "European    0.132013\n",
       "Name: proportion, dtype: float64"
      ]
     },
     "execution_count": 26,
     "metadata": {},
     "output_type": "execute_result"
    }
   ],
   "source": [
    "df['country'].value_counts(normalize=True)"
   ]
  },
  {
   "cell_type": "markdown",
   "metadata": {},
   "source": [
    "### **Summary**\n",
    "The car buyers in this case is dominated by married people with almost 50:50 on the gender distribution between male and female. On the age perspective, the majority of buyers are coming from people with age below 30 covering 52% of the total buyers. Seeing the car type category, family type is dominant compared to the other types with 51% proportion and it has connection to the insight that the cars are mostly bought by the married people. In addition, the buyers mostly purchase small and medium car with 45% and 41% in proportion. Then, seeing the car origin, the car sold are mostly produced in Japan, covering 49% of total car sales."
   ]
  },
  {
   "cell_type": "markdown",
   "metadata": {},
   "source": [
    "8. (2 points) Create a bargraph that shows the distribution of car `type`. Your bargraph should be similar to the attached bargraph picture on blackboard ('CarsTypeDistribution.png'). In particular, make sure to:\n",
    "\n",
    "- Use default matplotlib plot style\n",
    "- Use % for the labels of the y-axis ticks\n",
    "- Use `lightgrey` for the bars color\n",
    "- Overlay a horizontal line (y=25). The line's style is \"dashed\", and the color is \"blue\""
   ]
  },
  {
   "cell_type": "markdown",
   "metadata": {
    "tags": []
   },
   "source": [
    "### **Answer No 8**"
   ]
  },
  {
   "cell_type": "code",
   "execution_count": 27,
   "metadata": {
    "tags": []
   },
   "outputs": [
    {
     "data": {
      "image/png": "[encoded data removed]",
      "text/plain": [
       "<Figure size 640x480 with 1 Axes>"
      ]
     },
     "metadata": {},
     "output_type": "display_data"
    }
   ],
   "source": [
    "import matplotlib.pyplot as plt\n",
    "import matplotlib.ticker as mtick\n",
    "\n",
    "df_chart = pd.DataFrame(df['type'].value_counts(normalize = True))\n",
    "df_chart['proportion'] = df_chart['proportion']*100\n",
    "labels = list(df_chart.index)\n",
    "\n",
    "ax = df_chart.plot(kind='bar', color = 'lightgrey', width = 0.8)\n",
    "ax.set_yticks(range(0, 55, 5))\n",
    "ax.yaxis.set_major_formatter(mtick.PercentFormatter())\n",
    "ax.set_xlabel('')\n",
    "ax.get_legend().remove()\n",
    "plt.axhline(y = 25, color = 'b', linestyle = '--')\n",
    "plt.title('Distribution of Cars by Type')\n",
    "ax.set_xticklabels(labels=labels, rotation = 360)\n",
    "\n",
    "plt.show()"
   ]
  }
 ],
 "metadata": {
  "colab": {
   "name": "Homework01-dso545-fall21.ipynb",
   "provenance": []
  },
  "interpreter": {
   "hash": "dca0ade3e726a953b501b15e8e990130d2b7799f14cfd9f4271676035ebe5511"
  },
  "kernelspec": {
   "display_name": "Python 3 (ipykernel)",
   "language": "python",
   "name": "python3"
  },
  "language_info": {
   "codemirror_mode": {
    "name": "ipython",
    "version": 3
   },
   "file_extension": ".py",
   "mimetype": "text/x-python",
   "name": "python",
   "nbconvert_exporter": "python",
   "pygments_lexer": "ipython3",
   "version": "3.11.4"
  },
  "varInspector": {
   "cols": {
    "lenName": 16,
    "lenType": 16,
    "lenVar": 40
   },
   "kernels_config": {
    "python": {
     "delete_cmd_postfix": "",
     "delete_cmd_prefix": "del ",
     "library": "var_list.py",
     "varRefreshCmd": "print(var_dic_list())"
    },
    "r": {
     "delete_cmd_postfix": ") ",
     "delete_cmd_prefix": "rm(",
     "library": "var_list.r",
     "varRefreshCmd": "cat(var_dic_list()) "
    }
   },
   "types_to_exclude": [
    "module",
    "function",
    "builtin_function_or_method",
    "instance",
    "_Feature"
   ],
   "window_display": false
  }
 },
 "nbformat": 4,
 "nbformat_minor": 4
}
