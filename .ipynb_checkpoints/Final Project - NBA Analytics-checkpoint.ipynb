{
 "cells": [
  {
   "cell_type": "code",
   "execution_count": 1,
   "id": "4c916b9a-3e63-4a55-8e5d-d840f751a756",
   "metadata": {
    "tags": []
   },
   "outputs": [
    {
     "ename": "ModuleNotFoundError",
     "evalue": "No module named 'BeautifulSoup'",
     "output_type": "error",
     "traceback": [
      "\u001b[0;31m---------------------------------------------------------------------------\u001b[0m",
      "\u001b[0;31mModuleNotFoundError\u001b[0m                       Traceback (most recent call last)",
      "Cell \u001b[0;32mIn[1], line 1\u001b[0m\n\u001b[0;32m----> 1\u001b[0m \u001b[38;5;28;01mfrom\u001b[39;00m \u001b[38;5;21;01mBeautifulSoup\u001b[39;00m \u001b[38;5;28;01mimport\u001b[39;00m BeautifulSoup \u001b[38;5;28;01mas\u001b[39;00m BS\n\u001b[1;32m      2\u001b[0m \u001b[38;5;28;01mimport\u001b[39;00m \u001b[38;5;21;01murllib2\u001b[39;00m\n\u001b[1;32m      3\u001b[0m html \u001b[38;5;241m=\u001b[39m urllib2\u001b[38;5;241m.\u001b[39murlopen(\u001b[38;5;124m'\u001b[39m\u001b[38;5;124mhttps://www.basketball-reference.com/contracts/players.html#player-contracts\u001b[39m\u001b[38;5;124m'\u001b[39m)\n",
      "\u001b[0;31mModuleNotFoundError\u001b[0m: No module named 'BeautifulSoup'"
     ]
    }
   ],
   "source": [
    "from BeautifulSoup import BeautifulSoup as BS\n",
    "import urllib2\n",
    "html = urllib2.urlopen('https://www.basketball-reference.com/contracts/players.html#player-contracts')\n",
    "soup = BS(html)\n",
    "elem = soup.findAll('a', {'title': 'title here'})\n",
    "elem[0].text"
   ]
  },
  {
   "cell_type": "code",
   "execution_count": 12,
   "id": "33f38ac6-73eb-4c5a-bae5-88132858311a",
   "metadata": {
    "tags": []
   },
   "outputs": [],
   "source": [
    "import nba_api.stats.library.data as nba_data\n",
    "import pandas as pd"
   ]
  },
  {
   "cell_type": "code",
   "execution_count": 25,
   "id": "d3f5d687-45b0-4b10-8e63-941f76e0de25",
   "metadata": {
    "tags": []
   },
   "outputs": [
    {
     "data": {
      "text/html": [
       "<div>\n",
       "<style scoped>\n",
       "    .dataframe tbody tr th:only-of-type {\n",
       "        vertical-align: middle;\n",
       "    }\n",
       "\n",
       "    .dataframe tbody tr th {\n",
       "        vertical-align: top;\n",
       "    }\n",
       "\n",
       "    .dataframe thead th {\n",
       "        text-align: right;\n",
       "    }\n",
       "</style>\n",
       "<table border=\"1\" class=\"dataframe\">\n",
       "  <thead>\n",
       "    <tr style=\"text-align: right;\">\n",
       "      <th></th>\n",
       "      <th>player_id</th>\n",
       "      <th>last_name</th>\n",
       "      <th>first_name</th>\n",
       "      <th>full_name</th>\n",
       "      <th>is_active</th>\n",
       "    </tr>\n",
       "  </thead>\n",
       "  <tbody>\n",
       "    <tr>\n",
       "      <th>0</th>\n",
       "      <td>76001</td>\n",
       "      <td>Abdelnaby</td>\n",
       "      <td>Alaa</td>\n",
       "      <td>Alaa Abdelnaby</td>\n",
       "      <td>False</td>\n",
       "    </tr>\n",
       "    <tr>\n",
       "      <th>1</th>\n",
       "      <td>76002</td>\n",
       "      <td>Abdul-Aziz</td>\n",
       "      <td>Zaid</td>\n",
       "      <td>Zaid Abdul-Aziz</td>\n",
       "      <td>False</td>\n",
       "    </tr>\n",
       "    <tr>\n",
       "      <th>2</th>\n",
       "      <td>76003</td>\n",
       "      <td>Abdul-Jabbar</td>\n",
       "      <td>Kareem</td>\n",
       "      <td>Kareem Abdul-Jabbar</td>\n",
       "      <td>False</td>\n",
       "    </tr>\n",
       "    <tr>\n",
       "      <th>3</th>\n",
       "      <td>51</td>\n",
       "      <td>Abdul-Rauf</td>\n",
       "      <td>Mahmoud</td>\n",
       "      <td>Mahmoud Abdul-Rauf</td>\n",
       "      <td>False</td>\n",
       "    </tr>\n",
       "    <tr>\n",
       "      <th>4</th>\n",
       "      <td>1505</td>\n",
       "      <td>Abdul-Wahad</td>\n",
       "      <td>Tariq</td>\n",
       "      <td>Tariq Abdul-Wahad</td>\n",
       "      <td>False</td>\n",
       "    </tr>\n",
       "  </tbody>\n",
       "</table>\n",
       "</div>"
      ],
      "text/plain": [
       "   player_id     last_name first_name            full_name  is_active\n",
       "0      76001     Abdelnaby       Alaa       Alaa Abdelnaby      False\n",
       "1      76002    Abdul-Aziz       Zaid      Zaid Abdul-Aziz      False\n",
       "2      76003  Abdul-Jabbar     Kareem  Kareem Abdul-Jabbar      False\n",
       "3         51    Abdul-Rauf    Mahmoud   Mahmoud Abdul-Rauf      False\n",
       "4       1505   Abdul-Wahad      Tariq    Tariq Abdul-Wahad      False"
      ]
     },
     "execution_count": 25,
     "metadata": {},
     "output_type": "execute_result"
    }
   ],
   "source": [
    "player_list = nba_data\n",
    "player_list.players\n",
    "df_player_list = pd.DataFrame(player_list.players, columns=['player_id', 'last_name', 'first_name', 'full_name', 'is_active'])\n",
    "df_player_list.head()"
   ]
  },
  {
   "cell_type": "code",
   "execution_count": 27,
   "id": "90e8329c-3fc7-4439-b318-d6b7cdbc3460",
   "metadata": {
    "tags": []
   },
   "outputs": [
    {
     "data": {
      "text/plain": [
       "array([ True])"
      ]
     },
     "execution_count": 27,
     "metadata": {},
     "output_type": "execute_result"
    }
   ],
   "source": [
    "df_active_player_list = df_player_list.copy()[df_player_list.is_active == True]\n",
    "df_active_player_list.is_active.unique()"
   ]
  },
  {
   "cell_type": "code",
   "execution_count": 28,
   "id": "303790b2-6517-46a3-8d27-3e2ed150f132",
   "metadata": {
    "tags": []
   },
   "outputs": [
    {
     "name": "stdout",
     "output_type": "stream",
     "text": [
      "<class 'pandas.core.frame.DataFrame'>\n",
      "Index: 616 entries, 10 to 4938\n",
      "Data columns (total 5 columns):\n",
      " #   Column      Non-Null Count  Dtype \n",
      "---  ------      --------------  ----- \n",
      " 0   player_id   616 non-null    int64 \n",
      " 1   last_name   616 non-null    object\n",
      " 2   first_name  616 non-null    object\n",
      " 3   full_name   616 non-null    object\n",
      " 4   is_active   616 non-null    bool  \n",
      "dtypes: bool(1), int64(1), object(3)\n",
      "memory usage: 24.7+ KB\n"
     ]
    }
   ],
   "source": [
    "df_active_player_list.info()"
   ]
  },
  {
   "cell_type": "code",
   "execution_count": null,
   "id": "bb8c48eb-701a-4506-a1d5-464b06a02834",
   "metadata": {},
   "outputs": [],
   "source": [
    "# Nikola Jokić\n",
    "career = playercareerstats.PlayerCareerStats(player_id='203999') \n",
    "\n",
    "# pandas data frames (optional: pip install pandas)\n",
    "career.get_data_frames()[0]\n",
    "\n",
    "# json\n",
    "career.get_json()\n",
    "\n",
    "# dictionary\n",
    "career.get_dict()"
   ]
  },
  {
   "cell_type": "code",
   "execution_count": 11,
   "id": "f4f48ebb-1425-4c8e-9ad2-3c3507cd6366",
   "metadata": {
    "tags": []
   },
   "outputs": [
    {
     "ename": "TypeError",
     "evalue": "Endpoint.get_data_frames() missing 1 required positional argument: 'self'",
     "output_type": "error",
     "traceback": [
      "\u001b[0;31m---------------------------------------------------------------------------\u001b[0m",
      "\u001b[0;31mTypeError\u001b[0m                                 Traceback (most recent call last)",
      "Cell \u001b[0;32mIn[11], line 3\u001b[0m\n\u001b[1;32m      1\u001b[0m player \u001b[38;5;241m=\u001b[39m nba\u001b[38;5;241m.\u001b[39mPlayerProfileV2\n\u001b[0;32m----> 3\u001b[0m player\u001b[38;5;241m.\u001b[39mget_data_frames()\n",
      "\u001b[0;31mTypeError\u001b[0m: Endpoint.get_data_frames() missing 1 required positional argument: 'self'"
     ]
    }
   ],
   "source": [
    "player = nba.Pla\n",
    "\n",
    "player.get_data_frames()"
   ]
  },
  {
   "cell_type": "code",
   "execution_count": 5,
   "id": "85626c62-1f81-4971-bfba-7fdef4af795a",
   "metadata": {
    "tags": []
   },
   "outputs": [
    {
     "data": {
      "text/plain": [
       "{'meta': {'version': 1,\n",
       "  'request': 'https://nba-prod-us-east-1-mediaops-stats.s3.amazonaws.com/NBA/liveData/scoreboard/todaysScoreboard_00.json',\n",
       "  'time': '2023-10-24 07:32:03.323',\n",
       "  'code': 200},\n",
       " 'scoreboard': {'gameDate': '2023-10-24',\n",
       "  'leagueId': '00',\n",
       "  'leagueName': 'National Basketball Association',\n",
       "  'games': [{'gameId': '0022300061',\n",
       "    'gameCode': '20231024/LALDEN',\n",
       "    'gameStatus': 1,\n",
       "    'gameStatusText': '7:30 pm ET',\n",
       "    'period': 0,\n",
       "    'gameClock': '',\n",
       "    'gameTimeUTC': '2023-10-24T23:30:00Z',\n",
       "    'gameEt': '2023-10-24T19:30:00Z',\n",
       "    'regulationPeriods': 4,\n",
       "    'ifNecessary': False,\n",
       "    'seriesGameNumber': '',\n",
       "    'seriesText': '',\n",
       "    'seriesConference': '',\n",
       "    'poRoundDesc': '',\n",
       "    'gameSubtype': '',\n",
       "    'homeTeam': {'teamId': 1610612743,\n",
       "     'teamName': 'Nuggets',\n",
       "     'teamCity': 'Denver',\n",
       "     'teamTricode': 'DEN',\n",
       "     'wins': 0,\n",
       "     'losses': 0,\n",
       "     'score': 0,\n",
       "     'seed': None,\n",
       "     'inBonus': None,\n",
       "     'timeoutsRemaining': 0,\n",
       "     'periods': [{'period': 1, 'periodType': 'REGULAR', 'score': 0},\n",
       "      {'period': 2, 'periodType': 'REGULAR', 'score': 0},\n",
       "      {'period': 3, 'periodType': 'REGULAR', 'score': 0},\n",
       "      {'period': 4, 'periodType': 'REGULAR', 'score': 0}]},\n",
       "    'awayTeam': {'teamId': 1610612747,\n",
       "     'teamName': 'Lakers',\n",
       "     'teamCity': 'Los Angeles',\n",
       "     'teamTricode': 'LAL',\n",
       "     'wins': 0,\n",
       "     'losses': 0,\n",
       "     'score': 0,\n",
       "     'seed': None,\n",
       "     'inBonus': None,\n",
       "     'timeoutsRemaining': 0,\n",
       "     'periods': [{'period': 1, 'periodType': 'REGULAR', 'score': 0},\n",
       "      {'period': 2, 'periodType': 'REGULAR', 'score': 0},\n",
       "      {'period': 3, 'periodType': 'REGULAR', 'score': 0},\n",
       "      {'period': 4, 'periodType': 'REGULAR', 'score': 0}]},\n",
       "    'gameLeaders': {'homeLeaders': {'personId': 0,\n",
       "      'name': '',\n",
       "      'jerseyNum': '',\n",
       "      'position': '',\n",
       "      'teamTricode': 'DEN',\n",
       "      'playerSlug': None,\n",
       "      'points': 0,\n",
       "      'rebounds': 0,\n",
       "      'assists': 0},\n",
       "     'awayLeaders': {'personId': 0,\n",
       "      'name': '',\n",
       "      'jerseyNum': '',\n",
       "      'position': '',\n",
       "      'teamTricode': 'LAL',\n",
       "      'playerSlug': None,\n",
       "      'points': 0,\n",
       "      'rebounds': 0,\n",
       "      'assists': 0}},\n",
       "    'pbOdds': {'team': None, 'odds': 0.0, 'suspended': 0}},\n",
       "   {'gameId': '0022300062',\n",
       "    'gameCode': '20231024/PHXGSW',\n",
       "    'gameStatus': 1,\n",
       "    'gameStatusText': '10:00 pm ET',\n",
       "    'period': 0,\n",
       "    'gameClock': '',\n",
       "    'gameTimeUTC': '2023-10-25T02:00:00Z',\n",
       "    'gameEt': '2023-10-24T22:00:00Z',\n",
       "    'regulationPeriods': 4,\n",
       "    'ifNecessary': False,\n",
       "    'seriesGameNumber': '',\n",
       "    'seriesText': '',\n",
       "    'seriesConference': '',\n",
       "    'poRoundDesc': '',\n",
       "    'gameSubtype': '',\n",
       "    'homeTeam': {'teamId': 1610612744,\n",
       "     'teamName': 'Warriors',\n",
       "     'teamCity': 'Golden State',\n",
       "     'teamTricode': 'GSW',\n",
       "     'wins': 0,\n",
       "     'losses': 0,\n",
       "     'score': 0,\n",
       "     'seed': None,\n",
       "     'inBonus': None,\n",
       "     'timeoutsRemaining': 0,\n",
       "     'periods': [{'period': 1, 'periodType': 'REGULAR', 'score': 0},\n",
       "      {'period': 2, 'periodType': 'REGULAR', 'score': 0},\n",
       "      {'period': 3, 'periodType': 'REGULAR', 'score': 0},\n",
       "      {'period': 4, 'periodType': 'REGULAR', 'score': 0}]},\n",
       "    'awayTeam': {'teamId': 1610612756,\n",
       "     'teamName': 'Suns',\n",
       "     'teamCity': 'Phoenix',\n",
       "     'teamTricode': 'PHX',\n",
       "     'wins': 0,\n",
       "     'losses': 0,\n",
       "     'score': 0,\n",
       "     'seed': None,\n",
       "     'inBonus': None,\n",
       "     'timeoutsRemaining': 0,\n",
       "     'periods': [{'period': 1, 'periodType': 'REGULAR', 'score': 0},\n",
       "      {'period': 2, 'periodType': 'REGULAR', 'score': 0},\n",
       "      {'period': 3, 'periodType': 'REGULAR', 'score': 0},\n",
       "      {'period': 4, 'periodType': 'REGULAR', 'score': 0}]},\n",
       "    'gameLeaders': {'homeLeaders': {'personId': 0,\n",
       "      'name': '',\n",
       "      'jerseyNum': '',\n",
       "      'position': '',\n",
       "      'teamTricode': 'GSW',\n",
       "      'playerSlug': None,\n",
       "      'points': 0,\n",
       "      'rebounds': 0,\n",
       "      'assists': 0},\n",
       "     'awayLeaders': {'personId': 0,\n",
       "      'name': '',\n",
       "      'jerseyNum': '',\n",
       "      'position': '',\n",
       "      'teamTricode': 'PHX',\n",
       "      'playerSlug': None,\n",
       "      'points': 0,\n",
       "      'rebounds': 0,\n",
       "      'assists': 0}},\n",
       "    'pbOdds': {'team': None, 'odds': 0.0, 'suspended': 0}}]}}"
      ]
     },
     "execution_count": 5,
     "metadata": {},
     "output_type": "execute_result"
    }
   ],
   "source": [
    "from nba_api.live.nba.endpoints import scoreboard\n",
    "\n",
    "# Today's Score Board\n",
    "games = scoreboard.ScoreBoard()\n",
    "\n",
    "# json\n",
    "games.get_json()\n",
    "\n",
    "# dictionary\n",
    "games.get_dict()"
   ]
  }
 ],
 "metadata": {
  "kernelspec": {
   "display_name": "Python 3 (ipykernel)",
   "language": "python",
   "name": "python3"
  },
  "language_info": {
   "codemirror_mode": {
    "name": "ipython",
    "version": 3
   },
   "file_extension": ".py",
   "mimetype": "text/x-python",
   "name": "python",
   "nbconvert_exporter": "python",
   "pygments_lexer": "ipython3",
   "version": "3.11.4"
  }
 },
 "nbformat": 4,
 "nbformat_minor": 5
}
