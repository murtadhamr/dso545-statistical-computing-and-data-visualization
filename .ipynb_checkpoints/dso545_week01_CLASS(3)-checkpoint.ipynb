{
 "cells": [
  {
   "cell_type": "markdown",
   "metadata": {
    "id": "rnjBziHYnFwH"
   },
   "source": [
    "# Week 1: Overview of Python"
   ]
  },
  {
   "cell_type": "markdown",
   "metadata": {},
   "source": [
    "**Sources:**\n",
    "\n",
    "- Python for Marketing Reserach and Analytics. J. Schwarz, C. Chapman, and E.M. Feit. Springer 2020."
   ]
  },
  {
   "cell_type": "markdown",
   "metadata": {
    "id": "ehHGCIpgkFx1"
   },
   "source": [
    "## 1. A quick tour of Python data analysis capabilities"
   ]
  },
  {
   "cell_type": "markdown",
   "metadata": {
    "id": "x0E9cFcoFYPK"
   },
   "source": [
    "This dataset represents observations from a simple sales and product satisfaction survey. It has 500 (simulated) consumers’ answers to a survey with 4 items asking about satisfaction with a product (iProdSAT), sales experience (iSalesSAT), and likelihood to recommend the product and salesperson (iProdREC and iSalesREC respectively). Each respondent is also assigned to a numerically coded segment (Segment). In the third line of code above, we set Segment to be a categorical type variable."
   ]
  },
  {
   "cell_type": "code",
   "execution_count": null,
   "metadata": {
    "colab": {
     "base_uri": "https://localhost:8080/",
     "height": 204
    },
    "id": "E5CCxchlkbEP",
    "outputId": "cb63921c-05b7-4c67-82e3-bac90f25d2b6"
   },
   "outputs": [],
   "source": [
    "sat_df = pd.read_csv('chapter2_data.csv')\n",
    "sat_df.head()\n",
    "\n",
    "# The dataset represents results from a sales and product satisfaction survey (500 consumers)\n",
    "# iProdSAT: product satisfaction\n",
    "# iSalesSAT: experience with the sales person\n",
    "# Segment: each respondent is assigned a numerically coded segment \n",
    "# iProdREC: likelihood to recommend the product\n",
    "# iSalesREC: likelihood to ecommend the same sales person\n"
   ]
  },
  {
   "cell_type": "code",
   "execution_count": null,
   "metadata": {
    "colab": {
     "base_uri": "https://localhost:8080/",
     "height": 297
    },
    "id": "4MttzEsMlDkq",
    "outputId": "c1bffef0-dc14-4a44-c548-73313781afda"
   },
   "outputs": [],
   "source": [
    "sat_df.describe()"
   ]
  },
  {
   "cell_type": "markdown",
   "metadata": {
    "id": "riHEcSaaFlnH"
   },
   "source": [
    "The resulting chart is shown in the figure below as a heatmap. The satisfaction items are highly correlated with one another, as are the likelihood-to-recommend items."
   ]
  },
  {
   "cell_type": "code",
   "execution_count": null,
   "metadata": {
    "colab": {
     "base_uri": "https://localhost:8080/",
     "height": 286
    },
    "id": "uMqOh8pglG6w",
    "outputId": "1431bdf3-f89a-42a3-99d8-d0a4e3f05e5f"
   },
   "outputs": [],
   "source": [
    "import seaborn as sns\n",
    "sns.heatmap(sat_df.corr())\n",
    "# The satisfaction items are highly correlated with one another, as are the likelihood-to-recommend items."
   ]
  },
  {
   "cell_type": "markdown",
   "metadata": {
    "id": "Mj4Z0wgxFs-l"
   },
   "source": [
    "Does product satisfaction differ by segment? We compute the mean satisfaction for each segment using the groupby() method:"
   ]
  },
  {
   "cell_type": "code",
   "execution_count": null,
   "metadata": {
    "colab": {
     "base_uri": "https://localhost:8080/"
    },
    "id": "dI4-yyxXnUSo",
    "outputId": "7f37893d-e7a4-4bce-82db-d4281a7a8c9a"
   },
   "outputs": [],
   "source": [
    "# Does product satisfaction differ by segment? \n",
    "sat_df.groupby('Segment').iProdSAT.mean()"
   ]
  },
  {
   "cell_type": "code",
   "execution_count": null,
   "metadata": {
    "colab": {
     "base_uri": "https://localhost:8080/",
     "height": 204
    },
    "id": "IFnm63Qrkt9Q",
    "outputId": "654cbe73-ee04-4273-daaf-05e1755520ac"
   },
   "outputs": [],
   "source": [
    "sat_df.Segment = sat_df.Segment.astype(pd.api.types.CategoricalDtype())\n",
    "sat_df.head()"
   ]
  },
  {
   "cell_type": "markdown",
   "metadata": {
    "id": "jaqz0BoqF1T3"
   },
   "source": [
    "Segment 4 has the highest level of satisfaction, but are the differences statistically significant? We perform a oneway analysis of variance (ANOVA) and see in the PR column that satisfaction differs significantly by segment:"
   ]
  },
  {
   "cell_type": "code",
   "execution_count": null,
   "metadata": {
    "colab": {
     "base_uri": "https://localhost:8080/",
     "height": 111
    },
    "id": "i_q3qosfoKKt",
    "outputId": "49a3363e-5f7a-45fc-c9a4-d5ddb2f8c2fb"
   },
   "outputs": [],
   "source": [
    "# Segment 4 has the highest level of satisfaction, but are the differences statistically significant? \n",
    "# We perform a oneway analysis of variance (ANOVA)\n",
    "import statsmodels.formula.api as smf\n",
    "from statsmodels.stats import anova as sms_anova \n",
    "\n",
    "segment_psat_lm = smf.ols('iProdSAT ~ -1 + Segment',\n",
    "                          data=sat_df).fit() \n",
    "\n",
    "sms_anova.anova_lm(segment_psat_lm)"
   ]
  },
  {
   "cell_type": "markdown",
   "metadata": {
    "id": "Jv9SMgNVF9JW"
   },
   "source": [
    "We plot the coefficients and confidence intervals from the ANOVA model to visualize confidence intervals for mean product satisfaction by segment:"
   ]
  },
  {
   "cell_type": "code",
   "execution_count": null,
   "metadata": {
    "colab": {
     "base_uri": "https://localhost:8080/",
     "height": 282
    },
    "id": "dHqFKQDkohOT",
    "outputId": "bc2e4069-d4b6-4004-e340-5c112a3f9449"
   },
   "outputs": [],
   "source": [
    "# We plot the coefficients and confidence intervals from the ANOVA model to visualize confidence intervals\n",
    "# for mean product satisfaction by segment\n",
    "\n",
    "import matplotlib.pyplot as plt\n",
    "plt.errorbar(y=segment_psat_lm.params.index,\n",
    "             x=segment_psat_lm.params.values,\n",
    "             xerr=segment_psat_lm.conf_int()[1].T\n",
    "                  - segment_psat_lm.params,\n",
    "             fmt='ko')"
   ]
  },
  {
   "cell_type": "markdown",
   "metadata": {
    "heading_collapsed": true,
    "id": "42pJz3wBpyZC"
   },
   "source": [
    "## 2. Basic Python Types"
   ]
  },
  {
   "cell_type": "markdown",
   "metadata": {
    "hidden": true,
    "id": "NYeSN9bMIQXe"
   },
   "source": [
    "- Almost all entities in python are objects (strings, classes, functions, etc.)\n",
    "- Python is a weakly typed or dynamically typed language which means: (1) flexibility to change an object's type (e.g. from numeric to string), and (2) many basic operators are overloaded (e.g the + operator)\n",
    "\n"
   ]
  },
  {
   "cell_type": "markdown",
   "metadata": {
    "heading_collapsed": true,
    "hidden": true,
    "id": "mgY03qmLqUBG"
   },
   "source": [
    "### 2.1 Numeric Types"
   ]
  },
  {
   "cell_type": "markdown",
   "metadata": {
    "hidden": true,
    "id": "kyq09KYsJMlo"
   },
   "source": [
    "- Python has three built-in numeric types: int, float, and complex\n",
    "- float: floating-point numbers, i.e. real numbers. floats can represent decimal values unlike integers int\n",
    "- ints are more memory efficient\n",
    "- complex: represent complex numbers that include an imaginary component"
   ]
  },
  {
   "cell_type": "code",
   "execution_count": null,
   "metadata": {
    "colab": {
     "base_uri": "https://localhost:8080/"
    },
    "hidden": true,
    "id": "X-NLK0QZfPNa",
    "outputId": "87df1d03-ee1d-4c98-ad8f-8dd84a572e2e"
   },
   "outputs": [],
   "source": [
    "# int\n"
   ]
  },
  {
   "cell_type": "code",
   "execution_count": null,
   "metadata": {
    "colab": {
     "base_uri": "https://localhost:8080/"
    },
    "hidden": true,
    "id": "M2-LG5rFfevc",
    "outputId": "acc6b62e-5d06-4f41-f81b-a2d6766b6713"
   },
   "outputs": [],
   "source": []
  },
  {
   "cell_type": "code",
   "execution_count": null,
   "metadata": {
    "colab": {
     "base_uri": "https://localhost:8080/"
    },
    "hidden": true,
    "id": "7KHk5NaffReC",
    "outputId": "ae22da5f-7c26-4b5b-8160-fb84fc9ced5d"
   },
   "outputs": [],
   "source": [
    "# float\n"
   ]
  },
  {
   "cell_type": "code",
   "execution_count": null,
   "metadata": {
    "colab": {
     "base_uri": "https://localhost:8080/"
    },
    "hidden": true,
    "id": "wtPwohnQfRYV",
    "outputId": "2b6202c9-c91a-4b00-d546-72b0e0e7deae"
   },
   "outputs": [],
   "source": []
  },
  {
   "cell_type": "code",
   "execution_count": null,
   "metadata": {
    "colab": {
     "base_uri": "https://localhost:8080/"
    },
    "hidden": true,
    "id": "rCPYaDiFKF6s",
    "outputId": "333b7f1d-ec39-40bd-ac13-a9055ecf3bd3"
   },
   "outputs": [],
   "source": []
  },
  {
   "cell_type": "code",
   "execution_count": null,
   "metadata": {
    "colab": {
     "base_uri": "https://localhost:8080/"
    },
    "hidden": true,
    "id": "ZWw5ReQ7fRSj",
    "outputId": "036ed9c3-9335-4e5d-d0d7-bae90552a72b"
   },
   "outputs": [],
   "source": []
  },
  {
   "cell_type": "markdown",
   "metadata": {
    "heading_collapsed": true,
    "hidden": true,
    "id": "KycEVXCmqTt7"
   },
   "source": [
    "### 2.2 Sequence Types"
   ]
  },
  {
   "cell_type": "markdown",
   "metadata": {
    "hidden": true,
    "id": "9kcEdhg0KROy"
   },
   "source": [
    "- Python has three sequence types\n",
    "- Each of the sequence type is an ordered array of objects\n",
    "- The three types: lists, tuples, and ranges"
   ]
  },
  {
   "cell_type": "markdown",
   "metadata": {
    "heading_collapsed": true,
    "hidden": true,
    "id": "Pth6Vpt8N2sW"
   },
   "source": [
    "#### 2.2.1 Lists"
   ]
  },
  {
   "cell_type": "markdown",
   "metadata": {
    "hidden": true,
    "id": "WwJ1OAOZN5jK"
   },
   "source": [
    "- Lists are ordered, mutable sequences of objects\n",
    "- Defined with square brackets []"
   ]
  },
  {
   "cell_type": "code",
   "execution_count": null,
   "metadata": {
    "hidden": true,
    "id": "2NKJZ3BufrWF"
   },
   "outputs": [],
   "source": []
  },
  {
   "cell_type": "markdown",
   "metadata": {
    "hidden": true,
    "id": "gRNpK41LOJVb"
   },
   "source": [
    "- When we add two lists, we concatenate them together"
   ]
  },
  {
   "cell_type": "code",
   "execution_count": null,
   "metadata": {
    "colab": {
     "base_uri": "https://localhost:8080/"
    },
    "hidden": true,
    "id": "gVcc_6krfrQG",
    "outputId": "e9769045-eed3-4fb1-d934-2a018ee3bb5b"
   },
   "outputs": [],
   "source": []
  },
  {
   "cell_type": "code",
   "execution_count": null,
   "metadata": {
    "colab": {
     "base_uri": "https://localhost:8080/"
    },
    "hidden": true,
    "id": "-K9_L0ZYfrKT",
    "outputId": "092afe8e-ba5f-40d6-d68a-a6a988b97ecf"
   },
   "outputs": [],
   "source": []
  },
  {
   "cell_type": "code",
   "execution_count": null,
   "metadata": {
    "colab": {
     "base_uri": "https://localhost:8080/"
    },
    "hidden": true,
    "id": "sbuxqKxOfrGQ",
    "outputId": "8fe63233-a545-45bb-def7-f3fa1ec38e52"
   },
   "outputs": [],
   "source": []
  },
  {
   "cell_type": "markdown",
   "metadata": {
    "hidden": true,
    "id": "ChbpMQJgOTse"
   },
   "source": [
    "- Use the append() method to add an element to the end of the list\n",
    "- We pass the element we want to add as an argument to the method append(object)"
   ]
  },
  {
   "cell_type": "code",
   "execution_count": null,
   "metadata": {
    "colab": {
     "base_uri": "https://localhost:8080/"
    },
    "hidden": true,
    "id": "c3osZWDofrAW",
    "outputId": "2341dc83-7012-4a35-e1bd-635c2e8f7aa3"
   },
   "outputs": [],
   "source": []
  },
  {
   "cell_type": "markdown",
   "metadata": {
    "hidden": true,
    "id": "oOth2A5cOsjN"
   },
   "source": [
    "- Lists can contain a mix of types (e.g. int and strings)"
   ]
  },
  {
   "cell_type": "code",
   "execution_count": null,
   "metadata": {
    "colab": {
     "base_uri": "https://localhost:8080/"
    },
    "hidden": true,
    "id": "jk7r3Ouefq7N",
    "outputId": "ba3b6bec-32ce-41c8-c661-4a3bc506335d"
   },
   "outputs": [],
   "source": []
  },
  {
   "cell_type": "markdown",
   "metadata": {
    "hidden": true,
    "id": "KiEy8q-4vVx4"
   },
   "source": [
    "- Use the sort() method to sort the list numerically or alphabitically"
   ]
  },
  {
   "cell_type": "code",
   "execution_count": null,
   "metadata": {
    "colab": {
     "base_uri": "https://localhost:8080/"
    },
    "hidden": true,
    "id": "cusH9vRuvd2l",
    "outputId": "eadf1c57-44e2-4d0e-c9f6-16fa7d478737"
   },
   "outputs": [],
   "source": []
  },
  {
   "cell_type": "markdown",
   "metadata": {
    "hidden": true,
    "id": "Tzw-b3YPRGw1"
   },
   "source": [
    "- We can find the length of the list using len() Python's built-in function"
   ]
  },
  {
   "cell_type": "code",
   "execution_count": null,
   "metadata": {
    "colab": {
     "base_uri": "https://localhost:8080/"
    },
    "hidden": true,
    "id": "C8ItXEfzRTAd",
    "outputId": "62adfb6e-1700-4ef0-8b71-85246739f8fe"
   },
   "outputs": [],
   "source": []
  },
  {
   "cell_type": "markdown",
   "metadata": {
    "hidden": true,
    "id": "edkYC963QnQ3"
   },
   "source": [
    "- A list has an index that starts at 0\n",
    "- The index represents the position of the element in the list\n",
    "- The following line of code returns the second element. The list's index starts at 0, so element with index 0 is the first element in the list, and the element with index 1 is the second element in the list\n"
   ]
  },
  {
   "cell_type": "code",
   "execution_count": null,
   "metadata": {
    "colab": {
     "base_uri": "https://localhost:8080/"
    },
    "hidden": true,
    "id": "-nUVUPg1f8o5",
    "outputId": "b4f069d3-4d56-4907-f95f-ea4afe9d0e14"
   },
   "outputs": [],
   "source": []
  },
  {
   "cell_type": "markdown",
   "metadata": {
    "hidden": true,
    "id": "-bD2NsNJRg32"
   },
   "source": [
    "- We can index a range of values using the operator \":\"\n",
    "- In the code below, we retrieve elements starting from index 2 up to and not including 4 (i.e. 2 and 3)\n",
    "- In Python, the lower bound is inclusive and the upper bound is exlusive"
   ]
  },
  {
   "cell_type": "code",
   "execution_count": null,
   "metadata": {
    "colab": {
     "base_uri": "https://localhost:8080/"
    },
    "hidden": true,
    "id": "tvkBE7X0f_8i",
    "outputId": "0db37737-b103-45f0-a4ba-e09ae1f8c977"
   },
   "outputs": [],
   "source": []
  },
  {
   "cell_type": "markdown",
   "metadata": {
    "hidden": true,
    "id": "3B0v0AaiS9eM"
   },
   "source": [
    "- If we want to start indexing from the begining of the list, a starting number needs not to be specified"
   ]
  },
  {
   "cell_type": "code",
   "execution_count": null,
   "metadata": {
    "colab": {
     "base_uri": "https://localhost:8080/"
    },
    "hidden": true,
    "id": "kz-Q225Gf_24",
    "outputId": "722f54b4-9825-4c67-8bc3-bb4d3ae1dc43"
   },
   "outputs": [],
   "source": []
  },
  {
   "cell_type": "markdown",
   "metadata": {
    "hidden": true,
    "id": "kXQqwuJZTbqD"
   },
   "source": [
    "- We can index the list all the way till the end by not specifying the end index"
   ]
  },
  {
   "cell_type": "code",
   "execution_count": null,
   "metadata": {
    "colab": {
     "base_uri": "https://localhost:8080/"
    },
    "hidden": true,
    "id": "KmXETBaRf_xn",
    "outputId": "a213baa1-4ad6-4992-8cd3-a7e74a01a550"
   },
   "outputs": [],
   "source": []
  },
  {
   "cell_type": "markdown",
   "metadata": {
    "hidden": true,
    "id": "4PfYEZKlTp6k"
   },
   "source": [
    "- Negative indicies are relative to the end of the list\n",
    "- The code below retrieves the last two elements of the list x"
   ]
  },
  {
   "cell_type": "code",
   "execution_count": null,
   "metadata": {
    "colab": {
     "base_uri": "https://localhost:8080/"
    },
    "hidden": true,
    "id": "nW2g6nk-f_sN",
    "outputId": "73a824dc-b7a5-492e-f0d5-98959eb5be4f"
   },
   "outputs": [],
   "source": []
  },
  {
   "cell_type": "markdown",
   "metadata": {
    "hidden": true,
    "id": "JT9odlKcUlK-"
   },
   "source": [
    "- When the programming language does not support negative index similar to Python, then we compute as follows:"
   ]
  },
  {
   "cell_type": "code",
   "execution_count": null,
   "metadata": {
    "colab": {
     "base_uri": "https://localhost:8080/"
    },
    "hidden": true,
    "id": "gbbsNcajUbSf",
    "outputId": "5f3ff904-0b35-4470-f1db-1e7ec229136b"
   },
   "outputs": [],
   "source": []
  },
  {
   "cell_type": "markdown",
   "metadata": {
    "hidden": true,
    "id": "1hbMuABAUQaX"
   },
   "source": [
    "- Lists are mutable\n",
    "- Mutable means that we can append elements and substitute elements (i.e. change the content)\n"
   ]
  },
  {
   "cell_type": "code",
   "execution_count": null,
   "metadata": {
    "colab": {
     "base_uri": "https://localhost:8080/"
    },
    "hidden": true,
    "id": "06ww1ebKf8iO",
    "outputId": "fdd0d599-90ba-4d93-a975-1943f0558d80"
   },
   "outputs": [],
   "source": []
  },
  {
   "cell_type": "markdown",
   "metadata": {
    "heading_collapsed": true,
    "hidden": true,
    "id": "omxvQLupV4OB"
   },
   "source": [
    "#### 2.1.2 Tuples"
   ]
  },
  {
   "cell_type": "markdown",
   "metadata": {
    "hidden": true,
    "id": "GswuKPJSV-tr"
   },
   "source": [
    "- Tuples are similar to lists with one major caveat: they're immutable\n",
    "- Tuples are defined with paranthetical brackets ()"
   ]
  },
  {
   "cell_type": "code",
   "execution_count": null,
   "metadata": {
    "hidden": true,
    "id": "CWQSdUhwf8e5"
   },
   "outputs": [],
   "source": []
  },
  {
   "cell_type": "markdown",
   "metadata": {
    "hidden": true,
    "id": "riSXkloWWScC"
   },
   "source": [
    "- We index tuples just like lists"
   ]
  },
  {
   "cell_type": "code",
   "execution_count": null,
   "metadata": {
    "colab": {
     "base_uri": "https://localhost:8080/"
    },
    "hidden": true,
    "id": "e2EMtAWLf8Z1",
    "outputId": "7acae04f-fb4b-4889-8e12-5231173d846d"
   },
   "outputs": [],
   "source": []
  },
  {
   "cell_type": "markdown",
   "metadata": {
    "hidden": true,
    "id": "wZM2QuERWYDk"
   },
   "source": [
    "- Attempting to modify a tuple leads to an error"
   ]
  },
  {
   "cell_type": "code",
   "execution_count": null,
   "metadata": {
    "hidden": true,
    "id": "JVKiFyckf8VC"
   },
   "outputs": [],
   "source": []
  },
  {
   "cell_type": "markdown",
   "metadata": {
    "heading_collapsed": true,
    "hidden": true,
    "id": "_R4XqJo1WkOg"
   },
   "source": [
    "#### 2.1.3 Ranges"
   ]
  },
  {
   "cell_type": "markdown",
   "metadata": {
    "hidden": true,
    "id": "0kCt7mfhXp4D"
   },
   "source": [
    "- Ranges are immutable sequence of numbers\n",
    "- Mostly used with for loops (we will discuss in a later section, see Control Flow section below)\n",
    "- It has three positional arguments (start, stop, ans step)\n",
    "- In the code below, we create a range object. The range of values starts at 5, stops at 30 (not inclusive), with steps of 2"
   ]
  },
  {
   "cell_type": "code",
   "execution_count": null,
   "metadata": {
    "colab": {
     "base_uri": "https://localhost:8080/"
    },
    "hidden": true,
    "id": "ntGXMUrEYUj2",
    "outputId": "be34da2a-2462-4283-98d2-55692875ed52"
   },
   "outputs": [],
   "source": []
  },
  {
   "cell_type": "code",
   "execution_count": null,
   "metadata": {
    "colab": {
     "base_uri": "https://localhost:8080/"
    },
    "hidden": true,
    "id": "OUk0TWfngi3o",
    "outputId": "6178b67b-9200-474d-8f07-992bf72142b8"
   },
   "outputs": [],
   "source": []
  },
  {
   "cell_type": "markdown",
   "metadata": {
    "hidden": true,
    "id": "LIWJhPCjY-eF"
   },
   "source": [
    "- Only the stop argument is required\n",
    "- If only the stop argument is provided, the range will start at 0 and increments by 1 up to that value\n",
    "- In the following code, we specify stop =10, so we get a range of numbers starting at 0 up to 10 (not inclusive, we stop at 9)"
   ]
  },
  {
   "cell_type": "code",
   "execution_count": null,
   "metadata": {
    "colab": {
     "base_uri": "https://localhost:8080/"
    },
    "hidden": true,
    "id": "jlXeTUq_f8QU",
    "outputId": "7e0de0ac-ec8c-40e0-a24c-6767ccef0ea3"
   },
   "outputs": [],
   "source": []
  },
  {
   "cell_type": "code",
   "execution_count": null,
   "metadata": {
    "colab": {
     "base_uri": "https://localhost:8080/"
    },
    "hidden": true,
    "id": "PInSDZafgjIM",
    "outputId": "f31f1a72-3d63-43aa-da1d-0fc59018a0bf"
   },
   "outputs": [],
   "source": []
  },
  {
   "cell_type": "markdown",
   "metadata": {
    "hidden": true,
    "id": "NxTDmRtaa3tH"
   },
   "source": [
    "- In the following code, we starts at 2 and ends at 12 (not inclusive, we stop at 11)"
   ]
  },
  {
   "cell_type": "code",
   "execution_count": null,
   "metadata": {
    "colab": {
     "base_uri": "https://localhost:8080/"
    },
    "hidden": true,
    "id": "_pzeB_8tgi_x",
    "outputId": "4c22aa6c-c580-4a76-b063-07eae046b0d7"
   },
   "outputs": [],
   "source": []
  },
  {
   "cell_type": "markdown",
   "metadata": {
    "heading_collapsed": true,
    "hidden": true,
    "id": "nvg22pfBqSf_"
   },
   "source": [
    "### 2.3 Text Sequence Type"
   ]
  },
  {
   "cell_type": "markdown",
   "metadata": {
    "hidden": true,
    "id": "xctbDWXlbRVw"
   },
   "source": [
    "- Python has a type for text: str (string)\n",
    "- Strings can be specified using 'single', \"dobule\", or '''triple''' quotes\n",
    "- The following code concatenates two string objects using the + operator"
   ]
  },
  {
   "cell_type": "code",
   "execution_count": null,
   "metadata": {
    "colab": {
     "base_uri": "https://localhost:8080/",
     "height": 37
    },
    "hidden": true,
    "id": "zqwO0m7kguzG",
    "outputId": "0272b35c-abc7-4d9a-a529-a0c3cced70e4"
   },
   "outputs": [],
   "source": []
  },
  {
   "cell_type": "markdown",
   "metadata": {
    "hidden": true,
    "id": "6vlQzp4tcw9L"
   },
   "source": [
    "- We can index the string similar to lists using square brackets []"
   ]
  },
  {
   "cell_type": "code",
   "execution_count": null,
   "metadata": {
    "colab": {
     "base_uri": "https://localhost:8080/",
     "height": 37
    },
    "hidden": true,
    "id": "l3_Wq6Ssgusx",
    "outputId": "a868095b-a9d8-4b9b-f9dd-3dab180f66c3"
   },
   "outputs": [],
   "source": []
  },
  {
   "cell_type": "markdown",
   "metadata": {
    "hidden": true,
    "id": "0gXJiCfLc7zr"
   },
   "source": [
    "- String objects have many string-specific methods\n",
    "- In the following code, we use the method lower() to modify the case of the letters to lower, and the upper() method to UPER"
   ]
  },
  {
   "cell_type": "code",
   "execution_count": null,
   "metadata": {
    "colab": {
     "base_uri": "https://localhost:8080/",
     "height": 37
    },
    "hidden": true,
    "id": "OOVkDDZNguoB",
    "outputId": "f872d79b-64de-4873-d8d0-07f78c9918f1"
   },
   "outputs": [],
   "source": []
  },
  {
   "cell_type": "code",
   "execution_count": null,
   "metadata": {
    "colab": {
     "base_uri": "https://localhost:8080/",
     "height": 37
    },
    "hidden": true,
    "id": "_4x_cNqPgui9",
    "outputId": "f866f5e1-9c3a-4c9f-93cb-df1050d071cb"
   },
   "outputs": [],
   "source": []
  },
  {
   "cell_type": "markdown",
   "metadata": {
    "hidden": true,
    "id": "Z2uw6bPjdVNp"
   },
   "source": [
    "- Strings are mutable\n",
    "- We can use the replace() method to replace elements in the string object\n",
    "- In the following line of code, we replace the 'lo' portion in the string 'hello' with the letter 'p'"
   ]
  },
  {
   "cell_type": "code",
   "execution_count": null,
   "metadata": {
    "colab": {
     "base_uri": "https://localhost:8080/",
     "height": 37
    },
    "hidden": true,
    "id": "0fMnbSGwguec",
    "outputId": "56f1da18-c73f-4649-cd85-91e4e175750b"
   },
   "outputs": [],
   "source": []
  },
  {
   "cell_type": "markdown",
   "metadata": {
    "hidden": true,
    "id": "24iy_szGeIjk"
   },
   "source": [
    "- A list of strings can be joined on another string"
   ]
  },
  {
   "cell_type": "code",
   "execution_count": null,
   "metadata": {
    "colab": {
     "base_uri": "https://localhost:8080/",
     "height": 37
    },
    "hidden": true,
    "id": "euXfUF0GguZl",
    "outputId": "377c9065-a238-4cd9-b546-e73d6b53be7e"
   },
   "outputs": [],
   "source": []
  },
  {
   "cell_type": "markdown",
   "metadata": {
    "hidden": true,
    "id": "9l6lFrhxeT90"
   },
   "source": [
    "- A string could be split on a delimiter\n",
    "- In the following code, we split the string 'Hello, world, what, a, day!' on the comma delimiter ','"
   ]
  },
  {
   "cell_type": "code",
   "execution_count": null,
   "metadata": {
    "colab": {
     "base_uri": "https://localhost:8080/"
    },
    "hidden": true,
    "id": "qm1brTYwguVR",
    "outputId": "4badde62-bbfc-4704-94b2-0ed6dc8ad54a"
   },
   "outputs": [],
   "source": []
  },
  {
   "cell_type": "markdown",
   "metadata": {
    "hidden": true,
    "id": "4AhGmYAne9qg"
   },
   "source": [
    "- format() method is used to insert values from variables into a string\n",
    "- The substitution locations are specified using {}\n",
    "- The values to be substituted in are passed as arguments to format()"
   ]
  },
  {
   "cell_type": "code",
   "execution_count": null,
   "metadata": {
    "colab": {
     "base_uri": "https://localhost:8080/",
     "height": 37
    },
    "hidden": true,
    "id": "GqOZpaxiguQu",
    "outputId": "c3b860ff-23a6-4680-f372-d2e245245c1d"
   },
   "outputs": [],
   "source": []
  },
  {
   "cell_type": "markdown",
   "metadata": {
    "hidden": true,
    "id": "H4MhTlKKf_xR"
   },
   "source": [
    "- We can also specify names for each substitution"
   ]
  },
  {
   "cell_type": "code",
   "execution_count": null,
   "metadata": {
    "colab": {
     "base_uri": "https://localhost:8080/",
     "height": 37
    },
    "hidden": true,
    "id": "hpMNF64lhgYe",
    "outputId": "a087d8a0-5063-4f9d-b784-123615aafb77"
   },
   "outputs": [],
   "source": []
  },
  {
   "cell_type": "markdown",
   "metadata": {
    "heading_collapsed": true,
    "hidden": true,
    "id": "7wPPHnz7p-Fk"
   },
   "source": [
    "### 2.4 Booleans"
   ]
  },
  {
   "cell_type": "markdown",
   "metadata": {
    "hidden": true,
    "id": "d3wgs1r_ggWc"
   },
   "source": [
    "- A boolean (or bool) can have only one of two values: `True` or `False`\n",
    "- Bools are often produced from copmarisons\n",
    "\n",
    "\n"
   ]
  },
  {
   "cell_type": "code",
   "execution_count": null,
   "metadata": {
    "colab": {
     "base_uri": "https://localhost:8080/"
    },
    "hidden": true,
    "id": "b9qd7FCLhTDt",
    "outputId": "eafbb55a-7cb0-4c53-96ea-96507043d9bf"
   },
   "outputs": [],
   "source": [
    "# Is 1 equal to 1?"
   ]
  },
  {
   "cell_type": "code",
   "execution_count": null,
   "metadata": {
    "colab": {
     "base_uri": "https://localhost:8080/"
    },
    "hidden": true,
    "id": "JDgu-yGn_6cc",
    "outputId": "9fadebae-a083-4fc4-ec9b-cb8c05650e1b"
   },
   "outputs": [],
   "source": [
    "# Is 1 less than 2?"
   ]
  },
  {
   "cell_type": "code",
   "execution_count": null,
   "metadata": {
    "colab": {
     "base_uri": "https://localhost:8080/"
    },
    "hidden": true,
    "id": "tzDfen1p_6YU",
    "outputId": "81136610-ff0c-4058-bca4-66c70df8976d"
   },
   "outputs": [],
   "source": [
    "# Is 1 equal to 2?"
   ]
  },
  {
   "cell_type": "markdown",
   "metadata": {
    "hidden": true,
    "id": "uQ0yzgoYhrQU"
   },
   "source": [
    "- We can save the boolean in a bool object"
   ]
  },
  {
   "cell_type": "code",
   "execution_count": null,
   "metadata": {
    "colab": {
     "base_uri": "https://localhost:8080/"
    },
    "hidden": true,
    "id": "MzlP_n4__6f_",
    "outputId": "2fa7dab7-338e-4d72-e013-f2f789811abb"
   },
   "outputs": [],
   "source": [
    "\n"
   ]
  },
  {
   "cell_type": "markdown",
   "metadata": {
    "hidden": true,
    "id": "aHUiEVgph2Sy"
   },
   "source": [
    "- Bools can also be compared using the `and`, `or`, and `not` operators\n",
    "- Bools are used a lot in control statements (see section below)\n",
    "- Bools are also used when indexing dataframes (in future class sessions)"
   ]
  },
  {
   "cell_type": "code",
   "execution_count": null,
   "metadata": {
    "colab": {
     "base_uri": "https://localhost:8080/"
    },
    "hidden": true,
    "id": "U9uVPwlI_6UK",
    "outputId": "53050efd-f0b2-459d-d104-01998b456980"
   },
   "outputs": [],
   "source": [
    "\n"
   ]
  },
  {
   "cell_type": "code",
   "execution_count": null,
   "metadata": {
    "colab": {
     "base_uri": "https://localhost:8080/"
    },
    "hidden": true,
    "id": "2rl1m8sT_6QJ",
    "outputId": "2eb95b9f-d3f2-4e19-8eab-5e2407f86737"
   },
   "outputs": [],
   "source": []
  },
  {
   "cell_type": "code",
   "execution_count": null,
   "metadata": {
    "colab": {
     "base_uri": "https://localhost:8080/"
    },
    "hidden": true,
    "id": "R6_W0vdY_6L3",
    "outputId": "1110822c-78df-43df-cea2-d65e04a35170"
   },
   "outputs": [],
   "source": []
  },
  {
   "cell_type": "markdown",
   "metadata": {
    "heading_collapsed": true,
    "hidden": true,
    "id": "CF5JxaPjqig6"
   },
   "source": [
    "### 2.5 Mapping Types (Dictionaries)"
   ]
  },
  {
   "cell_type": "markdown",
   "metadata": {
    "hidden": true,
    "id": "3TTxUMxME232"
   },
   "source": [
    "- Dictionaries or dicts are data structure that use one object to index another object\n",
    "- Lists or tuples can store any object but only with an integer index\n",
    "- A dictionary has two types of objects (keys and values)\n",
    "- Dictionaries are very efficient\n",
    "- In the following line of code, we creat a dictionary using the `dict()` function\n",
    "  - Keys: a, b, and c\n",
    "  - Values: 1, 2, 3"
   ]
  },
  {
   "cell_type": "code",
   "execution_count": null,
   "metadata": {
    "colab": {
     "base_uri": "https://localhost:8080/"
    },
    "hidden": true,
    "id": "DTe8Gbd0jHxF",
    "outputId": "1d7809db-ac4d-4979-f542-832a1372d977"
   },
   "outputs": [],
   "source": []
  },
  {
   "cell_type": "markdown",
   "metadata": {
    "hidden": true,
    "id": "FupXTXYmHNxV"
   },
   "source": [
    "- We can also define a dictionary using curly brackets"
   ]
  },
  {
   "cell_type": "code",
   "execution_count": null,
   "metadata": {
    "colab": {
     "base_uri": "https://localhost:8080/"
    },
    "hidden": true,
    "id": "mIx-PvcgjHox",
    "outputId": "4f4f9583-4c8c-4b8c-e30b-6bab9c235e81"
   },
   "outputs": [],
   "source": []
  },
  {
   "cell_type": "markdown",
   "metadata": {
    "hidden": true,
    "id": "VqcrUWcoIA2D"
   },
   "source": [
    "- Just like lists and tuples, indicies are passed using square brackets"
   ]
  },
  {
   "cell_type": "code",
   "execution_count": null,
   "metadata": {
    "colab": {
     "base_uri": "https://localhost:8080/"
    },
    "hidden": true,
    "id": "gXayNSUSjHcT",
    "outputId": "85de5a5c-2024-4521-8667-4a60c257fac0"
   },
   "outputs": [],
   "source": []
  },
  {
   "cell_type": "markdown",
   "metadata": {
    "hidden": true,
    "id": "874eoniuIL1k"
   },
   "source": [
    "- The key-value pairs can be accessed directly as tuples using `items()` method"
   ]
  },
  {
   "cell_type": "code",
   "execution_count": null,
   "metadata": {
    "colab": {
     "base_uri": "https://localhost:8080/"
    },
    "hidden": true,
    "id": "TJeSrWDjjHX5",
    "outputId": "d4b05506-5cd2-4d9a-fc1c-7e772bbae53c"
   },
   "outputs": [],
   "source": []
  },
  {
   "cell_type": "markdown",
   "metadata": {
    "hidden": true,
    "id": "m9t6VAG-Ifep"
   },
   "source": [
    "- Keys in a dictionary can be accessed using `keys()` method"
   ]
  },
  {
   "cell_type": "code",
   "execution_count": null,
   "metadata": {
    "colab": {
     "base_uri": "https://localhost:8080/"
    },
    "hidden": true,
    "id": "v9XiYZYYjICe",
    "outputId": "89b7a41f-510e-4ef7-ea9e-a586e7235c6a"
   },
   "outputs": [],
   "source": []
  },
  {
   "cell_type": "markdown",
   "metadata": {
    "hidden": true,
    "id": "be0c99kpIshM"
   },
   "source": [
    "- Values in a dictionary can be accessed using `values()` method"
   ]
  },
  {
   "cell_type": "code",
   "execution_count": null,
   "metadata": {
    "colab": {
     "base_uri": "https://localhost:8080/"
    },
    "hidden": true,
    "id": "i4TfAlDkjHR3",
    "outputId": "37d1d146-1be0-4e84-e3bf-297cafdec4ad"
   },
   "outputs": [],
   "source": []
  },
  {
   "cell_type": "markdown",
   "metadata": {
    "heading_collapsed": true,
    "id": "hTODLJ32rSy1"
   },
   "source": [
    "## 3. Control Flow"
   ]
  },
  {
   "cell_type": "markdown",
   "metadata": {
    "hidden": true,
    "id": "cJNMUv9yMLns"
   },
   "source": [
    "- Control flow is the order in which the statements in the program are evaluated\n",
    "- Two type of control flow: conditionals and loops\n"
   ]
  },
  {
   "cell_type": "markdown",
   "metadata": {
    "heading_collapsed": true,
    "hidden": true,
    "id": "fB1LG66mrShX"
   },
   "source": [
    "### 3.1 If statement"
   ]
  },
  {
   "cell_type": "markdown",
   "metadata": {
    "hidden": true,
    "id": "WZhGL2fSN8AX"
   },
   "source": [
    "- Conditional statements use boolean conditions to create branch points in the code\n",
    "- The condition is assessed using boolean logic and if the result is True, then the following line of code is executed, otherwise if it is False, the following line will be skipped\n",
    "- In the following peice of code, the evaluation of the condition x = 5 leads to True since the value of x is 5, and 5 is greater than 2"
   ]
  },
  {
   "cell_type": "code",
   "execution_count": null,
   "metadata": {
    "colab": {
     "base_uri": "https://localhost:8080/"
    },
    "hidden": true,
    "id": "fReg4HKRmz5O",
    "outputId": "19205e11-936e-4f6e-b159-e2f6f20b483f"
   },
   "outputs": [],
   "source": []
  },
  {
   "cell_type": "markdown",
   "metadata": {
    "hidden": true,
    "id": "gyLrPL_QOUie"
   },
   "source": [
    "- In the following peice of code, the condition evaluation leads to False becase 0 is not greater than 2"
   ]
  },
  {
   "cell_type": "code",
   "execution_count": null,
   "metadata": {
    "colab": {
     "base_uri": "https://localhost:8080/"
    },
    "hidden": true,
    "id": "BCr4cAhqmzvl",
    "outputId": "b844b411-6ed6-4f1f-8eb6-143f9739e450"
   },
   "outputs": [],
   "source": []
  },
  {
   "cell_type": "markdown",
   "metadata": {
    "hidden": true,
    "id": "4s5_KeKIOhr5"
   },
   "source": [
    "- `if` statements often includes a paired `else` statement\n",
    "- In the following peice of code, the `else` statement will be executed since 0 is not greater than 2 "
   ]
  },
  {
   "cell_type": "code",
   "execution_count": null,
   "metadata": {
    "colab": {
     "base_uri": "https://localhost:8080/"
    },
    "hidden": true,
    "id": "ba8RVpbjmzju",
    "outputId": "84885da0-f7b0-4615-ff4e-5568598feb40"
   },
   "outputs": [],
   "source": []
  },
  {
   "cell_type": "markdown",
   "metadata": {
    "hidden": true,
    "id": "OpP3tDwmSgJO"
   },
   "source": [
    "- There is also an `elif` (else if) which evaluates if the previous `if` or `elif` statement evaluated to False\n",
    "- In the following code, x is not greater than 2; x is not equal to 2; the `else` statement is executed when all the previous `if` or `elif` statements evaluate to False"
   ]
  },
  {
   "cell_type": "code",
   "execution_count": null,
   "metadata": {
    "colab": {
     "base_uri": "https://localhost:8080/"
    },
    "hidden": true,
    "id": "fLObhPd4mzXk",
    "outputId": "af681c9b-e4fd-4110-cc40-94bf95e67eac"
   },
   "outputs": [],
   "source": []
  },
  {
   "cell_type": "markdown",
   "metadata": {
    "heading_collapsed": true,
    "hidden": true,
    "id": "pYzv-HQprkrK"
   },
   "source": [
    "### 3.2 For loop statement"
   ]
  },
  {
   "cell_type": "markdown",
   "metadata": {
    "hidden": true,
    "id": "XzjwCKnGWZ48"
   },
   "source": [
    "- Loops iterates through an *iterator*, which is a collection of objects: e.g. lists, tuples, strings, and sets\n",
    "- In the following code, we iterate through a collection of integer values in the list `a`.\n",
    "- An *iterator* is an object that contains a countable number of values (source: W3 Schools)\n",
    "- An *iterator* is an object that can be iterated upon, meaning that you can traverse through all the values (sourse W3 Schools).\n",
    " "
   ]
  },
  {
   "cell_type": "markdown",
   "metadata": {
    "hidden": true,
    "id": "RDk9HhnyiDeA"
   },
   "source": [
    "[For loop flow chart](https://cdn.techbeamers.com/wp-content/uploads/2018/08/Regular-Python-for-loop-flowchart.png)"
   ]
  },
  {
   "cell_type": "code",
   "execution_count": null,
   "metadata": {
    "hidden": true,
    "scrolled": true
   },
   "outputs": [],
   "source": [
    "# given a list a, find the square of each value in a\n"
   ]
  },
  {
   "cell_type": "code",
   "execution_count": null,
   "metadata": {
    "colab": {
     "base_uri": "https://localhost:8080/"
    },
    "hidden": true,
    "id": "aLGf9TSSm5Q0",
    "outputId": "1e7d24b4-0065-4d5e-ff6c-4ea68f86ee13"
   },
   "outputs": [],
   "source": [
    "# we can also save the result in a list intead of printing it\n"
   ]
  },
  {
   "cell_type": "markdown",
   "metadata": {
    "hidden": true,
    "id": "ChLtruymIO72"
   },
   "source": [
    "- We can also iterate through a set of numbers using the `range()` function to produce an iterator"
   ]
  },
  {
   "cell_type": "code",
   "execution_count": null,
   "metadata": {
    "colab": {
     "base_uri": "https://localhost:8080/"
    },
    "hidden": true,
    "id": "hMlj5RRCm5HX",
    "outputId": "a54ac2f2-3d39-437f-8884-1c9170be877f"
   },
   "outputs": [],
   "source": []
  },
  {
   "cell_type": "code",
   "execution_count": null,
   "metadata": {
    "colab": {
     "base_uri": "https://localhost:8080/"
    },
    "hidden": true,
    "id": "XZH2oA73KKkg",
    "outputId": "5b538f2f-b6c7-4c12-ec70-5b0094b39027"
   },
   "outputs": [],
   "source": []
  },
  {
   "cell_type": "code",
   "execution_count": null,
   "metadata": {
    "colab": {
     "base_uri": "https://localhost:8080/"
    },
    "hidden": true,
    "id": "qdKgmDX2m4xp",
    "outputId": "84e60971-f9e8-4ab1-9055-a9ddaeba6dcc"
   },
   "outputs": [],
   "source": []
  },
  {
   "cell_type": "markdown",
   "metadata": {
    "hidden": true,
    "id": "n226sFflKwFR"
   },
   "source": [
    "- The `zip()` function \"zips\" together two collections and iterates through a pair of values\n",
    "- In the following code, we define two ranges, and then we iterate through pairs of values using the `zip()` function"
   ]
  },
  {
   "cell_type": "code",
   "execution_count": null,
   "metadata": {
    "colab": {
     "base_uri": "https://localhost:8080/"
    },
    "hidden": true,
    "id": "aUrAsSsIm4WV",
    "outputId": "b7b70359-9c3c-4eb4-d489-f8a946f783bb"
   },
   "outputs": [],
   "source": []
  },
  {
   "cell_type": "markdown",
   "metadata": {
    "hidden": true,
    "id": "ICs7hXRrNGaq"
   },
   "source": [
    "- If one of the collections in the `zip()` function is shorter, then the iteration proceeds for the length of the shorter collection\n",
    "- In the following, `range(6)` produces 6 value and `range(6,12,2)` produces 3 values, thus the output of the `zip()` function will be of length 3 (Since 3 is less than 6)"
   ]
  },
  {
   "cell_type": "code",
   "execution_count": null,
   "metadata": {
    "colab": {
     "base_uri": "https://localhost:8080/"
    },
    "hidden": true,
    "id": "sjiHbe381viY",
    "outputId": "7babd403-f108-430d-d4ee-9565a86dd4b7"
   },
   "outputs": [],
   "source": []
  },
  {
   "cell_type": "markdown",
   "metadata": {
    "hidden": true,
    "id": "J44lnd-JN-FQ"
   },
   "source": [
    "- `enumerate()` function returns not only the value from a collection, but also the index"
   ]
  },
  {
   "cell_type": "code",
   "execution_count": null,
   "metadata": {
    "colab": {
     "base_uri": "https://localhost:8080/"
    },
    "hidden": true,
    "id": "fj_xmgxWN7PI",
    "outputId": "02188eb5-548a-4269-fef7-11dc30964751"
   },
   "outputs": [],
   "source": []
  },
  {
   "cell_type": "code",
   "execution_count": null,
   "metadata": {
    "colab": {
     "base_uri": "https://localhost:8080/"
    },
    "hidden": true,
    "id": "dEwuL4aym4J6",
    "outputId": "aa38d0ab-0d7d-44a6-bf70-4a0aade80d7f"
   },
   "outputs": [],
   "source": []
  },
  {
   "cell_type": "markdown",
   "metadata": {
    "heading_collapsed": true,
    "hidden": true,
    "id": "03Wh__E9rknY"
   },
   "source": [
    "### 3.3 List Comprehension"
   ]
  },
  {
   "cell_type": "markdown",
   "metadata": {
    "hidden": true,
    "id": "QwOKazWCOYQb"
   },
   "source": [
    "- List comprehenision is a concise syntax for generating a list from another list\n",
    "- In the following example, the code takes a list of numbers as input and produces a new list where each element has been incremented by one\n"
   ]
  },
  {
   "cell_type": "code",
   "execution_count": null,
   "metadata": {
    "hidden": true,
    "id": "8zp-GLC9m9fw"
   },
   "outputs": [],
   "source": []
  },
  {
   "cell_type": "code",
   "execution_count": null,
   "metadata": {
    "colab": {
     "base_uri": "https://localhost:8080/"
    },
    "hidden": true,
    "id": "fJV3beVHaETi",
    "outputId": "35e0f387-5eaf-498f-c5d0-a8b96f7e6bfc"
   },
   "outputs": [],
   "source": []
  },
  {
   "cell_type": "markdown",
   "metadata": {
    "hidden": true,
    "id": "X1HjMqKZacn9"
   },
   "source": [
    "- Instead of instantiating an (1) empty list, (2) creating a `for` statment to iterate through the source list, and (3) writing statements to append to a new list; all of those operations can be done in a single line using list comprehension\n",
    "- List comprehension is in the following form\n",
    "\n",
    "`newlist = [expression for item in iterable if condition == True]`\n",
    "\n",
    "- The return value *expression* is a new list, leaving the old list unchanged (source: w3 schools)\n",
    "\n",
    "- The *iterable* can be any iterable object, like a list, tuple, set etc.(source: w3 schools)\n",
    "- The *expression* is the current item in the iteration, but it is also the outcome, which you can manipulate before it ends up like a list item in the new list (source: w3 schools)\n"
   ]
  },
  {
   "cell_type": "code",
   "execution_count": null,
   "metadata": {
    "colab": {
     "base_uri": "https://localhost:8080/"
    },
    "hidden": true,
    "id": "9_jJWOMxm9VT",
    "outputId": "efbee115-1fd4-4724-a5ae-d7946f9e0cea"
   },
   "outputs": [],
   "source": []
  },
  {
   "cell_type": "markdown",
   "metadata": {
    "hidden": true,
    "id": "nS9PAjMCcgdm"
   },
   "source": [
    "- The *condition* is like a filter that only accepts the items that valuate to `True` (source: w3 schools)\n",
    "- The condition below is `x<12` only includes the elements that are less the 12 in the result\n"
   ]
  },
  {
   "cell_type": "code",
   "execution_count": null,
   "metadata": {
    "colab": {
     "base_uri": "https://localhost:8080/"
    },
    "hidden": true,
    "id": "qGn3qZ0mm9LG",
    "outputId": "672532df-8b93-4123-f44d-f6952932ca8e"
   },
   "outputs": [],
   "source": []
  },
  {
   "cell_type": "markdown",
   "metadata": {
    "hidden": true,
    "id": "3PLdF05yc4za"
   },
   "source": [
    "- If we want a differential behavior based on a particular condition (if else statement), we can place the `if else` statement before the `for`"
   ]
  },
  {
   "cell_type": "code",
   "execution_count": null,
   "metadata": {
    "colab": {
     "base_uri": "https://localhost:8080/"
    },
    "hidden": true,
    "id": "KS1gaJSbm8_J",
    "outputId": "fb8b909e-584b-4406-e777-2b645f94952a"
   },
   "outputs": [],
   "source": []
  },
  {
   "cell_type": "markdown",
   "metadata": {
    "hidden": true,
    "id": "t7rrgwFxgakr"
   },
   "source": [
    "- The following code generates a list of tupples, where each tuple pair is a number and its square value"
   ]
  },
  {
   "cell_type": "code",
   "execution_count": null,
   "metadata": {
    "colab": {
     "base_uri": "https://localhost:8080/"
    },
    "hidden": true,
    "id": "-wfYowj5m81p",
    "outputId": "60c5e1df-55b7-41ef-82e3-34253d8fb8ab"
   },
   "outputs": [],
   "source": []
  },
  {
   "cell_type": "markdown",
   "metadata": {
    "hidden": true,
    "id": "Vb3_Ha3CgoFY"
   },
   "source": [
    "- In the following code, we iterate over a list of tuples"
   ]
  },
  {
   "cell_type": "code",
   "execution_count": null,
   "metadata": {
    "colab": {
     "base_uri": "https://localhost:8080/"
    },
    "hidden": true,
    "id": "Mh3M2Lttm8qH",
    "outputId": "3f31c9cb-cc3c-43ef-ea21-466b7098b9bf"
   },
   "outputs": [],
   "source": []
  },
  {
   "cell_type": "markdown",
   "metadata": {
    "hidden": true,
    "id": "hjy1nsZngxAv"
   },
   "source": [
    "- We can generate dictionaries as follows using dictionary comprehension"
   ]
  },
  {
   "cell_type": "code",
   "execution_count": null,
   "metadata": {
    "hidden": true,
    "id": "oiZ-Fbkim8fF"
   },
   "outputs": [],
   "source": []
  },
  {
   "cell_type": "markdown",
   "metadata": {},
   "source": [
    "## 3.4 While loop statement"
   ]
  },
  {
   "cell_type": "markdown",
   "metadata": {},
   "source": [
    "\n",
    "    Loops allow one to run the same code repeatedly while systematically changing specific variables\n",
    "    while loops will iteratively run the code as long as the loop condition is True\n",
    "    The code below, we initialize the variable x to be 0\n",
    "    The variable x is used in to control the flow of the loop\n",
    "    The following loop produces a sequence of integers starting at 0 up to 5 (not inclusive, so the count is to 4)\n",
    "\n"
   ]
  },
  {
   "cell_type": "markdown",
   "metadata": {},
   "source": [
    "    \n"
   ]
  },
  {
   "cell_type": "markdown",
   "metadata": {},
   "source": [
    "The following loop runs until i is no longer than len(a) i.e. the length of the list"
   ]
  },
  {
   "cell_type": "code",
   "execution_count": null,
   "metadata": {},
   "outputs": [],
   "source": []
  },
  {
   "cell_type": "code",
   "execution_count": null,
   "metadata": {},
   "outputs": [],
   "source": []
  },
  {
   "cell_type": "code",
   "execution_count": null,
   "metadata": {},
   "outputs": [],
   "source": []
  }
 ],
 "metadata": {
  "colab": {
   "collapsed_sections": [
    "ehHGCIpgkFx1",
    "7wPPHnz7p-Fk",
    "mgY03qmLqUBG",
    "KycEVXCmqTt7",
    "nvg22pfBqSf_",
    "IcVtByCiqi_X",
    "CF5JxaPjqig6",
    "aMEm_s6vrDKk",
    "fB1LG66mrShX",
    "BYOpHGCRrkji",
    "nIbWojkVrkgU",
    "iM_gd9KZsonX"
   ],
   "name": "dso545_session01_Abbass.ipynb",
   "provenance": []
  },
  "kernelspec": {
   "display_name": "Python 3 (ipykernel)",
   "language": "python",
   "name": "python3"
  },
  "language_info": {
   "codemirror_mode": {
    "name": "ipython",
    "version": 3
   },
   "file_extension": ".py",
   "mimetype": "text/x-python",
   "name": "python",
   "nbconvert_exporter": "python",
   "pygments_lexer": "ipython3",
   "version": "3.11.4"
  }
 },
 "nbformat": 4,
 "nbformat_minor": 1
}
