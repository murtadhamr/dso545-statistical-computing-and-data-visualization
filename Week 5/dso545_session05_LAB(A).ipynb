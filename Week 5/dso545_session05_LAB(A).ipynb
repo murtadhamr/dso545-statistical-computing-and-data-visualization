{
 "cells": [
  {
   "cell_type": "markdown",
   "metadata": {
    "id": "rnjBziHYnFwH"
   },
   "source": [
    "# Week 5: Data Manipulation"
   ]
  },
  {
   "cell_type": "markdown",
   "metadata": {},
   "source": [
    "**Sources:**\n",
    "\n",
    "- Data Science for Marketing Analytics, by Tommy Blanchard, Debasish Behera, and Pranshu Bhatnagar. Packt Publishing, 2019.\n",
    "- https://medium.com/analytics-vidhya/split-apply-combine-strategy-for-data-mining-4fd6e2a0cc99\n",
    "- https://www.datacamp.com/community/tutorials/pandas-split-apply-combine-groupby\n",
    "- https://towardsdatascience.com/jupyter-notebook-extensions-517fa69d2231\n",
    "- https://www.geeksforgeeks.org/python-map-function/\n",
    "- https://www.geeksforgeeks.org/python-lambda-anonymous-functions-filter-map-reduce/\n",
    "- https://www.textbook.ds100.org/intro.html\n",
    "- https://towardsdatascience.com/simple-ways-to-improve-your-matplotlib-b64eebccfd5"
   ]
  },
  {
   "cell_type": "code",
   "execution_count": null,
   "metadata": {},
   "outputs": [],
   "source": [
    "import numpy as np\n",
    "import pandas as pd\n",
    "import matplotlib.pyplot as plt\n",
    "import seaborn as sns \n",
    "\n",
    "# use ggplot style when plotting\n",
    "plt.style.use('ggplot')\n",
    "\n",
    "# set the plot figure size to 10x6\n",
    "plt.rcParams[\"figure.figsize\"]=10,6"
   ]
  },
  {
   "cell_type": "markdown",
   "metadata": {},
   "source": [
    "# 5. Data Manipulation"
   ]
  },
  {
   "cell_type": "markdown",
   "metadata": {},
   "source": [
    "We can do the following operations to manipulate our data: \n",
    "\n",
    "- **select** a specific variable or set of variables, a row or a set of rows using indexes.\n",
    "- **filter** rows to obtain a subest of a dataframe based on a given condition\n",
    "- **arrange** the dataframe by index or variable\n",
    "- **group** the data by the levels of a given categorical variable and perform analysis on each group seperately\n",
    "- **mutate** and transform a variable into a new variable \n",
    "- **summarise** and reduce a variable to a summary variable (e.g median).\n"
   ]
  },
  {
   "cell_type": "markdown",
   "metadata": {},
   "source": [
    "## 5.1 Selecting Data (Columns and Rows)"
   ]
  },
  {
   "cell_type": "code",
   "execution_count": null,
   "metadata": {},
   "outputs": [],
   "source": [
    "# read the sales.csv dataset and save in a variable called sales\n",
    "\n",
    "sales = pd.read_csv(\"sales.csv\")\n",
    "sales.head()"
   ]
  },
  {
   "cell_type": "markdown",
   "metadata": {},
   "source": [
    "The following table, summarizes how to select rows and columns in the data: \n",
    "\n",
    "|**Operation**|**Syntax**|**Result**|\n",
    "|:--------------|:----------------|:-----------------|\n",
    "Select a column | `df['colname']` | Series\n",
    "Select multiple columns | `df[['colname1', 'colname2', ...]]` | DataFrame\n",
    "Select a row by integer index location | `df.iloc[index_location]` | Series\n",
    "Slice rows |`df.iloc[start_index:end_index+1]`| DataFrame\n",
    "Select multiple columns by index location |`df.iloc[,start_index:end_index+1]`| DataFrame\n",
    "Slice rows and select multiple columns by index location | `df.iloc[start_index:end_index+1, start_index:end_index+1]`| DataFrame"
   ]
  },
  {
   "cell_type": "markdown",
   "metadata": {},
   "source": [
    "### 5.1.1 Selecting Column(s)"
   ]
  },
  {
   "cell_type": "code",
   "execution_count": null,
   "metadata": {},
   "outputs": [],
   "source": [
    "# Selecting a column\n",
    "\n",
    "# What is the total revenue for all years?\n"
   ]
  },
  {
   "cell_type": "code",
   "execution_count": null,
   "metadata": {},
   "outputs": [],
   "source": [
    "## What is the difference between total revenue and total planned revenue for all sales?\n",
    "\n"
   ]
  },
  {
   "cell_type": "code",
   "execution_count": null,
   "metadata": {},
   "outputs": [],
   "source": [
    "# Selecting multiple columns \n",
    "\n",
    "# Create a mini dataframe that has the values for the \n",
    "# Product, Revenue, and Planned revenue\n",
    "\n"
   ]
  },
  {
   "cell_type": "code",
   "execution_count": null,
   "metadata": {},
   "outputs": [],
   "source": [
    "# Using indexing techniques, create a mini dataframe that has \n",
    "# the values for the Product, Revenue, and Planned revenue\n",
    "\n",
    "#sales[['Product', 'Revenue', 'Planned revenue']]\n",
    "\n",
    "# df[ROWs, COLUMNS]\n"
   ]
  },
  {
   "cell_type": "markdown",
   "metadata": {},
   "source": [
    "### 5.1.2 Selecting Row(s)"
   ]
  },
  {
   "cell_type": "code",
   "execution_count": null,
   "metadata": {},
   "outputs": [],
   "source": [
    "# List all the information about the 3rd sale in the dataset\n",
    "# i.e. select the 3rd row or observation\n",
    "\n",
    "# the index starts at 0, so the third observation has index = 2\n",
    "\n"
   ]
  },
  {
   "cell_type": "code",
   "execution_count": null,
   "metadata": {},
   "outputs": [],
   "source": [
    "# the top 10 obs\n",
    "\n"
   ]
  },
  {
   "cell_type": "code",
   "execution_count": null,
   "metadata": {},
   "outputs": [],
   "source": [
    "# a random sample of 5 obs\n",
    "\n"
   ]
  },
  {
   "cell_type": "code",
   "execution_count": null,
   "metadata": {},
   "outputs": [],
   "source": [
    "# List all the information about the all elements starting with the third\n",
    "# observation, until the last observation\n",
    "\n",
    "\n"
   ]
  },
  {
   "cell_type": "markdown",
   "metadata": {},
   "source": [
    "**DIY**: Create a dataset (1st half of the original dataset) that contains the columns Year, Product, Revenue, and Planned Revenue."
   ]
  },
  {
   "cell_type": "code",
   "execution_count": null,
   "metadata": {},
   "outputs": [],
   "source": [
    "#sales.iloc[0:int(len(sales)/2),[0, 3,6,7]]\n",
    "\n"
   ]
  },
  {
   "cell_type": "markdown",
   "metadata": {},
   "source": []
  },
  {
   "cell_type": "markdown",
   "metadata": {},
   "source": [
    "## 5.2 Filtering Data Based on a Condition"
   ]
  },
  {
   "cell_type": "code",
   "execution_count": null,
   "metadata": {},
   "outputs": [],
   "source": [
    "# List all obeservations (product and quantity) with quantity sold greater than or equal to 1000.\n",
    "\n"
   ]
  },
  {
   "cell_type": "code",
   "execution_count": null,
   "metadata": {},
   "outputs": [],
   "source": [
    "# List all observations that resulted in revenue less than the planned revenue?\n",
    "\n"
   ]
  },
  {
   "cell_type": "code",
   "execution_count": null,
   "metadata": {},
   "outputs": [],
   "source": [
    "# List all product names who's revenue exceeded planned revenue\n"
   ]
  },
  {
   "cell_type": "code",
   "execution_count": null,
   "metadata": {},
   "outputs": [],
   "source": [
    "# What is the highest revenue genderated through Web sales?\n",
    "\n"
   ]
  },
  {
   "cell_type": "markdown",
   "metadata": {},
   "source": [
    "**DIY**: Which product had the highest revenue generated through Web Sales?\n"
   ]
  },
  {
   "cell_type": "code",
   "execution_count": null,
   "metadata": {},
   "outputs": [],
   "source": []
  },
  {
   "cell_type": "markdown",
   "metadata": {},
   "source": [
    "## 5.3 Filtering Data Based on Multiple Conditions"
   ]
  },
  {
   "cell_type": "code",
   "execution_count": null,
   "metadata": {},
   "outputs": [],
   "source": [
    "# List all the sales for the 'BugShield Extreme' product that was sold in the United States\n",
    "\n"
   ]
  },
  {
   "cell_type": "code",
   "execution_count": null,
   "metadata": {},
   "outputs": [],
   "source": [
    "# List all the sales that happened in both the United States or Italy\n",
    "\n"
   ]
  },
  {
   "cell_type": "markdown",
   "metadata": {},
   "source": [
    "**DIY**: What is total revenue from USA sales in 2004?"
   ]
  },
  {
   "cell_type": "code",
   "execution_count": null,
   "metadata": {},
   "outputs": [],
   "source": []
  },
  {
   "cell_type": "markdown",
   "metadata": {},
   "source": [
    "## 5.4 Sorting Data"
   ]
  },
  {
   "cell_type": "markdown",
   "metadata": {},
   "source": [
    " ### 5.4.1 Sorting Dataframes based on 1 variable"
   ]
  },
  {
   "cell_type": "code",
   "execution_count": null,
   "metadata": {},
   "outputs": [],
   "source": [
    "## What sales data has the 3 highest gross profit in 2004?\n",
    "\n",
    "# Gross profit is the profit a company makes after deducting the \n",
    "# costs associated with making and selling its products, or the costs\n",
    "# associated with providing its services. Gross profit will appear \n",
    "# on a company's income statement and can be calculated by subtracting \n",
    "# the cost of goods sold (COGS) from revenue (sales). \n",
    "# https://www.investopedia.com/terms/g/grossprofit.asp\n",
    "\n"
   ]
  },
  {
   "cell_type": "code",
   "execution_count": null,
   "metadata": {},
   "outputs": [],
   "source": [
    "# OR\n",
    "\n",
    "# we can chain the operations we want to perform on our datafram\n",
    "# using the . notation\n",
    "\n",
    "# In the following line of code, we see three operations:\n",
    "\n",
    "# Operation 1:\n",
    "#       - input: dataframe (sales)\n",
    "#       - output: dataframe (filtered sales)\n",
    "#       - Code: sales.loc[sales['Year'] == 2004, ]\n",
    "\n",
    "# Operation 2:\n",
    "#       - input: dataframe (filtered sales)\n",
    "#       - output: dataframe (sorted filtered sales)\n",
    "#       - Code: sort_values(by = 'Gross profit', ascending = False)\n",
    "\n",
    "# Operation 3:\n",
    "#       - input: dataframe (sorted filtered sales)\n",
    "#       - output: dataframe (top 3 sorted filtered sales)\n",
    "#       - Code: head(3)\n",
    "\n",
    "# we chain the operations using the dot (.) notation\n",
    "\n"
   ]
  },
  {
   "cell_type": "code",
   "execution_count": null,
   "metadata": {},
   "outputs": [],
   "source": [
    "## notice the index is now not in the right order 0, 1, 2, etc. Instead, the value of \n",
    "## the index for each observation reflects the orignial index\n",
    "## to fix the index, we need to reset it as follows\n",
    "\n"
   ]
  },
  {
   "cell_type": "code",
   "execution_count": null,
   "metadata": {},
   "outputs": [],
   "source": [
    "## Now, we can save the result in a dataframe and use it for different \n",
    "## purpose e.g. visualization, etc.\n",
    "\n"
   ]
  },
  {
   "cell_type": "code",
   "execution_count": null,
   "metadata": {},
   "outputs": [],
   "source": [
    "## Note that we can sort the full dataset \"in place\", which means that we don't\n",
    "## have to assign the sorted dataframe to a new variable after it is sorted. \n",
    "\n",
    "# To make sure that the orginial dataframe is sorted, we will use the 'in_place' argument\n",
    "# as follows\n"
   ]
  },
  {
   "cell_type": "code",
   "execution_count": null,
   "metadata": {},
   "outputs": [],
   "source": [
    "### Note that we can pretify our code so we can easily read it\n",
    "\n",
    "### The \"\\\" is needed if we want to chain operations on multiple lines \n",
    "### We usually do this to organize our code in a way that we can see it better\n",
    "\n"
   ]
  },
  {
   "cell_type": "markdown",
   "metadata": {},
   "source": [
    "### 5.4.2 Sorting Dataframes based on multiple variables"
   ]
  },
  {
   "cell_type": "code",
   "execution_count": null,
   "metadata": {},
   "outputs": [],
   "source": [
    "## Arrage the 2004 sales data by unit price in increasing order. \n",
    "## If two sales have the the same unit price value, use quantity \n",
    "## to sort them in increasing order.\n",
    "\n"
   ]
  },
  {
   "cell_type": "code",
   "execution_count": null,
   "metadata": {},
   "outputs": [],
   "source": [
    "## Arrage the 2004 sales data by unit price in increasing order. \n",
    "## If two sales have the the same unit price value, use quantity \n",
    "## to sort them in DECREASING order.\n",
    "\n",
    "## Notice here that we are soting in increasing order based on unit price, and \n",
    "## decreasing order based on quantity\n",
    "\n"
   ]
  },
  {
   "cell_type": "markdown",
   "metadata": {},
   "source": [
    "## 5.5 Creating (Mutating) New Variables"
   ]
  },
  {
   "cell_type": "markdown",
   "metadata": {},
   "source": [
    "We can mutate/add new variables (column) to the dataframe based on exisiting variables in the data. This is useful when we do feature engineering (i.e. creaing new features/variables based on exisiting variables/features in the dataset. This is helpful in both EDA and machine learning. \n",
    "\n",
    "The following are some scenarios for the need to mutate new variables:\n",
    "    \n",
    "- a new column with with a standarized variable\n",
    "- a new column with cummulative sums, cumulative averages, etc. \n",
    "- a new column with the ranks of the observations\n",
    "- a new column with the quantile of an observation based on a given KPI\n",
    "- a new column based on a condition (if statements)\n",
    "- etc. "
   ]
  },
  {
   "cell_type": "markdown",
   "metadata": {},
   "source": [
    "### 5.5.1 Using `assign()`"
   ]
  },
  {
   "cell_type": "code",
   "execution_count": null,
   "metadata": {},
   "outputs": [],
   "source": [
    "## For each year, what is the maximum unit profit (unit cost - unit sale price)?\n",
    "\n",
    "## we first create a new variable to hold the unit profit \n"
   ]
  },
  {
   "cell_type": "code",
   "execution_count": null,
   "metadata": {},
   "outputs": [],
   "source": [
    "## For each year, what is the maximum and minimum unit profit (unit cost - unit sale price)?\n",
    "\n",
    "## we first create a new variable to hold the unit profit \n",
    "\n"
   ]
  },
  {
   "cell_type": "code",
   "execution_count": null,
   "metadata": {},
   "outputs": [],
   "source": []
  },
  {
   "cell_type": "markdown",
   "metadata": {},
   "source": [
    "### 5.5.2 Using `map()` to update levels (factors) of a categorical variable"
   ]
  },
  {
   "cell_type": "code",
   "execution_count": null,
   "metadata": {},
   "outputs": [],
   "source": []
  },
  {
   "cell_type": "code",
   "execution_count": null,
   "metadata": {},
   "outputs": [],
   "source": [
    "### Create a new variable based on the order method type as follows:\n",
    "\n",
    "## - If order method is {Telephone, Fax, Mail, Sales visit} then the value is 'Old medium'\n",
    "## - If order method is {E-mail, Web} then the value is \"New medium\"\n",
    "## - If order method is {Special} then the value is \"Special medium\"\n",
    "\n",
    "### After, create a count plot to see which medium is the most popular\n",
    "\n"
   ]
  },
  {
   "cell_type": "code",
   "execution_count": null,
   "metadata": {},
   "outputs": [],
   "source": []
  },
  {
   "cell_type": "markdown",
   "metadata": {},
   "source": [
    "### 5.5.3 Using `map()` to apply a user defined function on a variable"
   ]
  },
  {
   "cell_type": "code",
   "execution_count": null,
   "metadata": {},
   "outputs": [],
   "source": [
    "# Create a function that takes a number, and returns its double\n",
    "\n"
   ]
  },
  {
   "cell_type": "code",
   "execution_count": null,
   "metadata": {},
   "outputs": [],
   "source": [
    "# use the function to return the double of the Unit price\n",
    "# for all sales in the sales data\n",
    "\n"
   ]
  },
  {
   "cell_type": "markdown",
   "metadata": {},
   "source": [
    "### 5.5.4 Using `map()` to apply an anonymous function (`lambda` expression) on a variable"
   ]
  },
  {
   "cell_type": "markdown",
   "metadata": {},
   "source": [
    "In the previous section, we have learned how to defined a Python function that has a name (e.g. double_value). Notice that the function we defined earlier in section 3.3 computes and expression based on input argument. \n",
    "\n",
    "In Python, anonymous function means that a function is without a name. As we already know that def keyword is used to define the normal functions and the lambda keyword is used to create anonymous functions. It has the following syntax:\n",
    "\n",
    "`lambda arguments: expression`\n",
    "\n",
    "Source: https://www.geeksforgeeks.org/python-lambda-anonymous-functions-filter-map-reduce/"
   ]
  },
  {
   "cell_type": "code",
   "execution_count": null,
   "metadata": {},
   "outputs": [],
   "source": [
    "# Using lambda expressions\n",
    "\n",
    "# Lambda definition does not include a “return” statement, it always contains an expression which is returned. \n",
    "# We can also put a lambda definition anywhere a function is expected, \n",
    "# and we don’t have to assign it to a variable at all. \n",
    "# This is the simplicity of lambda functions.\n",
    "\n",
    "# the input to the lambda expression (x) is the value coming from\n",
    "# the sales['Unit price'], and the output is (2x). \n",
    "\n",
    "# notice here that lambda expressions are efficient especially \n",
    "# if you don't want to create a seperate function that has a name\n",
    "\n",
    "# lambda expressions don't stay in Pyhton's working directory like a regular function or variable\n",
    "\n"
   ]
  },
  {
   "cell_type": "code",
   "execution_count": null,
   "metadata": {},
   "outputs": [],
   "source": []
  }
 ],
 "metadata": {
  "colab": {
   "collapsed_sections": [],
   "name": "Chapter 3 - Describing Data",
   "provenance": []
  },
  "interpreter": {
   "hash": "dca0ade3e726a953b501b15e8e990130d2b7799f14cfd9f4271676035ebe5511"
  },
  "kernelspec": {
   "display_name": "Python 3 (ipykernel)",
   "language": "python",
   "name": "python3"
  },
  "language_info": {
   "codemirror_mode": {
    "name": "ipython",
    "version": 3
   },
   "file_extension": ".py",
   "mimetype": "text/x-python",
   "name": "python",
   "nbconvert_exporter": "python",
   "pygments_lexer": "ipython3",
   "version": "3.11.4"
  },
  "varInspector": {
   "cols": {
    "lenName": 16,
    "lenType": 16,
    "lenVar": 40
   },
   "kernels_config": {
    "python": {
     "delete_cmd_postfix": "",
     "delete_cmd_prefix": "del ",
     "library": "var_list.py",
     "varRefreshCmd": "print(var_dic_list())"
    },
    "r": {
     "delete_cmd_postfix": ") ",
     "delete_cmd_prefix": "rm(",
     "library": "var_list.r",
     "varRefreshCmd": "cat(var_dic_list()) "
    }
   },
   "types_to_exclude": [
    "module",
    "function",
    "builtin_function_or_method",
    "instance",
    "_Feature"
   ],
   "window_display": false
  }
 },
 "nbformat": 4,
 "nbformat_minor": 1
}
