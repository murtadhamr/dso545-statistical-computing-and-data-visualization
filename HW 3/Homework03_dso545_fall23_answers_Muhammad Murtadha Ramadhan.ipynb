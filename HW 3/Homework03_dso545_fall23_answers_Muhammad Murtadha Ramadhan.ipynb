{
 "cells": [
  {
   "cell_type": "markdown",
   "metadata": {
    "id": "ty_Gvth62Tav"
   },
   "source": [
    "# Homework 3\n",
    "\n",
    "### Due: Thursday Oct 5, at 11:59pm via Blackboard"
   ]
  },
  {
   "cell_type": "code",
   "execution_count": 1,
   "metadata": {
    "tags": []
   },
   "outputs": [],
   "source": [
    "import pandas as pd\n",
    "import numpy as np\n",
    "import matplotlib.pyplot as plt\n",
    "import seaborn as sns\n",
    "\n",
    "plt.style.use('ggplot')"
   ]
  },
  {
   "cell_type": "markdown",
   "metadata": {},
   "source": [
    "## Problem 1: Peformance of Large vs. Small Companies\n",
    "\n",
    "Companies vary greatly in size. This variation can hide how well a company is performing. Rather than looking at the raw profit numbers, analysts consider financial ratios that adjust for the size of the company. A popular ratio is the return on assets, defined as:\n",
    "\n",
    "**Return on Assets $= Net Income/Total Assets$**\n",
    "\n",
    "Net income is another name for profits, and the total assets of a company is the value of everything it owns that is used to produce profits. The return on assets indicates how much profit the company generates relative to the amount that it invested to make that profit. A company with losses rather than profits has a negative return on assets. \n",
    "\n",
    "**Data:** The data set `Company.csv` gives the company name, total assets (in Millions \\$), net income (in Millions \\$), and the number of employees reported by 167 retailers in the United States. \n",
    "\n",
    "In the following questions, you will be performing an **exploratory data analysis (EDA)** for the given companies data. "
   ]
  },
  {
   "cell_type": "code",
   "execution_count": 2,
   "metadata": {
    "tags": []
   },
   "outputs": [
    {
     "data": {
      "text/plain": [
       "(167, 4)"
      ]
     },
     "execution_count": 2,
     "metadata": {},
     "output_type": "execute_result"
    }
   ],
   "source": [
    "df_company = pd.read_csv('Company.csv')\n",
    "df_company.shape"
   ]
  },
  {
   "cell_type": "code",
   "execution_count": 3,
   "metadata": {
    "tags": []
   },
   "outputs": [
    {
     "data": {
      "text/html": [
       "<div>\n",
       "<style scoped>\n",
       "    .dataframe tbody tr th:only-of-type {\n",
       "        vertical-align: middle;\n",
       "    }\n",
       "\n",
       "    .dataframe tbody tr th {\n",
       "        vertical-align: top;\n",
       "    }\n",
       "\n",
       "    .dataframe thead th {\n",
       "        text-align: right;\n",
       "    }\n",
       "</style>\n",
       "<table border=\"1\" class=\"dataframe\">\n",
       "  <thead>\n",
       "    <tr style=\"text-align: right;\">\n",
       "      <th></th>\n",
       "      <th>Company Name</th>\n",
       "      <th>Total Assets (M$)</th>\n",
       "      <th>Net Income (M$)</th>\n",
       "      <th># Employees</th>\n",
       "    </tr>\n",
       "  </thead>\n",
       "  <tbody>\n",
       "    <tr>\n",
       "      <th>0</th>\n",
       "      <td>1-800-FLOWERS.COM</td>\n",
       "      <td>256</td>\n",
       "      <td>-4</td>\n",
       "      <td>2200</td>\n",
       "    </tr>\n",
       "    <tr>\n",
       "      <th>1</th>\n",
       "      <td>99 CENTS ONLY STORES</td>\n",
       "      <td>824</td>\n",
       "      <td>74</td>\n",
       "      <td>12000</td>\n",
       "    </tr>\n",
       "    <tr>\n",
       "      <th>2</th>\n",
       "      <td>A.C. MOORE ARTS &amp; CRAFTS INC</td>\n",
       "      <td>237</td>\n",
       "      <td>-30</td>\n",
       "      <td>4710</td>\n",
       "    </tr>\n",
       "    <tr>\n",
       "      <th>3</th>\n",
       "      <td>ABERCROMBIE &amp; FITCH  -CL A</td>\n",
       "      <td>2948</td>\n",
       "      <td>150</td>\n",
       "      <td>85000</td>\n",
       "    </tr>\n",
       "    <tr>\n",
       "      <th>4</th>\n",
       "      <td>ADVANCE AUTO PARTS INC</td>\n",
       "      <td>3354</td>\n",
       "      <td>346</td>\n",
       "      <td>51017</td>\n",
       "    </tr>\n",
       "  </tbody>\n",
       "</table>\n",
       "</div>"
      ],
      "text/plain": [
       "                   Company Name  Total Assets (M$)  Net Income (M$)  \\\n",
       "0             1-800-FLOWERS.COM                256               -4   \n",
       "1          99 CENTS ONLY STORES                824               74   \n",
       "2  A.C. MOORE ARTS & CRAFTS INC                237              -30   \n",
       "3    ABERCROMBIE & FITCH  -CL A               2948              150   \n",
       "4        ADVANCE AUTO PARTS INC               3354              346   \n",
       "\n",
       "   # Employees  \n",
       "0         2200  \n",
       "1        12000  \n",
       "2         4710  \n",
       "3        85000  \n",
       "4        51017  "
      ]
     },
     "execution_count": 3,
     "metadata": {},
     "output_type": "execute_result"
    }
   ],
   "source": [
    "df_company.head()"
   ]
  },
  {
   "cell_type": "markdown",
   "metadata": {},
   "source": [
    "### 1.1. (2 points) Compute and report (in a short paragraph of text) the following summary statistics for the `Net Income (M\\$)` data (round your values to the nearest integer):\n",
    "\n",
    "    - Mean\n",
    "    - Median\n",
    "    - Standard Deviation\n",
    "    - Range\n",
    "    - IQR "
   ]
  },
  {
   "cell_type": "markdown",
   "metadata": {},
   "source": [
    "#### **Summary:**\n",
    "Based on the descriptive statistics of the data, in average, company obtains net income of $334 million. However, by seeing the minimum number, we can conclude that there are companies which get negative net income (net loss). In addition, by seeing the P75 and maximum number, it can be observed that there might be several companies which have exteremely outlier number of net income on the data distribution."
   ]
  },
  {
   "cell_type": "code",
   "execution_count": 4,
   "metadata": {
    "tags": []
   },
   "outputs": [
    {
     "name": "stdout",
     "output_type": "stream",
     "text": [
      "Mean: 334\n",
      "Median: 34\n",
      "Standard Deviation: 1385\n",
      "Range: 17899\n",
      "IQR: 188\n"
     ]
    }
   ],
   "source": [
    "print('Mean:',  df_company['Net Income (M$)'].mean().astype('int64'))\n",
    "print('Median:', df_company['Net Income (M$)'].quantile(0.5).astype('int64'))\n",
    "print('Standard Deviation:',  round(df_company['Net Income (M$)'].std()))\n",
    "print('Range:', int(df_company['Net Income (M$)'].max() - df_company['Net Income (M$)'].min()))\n",
    "print('IQR:',  int(df_company['Net Income (M$)'].quantile(0.75) - df_company['Net Income (M$)'].quantile(0.25)))"
   ]
  },
  {
   "cell_type": "markdown",
   "metadata": {
    "tags": []
   },
   "source": [
    "### 1.2. (2 points) Report the % of companies that inccured losses. For this question, you are expected to add a new categorical variable to the dataset (call it `Profit`) with two levels: `PROFIT` if the net income is above zero (net income >= 0) and `LOSS` if the net income is below zero (net income < 0). \n",
    "\n"
   ]
  },
  {
   "cell_type": "code",
   "execution_count": 5,
   "metadata": {
    "tags": []
   },
   "outputs": [
    {
     "data": {
      "text/html": [
       "<div>\n",
       "<style scoped>\n",
       "    .dataframe tbody tr th:only-of-type {\n",
       "        vertical-align: middle;\n",
       "    }\n",
       "\n",
       "    .dataframe tbody tr th {\n",
       "        vertical-align: top;\n",
       "    }\n",
       "\n",
       "    .dataframe thead th {\n",
       "        text-align: right;\n",
       "    }\n",
       "</style>\n",
       "<table border=\"1\" class=\"dataframe\">\n",
       "  <thead>\n",
       "    <tr style=\"text-align: right;\">\n",
       "      <th></th>\n",
       "      <th>Company Name</th>\n",
       "      <th>Total Assets (M$)</th>\n",
       "      <th>Net Income (M$)</th>\n",
       "      <th># Employees</th>\n",
       "      <th>Profit</th>\n",
       "    </tr>\n",
       "  </thead>\n",
       "  <tbody>\n",
       "    <tr>\n",
       "      <th>0</th>\n",
       "      <td>1-800-FLOWERS.COM</td>\n",
       "      <td>256</td>\n",
       "      <td>-4</td>\n",
       "      <td>2200</td>\n",
       "      <td>Loss</td>\n",
       "    </tr>\n",
       "    <tr>\n",
       "      <th>1</th>\n",
       "      <td>99 CENTS ONLY STORES</td>\n",
       "      <td>824</td>\n",
       "      <td>74</td>\n",
       "      <td>12000</td>\n",
       "      <td>Profit</td>\n",
       "    </tr>\n",
       "    <tr>\n",
       "      <th>2</th>\n",
       "      <td>A.C. MOORE ARTS &amp; CRAFTS INC</td>\n",
       "      <td>237</td>\n",
       "      <td>-30</td>\n",
       "      <td>4710</td>\n",
       "      <td>Loss</td>\n",
       "    </tr>\n",
       "    <tr>\n",
       "      <th>3</th>\n",
       "      <td>ABERCROMBIE &amp; FITCH  -CL A</td>\n",
       "      <td>2948</td>\n",
       "      <td>150</td>\n",
       "      <td>85000</td>\n",
       "      <td>Profit</td>\n",
       "    </tr>\n",
       "    <tr>\n",
       "      <th>4</th>\n",
       "      <td>ADVANCE AUTO PARTS INC</td>\n",
       "      <td>3354</td>\n",
       "      <td>346</td>\n",
       "      <td>51017</td>\n",
       "      <td>Profit</td>\n",
       "    </tr>\n",
       "  </tbody>\n",
       "</table>\n",
       "</div>"
      ],
      "text/plain": [
       "                   Company Name  Total Assets (M$)  Net Income (M$)  \\\n",
       "0             1-800-FLOWERS.COM                256               -4   \n",
       "1          99 CENTS ONLY STORES                824               74   \n",
       "2  A.C. MOORE ARTS & CRAFTS INC                237              -30   \n",
       "3    ABERCROMBIE & FITCH  -CL A               2948              150   \n",
       "4        ADVANCE AUTO PARTS INC               3354              346   \n",
       "\n",
       "   # Employees  Profit  \n",
       "0         2200    Loss  \n",
       "1        12000  Profit  \n",
       "2         4710    Loss  \n",
       "3        85000  Profit  \n",
       "4        51017  Profit  "
      ]
     },
     "execution_count": 5,
     "metadata": {},
     "output_type": "execute_result"
    }
   ],
   "source": [
    "df_company['Profit'] = [\"Profit\" if x >= 0 else \"Loss\" for x in df_company['Net Income (M$)']]\n",
    "df_company.head()"
   ]
  },
  {
   "cell_type": "code",
   "execution_count": 6,
   "metadata": {
    "tags": []
   },
   "outputs": [
    {
     "data": {
      "text/plain": [
       "Profit\n",
       "Profit    0.766467\n",
       "Loss      0.233533\n",
       "Name: proportion, dtype: float64"
      ]
     },
     "execution_count": 6,
     "metadata": {},
     "output_type": "execute_result"
    }
   ],
   "source": [
    "df_company['Profit'].value_counts(normalize=True)"
   ]
  },
  {
   "cell_type": "markdown",
   "metadata": {},
   "source": [
    "### 1.3. (2 points) What is the shape of the distribution of the variable `Net Income (M$)`? For this question, you are expected to create **both** a histogram and a boxplot, and comment about the shape of the distribution and if there are any companies with an outlier net income."
   ]
  },
  {
   "cell_type": "markdown",
   "metadata": {},
   "source": [
    "#### **Summary**:\n",
    "Seeing the histogram and boxplot chart below, the shape of distribution for Net Income data in Company dataset is right-skewed distribution"
   ]
  },
  {
   "cell_type": "code",
   "execution_count": 7,
   "metadata": {
    "tags": []
   },
   "outputs": [],
   "source": [
    "import seaborn as sns\n",
    "import matplotlib.pyplot as plt"
   ]
  },
  {
   "cell_type": "code",
   "execution_count": 8,
   "metadata": {
    "tags": []
   },
   "outputs": [
    {
     "data": {
      "text/plain": [
       "<Axes: xlabel='Net Income (M$)', ylabel='Count'>"
      ]
     },
     "execution_count": 8,
     "metadata": {},
     "output_type": "execute_result"
    },
    {
     "data": {
      "image/png": "[encoded data removed]",
      "text/plain": [
       "<Figure size 640x480 with 1 Axes>"
      ]
     },
     "metadata": {},
     "output_type": "display_data"
    }
   ],
   "source": [
    "sns.set_theme()\n",
    "sns.histplot(df_company['Net Income (M$)'], bins=100, kde = True)"
   ]
  },
  {
   "cell_type": "code",
   "execution_count": 9,
   "metadata": {
    "tags": []
   },
   "outputs": [
    {
     "data": {
      "text/plain": [
       "<Axes: >"
      ]
     },
     "execution_count": 9,
     "metadata": {},
     "output_type": "execute_result"
    },
    {
     "data": {
      "image/png": "[encoded data removed]",
      "text/plain": [
       "<Figure size 640x480 with 1 Axes>"
      ]
     },
     "metadata": {},
     "output_type": "display_data"
    }
   ],
   "source": [
    "sns.boxplot(df_company['Net Income (M$)'])"
   ]
  },
  {
   "cell_type": "markdown",
   "metadata": {},
   "source": [
    "### 1.4. (2 points) A company that has more than 5000 employees is considered a large one, otherwise it is cosidered small. Create a new categroical variable (call it `Company Size`) with two levels: `LARGE` if the number of employees is greater than 5000 (employees > 5000), and `SMALL` otherwise (employees <=5000). What is the % of large and small companies in the dataset?"
   ]
  },
  {
   "cell_type": "code",
   "execution_count": 10,
   "metadata": {
    "tags": []
   },
   "outputs": [
    {
     "data": {
      "text/html": [
       "<div>\n",
       "<style scoped>\n",
       "    .dataframe tbody tr th:only-of-type {\n",
       "        vertical-align: middle;\n",
       "    }\n",
       "\n",
       "    .dataframe tbody tr th {\n",
       "        vertical-align: top;\n",
       "    }\n",
       "\n",
       "    .dataframe thead th {\n",
       "        text-align: right;\n",
       "    }\n",
       "</style>\n",
       "<table border=\"1\" class=\"dataframe\">\n",
       "  <thead>\n",
       "    <tr style=\"text-align: right;\">\n",
       "      <th></th>\n",
       "      <th>Company Name</th>\n",
       "      <th>Total Assets (M$)</th>\n",
       "      <th>Net Income (M$)</th>\n",
       "      <th># Employees</th>\n",
       "      <th>Profit</th>\n",
       "      <th>Company Size</th>\n",
       "    </tr>\n",
       "  </thead>\n",
       "  <tbody>\n",
       "    <tr>\n",
       "      <th>0</th>\n",
       "      <td>1-800-FLOWERS.COM</td>\n",
       "      <td>256</td>\n",
       "      <td>-4</td>\n",
       "      <td>2200</td>\n",
       "      <td>Loss</td>\n",
       "      <td>Small</td>\n",
       "    </tr>\n",
       "    <tr>\n",
       "      <th>1</th>\n",
       "      <td>99 CENTS ONLY STORES</td>\n",
       "      <td>824</td>\n",
       "      <td>74</td>\n",
       "      <td>12000</td>\n",
       "      <td>Profit</td>\n",
       "      <td>Large</td>\n",
       "    </tr>\n",
       "    <tr>\n",
       "      <th>2</th>\n",
       "      <td>A.C. MOORE ARTS &amp; CRAFTS INC</td>\n",
       "      <td>237</td>\n",
       "      <td>-30</td>\n",
       "      <td>4710</td>\n",
       "      <td>Loss</td>\n",
       "      <td>Small</td>\n",
       "    </tr>\n",
       "    <tr>\n",
       "      <th>3</th>\n",
       "      <td>ABERCROMBIE &amp; FITCH  -CL A</td>\n",
       "      <td>2948</td>\n",
       "      <td>150</td>\n",
       "      <td>85000</td>\n",
       "      <td>Profit</td>\n",
       "      <td>Large</td>\n",
       "    </tr>\n",
       "    <tr>\n",
       "      <th>4</th>\n",
       "      <td>ADVANCE AUTO PARTS INC</td>\n",
       "      <td>3354</td>\n",
       "      <td>346</td>\n",
       "      <td>51017</td>\n",
       "      <td>Profit</td>\n",
       "      <td>Large</td>\n",
       "    </tr>\n",
       "  </tbody>\n",
       "</table>\n",
       "</div>"
      ],
      "text/plain": [
       "                   Company Name  Total Assets (M$)  Net Income (M$)  \\\n",
       "0             1-800-FLOWERS.COM                256               -4   \n",
       "1          99 CENTS ONLY STORES                824               74   \n",
       "2  A.C. MOORE ARTS & CRAFTS INC                237              -30   \n",
       "3    ABERCROMBIE & FITCH  -CL A               2948              150   \n",
       "4        ADVANCE AUTO PARTS INC               3354              346   \n",
       "\n",
       "   # Employees  Profit Company Size  \n",
       "0         2200    Loss        Small  \n",
       "1        12000  Profit        Large  \n",
       "2         4710    Loss        Small  \n",
       "3        85000  Profit        Large  \n",
       "4        51017  Profit        Large  "
      ]
     },
     "execution_count": 10,
     "metadata": {},
     "output_type": "execute_result"
    }
   ],
   "source": [
    "df_company['Company Size'] = [\"Large\" if x > 5000 else \"Small\" for x in df_company['# Employees']]\n",
    "df_company.head()"
   ]
  },
  {
   "cell_type": "code",
   "execution_count": 11,
   "metadata": {
    "tags": []
   },
   "outputs": [
    {
     "data": {
      "text/plain": [
       "Company Size\n",
       "Large    0.688623\n",
       "Small    0.311377\n",
       "Name: proportion, dtype: float64"
      ]
     },
     "execution_count": 11,
     "metadata": {},
     "output_type": "execute_result"
    }
   ],
   "source": [
    "df_company['Company Size'].value_counts(normalize=True)"
   ]
  },
  {
   "cell_type": "markdown",
   "metadata": {},
   "source": [
    "### 1.5. (2 points) Create a side-by-side boxplot to compare the distribtution of `Net Income (M$)` for both Large and Small companies. What does this graph tell you about the net income for both types of companies?"
   ]
  },
  {
   "cell_type": "markdown",
   "metadata": {},
   "source": [
    "#### **Summary:**\n",
    "First highlighted point is that there is an extreme outlier data in large company one which make the chart difficult to be compared. So, I try to remove that outlier and having new observation. In the new observation, it seems that large-sized companies obtain more net income than the small-sized ones by seeing the stats location on the boxplot such as median, Q1, and Q3 data."
   ]
  },
  {
   "cell_type": "code",
   "execution_count": 12,
   "metadata": {
    "tags": []
   },
   "outputs": [
    {
     "data": {
      "text/plain": [
       "<Axes: xlabel='Company Size', ylabel='Net Income (M$)'>"
      ]
     },
     "execution_count": 12,
     "metadata": {},
     "output_type": "execute_result"
    },
    {
     "data": {
      "image/png": "[encoded data removed]",
      "text/plain": [
       "<Figure size 640x480 with 1 Axes>"
      ]
     },
     "metadata": {},
     "output_type": "display_data"
    }
   ],
   "source": [
    "sns.boxplot(data=df_company, y=\"Net Income (M$)\", x='Company Size')"
   ]
  },
  {
   "cell_type": "markdown",
   "metadata": {},
   "source": [
    "### 1.6. (3 points) A better way to assess the performance of companies is to look at their `Return on Assets` instead of looking only at net income. The return on assets indicates how much profit the company generates relative to the amount that it invested to make profits. \n",
    "\n",
    "- Create a new numerical variable (call it `Return on Assets`) based on the formula: **Return on Assets = Net Income/Total Assets**. \n",
    "\n",
    "- What is the shape of the distribution of the variable `Return on Assets`? For this question, you are expected to create **both** a histogram and a boxplot, and comment about the shape of the distribution and if there are any companies with an outlier return on assets value.\n",
    "\n",
    "- Create a side-by-side boxplot to compare the distribtution of `Return on Assets` for both Large and Small companies. What does this graph tell you about the return on assets for both types of companies?"
   ]
  },
  {
   "cell_type": "code",
   "execution_count": 13,
   "metadata": {
    "tags": []
   },
   "outputs": [
    {
     "name": "stdout",
     "output_type": "stream",
     "text": [
      "<class 'pandas.core.frame.DataFrame'>\n",
      "RangeIndex: 167 entries, 0 to 166\n",
      "Data columns (total 6 columns):\n",
      " #   Column             Non-Null Count  Dtype \n",
      "---  ------             --------------  ----- \n",
      " 0   Company Name       167 non-null    object\n",
      " 1   Total Assets (M$)  167 non-null    int64 \n",
      " 2   Net Income (M$)    167 non-null    int64 \n",
      " 3   # Employees        167 non-null    int64 \n",
      " 4   Profit             167 non-null    object\n",
      " 5   Company Size       167 non-null    object\n",
      "dtypes: int64(3), object(3)\n",
      "memory usage: 8.0+ KB\n"
     ]
    }
   ],
   "source": [
    "df_company.info()"
   ]
  },
  {
   "cell_type": "code",
   "execution_count": 14,
   "metadata": {
    "tags": []
   },
   "outputs": [
    {
     "data": {
      "text/html": [
       "<div>\n",
       "<style scoped>\n",
       "    .dataframe tbody tr th:only-of-type {\n",
       "        vertical-align: middle;\n",
       "    }\n",
       "\n",
       "    .dataframe tbody tr th {\n",
       "        vertical-align: top;\n",
       "    }\n",
       "\n",
       "    .dataframe thead th {\n",
       "        text-align: right;\n",
       "    }\n",
       "</style>\n",
       "<table border=\"1\" class=\"dataframe\">\n",
       "  <thead>\n",
       "    <tr style=\"text-align: right;\">\n",
       "      <th></th>\n",
       "      <th>Company Name</th>\n",
       "      <th>Total Assets (M$)</th>\n",
       "      <th>Net Income (M$)</th>\n",
       "      <th># Employees</th>\n",
       "      <th>Profit</th>\n",
       "      <th>Company Size</th>\n",
       "      <th>Return on Assets</th>\n",
       "    </tr>\n",
       "  </thead>\n",
       "  <tbody>\n",
       "    <tr>\n",
       "      <th>0</th>\n",
       "      <td>1-800-FLOWERS.COM</td>\n",
       "      <td>256</td>\n",
       "      <td>-4</td>\n",
       "      <td>2200</td>\n",
       "      <td>Loss</td>\n",
       "      <td>Small</td>\n",
       "      <td>-0.015625</td>\n",
       "    </tr>\n",
       "    <tr>\n",
       "      <th>1</th>\n",
       "      <td>99 CENTS ONLY STORES</td>\n",
       "      <td>824</td>\n",
       "      <td>74</td>\n",
       "      <td>12000</td>\n",
       "      <td>Profit</td>\n",
       "      <td>Large</td>\n",
       "      <td>0.089806</td>\n",
       "    </tr>\n",
       "    <tr>\n",
       "      <th>2</th>\n",
       "      <td>A.C. MOORE ARTS &amp; CRAFTS INC</td>\n",
       "      <td>237</td>\n",
       "      <td>-30</td>\n",
       "      <td>4710</td>\n",
       "      <td>Loss</td>\n",
       "      <td>Small</td>\n",
       "      <td>-0.126582</td>\n",
       "    </tr>\n",
       "    <tr>\n",
       "      <th>3</th>\n",
       "      <td>ABERCROMBIE &amp; FITCH  -CL A</td>\n",
       "      <td>2948</td>\n",
       "      <td>150</td>\n",
       "      <td>85000</td>\n",
       "      <td>Profit</td>\n",
       "      <td>Large</td>\n",
       "      <td>0.050882</td>\n",
       "    </tr>\n",
       "    <tr>\n",
       "      <th>4</th>\n",
       "      <td>ADVANCE AUTO PARTS INC</td>\n",
       "      <td>3354</td>\n",
       "      <td>346</td>\n",
       "      <td>51017</td>\n",
       "      <td>Profit</td>\n",
       "      <td>Large</td>\n",
       "      <td>0.103160</td>\n",
       "    </tr>\n",
       "  </tbody>\n",
       "</table>\n",
       "</div>"
      ],
      "text/plain": [
       "                   Company Name  Total Assets (M$)  Net Income (M$)  \\\n",
       "0             1-800-FLOWERS.COM                256               -4   \n",
       "1          99 CENTS ONLY STORES                824               74   \n",
       "2  A.C. MOORE ARTS & CRAFTS INC                237              -30   \n",
       "3    ABERCROMBIE & FITCH  -CL A               2948              150   \n",
       "4        ADVANCE AUTO PARTS INC               3354              346   \n",
       "\n",
       "   # Employees  Profit Company Size  Return on Assets  \n",
       "0         2200    Loss        Small         -0.015625  \n",
       "1        12000  Profit        Large          0.089806  \n",
       "2         4710    Loss        Small         -0.126582  \n",
       "3        85000  Profit        Large          0.050882  \n",
       "4        51017  Profit        Large          0.103160  "
      ]
     },
     "execution_count": 14,
     "metadata": {},
     "output_type": "execute_result"
    }
   ],
   "source": [
    "df_company['Return on Assets'] = df_company['Net Income (M$)']/df_company['Total Assets (M$)']\n",
    "df_company.head()"
   ]
  },
  {
   "cell_type": "code",
   "execution_count": 15,
   "metadata": {
    "tags": []
   },
   "outputs": [
    {
     "data": {
      "text/plain": [
       "<Axes: xlabel='Return on Assets', ylabel='Count'>"
      ]
     },
     "execution_count": 15,
     "metadata": {},
     "output_type": "execute_result"
    },
    {
     "data": {
      "image/png": "[encoded data removed]",
      "text/plain": [
       "<Figure size 640x480 with 1 Axes>"
      ]
     },
     "metadata": {},
     "output_type": "display_data"
    }
   ],
   "source": [
    "sns.histplot(df_company['Return on Assets'])"
   ]
  },
  {
   "cell_type": "code",
   "execution_count": 16,
   "metadata": {
    "tags": []
   },
   "outputs": [
    {
     "data": {
      "text/plain": [
       "<Axes: ylabel='Return on Assets'>"
      ]
     },
     "execution_count": 16,
     "metadata": {},
     "output_type": "execute_result"
    },
    {
     "data": {
      "image/png": "[encoded data removed]",
      "text/plain": [
       "<Figure size 640x480 with 1 Axes>"
      ]
     },
     "metadata": {},
     "output_type": "display_data"
    }
   ],
   "source": [
    "sns.boxplot(df_company, y = 'Return on Assets')"
   ]
  },
  {
   "cell_type": "code",
   "execution_count": 17,
   "metadata": {
    "tags": []
   },
   "outputs": [
    {
     "data": {
      "text/plain": [
       "<Axes: xlabel='Company Size', ylabel='Return on Assets'>"
      ]
     },
     "execution_count": 17,
     "metadata": {},
     "output_type": "execute_result"
    },
    {
     "data": {
      "image/png": "[encoded data removed]",
      "text/plain": [
       "<Figure size 640x480 with 1 Axes>"
      ]
     },
     "metadata": {},
     "output_type": "display_data"
    }
   ],
   "source": [
    "sns.boxplot(df_company, x = 'Company Size', y = 'Return on Assets')"
   ]
  },
  {
   "cell_type": "markdown",
   "metadata": {},
   "source": [
    "### 1.7. (1 point) Which company has the least return on assets?"
   ]
  },
  {
   "cell_type": "markdown",
   "metadata": {},
   "source": [
    "SCHOOL SPECIALTY INC is the company which has the least return on assets"
   ]
  },
  {
   "cell_type": "code",
   "execution_count": 18,
   "metadata": {
    "tags": []
   },
   "outputs": [
    {
     "data": {
      "text/html": [
       "<div>\n",
       "<style scoped>\n",
       "    .dataframe tbody tr th:only-of-type {\n",
       "        vertical-align: middle;\n",
       "    }\n",
       "\n",
       "    .dataframe tbody tr th {\n",
       "        vertical-align: top;\n",
       "    }\n",
       "\n",
       "    .dataframe thead th {\n",
       "        text-align: right;\n",
       "    }\n",
       "</style>\n",
       "<table border=\"1\" class=\"dataframe\">\n",
       "  <thead>\n",
       "    <tr style=\"text-align: right;\">\n",
       "      <th></th>\n",
       "      <th>Company Name</th>\n",
       "      <th>Total Assets (M$)</th>\n",
       "      <th>Net Income (M$)</th>\n",
       "      <th># Employees</th>\n",
       "      <th>Profit</th>\n",
       "      <th>Company Size</th>\n",
       "      <th>Return on Assets</th>\n",
       "    </tr>\n",
       "  </thead>\n",
       "  <tbody>\n",
       "    <tr>\n",
       "      <th>123</th>\n",
       "      <td>SCHOOL SPECIALTY INC</td>\n",
       "      <td>638</td>\n",
       "      <td>-356</td>\n",
       "      <td>1919</td>\n",
       "      <td>Loss</td>\n",
       "      <td>Small</td>\n",
       "      <td>-0.557994</td>\n",
       "    </tr>\n",
       "  </tbody>\n",
       "</table>\n",
       "</div>"
      ],
      "text/plain": [
       "             Company Name  Total Assets (M$)  Net Income (M$)  # Employees  \\\n",
       "123  SCHOOL SPECIALTY INC                638             -356         1919   \n",
       "\n",
       "    Profit Company Size  Return on Assets  \n",
       "123   Loss        Small         -0.557994  "
      ]
     },
     "execution_count": 18,
     "metadata": {},
     "output_type": "execute_result"
    }
   ],
   "source": [
    "df_company.sort_values(by = 'Return on Assets').head(1)"
   ]
  },
  {
   "cell_type": "markdown",
   "metadata": {},
   "source": [
    "## Problem 2: Data Analytics Jobs in the USA\n",
    "\n",
    "Soon you will start getting ready to explore the job market for data analyst/data scientist positions (internship and full time). In this case study, we will assess the job market in the USA, and in particular, we are interested to learn which business sectors and companies are looking to hire data analysts in different US states. This should get you started with your internship search for Summer 2022.\n",
    "\n",
    "The data set (`DataAnalyst.csv`) is available for download from blackboard. It is scrapped and cleaned from GlassDoor using this [web scrapper](https://github.com/picklesueat/data_jobs_data/blob/master/glass_scraper.py). We will learn how to scrap data from the web in the second half of the semester.\n",
    "\n",
    "The dataset has a sample of 2,253 job listings. The following table describes some of the variables necessary to answer the questions in this quiz:\n",
    "\n",
    "|**Variables**    |**Explanation**|\n",
    "|:-----------------|:--------------|\n",
    "|`Job Title`| listing's job title\n",
    "|`Job Description`| listing's job description\n",
    "|`Rating`| the company's rating on Glassdoor\n",
    "|`Company Name` | the listing company's name\n",
    "|`City` | city location of the company \n",
    "|`State`| state location of the company\n",
    "|`Size` | number of employees in the company \n",
    "|`Founded`| the year the company was founded\n",
    "|`Type of ownership`| is the company private, public, non-profit, etc.?\n",
    "|`Industry`| primary business activity \n",
    "|`Sector`| economic sector classification for the company\n",
    "|`Revenue`| company's income generated from business operations\n",
    "|`Competitors`| the company's list of competitors\n",
    "|`Min_Salary`| the minimum salary listing for the position\n",
    "|`Max_Salary`| the maximum salary listing for the position\n",
    "\n",
    "**In this homework, we assume that the sample of 2,253 job listings is a representative of the population of job listings in the USA.**"
   ]
  },
  {
   "cell_type": "markdown",
   "metadata": {},
   "source": [
    "### 2.1 (1 point) What are the top 4 sectors with the highest count of job listings?"
   ]
  },
  {
   "cell_type": "code",
   "execution_count": 19,
   "metadata": {
    "tags": []
   },
   "outputs": [
    {
     "data": {
      "text/html": [
       "<div>\n",
       "<style scoped>\n",
       "    .dataframe tbody tr th:only-of-type {\n",
       "        vertical-align: middle;\n",
       "    }\n",
       "\n",
       "    .dataframe tbody tr th {\n",
       "        vertical-align: top;\n",
       "    }\n",
       "\n",
       "    .dataframe thead th {\n",
       "        text-align: right;\n",
       "    }\n",
       "</style>\n",
       "<table border=\"1\" class=\"dataframe\">\n",
       "  <thead>\n",
       "    <tr style=\"text-align: right;\">\n",
       "      <th></th>\n",
       "      <th>Job Title</th>\n",
       "      <th>Job Description</th>\n",
       "      <th>Rating</th>\n",
       "      <th>Company Name</th>\n",
       "      <th>City</th>\n",
       "      <th>State</th>\n",
       "      <th>Size</th>\n",
       "      <th>Founded</th>\n",
       "      <th>Type of ownership</th>\n",
       "      <th>Industry</th>\n",
       "      <th>Sector</th>\n",
       "      <th>Revenue</th>\n",
       "      <th>Competitors</th>\n",
       "      <th>Min_Salary</th>\n",
       "      <th>Max_Salary</th>\n",
       "    </tr>\n",
       "  </thead>\n",
       "  <tbody>\n",
       "    <tr>\n",
       "      <th>0</th>\n",
       "      <td>Data Analyst, Center on Immigration and Justic...</td>\n",
       "      <td>Are you eager to roll up your sleeves and harn...</td>\n",
       "      <td>3.2</td>\n",
       "      <td>Vera Institute of Justice</td>\n",
       "      <td>New York</td>\n",
       "      <td>NY</td>\n",
       "      <td>201 to 500 employees</td>\n",
       "      <td>1961.0</td>\n",
       "      <td>Nonprofit Organization</td>\n",
       "      <td>Social Assistance</td>\n",
       "      <td>Non-Profit</td>\n",
       "      <td>$100 to $500 million (USD)</td>\n",
       "      <td>NaN</td>\n",
       "      <td>37</td>\n",
       "      <td>66</td>\n",
       "    </tr>\n",
       "    <tr>\n",
       "      <th>1</th>\n",
       "      <td>Quality Data Analyst</td>\n",
       "      <td>Overview\\n\\nProvides analytical and technical ...</td>\n",
       "      <td>3.8</td>\n",
       "      <td>Visiting Nurse Service of New York</td>\n",
       "      <td>New York</td>\n",
       "      <td>NY</td>\n",
       "      <td>10000+ employees</td>\n",
       "      <td>1893.0</td>\n",
       "      <td>Nonprofit Organization</td>\n",
       "      <td>Health Care Services &amp; Hospitals</td>\n",
       "      <td>Health Care</td>\n",
       "      <td>$2 to $5 billion (USD)</td>\n",
       "      <td>NaN</td>\n",
       "      <td>37</td>\n",
       "      <td>66</td>\n",
       "    </tr>\n",
       "    <tr>\n",
       "      <th>2</th>\n",
       "      <td>Senior Data Analyst, Insights &amp; Analytics Team...</td>\n",
       "      <td>We’re looking for a Senior Data Analyst who ha...</td>\n",
       "      <td>3.4</td>\n",
       "      <td>Squarespace</td>\n",
       "      <td>New York</td>\n",
       "      <td>NY</td>\n",
       "      <td>1001 to 5000 employees</td>\n",
       "      <td>2003.0</td>\n",
       "      <td>Company - Private</td>\n",
       "      <td>Internet</td>\n",
       "      <td>Information Technology</td>\n",
       "      <td>Unknown / Non-Applicable</td>\n",
       "      <td>GoDaddy</td>\n",
       "      <td>37</td>\n",
       "      <td>66</td>\n",
       "    </tr>\n",
       "    <tr>\n",
       "      <th>3</th>\n",
       "      <td>Data Analyst</td>\n",
       "      <td>Requisition NumberRR-0001939\\nRemote:Yes\\nWe c...</td>\n",
       "      <td>4.1</td>\n",
       "      <td>Celerity</td>\n",
       "      <td>New York</td>\n",
       "      <td>NY</td>\n",
       "      <td>201 to 500 employees</td>\n",
       "      <td>2002.0</td>\n",
       "      <td>Subsidiary or Business Segment</td>\n",
       "      <td>IT Services</td>\n",
       "      <td>Information Technology</td>\n",
       "      <td>$50 to $100 million (USD)</td>\n",
       "      <td>NaN</td>\n",
       "      <td>37</td>\n",
       "      <td>66</td>\n",
       "    </tr>\n",
       "    <tr>\n",
       "      <th>4</th>\n",
       "      <td>Reporting Data Analyst</td>\n",
       "      <td>ABOUT FANDUEL GROUP\\n\\nFanDuel Group is a worl...</td>\n",
       "      <td>3.9</td>\n",
       "      <td>FanDuel</td>\n",
       "      <td>New York</td>\n",
       "      <td>NY</td>\n",
       "      <td>501 to 1000 employees</td>\n",
       "      <td>2009.0</td>\n",
       "      <td>Company - Private</td>\n",
       "      <td>Sports &amp; Recreation</td>\n",
       "      <td>Arts, Entertainment &amp; Recreation</td>\n",
       "      <td>$100 to $500 million (USD)</td>\n",
       "      <td>DraftKings</td>\n",
       "      <td>37</td>\n",
       "      <td>66</td>\n",
       "    </tr>\n",
       "  </tbody>\n",
       "</table>\n",
       "</div>"
      ],
      "text/plain": [
       "                                           Job Title  \\\n",
       "0  Data Analyst, Center on Immigration and Justic...   \n",
       "1                               Quality Data Analyst   \n",
       "2  Senior Data Analyst, Insights & Analytics Team...   \n",
       "3                                       Data Analyst   \n",
       "4                             Reporting Data Analyst   \n",
       "\n",
       "                                     Job Description  Rating  \\\n",
       "0  Are you eager to roll up your sleeves and harn...     3.2   \n",
       "1  Overview\\n\\nProvides analytical and technical ...     3.8   \n",
       "2  We’re looking for a Senior Data Analyst who ha...     3.4   \n",
       "3  Requisition NumberRR-0001939\\nRemote:Yes\\nWe c...     4.1   \n",
       "4  ABOUT FANDUEL GROUP\\n\\nFanDuel Group is a worl...     3.9   \n",
       "\n",
       "                         Company Name      City State                    Size  \\\n",
       "0           Vera Institute of Justice  New York    NY    201 to 500 employees   \n",
       "1  Visiting Nurse Service of New York  New York    NY        10000+ employees   \n",
       "2                         Squarespace  New York    NY  1001 to 5000 employees   \n",
       "3                            Celerity  New York    NY    201 to 500 employees   \n",
       "4                             FanDuel  New York    NY   501 to 1000 employees   \n",
       "\n",
       "   Founded               Type of ownership                          Industry  \\\n",
       "0   1961.0          Nonprofit Organization                 Social Assistance   \n",
       "1   1893.0          Nonprofit Organization  Health Care Services & Hospitals   \n",
       "2   2003.0               Company - Private                          Internet   \n",
       "3   2002.0  Subsidiary or Business Segment                       IT Services   \n",
       "4   2009.0               Company - Private               Sports & Recreation   \n",
       "\n",
       "                             Sector                     Revenue Competitors  \\\n",
       "0                        Non-Profit  $100 to $500 million (USD)         NaN   \n",
       "1                       Health Care      $2 to $5 billion (USD)         NaN   \n",
       "2            Information Technology    Unknown / Non-Applicable     GoDaddy   \n",
       "3            Information Technology   $50 to $100 million (USD)         NaN   \n",
       "4  Arts, Entertainment & Recreation  $100 to $500 million (USD)  DraftKings   \n",
       "\n",
       "   Min_Salary  Max_Salary  \n",
       "0          37          66  \n",
       "1          37          66  \n",
       "2          37          66  \n",
       "3          37          66  \n",
       "4          37          66  "
      ]
     },
     "execution_count": 19,
     "metadata": {},
     "output_type": "execute_result"
    }
   ],
   "source": [
    "df_data_analyst = pd.read_csv('DataAnalyst.csv')\n",
    "df_data_analyst.head()"
   ]
  },
  {
   "cell_type": "code",
   "execution_count": 20,
   "metadata": {
    "tags": []
   },
   "outputs": [
    {
     "data": {
      "text/plain": [
       "Sector\n",
       "Information Technology    570\n",
       "Business Services         524\n",
       "Finance                   169\n",
       "Health Care               151\n",
       "Name: count, dtype: int64"
      ]
     },
     "execution_count": 20,
     "metadata": {},
     "output_type": "execute_result"
    }
   ],
   "source": [
    "df_data_analyst['Sector'].value_counts().head(4)"
   ]
  },
  {
   "cell_type": "markdown",
   "metadata": {},
   "source": [
    "### 2.2. (1 point) Suppose that you want to focus your job search in the following sectors (Information Technology, Business Services, Finance,  Health Care). Create a subset of the given dataset that include only these 4 sectors with their data (include all variables).\n",
    "\n",
    "*Name the subset dataframe `mydata`.*"
   ]
  },
  {
   "cell_type": "code",
   "execution_count": 21,
   "metadata": {},
   "outputs": [
    {
     "name": "stdout",
     "output_type": "stream",
     "text": [
      "<class 'pandas.core.frame.DataFrame'>\n",
      "Index: 1414 entries, 1 to 2252\n",
      "Data columns (total 15 columns):\n",
      " #   Column             Non-Null Count  Dtype  \n",
      "---  ------             --------------  -----  \n",
      " 0   Job Title          1414 non-null   object \n",
      " 1   Job Description    1414 non-null   object \n",
      " 2   Rating             1386 non-null   float64\n",
      " 3   Company Name       1414 non-null   object \n",
      " 4   City               1414 non-null   object \n",
      " 5   State              1414 non-null   object \n",
      " 6   Size               1414 non-null   object \n",
      " 7   Founded            1200 non-null   float64\n",
      " 8   Type of ownership  1414 non-null   object \n",
      " 9   Industry           1414 non-null   object \n",
      " 10  Sector             1414 non-null   object \n",
      " 11  Revenue            1414 non-null   object \n",
      " 12  Competitors        380 non-null    object \n",
      " 13  Min_Salary         1414 non-null   int64  \n",
      " 14  Max_Salary         1414 non-null   int64  \n",
      "dtypes: float64(2), int64(2), object(11)\n",
      "memory usage: 176.8+ KB\n"
     ]
    }
   ],
   "source": [
    "mydata = df_data_analyst[(df_data_analyst['Sector'] == 'Information Technology') | (df_data_analyst['Sector'] ==  'Business Services') | (df_data_analyst['Sector'] == 'Finance') | (df_data_analyst['Sector'] == 'Health Care')]\n",
    "mydata.info()"
   ]
  },
  {
   "cell_type": "code",
   "execution_count": 22,
   "metadata": {
    "tags": []
   },
   "outputs": [
    {
     "data": {
      "text/plain": [
       "array(['Health Care', 'Information Technology', 'Finance',\n",
       "       'Business Services'], dtype=object)"
      ]
     },
     "execution_count": 22,
     "metadata": {},
     "output_type": "execute_result"
    }
   ],
   "source": [
    "mydata['Sector'].unique()"
   ]
  },
  {
   "cell_type": "markdown",
   "metadata": {},
   "source": [
    "### 2.3 (2 points) You are given the range of salary for each job listing (minimum and maximum salary). Add a new variable to `mydata` to estimate the salary of the for each of the listing in the dataset. The estimate salary is the average of the given minimum and maximum salary.\n",
    "\n",
    "*Name the the new column `Est_Salary`.*\n",
    "\n",
    "What is the **average**, and **standard deviation** for the estimated salary among the 4 sectors listed in `mydata` dataframe?"
   ]
  },
  {
   "cell_type": "code",
   "execution_count": 23,
   "metadata": {},
   "outputs": [
    {
     "name": "stderr",
     "output_type": "stream",
     "text": [
      "/var/folders/76/7ftvty753sx628h00l7k3dy80000gn/T/ipykernel_59255/332837099.py:1: SettingWithCopyWarning: \n",
      "A value is trying to be set on a copy of a slice from a DataFrame.\n",
      "Try using .loc[row_indexer,col_indexer] = value instead\n",
      "\n",
      "See the caveats in the documentation: https://pandas.pydata.org/pandas-docs/stable/user_guide/indexing.html#returning-a-view-versus-a-copy\n",
      "  mydata.loc[:, 'Est_Salary'] = (mydata.loc[:, 'Min_Salary']+mydata.loc[:, 'Max_Salary'])/2\n"
     ]
    }
   ],
   "source": [
    "mydata.loc[:, 'Est_Salary'] = (mydata.loc[:, 'Min_Salary']+mydata.loc[:, 'Max_Salary'])/2"
   ]
  },
  {
   "cell_type": "code",
   "execution_count": 24,
   "metadata": {
    "tags": []
   },
   "outputs": [
    {
     "data": {
      "text/html": [
       "<div>\n",
       "<style scoped>\n",
       "    .dataframe tbody tr th:only-of-type {\n",
       "        vertical-align: middle;\n",
       "    }\n",
       "\n",
       "    .dataframe tbody tr th {\n",
       "        vertical-align: top;\n",
       "    }\n",
       "\n",
       "    .dataframe thead tr th {\n",
       "        text-align: left;\n",
       "    }\n",
       "\n",
       "    .dataframe thead tr:last-of-type th {\n",
       "        text-align: right;\n",
       "    }\n",
       "</style>\n",
       "<table border=\"1\" class=\"dataframe\">\n",
       "  <thead>\n",
       "    <tr>\n",
       "      <th></th>\n",
       "      <th colspan=\"2\" halign=\"left\">Est_Salary</th>\n",
       "    </tr>\n",
       "    <tr>\n",
       "      <th></th>\n",
       "      <th>mean</th>\n",
       "      <th>std</th>\n",
       "    </tr>\n",
       "    <tr>\n",
       "      <th>Sector</th>\n",
       "      <th></th>\n",
       "      <th></th>\n",
       "    </tr>\n",
       "  </thead>\n",
       "  <tbody>\n",
       "    <tr>\n",
       "      <th>Business Services</th>\n",
       "      <td>72.135496</td>\n",
       "      <td>22.411196</td>\n",
       "    </tr>\n",
       "    <tr>\n",
       "      <th>Finance</th>\n",
       "      <td>67.644970</td>\n",
       "      <td>22.545747</td>\n",
       "    </tr>\n",
       "    <tr>\n",
       "      <th>Health Care</th>\n",
       "      <td>72.807947</td>\n",
       "      <td>26.554150</td>\n",
       "    </tr>\n",
       "    <tr>\n",
       "      <th>Information Technology</th>\n",
       "      <td>74.247368</td>\n",
       "      <td>25.520887</td>\n",
       "    </tr>\n",
       "  </tbody>\n",
       "</table>\n",
       "</div>"
      ],
      "text/plain": [
       "                       Est_Salary           \n",
       "                             mean        std\n",
       "Sector                                      \n",
       "Business Services       72.135496  22.411196\n",
       "Finance                 67.644970  22.545747\n",
       "Health Care             72.807947  26.554150\n",
       "Information Technology  74.247368  25.520887"
      ]
     },
     "execution_count": 24,
     "metadata": {},
     "output_type": "execute_result"
    }
   ],
   "source": [
    "mydata[['Sector', 'Est_Salary']].groupby('Sector').describe().loc[:,(slice(None),['mean','std'])]"
   ]
  },
  {
   "cell_type": "code",
   "execution_count": 25,
   "metadata": {
    "tags": []
   },
   "outputs": [
    {
     "data": {
      "text/html": [
       "<div>\n",
       "<style scoped>\n",
       "    .dataframe tbody tr th:only-of-type {\n",
       "        vertical-align: middle;\n",
       "    }\n",
       "\n",
       "    .dataframe tbody tr th {\n",
       "        vertical-align: top;\n",
       "    }\n",
       "\n",
       "    .dataframe thead tr th {\n",
       "        text-align: left;\n",
       "    }\n",
       "\n",
       "    .dataframe thead tr:last-of-type th {\n",
       "        text-align: right;\n",
       "    }\n",
       "</style>\n",
       "<table border=\"1\" class=\"dataframe\">\n",
       "  <thead>\n",
       "    <tr>\n",
       "      <th></th>\n",
       "      <th colspan=\"8\" halign=\"left\">Est_Salary</th>\n",
       "    </tr>\n",
       "    <tr>\n",
       "      <th></th>\n",
       "      <th>count</th>\n",
       "      <th>mean</th>\n",
       "      <th>std</th>\n",
       "      <th>min</th>\n",
       "      <th>25%</th>\n",
       "      <th>50%</th>\n",
       "      <th>75%</th>\n",
       "      <th>max</th>\n",
       "    </tr>\n",
       "    <tr>\n",
       "      <th>Sector</th>\n",
       "      <th></th>\n",
       "      <th></th>\n",
       "      <th></th>\n",
       "      <th></th>\n",
       "      <th></th>\n",
       "      <th></th>\n",
       "      <th></th>\n",
       "      <th></th>\n",
       "    </tr>\n",
       "  </thead>\n",
       "  <tbody>\n",
       "    <tr>\n",
       "      <th>Business Services</th>\n",
       "      <td>524.0</td>\n",
       "      <td>72.135496</td>\n",
       "      <td>22.411196</td>\n",
       "      <td>0.0</td>\n",
       "      <td>59.50</td>\n",
       "      <td>68.5</td>\n",
       "      <td>80.5</td>\n",
       "      <td>150.0</td>\n",
       "    </tr>\n",
       "    <tr>\n",
       "      <th>Finance</th>\n",
       "      <td>169.0</td>\n",
       "      <td>67.644970</td>\n",
       "      <td>22.545747</td>\n",
       "      <td>33.5</td>\n",
       "      <td>53.00</td>\n",
       "      <td>63.5</td>\n",
       "      <td>76.0</td>\n",
       "      <td>138.5</td>\n",
       "    </tr>\n",
       "    <tr>\n",
       "      <th>Health Care</th>\n",
       "      <td>151.0</td>\n",
       "      <td>72.807947</td>\n",
       "      <td>26.554150</td>\n",
       "      <td>33.5</td>\n",
       "      <td>53.75</td>\n",
       "      <td>68.0</td>\n",
       "      <td>87.0</td>\n",
       "      <td>150.0</td>\n",
       "    </tr>\n",
       "    <tr>\n",
       "      <th>Information Technology</th>\n",
       "      <td>570.0</td>\n",
       "      <td>74.247368</td>\n",
       "      <td>25.520887</td>\n",
       "      <td>33.5</td>\n",
       "      <td>59.00</td>\n",
       "      <td>70.0</td>\n",
       "      <td>85.0</td>\n",
       "      <td>150.0</td>\n",
       "    </tr>\n",
       "  </tbody>\n",
       "</table>\n",
       "</div>"
      ],
      "text/plain": [
       "                       Est_Salary                                           \\\n",
       "                            count       mean        std   min    25%   50%   \n",
       "Sector                                                                       \n",
       "Business Services           524.0  72.135496  22.411196   0.0  59.50  68.5   \n",
       "Finance                     169.0  67.644970  22.545747  33.5  53.00  63.5   \n",
       "Health Care                 151.0  72.807947  26.554150  33.5  53.75  68.0   \n",
       "Information Technology      570.0  74.247368  25.520887  33.5  59.00  70.0   \n",
       "\n",
       "                                     \n",
       "                         75%    max  \n",
       "Sector                               \n",
       "Business Services       80.5  150.0  \n",
       "Finance                 76.0  138.5  \n",
       "Health Care             87.0  150.0  \n",
       "Information Technology  85.0  150.0  "
      ]
     },
     "execution_count": 25,
     "metadata": {},
     "output_type": "execute_result"
    }
   ],
   "source": [
    "mydata[['Sector', 'Est_Salary']].groupby('Sector').describe()"
   ]
  },
  {
   "cell_type": "code",
   "execution_count": 26,
   "metadata": {
    "tags": []
   },
   "outputs": [
    {
     "data": {
      "text/html": [
       "<div>\n",
       "<style scoped>\n",
       "    .dataframe tbody tr th:only-of-type {\n",
       "        vertical-align: middle;\n",
       "    }\n",
       "\n",
       "    .dataframe tbody tr th {\n",
       "        vertical-align: top;\n",
       "    }\n",
       "\n",
       "    .dataframe thead th {\n",
       "        text-align: right;\n",
       "    }\n",
       "</style>\n",
       "<table border=\"1\" class=\"dataframe\">\n",
       "  <thead>\n",
       "    <tr style=\"text-align: right;\">\n",
       "      <th></th>\n",
       "      <th>Job Title</th>\n",
       "      <th>Job Description</th>\n",
       "      <th>Rating</th>\n",
       "      <th>Company Name</th>\n",
       "      <th>City</th>\n",
       "      <th>State</th>\n",
       "      <th>Size</th>\n",
       "      <th>Founded</th>\n",
       "      <th>Type of ownership</th>\n",
       "      <th>Industry</th>\n",
       "      <th>Sector</th>\n",
       "      <th>Revenue</th>\n",
       "      <th>Competitors</th>\n",
       "      <th>Min_Salary</th>\n",
       "      <th>Max_Salary</th>\n",
       "      <th>Est_Salary</th>\n",
       "    </tr>\n",
       "  </thead>\n",
       "  <tbody>\n",
       "    <tr>\n",
       "      <th>1</th>\n",
       "      <td>Quality Data Analyst</td>\n",
       "      <td>Overview\\n\\nProvides analytical and technical ...</td>\n",
       "      <td>3.8</td>\n",
       "      <td>Visiting Nurse Service of New York</td>\n",
       "      <td>New York</td>\n",
       "      <td>NY</td>\n",
       "      <td>10000+ employees</td>\n",
       "      <td>1893.0</td>\n",
       "      <td>Nonprofit Organization</td>\n",
       "      <td>Health Care Services &amp; Hospitals</td>\n",
       "      <td>Health Care</td>\n",
       "      <td>$2 to $5 billion (USD)</td>\n",
       "      <td>NaN</td>\n",
       "      <td>37</td>\n",
       "      <td>66</td>\n",
       "      <td>51.5</td>\n",
       "    </tr>\n",
       "    <tr>\n",
       "      <th>2</th>\n",
       "      <td>Senior Data Analyst, Insights &amp; Analytics Team...</td>\n",
       "      <td>We’re looking for a Senior Data Analyst who ha...</td>\n",
       "      <td>3.4</td>\n",
       "      <td>Squarespace</td>\n",
       "      <td>New York</td>\n",
       "      <td>NY</td>\n",
       "      <td>1001 to 5000 employees</td>\n",
       "      <td>2003.0</td>\n",
       "      <td>Company - Private</td>\n",
       "      <td>Internet</td>\n",
       "      <td>Information Technology</td>\n",
       "      <td>Unknown / Non-Applicable</td>\n",
       "      <td>GoDaddy</td>\n",
       "      <td>37</td>\n",
       "      <td>66</td>\n",
       "      <td>51.5</td>\n",
       "    </tr>\n",
       "    <tr>\n",
       "      <th>3</th>\n",
       "      <td>Data Analyst</td>\n",
       "      <td>Requisition NumberRR-0001939\\nRemote:Yes\\nWe c...</td>\n",
       "      <td>4.1</td>\n",
       "      <td>Celerity</td>\n",
       "      <td>New York</td>\n",
       "      <td>NY</td>\n",
       "      <td>201 to 500 employees</td>\n",
       "      <td>2002.0</td>\n",
       "      <td>Subsidiary or Business Segment</td>\n",
       "      <td>IT Services</td>\n",
       "      <td>Information Technology</td>\n",
       "      <td>$50 to $100 million (USD)</td>\n",
       "      <td>NaN</td>\n",
       "      <td>37</td>\n",
       "      <td>66</td>\n",
       "      <td>51.5</td>\n",
       "    </tr>\n",
       "  </tbody>\n",
       "</table>\n",
       "</div>"
      ],
      "text/plain": [
       "                                           Job Title  \\\n",
       "1                               Quality Data Analyst   \n",
       "2  Senior Data Analyst, Insights & Analytics Team...   \n",
       "3                                       Data Analyst   \n",
       "\n",
       "                                     Job Description  Rating  \\\n",
       "1  Overview\\n\\nProvides analytical and technical ...     3.8   \n",
       "2  We’re looking for a Senior Data Analyst who ha...     3.4   \n",
       "3  Requisition NumberRR-0001939\\nRemote:Yes\\nWe c...     4.1   \n",
       "\n",
       "                         Company Name      City State                    Size  \\\n",
       "1  Visiting Nurse Service of New York  New York    NY        10000+ employees   \n",
       "2                         Squarespace  New York    NY  1001 to 5000 employees   \n",
       "3                            Celerity  New York    NY    201 to 500 employees   \n",
       "\n",
       "   Founded               Type of ownership                          Industry  \\\n",
       "1   1893.0          Nonprofit Organization  Health Care Services & Hospitals   \n",
       "2   2003.0               Company - Private                          Internet   \n",
       "3   2002.0  Subsidiary or Business Segment                       IT Services   \n",
       "\n",
       "                   Sector                    Revenue Competitors  Min_Salary  \\\n",
       "1             Health Care     $2 to $5 billion (USD)         NaN          37   \n",
       "2  Information Technology   Unknown / Non-Applicable     GoDaddy          37   \n",
       "3  Information Technology  $50 to $100 million (USD)         NaN          37   \n",
       "\n",
       "   Max_Salary  Est_Salary  \n",
       "1          66        51.5  \n",
       "2          66        51.5  \n",
       "3          66        51.5  "
      ]
     },
     "execution_count": 26,
     "metadata": {},
     "output_type": "execute_result"
    }
   ],
   "source": [
    "mydata.head(3)"
   ]
  },
  {
   "cell_type": "markdown",
   "metadata": {},
   "source": [
    "### 2.4 (2 points) Create a side-by-side boxplot to show the distribution of salaries among the four hiring sectors (listed in `mydata`). What does the boxplot tell you about the salaries in these industries for data analysts?"
   ]
  },
  {
   "cell_type": "code",
   "execution_count": 27,
   "metadata": {},
   "outputs": [
    {
     "data": {
      "text/plain": [
       "<Axes: xlabel='Sector', ylabel='Est_Salary'>"
      ]
     },
     "execution_count": 27,
     "metadata": {},
     "output_type": "execute_result"
    },
    {
     "data": {
      "image/png": "[encoded data removed]",
      "text/plain": [
       "<Figure size 640x480 with 1 Axes>"
      ]
     },
     "metadata": {},
     "output_type": "display_data"
    }
   ],
   "source": [
    "sns.boxplot(data = mydata, x = 'Sector', y = 'Est_Salary')"
   ]
  },
  {
   "cell_type": "markdown",
   "metadata": {},
   "source": [
    "Seeing the data distribution across these 4 industries especially on the median, it can concluded that the salaries for data analyst in the industries are quite comparable and competitive one another."
   ]
  },
  {
   "cell_type": "markdown",
   "metadata": {},
   "source": [
    "### 2.5 (2 points) List the company names (distinct) in the **Information Technology** sector has job postings with estimated salaries above 100K dollars?"
   ]
  },
  {
   "cell_type": "code",
   "execution_count": 28,
   "metadata": {},
   "outputs": [
    {
     "data": {
      "text/plain": [
       "array(['Criteo', 'Tekfortune Inc.', 'Staffigo Technical Services, LLC',\n",
       "       '8K Miles Software Services, Inc.', 'VTS',\n",
       "       'RMS Computer Corporation', 'Reliable Software Resources',\n",
       "       'Oracle', 'Avani Technology Solutions', 'Primesoft',\n",
       "       'Systemart LLC', 'TechProjects', 'Information Technology Partners',\n",
       "       'TikTok', 'Synchronous Solutions, Inc', 'HR Pundits',\n",
       "       'Softpath System LLC', 'Motorola Solutions', 'Capgemini', 'NVIDIA',\n",
       "       'Risk Management Solutions (RMS)', 'LeanData', 'Alteryx',\n",
       "       'L&T Infotech', 'IntraEdge', 'Joomag, Inc.', 'Moveworks', 'Ursus',\n",
       "       'Nuro', 'TalentBurst, Inc.', 'BayOne Solutions', 'Logic Planet',\n",
       "       'Netflix', 'Diverse Lynx', 'Adwait Algorithm', 'Netflix, Inc.',\n",
       "       'Apple', 'Collabera', 'Crystal Equation', 'Frontend Arts',\n",
       "       'Poshmark', 'Zolon Tech Solutions Inc.', 'Lodestone', 'SAP',\n",
       "       'Calsoft Labs', 'Coinbase', 'Trifacta', 'Wilbur Labs',\n",
       "       'User Testing', 'Priceonomics', 'BOLD', 'Flatiron Health',\n",
       "       'Twitter', 'Evolver, Inc.', 'Lyft', 'Scale AI', 'Softova Inc',\n",
       "       'LeadStack', 'TaskRabbit'], dtype=object)"
      ]
     },
     "execution_count": 28,
     "metadata": {},
     "output_type": "execute_result"
    }
   ],
   "source": [
    "mydata[(mydata['Sector'] == 'Information Technology') & (mydata['Est_Salary'] > 100)]['Company Name'].unique()"
   ]
  },
  {
   "cell_type": "markdown",
   "metadata": {},
   "source": [
    "### 2.6 (3 points) Use the dataset with the 4 sectors (`mydata`) to create a dot plot (lollipop plot) that shows the top 15 states with the highest average salaries.\n",
    "\n",
    "*Name the dataframe `top15states`*\n",
    "\n",
    "*The resulting dataframe should have two columns (`State`, `Avg Salary`), where `Avg Salary` is the mean salary in the corresponding `State`*\n",
    "\n",
    "*Use two different colors of your choice to distingusih between the states with avegrage salary larger than \\$75K and thos with average salary less than \\$75K.* "
   ]
  },
  {
   "cell_type": "code",
   "execution_count": 29,
   "metadata": {
    "tags": []
   },
   "outputs": [
    {
     "name": "stdout",
     "output_type": "stream",
     "text": [
      "<class 'pandas.core.frame.DataFrame'>\n",
      "Index: 1414 entries, 1 to 2252\n",
      "Data columns (total 16 columns):\n",
      " #   Column             Non-Null Count  Dtype  \n",
      "---  ------             --------------  -----  \n",
      " 0   Job Title          1414 non-null   object \n",
      " 1   Job Description    1414 non-null   object \n",
      " 2   Rating             1386 non-null   float64\n",
      " 3   Company Name       1414 non-null   object \n",
      " 4   City               1414 non-null   object \n",
      " 5   State              1414 non-null   object \n",
      " 6   Size               1414 non-null   object \n",
      " 7   Founded            1200 non-null   float64\n",
      " 8   Type of ownership  1414 non-null   object \n",
      " 9   Industry           1414 non-null   object \n",
      " 10  Sector             1414 non-null   object \n",
      " 11  Revenue            1414 non-null   object \n",
      " 12  Competitors        380 non-null    object \n",
      " 13  Min_Salary         1414 non-null   int64  \n",
      " 14  Max_Salary         1414 non-null   int64  \n",
      " 15  Est_Salary         1414 non-null   float64\n",
      "dtypes: float64(3), int64(2), object(11)\n",
      "memory usage: 187.8+ KB\n"
     ]
    }
   ],
   "source": [
    "mydata.info()"
   ]
  },
  {
   "cell_type": "code",
   "execution_count": 30,
   "metadata": {
    "tags": []
   },
   "outputs": [
    {
     "data": {
      "text/html": [
       "<div>\n",
       "<style scoped>\n",
       "    .dataframe tbody tr th:only-of-type {\n",
       "        vertical-align: middle;\n",
       "    }\n",
       "\n",
       "    .dataframe tbody tr th {\n",
       "        vertical-align: top;\n",
       "    }\n",
       "\n",
       "    .dataframe thead th {\n",
       "        text-align: right;\n",
       "    }\n",
       "</style>\n",
       "<table border=\"1\" class=\"dataframe\">\n",
       "  <thead>\n",
       "    <tr style=\"text-align: right;\">\n",
       "      <th></th>\n",
       "      <th>Est_Salary</th>\n",
       "    </tr>\n",
       "    <tr>\n",
       "      <th>State</th>\n",
       "      <th></th>\n",
       "    </tr>\n",
       "  </thead>\n",
       "  <tbody>\n",
       "    <tr>\n",
       "      <th>CA</th>\n",
       "      <td>90.986595</td>\n",
       "    </tr>\n",
       "    <tr>\n",
       "      <th>IL</th>\n",
       "      <td>78.027778</td>\n",
       "    </tr>\n",
       "    <tr>\n",
       "      <th>NJ</th>\n",
       "      <td>73.925000</td>\n",
       "    </tr>\n",
       "    <tr>\n",
       "      <th>CO</th>\n",
       "      <td>73.100000</td>\n",
       "    </tr>\n",
       "    <tr>\n",
       "      <th>NY</th>\n",
       "      <td>71.856195</td>\n",
       "    </tr>\n",
       "    <tr>\n",
       "      <th>AZ</th>\n",
       "      <td>70.771186</td>\n",
       "    </tr>\n",
       "    <tr>\n",
       "      <th>SC</th>\n",
       "      <td>70.250000</td>\n",
       "    </tr>\n",
       "    <tr>\n",
       "      <th>NC</th>\n",
       "      <td>67.849206</td>\n",
       "    </tr>\n",
       "    <tr>\n",
       "      <th>VA</th>\n",
       "      <td>65.074074</td>\n",
       "    </tr>\n",
       "    <tr>\n",
       "      <th>WA</th>\n",
       "      <td>62.545455</td>\n",
       "    </tr>\n",
       "    <tr>\n",
       "      <th>PA</th>\n",
       "      <td>60.801471</td>\n",
       "    </tr>\n",
       "    <tr>\n",
       "      <th>TX</th>\n",
       "      <td>59.454183</td>\n",
       "    </tr>\n",
       "    <tr>\n",
       "      <th>DE</th>\n",
       "      <td>59.166667</td>\n",
       "    </tr>\n",
       "    <tr>\n",
       "      <th>FL</th>\n",
       "      <td>52.000000</td>\n",
       "    </tr>\n",
       "    <tr>\n",
       "      <th>KS</th>\n",
       "      <td>51.500000</td>\n",
       "    </tr>\n",
       "  </tbody>\n",
       "</table>\n",
       "</div>"
      ],
      "text/plain": [
       "       Est_Salary\n",
       "State            \n",
       "CA      90.986595\n",
       "IL      78.027778\n",
       "NJ      73.925000\n",
       "CO      73.100000\n",
       "NY      71.856195\n",
       "AZ      70.771186\n",
       "SC      70.250000\n",
       "NC      67.849206\n",
       "VA      65.074074\n",
       "WA      62.545455\n",
       "PA      60.801471\n",
       "TX      59.454183\n",
       "DE      59.166667\n",
       "FL      52.000000\n",
       "KS      51.500000"
      ]
     },
     "execution_count": 30,
     "metadata": {},
     "output_type": "execute_result"
    }
   ],
   "source": [
    "top15states = mydata[['State', 'Est_Salary']].groupby('State').mean().sort_values(by = 'Est_Salary', ascending = False).head(15)\n",
    "top15states"
   ]
  },
  {
   "cell_type": "code",
   "execution_count": 31,
   "metadata": {
    "tags": []
   },
   "outputs": [
    {
     "data": {
      "text/plain": [
       "['orange',\n",
       " 'orange',\n",
       " 'skyblue',\n",
       " 'skyblue',\n",
       " 'skyblue',\n",
       " 'skyblue',\n",
       " 'skyblue',\n",
       " 'skyblue',\n",
       " 'skyblue',\n",
       " 'skyblue',\n",
       " 'skyblue',\n",
       " 'skyblue',\n",
       " 'skyblue',\n",
       " 'skyblue',\n",
       " 'skyblue']"
      ]
     },
     "execution_count": 31,
     "metadata": {},
     "output_type": "execute_result"
    }
   ],
   "source": [
    "mycolors = [\"orange\" if x >= 75 else \"skyblue\" for x in top15states['Est_Salary']]\n",
    "mycolors"
   ]
  },
  {
   "cell_type": "code",
   "execution_count": 33,
   "metadata": {},
   "outputs": [
    {
     "data": {
      "image/png": "[encoded data removed]",
      "text/plain": [
       "<Figure size 640x480 with 1 Axes>"
      ]
     },
     "metadata": {},
     "output_type": "display_data"
    }
   ],
   "source": [
    "mycolors = [\"orange\" if x >= 75 else \"skyblue\" for x in top15states['Est_Salary']]\n",
    "\n",
    "plt.style.use('default')\n",
    "\n",
    "plt.hlines(y = top15states.index, xmin = 0, xmax = top15states, color=mycolors)\n",
    "plt.scatter(top15states, top15states.index, s = 60, color = mycolors)\n",
    "plt.title('Top 15 States with Average Highest Salaries')\n",
    "plt.xlabel('Estimated Salaries')\n",
    "\n",
    "plt.show()"
   ]
  }
 ],
 "metadata": {
  "colab": {
   "name": "Homework01-dso545-fall21.ipynb",
   "provenance": []
  },
  "interpreter": {
   "hash": "dca0ade3e726a953b501b15e8e990130d2b7799f14cfd9f4271676035ebe5511"
  },
  "kernelspec": {
   "display_name": "Python 3 (ipykernel)",
   "language": "python",
   "name": "python3"
  },
  "language_info": {
   "codemirror_mode": {
    "name": "ipython",
    "version": 3
   },
   "file_extension": ".py",
   "mimetype": "text/x-python",
   "name": "python",
   "nbconvert_exporter": "python",
   "pygments_lexer": "ipython3",
   "version": "3.11.4"
  },
  "varInspector": {
   "cols": {
    "lenName": 16,
    "lenType": 16,
    "lenVar": 40
   },
   "kernels_config": {
    "python": {
     "delete_cmd_postfix": "",
     "delete_cmd_prefix": "del ",
     "library": "var_list.py",
     "varRefreshCmd": "print(var_dic_list())"
    },
    "r": {
     "delete_cmd_postfix": ") ",
     "delete_cmd_prefix": "rm(",
     "library": "var_list.r",
     "varRefreshCmd": "cat(var_dic_list()) "
    }
   },
   "types_to_exclude": [
    "module",
    "function",
    "builtin_function_or_method",
    "instance",
    "_Feature"
   ],
   "window_display": false
  }
 },
 "nbformat": 4,
 "nbformat_minor": 4
}
