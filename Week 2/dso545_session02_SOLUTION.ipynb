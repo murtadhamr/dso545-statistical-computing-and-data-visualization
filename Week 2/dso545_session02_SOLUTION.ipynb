{
 "cells": [
  {
   "cell_type": "markdown",
   "metadata": {
    "id": "rnjBziHYnFwH"
   },
   "source": [
    "# Week 2"
   ]
  },
  {
   "cell_type": "markdown",
   "metadata": {},
   "source": [
    "**Sources:**\n",
    "\n",
    "- Python for Marketing Reserach and Analytics. J. Schwarz, C. Chapman, and E.M. Feit. Springer 2020."
   ]
  },
  {
   "cell_type": "markdown",
   "metadata": {},
   "source": [
    "# 2.1 Data Science Python Packages"
   ]
  },
  {
   "cell_type": "markdown",
   "metadata": {},
   "source": [
    "- We can extend the capabilities of Python using Python packages.\n",
    "- These Python packages are developed and maintained by the Python community\n",
    "- These packages are open-source projects which includes many powerful data science packages\n",
    "- Among these data packages, we will introduce two: `NumPy`, and `Pandas`\n",
    "- We will work extensively with `Pandas` in particular\n",
    "- Both Pandas and NumPy are available through the Anaconda installation\n",
    "- We need to import these packages to our Python working environment in order to use their functionalities\n"
   ]
  },
  {
   "cell_type": "markdown",
   "metadata": {
    "heading_collapsed": true
   },
   "source": [
    "### 2.1.1 NumPy Package"
   ]
  },
  {
   "cell_type": "markdown",
   "metadata": {
    "hidden": true
   },
   "source": [
    "- NumPy is the \"The fundamental package for scientific computing with Python\" (Source: https://numpy.org)\n",
    "- NumPy is an open-source Python package \n",
    "- Python built-in types do not include support for mathematical operations on matrices and multi-dimensional arrays, so NumPy was created to add this functionality\n",
    "- NumPy operations on arrays are much faster than equivalent Python code\n",
    "- These operations are called vectorized operations"
   ]
  },
  {
   "cell_type": "code",
   "execution_count": 46,
   "metadata": {
    "hidden": true
   },
   "outputs": [],
   "source": [
    "# import he numpy package, and give it an alias name (np) that we can use later to refer to NumPy\n",
    "\n",
    "import numpy as np"
   ]
  },
  {
   "cell_type": "markdown",
   "metadata": {
    "hidden": true
   },
   "source": [
    "- NumPy arrays are a lot like lists with some differences"
   ]
  },
  {
   "cell_type": "code",
   "execution_count": 47,
   "metadata": {
    "hidden": true
   },
   "outputs": [
    {
     "data": {
      "text/plain": [
       "array([1, 3, 4])"
      ]
     },
     "execution_count": 47,
     "metadata": {},
     "output_type": "execute_result"
    }
   ],
   "source": [
    "x = np.array([1, 3, 4])\n",
    "x"
   ]
  },
  {
   "cell_type": "code",
   "execution_count": 48,
   "metadata": {},
   "outputs": [
    {
     "data": {
      "text/plain": [
       "array([[ 0,  1,  2,  3],\n",
       "       [ 4,  5,  6,  7],\n",
       "       [ 8,  9, 10, 11]])"
      ]
     },
     "execution_count": 48,
     "metadata": {},
     "output_type": "execute_result"
    }
   ],
   "source": [
    "b = np.array([[0,1,2,3],[4,5,6,7],[8,9,10,11]])\n",
    "b"
   ]
  },
  {
   "cell_type": "markdown",
   "metadata": {
    "hidden": true
   },
   "source": [
    "- Numpy's arrays has methods different from lists"
   ]
  },
  {
   "cell_type": "code",
   "execution_count": 49,
   "metadata": {
    "hidden": true
   },
   "outputs": [
    {
     "data": {
      "text/plain": [
       "2.6666666666666665"
      ]
     },
     "execution_count": 49,
     "metadata": {},
     "output_type": "execute_result"
    }
   ],
   "source": [
    "# computes the mean of all values in the array \n",
    "\n",
    "x.mean()"
   ]
  },
  {
   "cell_type": "code",
   "execution_count": 9,
   "metadata": {
    "hidden": true
   },
   "outputs": [],
   "source": [
    "# a list does not have a mean() method\n",
    "# the following leads to an error \n",
    "\n",
    "# [1,3,4].mean()"
   ]
  },
  {
   "cell_type": "code",
   "execution_count": 10,
   "metadata": {
    "hidden": true,
    "scrolled": true
   },
   "outputs": [
    {
     "data": {
      "text/plain": [
       "dtype('int64')"
      ]
     },
     "execution_count": 10,
     "metadata": {},
     "output_type": "execute_result"
    }
   ],
   "source": [
    "# we can check the type of the array \n",
    "# x is an array integer\n",
    "\n",
    "x.dtype"
   ]
  },
  {
   "cell_type": "markdown",
   "metadata": {
    "hidden": true
   },
   "source": [
    "- NumPy arrays have a uniform type (i.e. all values should be of the same type)"
   ]
  },
  {
   "cell_type": "code",
   "execution_count": 4,
   "metadata": {
    "hidden": true
   },
   "outputs": [
    {
     "data": {
      "text/plain": [
       "[1, 3, 4, 'a', 'b']"
      ]
     },
     "execution_count": 4,
     "metadata": {},
     "output_type": "execute_result"
    }
   ],
   "source": [
    "[1, 3, 4, 'a', 'b']"
   ]
  },
  {
   "cell_type": "code",
   "execution_count": 55,
   "metadata": {
    "hidden": true
   },
   "outputs": [
    {
     "data": {
      "text/plain": [
       "dtype('<U11')"
      ]
     },
     "execution_count": 55,
     "metadata": {},
     "output_type": "execute_result"
    }
   ],
   "source": [
    "x = np.array([1, 3, 4, 'a', 'b'])\n",
    "x.dtype"
   ]
  },
  {
   "cell_type": "code",
   "execution_count": 26,
   "metadata": {
    "hidden": true
   },
   "outputs": [
    {
     "data": {
      "text/plain": [
       "array(['1', '3', '4', 'a', 'b'], dtype='<U11')"
      ]
     },
     "execution_count": 26,
     "metadata": {},
     "output_type": "execute_result"
    }
   ],
   "source": [
    "x"
   ]
  },
  {
   "cell_type": "raw",
   "metadata": {
    "hidden": true
   },
   "source": [
    " While in lists we can select a continuous slice, for example the first 3 elements of the list, NumPy arrays can be indexed arbitrarily. Getting a slice from an array is equivalent to getting a slice from a list"
   ]
  },
  {
   "cell_type": "code",
   "execution_count": 56,
   "metadata": {
    "hidden": true
   },
   "outputs": [
    {
     "data": {
      "text/plain": [
       "[7, 4, 2]"
      ]
     },
     "execution_count": 56,
     "metadata": {},
     "output_type": "execute_result"
    }
   ],
   "source": [
    "a = [7, 4, 2, 22, -12]\n",
    "a[:3]"
   ]
  },
  {
   "cell_type": "code",
   "execution_count": 57,
   "metadata": {
    "hidden": true
   },
   "outputs": [
    {
     "data": {
      "text/plain": [
       "array([7, 4, 2])"
      ]
     },
     "execution_count": 57,
     "metadata": {},
     "output_type": "execute_result"
    }
   ],
   "source": [
    "x = np.array(a)\n",
    "x[:3]"
   ]
  },
  {
   "cell_type": "markdown",
   "metadata": {
    "hidden": true
   },
   "source": [
    "- An array can be indexed with another array or list as follows"
   ]
  },
  {
   "cell_type": "code",
   "execution_count": 58,
   "metadata": {
    "hidden": true
   },
   "outputs": [
    {
     "data": {
      "text/plain": [
       "array([ 7, 22])"
      ]
     },
     "execution_count": 58,
     "metadata": {},
     "output_type": "execute_result"
    }
   ],
   "source": [
    "x[[0,3]]"
   ]
  },
  {
   "cell_type": "markdown",
   "metadata": {},
   "source": [
    "But if we tried:\n"
   ]
  },
  {
   "cell_type": "code",
   "execution_count": null,
   "metadata": {},
   "outputs": [],
   "source": []
  },
  {
   "cell_type": "code",
   "execution_count": 59,
   "metadata": {
    "hidden": true
   },
   "outputs": [
    {
     "data": {
      "text/plain": [
       "array([ 7, 22])"
      ]
     },
     "execution_count": 59,
     "metadata": {},
     "output_type": "execute_result"
    }
   ],
   "source": [
    "# Arrays can also be indexed using an array of Booleans matching the shape of the array\n",
    "\n",
    "x[[True, False, False, True, False]]"
   ]
  },
  {
   "cell_type": "markdown",
   "metadata": {
    "heading_collapsed": true,
    "hidden": true
   },
   "source": [
    "#### Vectorized Operations"
   ]
  },
  {
   "cell_type": "markdown",
   "metadata": {
    "hidden": true
   },
   "source": [
    "- NumPy arrays enable vectorized operations, which means that rather than having to operate on each element of a list, we can operate on the entire array as a whole"
   ]
  },
  {
   "cell_type": "code",
   "execution_count": 60,
   "metadata": {
    "hidden": true
   },
   "outputs": [
    {
     "data": {
      "text/plain": [
       "[49, 16, 4, 484, 144]"
      ]
     },
     "execution_count": 60,
     "metadata": {},
     "output_type": "execute_result"
    }
   ],
   "source": [
    "a = [7, 4, 2, 22, -12] \n",
    "\n",
    "# a**2 \n",
    "\n",
    "a_squared = []\n",
    "\n",
    "for v in a:\n",
    "    a_squared.append(v**2)\n",
    "\n",
    "a_squared"
   ]
  },
  {
   "cell_type": "markdown",
   "metadata": {
    "hidden": true
   },
   "source": [
    "- Element-wise operations on an entire array are very efficient on arrays (vectorized operations)"
   ]
  },
  {
   "cell_type": "code",
   "execution_count": 61,
   "metadata": {
    "hidden": true
   },
   "outputs": [
    {
     "data": {
      "text/plain": [
       "array([ 49,  16,   4, 484, 144])"
      ]
     },
     "execution_count": 61,
     "metadata": {},
     "output_type": "execute_result"
    }
   ],
   "source": [
    "x = np.array(a)\n",
    "x**2"
   ]
  },
  {
   "cell_type": "markdown",
   "metadata": {
    "hidden": true
   },
   "source": [
    "- We can also perform comparison operations element-wise on the whole array"
   ]
  },
  {
   "cell_type": "code",
   "execution_count": 62,
   "metadata": {
    "hidden": true
   },
   "outputs": [
    {
     "data": {
      "text/plain": [
       "array([ True, False, False,  True, False])"
      ]
     },
     "execution_count": 62,
     "metadata": {},
     "output_type": "execute_result"
    }
   ],
   "source": [
    "x > 5"
   ]
  },
  {
   "cell_type": "markdown",
   "metadata": {
    "hidden": true
   },
   "source": [
    "- Select all elements in the array greater than 5"
   ]
  },
  {
   "cell_type": "code",
   "execution_count": 24,
   "metadata": {
    "hidden": true
   },
   "outputs": [
    {
     "data": {
      "text/plain": [
       "array([ 7, 22])"
      ]
     },
     "execution_count": 24,
     "metadata": {},
     "output_type": "execute_result"
    }
   ],
   "source": [
    "x[x > 5]"
   ]
  },
  {
   "cell_type": "markdown",
   "metadata": {
    "hidden": true
   },
   "source": [
    "- Find the sum for all elements in the array greater than 5"
   ]
  },
  {
   "cell_type": "code",
   "execution_count": 63,
   "metadata": {
    "hidden": true
   },
   "outputs": [
    {
     "data": {
      "text/plain": [
       "29"
      ]
     },
     "execution_count": 63,
     "metadata": {},
     "output_type": "execute_result"
    }
   ],
   "source": [
    "x[x > 5].sum()"
   ]
  },
  {
   "cell_type": "markdown",
   "metadata": {},
   "source": [
    "### 2.1.2 Pandas Package"
   ]
  },
  {
   "cell_type": "markdown",
   "metadata": {},
   "source": [
    "- Pandas package is a \"fast, powerful, flexible and easy to use open source data analysis and manipulation tool, built on top of the Python programming language\" (Source: https://pandas.pydata.org)\n",
    "- Pandas was created by Wes McKinney in 2010\n",
    "- Pandas builds on the methods and types for another Python package `NumPy`\n",
    "- Pandas has new data types that simplify data structuring and analysis: `Series` and `Dataframe`"
   ]
  },
  {
   "cell_type": "code",
   "execution_count": 64,
   "metadata": {},
   "outputs": [],
   "source": [
    "import pandas as pd"
   ]
  },
  {
   "cell_type": "markdown",
   "metadata": {
    "heading_collapsed": true
   },
   "source": [
    "#### Series"
   ]
  },
  {
   "cell_type": "markdown",
   "metadata": {
    "hidden": true
   },
   "source": [
    "- Series objects in Pandas are similar to arrays in Numpy \n",
    "- The difference is that the index for Series objects is hashable\n",
    "- Hashing is a concept in computer science which is used to create high performance, pseudo random access data structures where large amount of data is to be stored and accessed quickly [(Source)](https://stackoverflow.com/questions/14535730/what-does-hashable-mean-in-python)\n",
    "\n",
    "- All of Python’s immutable built-in objects are hashable, while mutable objects are not hashable (such as lists or dictionaries) are.\n",
    "\n",
    "- In Python, any immutable object (such as an integer, boolean, string, tuple) is hashable, meaning its value does not change during its lifetime.\n"
   ]
  },
  {
   "cell_type": "markdown",
   "metadata": {
    "hidden": true
   },
   "source": [
    "- We can create a series from a list as below\n"
   ]
  },
  {
   "cell_type": "code",
   "execution_count": 65,
   "metadata": {
    "hidden": true
   },
   "outputs": [
    {
     "data": {
      "text/plain": [
       "0     7\n",
       "1     4\n",
       "2     2\n",
       "3    22\n",
       "4   -12\n",
       "dtype: int64"
      ]
     },
     "execution_count": 65,
     "metadata": {},
     "output_type": "execute_result"
    }
   ],
   "source": [
    "a = [7, 4, 2, 22, -12]\n",
    "x = pd.Series(a)\n",
    "x"
   ]
  },
  {
   "cell_type": "code",
   "execution_count": 66,
   "metadata": {
    "hidden": true
   },
   "outputs": [
    {
     "data": {
      "text/plain": [
       "RangeIndex(start=0, stop=5, step=1)"
      ]
     },
     "execution_count": 66,
     "metadata": {},
     "output_type": "execute_result"
    }
   ],
   "source": [
    "x.index"
   ]
  },
  {
   "cell_type": "code",
   "execution_count": 67,
   "metadata": {
    "hidden": true
   },
   "outputs": [
    {
     "data": {
      "text/plain": [
       "array([  7,   4,   2,  22, -12], dtype=int64)"
      ]
     },
     "execution_count": 67,
     "metadata": {},
     "output_type": "execute_result"
    }
   ],
   "source": [
    "x.values"
   ]
  },
  {
   "cell_type": "markdown",
   "metadata": {
    "hidden": true
   },
   "source": [
    "- The default index is numeric, but it could be non-numeric as well\n",
    "- A Series can have non-numeric values, and enables us to access the data in the array in a similar fashion we access data in a Python dictionary"
   ]
  },
  {
   "cell_type": "code",
   "execution_count": 68,
   "metadata": {
    "hidden": true
   },
   "outputs": [
    {
     "data": {
      "text/plain": [
       "7"
      ]
     },
     "execution_count": 68,
     "metadata": {},
     "output_type": "execute_result"
    }
   ],
   "source": [
    "x = pd.Series(a, index=['a', 'b', 'c', 'd', 'e'])\n",
    "x['a']"
   ]
  },
  {
   "cell_type": "markdown",
   "metadata": {
    "hidden": true
   },
   "source": [
    "-  Unlike a dictionary, we can access whole subsets of the Series at one time"
   ]
  },
  {
   "cell_type": "code",
   "execution_count": 69,
   "metadata": {
    "hidden": true
   },
   "outputs": [
    {
     "data": {
      "text/plain": [
       "b     4\n",
       "d    22\n",
       "e   -12\n",
       "dtype: int64"
      ]
     },
     "execution_count": 69,
     "metadata": {},
     "output_type": "execute_result"
    }
   ],
   "source": [
    "x[['b','d', 'e']]"
   ]
  },
  {
   "cell_type": "markdown",
   "metadata": {
    "heading_collapsed": true
   },
   "source": [
    "#### Dataframes"
   ]
  },
  {
   "cell_type": "markdown",
   "metadata": {
    "hidden": true
   },
   "source": [
    "- We will use them a lot in Data Science\n",
    "- It is a rectangular object comprised of columns of varying data types (variables), and rows that have values across the columns (observations)\n",
    "- Each column in a Dataframe is a Series\n",
    "- We can create a DataFrame using two lists as follows:"
   ]
  },
  {
   "cell_type": "code",
   "execution_count": 71,
   "metadata": {
    "hidden": true,
    "scrolled": true
   },
   "outputs": [
    {
     "data": {
      "text/html": [
       "<div>\n",
       "<style scoped>\n",
       "    .dataframe tbody tr th:only-of-type {\n",
       "        vertical-align: middle;\n",
       "    }\n",
       "\n",
       "    .dataframe tbody tr th {\n",
       "        vertical-align: top;\n",
       "    }\n",
       "\n",
       "    .dataframe thead th {\n",
       "        text-align: right;\n",
       "    }\n",
       "</style>\n",
       "<table border=\"1\" class=\"dataframe\">\n",
       "  <thead>\n",
       "    <tr style=\"text-align: right;\">\n",
       "      <th></th>\n",
       "      <th>x</th>\n",
       "      <th>y</th>\n",
       "    </tr>\n",
       "  </thead>\n",
       "  <tbody>\n",
       "    <tr>\n",
       "      <th>0</th>\n",
       "      <td>7</td>\n",
       "      <td>34</td>\n",
       "    </tr>\n",
       "    <tr>\n",
       "      <th>1</th>\n",
       "      <td>4</td>\n",
       "      <td>2</td>\n",
       "    </tr>\n",
       "    <tr>\n",
       "      <th>2</th>\n",
       "      <td>2</td>\n",
       "      <td>9</td>\n",
       "    </tr>\n",
       "    <tr>\n",
       "      <th>3</th>\n",
       "      <td>22</td>\n",
       "      <td>-5</td>\n",
       "    </tr>\n",
       "    <tr>\n",
       "      <th>4</th>\n",
       "      <td>-12</td>\n",
       "      <td>-18</td>\n",
       "    </tr>\n",
       "  </tbody>\n",
       "</table>\n",
       "</div>"
      ],
      "text/plain": [
       "    x   y\n",
       "0   7  34\n",
       "1   4   2\n",
       "2   2   9\n",
       "3  22  -5\n",
       "4 -12 -18"
      ]
     },
     "execution_count": 71,
     "metadata": {},
     "output_type": "execute_result"
    }
   ],
   "source": [
    "x = [7, 4, 2, 22, -12] \n",
    "y = [34, 2, 9, -5, -18]\n",
    "\n",
    "df = pd.DataFrame({'x':x, 'y':y})\n",
    "\n",
    "df"
   ]
  },
  {
   "cell_type": "markdown",
   "metadata": {
    "hidden": true
   },
   "source": [
    "- Notice that we used a dictionary of lists to create the DataFame\n",
    "- The keys in the dictionary will be the column names\n",
    "- The values in the dictionary will be the values in each column"
   ]
  },
  {
   "cell_type": "code",
   "execution_count": 72,
   "metadata": {
    "hidden": true
   },
   "outputs": [
    {
     "data": {
      "text/plain": [
       "0     7\n",
       "1     4\n",
       "2     2\n",
       "3    22\n",
       "4   -12\n",
       "Name: x, dtype: int64"
      ]
     },
     "execution_count": 72,
     "metadata": {},
     "output_type": "execute_result"
    }
   ],
   "source": [
    "# Columns can be accessed by passing the name of the column as follows \n",
    "\n",
    "df['x']"
   ]
  },
  {
   "cell_type": "code",
   "execution_count": 73,
   "metadata": {
    "hidden": true
   },
   "outputs": [
    {
     "data": {
      "text/plain": [
       "0     7\n",
       "1     4\n",
       "2     2\n",
       "3    22\n",
       "4   -12\n",
       "Name: x, dtype: int64"
      ]
     },
     "execution_count": 73,
     "metadata": {},
     "output_type": "execute_result"
    }
   ],
   "source": [
    "# or using the dot notation\n",
    "\n",
    "df.x"
   ]
  },
  {
   "cell_type": "code",
   "execution_count": 74,
   "metadata": {
    "hidden": true
   },
   "outputs": [
    {
     "data": {
      "text/plain": [
       "x    22\n",
       "y    -5\n",
       "Name: 3, dtype: int64"
      ]
     },
     "execution_count": 74,
     "metadata": {},
     "output_type": "execute_result"
    }
   ],
   "source": [
    "# Both Rows and columns can be accessed using the row index and the .iloc operator\n",
    "\n",
    "# The followin code returns the 4th observation/row\n",
    "df.iloc[3]"
   ]
  },
  {
   "cell_type": "code",
   "execution_count": 75,
   "metadata": {
    "hidden": true
   },
   "outputs": [
    {
     "data": {
      "text/plain": [
       "0    34\n",
       "1     2\n",
       "2     9\n",
       "3    -5\n",
       "4   -18\n",
       "Name: y, dtype: int64"
      ]
     },
     "execution_count": 75,
     "metadata": {},
     "output_type": "execute_result"
    }
   ],
   "source": [
    "# The following code returns the second column\n",
    "# The : operator in the following code indicates that we want all rows\n",
    "\n",
    "df.iloc[:,1]"
   ]
  },
  {
   "cell_type": "code",
   "execution_count": 76,
   "metadata": {
    "hidden": true
   },
   "outputs": [
    {
     "data": {
      "text/plain": [
       "0    34\n",
       "1     2\n",
       "Name: y, dtype: int64"
      ]
     },
     "execution_count": 76,
     "metadata": {},
     "output_type": "execute_result"
    }
   ],
   "source": [
    "# We can also specify a subset of the rows as follows\n",
    "# The following code returns all y values for the first two rows\n",
    "\n",
    "df.iloc[0:2,1]"
   ]
  },
  {
   "cell_type": "code",
   "execution_count": 77,
   "metadata": {
    "hidden": true
   },
   "outputs": [
    {
     "data": {
      "text/html": [
       "<div>\n",
       "<style scoped>\n",
       "    .dataframe tbody tr th:only-of-type {\n",
       "        vertical-align: middle;\n",
       "    }\n",
       "\n",
       "    .dataframe tbody tr th {\n",
       "        vertical-align: top;\n",
       "    }\n",
       "\n",
       "    .dataframe thead th {\n",
       "        text-align: right;\n",
       "    }\n",
       "</style>\n",
       "<table border=\"1\" class=\"dataframe\">\n",
       "  <thead>\n",
       "    <tr style=\"text-align: right;\">\n",
       "      <th></th>\n",
       "      <th>x</th>\n",
       "      <th>y</th>\n",
       "    </tr>\n",
       "  </thead>\n",
       "  <tbody>\n",
       "    <tr>\n",
       "      <th>0</th>\n",
       "      <td>7</td>\n",
       "      <td>34</td>\n",
       "    </tr>\n",
       "    <tr>\n",
       "      <th>1</th>\n",
       "      <td>4</td>\n",
       "      <td>2</td>\n",
       "    </tr>\n",
       "  </tbody>\n",
       "</table>\n",
       "</div>"
      ],
      "text/plain": [
       "   x   y\n",
       "0  7  34\n",
       "1  4   2"
      ]
     },
     "execution_count": 77,
     "metadata": {},
     "output_type": "execute_result"
    }
   ],
   "source": [
    "# The following code returns the first two rows in the dataset\n",
    "\n",
    "df.iloc[0:2]"
   ]
  },
  {
   "cell_type": "markdown",
   "metadata": {
    "hidden": true
   },
   "source": [
    "- The default index in a DataFrame is a sequence of integers starting at 0\n",
    "- However, DataFrames can use non-numeric values as index"
   ]
  },
  {
   "cell_type": "code",
   "execution_count": 78,
   "metadata": {
    "hidden": true
   },
   "outputs": [
    {
     "data": {
      "text/html": [
       "<div>\n",
       "<style scoped>\n",
       "    .dataframe tbody tr th:only-of-type {\n",
       "        vertical-align: middle;\n",
       "    }\n",
       "\n",
       "    .dataframe tbody tr th {\n",
       "        vertical-align: top;\n",
       "    }\n",
       "\n",
       "    .dataframe thead th {\n",
       "        text-align: right;\n",
       "    }\n",
       "</style>\n",
       "<table border=\"1\" class=\"dataframe\">\n",
       "  <thead>\n",
       "    <tr style=\"text-align: right;\">\n",
       "      <th></th>\n",
       "      <th>x</th>\n",
       "      <th>y</th>\n",
       "    </tr>\n",
       "  </thead>\n",
       "  <tbody>\n",
       "    <tr>\n",
       "      <th>a</th>\n",
       "      <td>7</td>\n",
       "      <td>34</td>\n",
       "    </tr>\n",
       "    <tr>\n",
       "      <th>b</th>\n",
       "      <td>4</td>\n",
       "      <td>2</td>\n",
       "    </tr>\n",
       "    <tr>\n",
       "      <th>c</th>\n",
       "      <td>2</td>\n",
       "      <td>9</td>\n",
       "    </tr>\n",
       "    <tr>\n",
       "      <th>d</th>\n",
       "      <td>22</td>\n",
       "      <td>-5</td>\n",
       "    </tr>\n",
       "    <tr>\n",
       "      <th>e</th>\n",
       "      <td>-12</td>\n",
       "      <td>-18</td>\n",
       "    </tr>\n",
       "  </tbody>\n",
       "</table>\n",
       "</div>"
      ],
      "text/plain": [
       "    x   y\n",
       "a   7  34\n",
       "b   4   2\n",
       "c   2   9\n",
       "d  22  -5\n",
       "e -12 -18"
      ]
     },
     "execution_count": 78,
     "metadata": {},
     "output_type": "execute_result"
    }
   ],
   "source": [
    "x = [7, 4, 2, 22, -12] \n",
    "y = [34, 2, 9, -5, -18]\n",
    "\n",
    "df = pd.DataFrame({'x':x, 'y':y}, \n",
    "                 index = ['a','b','c','d','e'])\n",
    "\n",
    "df"
   ]
  },
  {
   "cell_type": "code",
   "execution_count": 79,
   "metadata": {
    "hidden": true
   },
   "outputs": [
    {
     "data": {
      "text/plain": [
       "7"
      ]
     },
     "execution_count": 79,
     "metadata": {},
     "output_type": "execute_result"
    }
   ],
   "source": [
    "# note that we use the .loc operator here instead of .iloc because\n",
    "# we are accessing the data using row and column names instead of integer index\n",
    "\n",
    "df.loc['a','x']"
   ]
  },
  {
   "cell_type": "code",
   "execution_count": 80,
   "metadata": {
    "hidden": true
   },
   "outputs": [
    {
     "data": {
      "text/plain": [
       "a    7\n",
       "b    4\n",
       "Name: x, dtype: int64"
      ]
     },
     "execution_count": 80,
     "metadata": {},
     "output_type": "execute_result"
    }
   ],
   "source": [
    "df.loc[['a','b'],'x']"
   ]
  },
  {
   "cell_type": "code",
   "execution_count": 81,
   "metadata": {
    "hidden": true
   },
   "outputs": [
    {
     "data": {
      "text/html": [
       "<div>\n",
       "<style scoped>\n",
       "    .dataframe tbody tr th:only-of-type {\n",
       "        vertical-align: middle;\n",
       "    }\n",
       "\n",
       "    .dataframe tbody tr th {\n",
       "        vertical-align: top;\n",
       "    }\n",
       "\n",
       "    .dataframe thead th {\n",
       "        text-align: right;\n",
       "    }\n",
       "</style>\n",
       "<table border=\"1\" class=\"dataframe\">\n",
       "  <thead>\n",
       "    <tr style=\"text-align: right;\">\n",
       "      <th></th>\n",
       "      <th>x</th>\n",
       "      <th>y</th>\n",
       "    </tr>\n",
       "  </thead>\n",
       "  <tbody>\n",
       "    <tr>\n",
       "      <th>a</th>\n",
       "      <td>7</td>\n",
       "      <td>34</td>\n",
       "    </tr>\n",
       "    <tr>\n",
       "      <th>b</th>\n",
       "      <td>4</td>\n",
       "      <td>2</td>\n",
       "    </tr>\n",
       "  </tbody>\n",
       "</table>\n",
       "</div>"
      ],
      "text/plain": [
       "   x   y\n",
       "a  7  34\n",
       "b  4   2"
      ]
     },
     "execution_count": 81,
     "metadata": {},
     "output_type": "execute_result"
    }
   ],
   "source": [
    "df.loc[['a','b']]"
   ]
  },
  {
   "cell_type": "markdown",
   "metadata": {
    "hidden": true
   },
   "source": [
    "- A DataFrame object has methods \n",
    "- For example, a dataframe has a method to compute the mean of a numerical variables"
   ]
  },
  {
   "cell_type": "code",
   "execution_count": 34,
   "metadata": {
    "hidden": true
   },
   "outputs": [
    {
     "data": {
      "text/html": [
       "<div>\n",
       "<style scoped>\n",
       "    .dataframe tbody tr th:only-of-type {\n",
       "        vertical-align: middle;\n",
       "    }\n",
       "\n",
       "    .dataframe tbody tr th {\n",
       "        vertical-align: top;\n",
       "    }\n",
       "\n",
       "    .dataframe thead th {\n",
       "        text-align: right;\n",
       "    }\n",
       "</style>\n",
       "<table border=\"1\" class=\"dataframe\">\n",
       "  <thead>\n",
       "    <tr style=\"text-align: right;\">\n",
       "      <th></th>\n",
       "      <th>x</th>\n",
       "      <th>y</th>\n",
       "    </tr>\n",
       "  </thead>\n",
       "  <tbody>\n",
       "    <tr>\n",
       "      <th>a</th>\n",
       "      <td>7</td>\n",
       "      <td>34</td>\n",
       "    </tr>\n",
       "    <tr>\n",
       "      <th>b</th>\n",
       "      <td>4</td>\n",
       "      <td>2</td>\n",
       "    </tr>\n",
       "    <tr>\n",
       "      <th>c</th>\n",
       "      <td>2</td>\n",
       "      <td>9</td>\n",
       "    </tr>\n",
       "    <tr>\n",
       "      <th>d</th>\n",
       "      <td>22</td>\n",
       "      <td>-5</td>\n",
       "    </tr>\n",
       "    <tr>\n",
       "      <th>e</th>\n",
       "      <td>-12</td>\n",
       "      <td>-18</td>\n",
       "    </tr>\n",
       "  </tbody>\n",
       "</table>\n",
       "</div>"
      ],
      "text/plain": [
       "    x   y\n",
       "a   7  34\n",
       "b   4   2\n",
       "c   2   9\n",
       "d  22  -5\n",
       "e -12 -18"
      ]
     },
     "execution_count": 34,
     "metadata": {},
     "output_type": "execute_result"
    }
   ],
   "source": [
    "df"
   ]
  },
  {
   "cell_type": "code",
   "execution_count": 82,
   "metadata": {
    "hidden": true
   },
   "outputs": [
    {
     "data": {
      "text/plain": [
       "x    4.6\n",
       "y    4.4\n",
       "dtype: float64"
      ]
     },
     "execution_count": 82,
     "metadata": {},
     "output_type": "execute_result"
    }
   ],
   "source": [
    "# Mean of all numeric columns in the data frame\n",
    "\n",
    "df.mean()"
   ]
  },
  {
   "cell_type": "code",
   "execution_count": 83,
   "metadata": {
    "hidden": true
   },
   "outputs": [
    {
     "data": {
      "text/plain": [
       "x    4.6\n",
       "y    4.4\n",
       "dtype: float64"
      ]
     },
     "execution_count": 83,
     "metadata": {},
     "output_type": "execute_result"
    }
   ],
   "source": [
    "# By default, the mean() method acts on the column (axis = 0)\n",
    "\n",
    "df.mean(axis = 0)"
   ]
  },
  {
   "cell_type": "code",
   "execution_count": 84,
   "metadata": {
    "hidden": true
   },
   "outputs": [
    {
     "data": {
      "text/plain": [
       "a    20.5\n",
       "b     3.0\n",
       "c     5.5\n",
       "d     8.5\n",
       "e   -15.0\n",
       "dtype: float64"
      ]
     },
     "execution_count": 84,
     "metadata": {},
     "output_type": "execute_result"
    }
   ],
   "source": [
    "# We can also compute the mean of rows using axis = 1\n",
    "\n",
    "df.mean(axis = 1)"
   ]
  },
  {
   "cell_type": "code",
   "execution_count": 85,
   "metadata": {
    "hidden": true
   },
   "outputs": [
    {
     "data": {
      "text/plain": [
       "x   -12\n",
       "y   -18\n",
       "dtype: int64"
      ]
     },
     "execution_count": 85,
     "metadata": {},
     "output_type": "execute_result"
    }
   ],
   "source": [
    "# The min() method is used to find the minimum value\n",
    "df.min()"
   ]
  },
  {
   "cell_type": "code",
   "execution_count": 86,
   "metadata": {
    "hidden": true
   },
   "outputs": [
    {
     "data": {
      "text/html": [
       "<div>\n",
       "<style scoped>\n",
       "    .dataframe tbody tr th:only-of-type {\n",
       "        vertical-align: middle;\n",
       "    }\n",
       "\n",
       "    .dataframe tbody tr th {\n",
       "        vertical-align: top;\n",
       "    }\n",
       "\n",
       "    .dataframe thead th {\n",
       "        text-align: right;\n",
       "    }\n",
       "</style>\n",
       "<table border=\"1\" class=\"dataframe\">\n",
       "  <thead>\n",
       "    <tr style=\"text-align: right;\">\n",
       "      <th></th>\n",
       "      <th>x</th>\n",
       "      <th>y</th>\n",
       "    </tr>\n",
       "  </thead>\n",
       "  <tbody>\n",
       "    <tr>\n",
       "      <th>count</th>\n",
       "      <td>5.000000</td>\n",
       "      <td>5.000000</td>\n",
       "    </tr>\n",
       "    <tr>\n",
       "      <th>mean</th>\n",
       "      <td>4.600000</td>\n",
       "      <td>4.400000</td>\n",
       "    </tr>\n",
       "    <tr>\n",
       "      <th>std</th>\n",
       "      <td>12.157302</td>\n",
       "      <td>19.320973</td>\n",
       "    </tr>\n",
       "    <tr>\n",
       "      <th>min</th>\n",
       "      <td>-12.000000</td>\n",
       "      <td>-18.000000</td>\n",
       "    </tr>\n",
       "    <tr>\n",
       "      <th>25%</th>\n",
       "      <td>2.000000</td>\n",
       "      <td>-5.000000</td>\n",
       "    </tr>\n",
       "    <tr>\n",
       "      <th>50%</th>\n",
       "      <td>4.000000</td>\n",
       "      <td>2.000000</td>\n",
       "    </tr>\n",
       "    <tr>\n",
       "      <th>75%</th>\n",
       "      <td>7.000000</td>\n",
       "      <td>9.000000</td>\n",
       "    </tr>\n",
       "    <tr>\n",
       "      <th>max</th>\n",
       "      <td>22.000000</td>\n",
       "      <td>34.000000</td>\n",
       "    </tr>\n",
       "  </tbody>\n",
       "</table>\n",
       "</div>"
      ],
      "text/plain": [
       "               x          y\n",
       "count   5.000000   5.000000\n",
       "mean    4.600000   4.400000\n",
       "std    12.157302  19.320973\n",
       "min   -12.000000 -18.000000\n",
       "25%     2.000000  -5.000000\n",
       "50%     4.000000   2.000000\n",
       "75%     7.000000   9.000000\n",
       "max    22.000000  34.000000"
      ]
     },
     "execution_count": 86,
     "metadata": {},
     "output_type": "execute_result"
    }
   ],
   "source": [
    "# We can use the describe() method which gives us numerical summary statistics\n",
    "df.describe()"
   ]
  },
  {
   "cell_type": "code",
   "execution_count": 87,
   "metadata": {
    "hidden": true
   },
   "outputs": [
    {
     "data": {
      "text/html": [
       "<div>\n",
       "<style scoped>\n",
       "    .dataframe tbody tr th:only-of-type {\n",
       "        vertical-align: middle;\n",
       "    }\n",
       "\n",
       "    .dataframe tbody tr th {\n",
       "        vertical-align: top;\n",
       "    }\n",
       "\n",
       "    .dataframe thead th {\n",
       "        text-align: right;\n",
       "    }\n",
       "</style>\n",
       "<table border=\"1\" class=\"dataframe\">\n",
       "  <thead>\n",
       "    <tr style=\"text-align: right;\">\n",
       "      <th></th>\n",
       "      <th>id</th>\n",
       "      <th>rev</th>\n",
       "      <th>visits</th>\n",
       "      <th>manager</th>\n",
       "    </tr>\n",
       "  </thead>\n",
       "  <tbody>\n",
       "    <tr>\n",
       "      <th>0</th>\n",
       "      <td>3</td>\n",
       "      <td>543</td>\n",
       "      <td>45</td>\n",
       "      <td>Annie</td>\n",
       "    </tr>\n",
       "    <tr>\n",
       "      <th>1</th>\n",
       "      <td>14</td>\n",
       "      <td>654</td>\n",
       "      <td>78</td>\n",
       "      <td>Bert</td>\n",
       "    </tr>\n",
       "    <tr>\n",
       "      <th>2</th>\n",
       "      <td>21</td>\n",
       "      <td>345</td>\n",
       "      <td>32</td>\n",
       "      <td>Carla</td>\n",
       "    </tr>\n",
       "    <tr>\n",
       "      <th>3</th>\n",
       "      <td>32</td>\n",
       "      <td>678</td>\n",
       "      <td>56</td>\n",
       "      <td>Dave</td>\n",
       "    </tr>\n",
       "    <tr>\n",
       "      <th>4</th>\n",
       "      <td>54</td>\n",
       "      <td>234</td>\n",
       "      <td>34</td>\n",
       "      <td>Ella</td>\n",
       "    </tr>\n",
       "  </tbody>\n",
       "</table>\n",
       "</div>"
      ],
      "text/plain": [
       "   id  rev  visits manager\n",
       "0   3  543      45   Annie\n",
       "1  14  654      78    Bert\n",
       "2  21  345      32   Carla\n",
       "3  32  678      56    Dave\n",
       "4  54  234      34    Ella"
      ]
     },
     "execution_count": 87,
     "metadata": {},
     "output_type": "execute_result"
    }
   ],
   "source": [
    "# Example of a DataFrame\n",
    "store_id = pd.Series([3, 14, 21, 32, 54],dtype='category') #store id \n",
    "store_rev = [543, 654, 345, 678, 234] # store revenue, $1000 \n",
    "store_visits = [45, 78, 32, 56, 34] # visits, 1000s\n",
    "store_manager = ['Annie', 'Bert', 'Carla', 'Dave', 'Ella']\n",
    "\n",
    "store_df = pd.DataFrame({'id': store_id, 'rev': store_rev,\n",
    "                         'visits': store_visits,\n",
    "                         'manager': store_manager})\n",
    "\n",
    "store_df"
   ]
  },
  {
   "cell_type": "code",
   "execution_count": 88,
   "metadata": {
    "hidden": true
   },
   "outputs": [
    {
     "data": {
      "text/html": [
       "<div>\n",
       "<style scoped>\n",
       "    .dataframe tbody tr th:only-of-type {\n",
       "        vertical-align: middle;\n",
       "    }\n",
       "\n",
       "    .dataframe tbody tr th {\n",
       "        vertical-align: top;\n",
       "    }\n",
       "\n",
       "    .dataframe thead th {\n",
       "        text-align: right;\n",
       "    }\n",
       "</style>\n",
       "<table border=\"1\" class=\"dataframe\">\n",
       "  <thead>\n",
       "    <tr style=\"text-align: right;\">\n",
       "      <th></th>\n",
       "      <th>id</th>\n",
       "      <th>rev</th>\n",
       "      <th>visits</th>\n",
       "      <th>manager</th>\n",
       "    </tr>\n",
       "  </thead>\n",
       "  <tbody>\n",
       "    <tr>\n",
       "      <th>count</th>\n",
       "      <td>5.0</td>\n",
       "      <td>5.000000</td>\n",
       "      <td>5.000000</td>\n",
       "      <td>5</td>\n",
       "    </tr>\n",
       "    <tr>\n",
       "      <th>unique</th>\n",
       "      <td>5.0</td>\n",
       "      <td>NaN</td>\n",
       "      <td>NaN</td>\n",
       "      <td>5</td>\n",
       "    </tr>\n",
       "    <tr>\n",
       "      <th>top</th>\n",
       "      <td>3.0</td>\n",
       "      <td>NaN</td>\n",
       "      <td>NaN</td>\n",
       "      <td>Annie</td>\n",
       "    </tr>\n",
       "    <tr>\n",
       "      <th>freq</th>\n",
       "      <td>1.0</td>\n",
       "      <td>NaN</td>\n",
       "      <td>NaN</td>\n",
       "      <td>1</td>\n",
       "    </tr>\n",
       "    <tr>\n",
       "      <th>mean</th>\n",
       "      <td>NaN</td>\n",
       "      <td>490.800000</td>\n",
       "      <td>49.000000</td>\n",
       "      <td>NaN</td>\n",
       "    </tr>\n",
       "    <tr>\n",
       "      <th>std</th>\n",
       "      <td>NaN</td>\n",
       "      <td>194.683589</td>\n",
       "      <td>18.841444</td>\n",
       "      <td>NaN</td>\n",
       "    </tr>\n",
       "    <tr>\n",
       "      <th>min</th>\n",
       "      <td>NaN</td>\n",
       "      <td>234.000000</td>\n",
       "      <td>32.000000</td>\n",
       "      <td>NaN</td>\n",
       "    </tr>\n",
       "    <tr>\n",
       "      <th>25%</th>\n",
       "      <td>NaN</td>\n",
       "      <td>345.000000</td>\n",
       "      <td>34.000000</td>\n",
       "      <td>NaN</td>\n",
       "    </tr>\n",
       "    <tr>\n",
       "      <th>50%</th>\n",
       "      <td>NaN</td>\n",
       "      <td>543.000000</td>\n",
       "      <td>45.000000</td>\n",
       "      <td>NaN</td>\n",
       "    </tr>\n",
       "    <tr>\n",
       "      <th>75%</th>\n",
       "      <td>NaN</td>\n",
       "      <td>654.000000</td>\n",
       "      <td>56.000000</td>\n",
       "      <td>NaN</td>\n",
       "    </tr>\n",
       "    <tr>\n",
       "      <th>max</th>\n",
       "      <td>NaN</td>\n",
       "      <td>678.000000</td>\n",
       "      <td>78.000000</td>\n",
       "      <td>NaN</td>\n",
       "    </tr>\n",
       "  </tbody>\n",
       "</table>\n",
       "</div>"
      ],
      "text/plain": [
       "         id         rev     visits manager\n",
       "count   5.0    5.000000   5.000000       5\n",
       "unique  5.0         NaN        NaN       5\n",
       "top     3.0         NaN        NaN   Annie\n",
       "freq    1.0         NaN        NaN       1\n",
       "mean    NaN  490.800000  49.000000     NaN\n",
       "std     NaN  194.683589  18.841444     NaN\n",
       "min     NaN  234.000000  32.000000     NaN\n",
       "25%     NaN  345.000000  34.000000     NaN\n",
       "50%     NaN  543.000000  45.000000     NaN\n",
       "75%     NaN  654.000000  56.000000     NaN\n",
       "max     NaN  678.000000  78.000000     NaN"
      ]
     },
     "execution_count": 88,
     "metadata": {},
     "output_type": "execute_result"
    }
   ],
   "source": [
    "# if we use the argument 'all', then we get summary \n",
    "# statistics for both numerical and categorical variables\n",
    "\n",
    "store_df.describe(include = 'all')"
   ]
  },
  {
   "cell_type": "markdown",
   "metadata": {
    "hidden": true
   },
   "source": [
    "- In Python a missing value is represented with NaN (Not a Number)\n",
    "- To specify missing values, we use numpy.nan"
   ]
  },
  {
   "cell_type": "code",
   "execution_count": 89,
   "metadata": {
    "hidden": true
   },
   "outputs": [
    {
     "data": {
      "text/plain": [
       "0    1.0\n",
       "1    3.0\n",
       "2    NaN\n",
       "3    7.0\n",
       "dtype: float64"
      ]
     },
     "execution_count": 89,
     "metadata": {},
     "output_type": "execute_result"
    }
   ],
   "source": [
    "import numpy as np\n",
    "import pandas as pd\n",
    "\n",
    "x = pd.Series([1, 3, np.nan, 7])\n",
    "\n",
    "x"
   ]
  },
  {
   "cell_type": "code",
   "execution_count": 50,
   "metadata": {
    "hidden": true
   },
   "outputs": [
    {
     "data": {
      "text/plain": [
       "nan"
      ]
     },
     "execution_count": 50,
     "metadata": {},
     "output_type": "execute_result"
    }
   ],
   "source": [
    "x[2]"
   ]
  },
  {
   "cell_type": "markdown",
   "metadata": {},
   "source": [
    "# Exploratory Data Analysis (Describing Data)"
   ]
  },
  {
   "cell_type": "markdown",
   "metadata": {
    "heading_collapsed": true
   },
   "source": [
    "### 2.0 Data"
   ]
  },
  {
   "cell_type": "markdown",
   "metadata": {
    "hidden": true
   },
   "source": [
    "- The dataset records total sales by week for two competing products at a chain of stores. \n",
    "- In addition to sales, the price and promotion status were recorded. \n",
    "- The promotion status record whether the produced was promoted (1) or not (0).\n",
    "- The data was collected over a period of two years."
   ]
  },
  {
   "cell_type": "code",
   "execution_count": 90,
   "metadata": {
    "hidden": true
   },
   "outputs": [],
   "source": [
    "import pandas as pd"
   ]
  },
  {
   "cell_type": "code",
   "execution_count": 91,
   "metadata": {
    "hidden": true,
    "scrolled": false
   },
   "outputs": [
    {
     "data": {
      "text/html": [
       "<div>\n",
       "<style scoped>\n",
       "    .dataframe tbody tr th:only-of-type {\n",
       "        vertical-align: middle;\n",
       "    }\n",
       "\n",
       "    .dataframe tbody tr th {\n",
       "        vertical-align: top;\n",
       "    }\n",
       "\n",
       "    .dataframe thead th {\n",
       "        text-align: right;\n",
       "    }\n",
       "</style>\n",
       "<table border=\"1\" class=\"dataframe\">\n",
       "  <thead>\n",
       "    <tr style=\"text-align: right;\">\n",
       "      <th></th>\n",
       "      <th>store_num</th>\n",
       "      <th>year</th>\n",
       "      <th>week</th>\n",
       "      <th>p1_sales</th>\n",
       "      <th>p2_sales</th>\n",
       "      <th>p1_price</th>\n",
       "      <th>p2_price</th>\n",
       "      <th>p1_promo</th>\n",
       "      <th>p2_promo</th>\n",
       "      <th>country</th>\n",
       "    </tr>\n",
       "  </thead>\n",
       "  <tbody>\n",
       "    <tr>\n",
       "      <th>0</th>\n",
       "      <td>101.0</td>\n",
       "      <td>1.0</td>\n",
       "      <td>1.0</td>\n",
       "      <td>122.0</td>\n",
       "      <td>110.0</td>\n",
       "      <td>2.99</td>\n",
       "      <td>2.99</td>\n",
       "      <td>0</td>\n",
       "      <td>1</td>\n",
       "      <td>USA</td>\n",
       "    </tr>\n",
       "    <tr>\n",
       "      <th>1</th>\n",
       "      <td>101.0</td>\n",
       "      <td>1.0</td>\n",
       "      <td>2.0</td>\n",
       "      <td>160.0</td>\n",
       "      <td>79.0</td>\n",
       "      <td>2.49</td>\n",
       "      <td>3.19</td>\n",
       "      <td>0</td>\n",
       "      <td>0</td>\n",
       "      <td>USA</td>\n",
       "    </tr>\n",
       "    <tr>\n",
       "      <th>2</th>\n",
       "      <td>101.0</td>\n",
       "      <td>1.0</td>\n",
       "      <td>3.0</td>\n",
       "      <td>169.0</td>\n",
       "      <td>80.0</td>\n",
       "      <td>2.19</td>\n",
       "      <td>2.99</td>\n",
       "      <td>0</td>\n",
       "      <td>0</td>\n",
       "      <td>USA</td>\n",
       "    </tr>\n",
       "    <tr>\n",
       "      <th>3</th>\n",
       "      <td>101.0</td>\n",
       "      <td>1.0</td>\n",
       "      <td>4.0</td>\n",
       "      <td>119.0</td>\n",
       "      <td>102.0</td>\n",
       "      <td>2.49</td>\n",
       "      <td>2.49</td>\n",
       "      <td>0</td>\n",
       "      <td>0</td>\n",
       "      <td>USA</td>\n",
       "    </tr>\n",
       "    <tr>\n",
       "      <th>4</th>\n",
       "      <td>101.0</td>\n",
       "      <td>1.0</td>\n",
       "      <td>5.0</td>\n",
       "      <td>114.0</td>\n",
       "      <td>143.0</td>\n",
       "      <td>2.49</td>\n",
       "      <td>2.59</td>\n",
       "      <td>0</td>\n",
       "      <td>1</td>\n",
       "      <td>USA</td>\n",
       "    </tr>\n",
       "  </tbody>\n",
       "</table>\n",
       "</div>"
      ],
      "text/plain": [
       "   store_num  year  week  p1_sales  p2_sales  p1_price  p2_price  p1_promo  \\\n",
       "0      101.0   1.0   1.0     122.0     110.0      2.99      2.99         0   \n",
       "1      101.0   1.0   2.0     160.0      79.0      2.49      3.19         0   \n",
       "2      101.0   1.0   3.0     169.0      80.0      2.19      2.99         0   \n",
       "3      101.0   1.0   4.0     119.0     102.0      2.49      2.49         0   \n",
       "4      101.0   1.0   5.0     114.0     143.0      2.49      2.59         0   \n",
       "\n",
       "   p2_promo country  \n",
       "0         1     USA  \n",
       "1         0     USA  \n",
       "2         0     USA  \n",
       "3         0     USA  \n",
       "4         1     USA  "
      ]
     },
     "execution_count": 91,
     "metadata": {},
     "output_type": "execute_result"
    }
   ],
   "source": [
    "store_sales = pd.read_csv('chapter3_data.csv')\n",
    "store_sales.head()"
   ]
  },
  {
   "cell_type": "markdown",
   "metadata": {
    "heading_collapsed": true,
    "hidden": true
   },
   "source": [
    "#### 2.0. EDA Business Questions"
   ]
  },
  {
   "cell_type": "markdown",
   "metadata": {
    "hidden": true
   },
   "source": []
  },
  {
   "cell_type": "markdown",
   "metadata": {
    "colab_type": "text",
    "heading_collapsed": true,
    "id": "5XBgPlBATOrj"
   },
   "source": [
    "### 2.1 Functions to Summarize a Variable"
   ]
  },
  {
   "cell_type": "markdown",
   "metadata": {
    "colab_type": "text",
    "heading_collapsed": true,
    "hidden": true,
    "id": "cQksLXVlzWXu"
   },
   "source": [
    "#### 3.2.1 Data Aggregation Tool: the `groupby()` method"
   ]
  },
  {
   "cell_type": "markdown",
   "metadata": {
    "hidden": true
   },
   "source": [
    "- Used to break out data into groups \n",
    "- We break down the data to look at groups similar on one or more dimensions\n",
    "- Usually the purpose of breaking down the data is to describe each group of data using summary statistics (count, mean, median, std, etc)"
   ]
  },
  {
   "cell_type": "code",
   "execution_count": 92,
   "metadata": {
    "colab": {},
    "colab_type": "code",
    "hidden": true,
    "id": "y_3ggAFHzVWu"
   },
   "outputs": [
    {
     "data": {
      "text/plain": [
       "<pandas.core.groupby.generic.DataFrameGroupBy object at 0x000001DFAD211050>"
      ]
     },
     "execution_count": 92,
     "metadata": {},
     "output_type": "execute_result"
    }
   ],
   "source": [
    "# groupby is a DataFrame method\n",
    "# returns a SeriesGroupBy object which can be saved to a variable\n",
    "# the following code is grouping obervations by store_num\n",
    "\n",
    "store_sales.groupby('store_num')"
   ]
  },
  {
   "cell_type": "code",
   "execution_count": 6,
   "metadata": {
    "colab": {},
    "colab_type": "code",
    "hidden": true,
    "id": "Fv5S_8K8zbgz"
   },
   "outputs": [
    {
     "data": {
      "text/plain": [
       "store_num\n",
       "101.0    133.500000\n",
       "102.0    138.807692\n",
       "103.0    132.682692\n",
       "104.0    131.798077\n",
       "105.0    135.480769\n",
       "106.0    136.057692\n",
       "107.0    138.980769\n",
       "108.0    133.865385\n",
       "109.0    134.096154\n",
       "110.0    134.653846\n",
       "111.0    134.278846\n",
       "112.0    133.000000\n",
       "113.0    134.855769\n",
       "114.0    128.211538\n",
       "115.0    130.923077\n",
       "116.0    132.576923\n",
       "117.0    135.375000\n",
       "118.0    134.423077\n",
       "119.0    132.336538\n",
       "120.0    133.451923\n",
       "Name: p1_sales, dtype: float64"
      ]
     },
     "execution_count": 6,
     "metadata": {},
     "output_type": "execute_result"
    }
   ],
   "source": [
    "# note that the object returned by groupby has all the columns in the orginal dataframe\n",
    "# we can access a column in the SeriesGroupby object using the dot notation\n",
    "# and once we access the specific column then we can produce any summary statistic such as mean\n",
    "# The following gives us the mean of p1 sales for each of the 20 stores we have\n",
    "\n",
    "store_sales.groupby('store_num').p1_sales.mean()"
   ]
  },
  {
   "cell_type": "code",
   "execution_count": 93,
   "metadata": {
    "colab": {},
    "colab_type": "code",
    "hidden": true,
    "id": "YdxPWud0zbWu"
   },
   "outputs": [
    {
     "data": {
      "text/plain": [
       "store_num  year\n",
       "101.0      1.0     132.538462\n",
       "           2.0     134.461538\n",
       "102.0      1.0     139.692308\n",
       "           2.0     137.923077\n",
       "103.0      1.0     130.557692\n",
       "           2.0     134.807692\n",
       "104.0      1.0     127.653846\n",
       "           2.0     135.942308\n",
       "105.0      1.0     136.000000\n",
       "           2.0     134.961538\n",
       "106.0      1.0     135.653846\n",
       "           2.0     136.461538\n",
       "107.0      1.0     139.615385\n",
       "           2.0     138.346154\n",
       "108.0      1.0     136.230769\n",
       "           2.0     131.500000\n",
       "109.0      1.0     130.557692\n",
       "           2.0     137.634615\n",
       "110.0      1.0     130.961538\n",
       "           2.0     138.346154\n",
       "111.0      1.0     136.461538\n",
       "           2.0     132.096154\n",
       "112.0      1.0     130.500000\n",
       "           2.0     135.500000\n",
       "113.0      1.0     135.384615\n",
       "           2.0     134.326923\n",
       "114.0      1.0     124.519231\n",
       "           2.0     131.903846\n",
       "115.0      1.0     130.788462\n",
       "           2.0     131.057692\n",
       "116.0      1.0     132.884615\n",
       "           2.0     132.269231\n",
       "117.0      1.0     134.134615\n",
       "           2.0     136.615385\n",
       "118.0      1.0     129.519231\n",
       "           2.0     139.326923\n",
       "119.0      1.0     137.134615\n",
       "           2.0     127.538462\n",
       "120.0      1.0     136.019231\n",
       "           2.0     130.884615\n",
       "Name: p1_sales, dtype: float64"
      ]
     },
     "execution_count": 93,
     "metadata": {},
     "output_type": "execute_result"
    }
   ],
   "source": [
    "# we can group by more than one factor\n",
    "# we pass the multiple grouping factors as a list \n",
    "\n",
    "store_sales.groupby(['store_num', 'year']).p1_sales.mean()"
   ]
  },
  {
   "cell_type": "code",
   "execution_count": 12,
   "metadata": {
    "colab": {},
    "colab_type": "code",
    "hidden": true,
    "id": "K5yOyhhNzbJ8"
   },
   "outputs": [
    {
     "data": {
      "text/html": [
       "<div>\n",
       "<style scoped>\n",
       "    .dataframe tbody tr th:only-of-type {\n",
       "        vertical-align: middle;\n",
       "    }\n",
       "\n",
       "    .dataframe tbody tr th {\n",
       "        vertical-align: top;\n",
       "    }\n",
       "\n",
       "    .dataframe thead th {\n",
       "        text-align: right;\n",
       "    }\n",
       "</style>\n",
       "<table border=\"1\" class=\"dataframe\">\n",
       "  <thead>\n",
       "    <tr style=\"text-align: right;\">\n",
       "      <th>year</th>\n",
       "      <th>1.0</th>\n",
       "      <th>2.0</th>\n",
       "    </tr>\n",
       "    <tr>\n",
       "      <th>store_num</th>\n",
       "      <th></th>\n",
       "      <th></th>\n",
       "    </tr>\n",
       "  </thead>\n",
       "  <tbody>\n",
       "    <tr>\n",
       "      <th>101.0</th>\n",
       "      <td>132.538462</td>\n",
       "      <td>134.461538</td>\n",
       "    </tr>\n",
       "    <tr>\n",
       "      <th>102.0</th>\n",
       "      <td>139.692308</td>\n",
       "      <td>137.923077</td>\n",
       "    </tr>\n",
       "    <tr>\n",
       "      <th>103.0</th>\n",
       "      <td>130.557692</td>\n",
       "      <td>134.807692</td>\n",
       "    </tr>\n",
       "    <tr>\n",
       "      <th>104.0</th>\n",
       "      <td>127.653846</td>\n",
       "      <td>135.942308</td>\n",
       "    </tr>\n",
       "    <tr>\n",
       "      <th>105.0</th>\n",
       "      <td>136.000000</td>\n",
       "      <td>134.961538</td>\n",
       "    </tr>\n",
       "    <tr>\n",
       "      <th>106.0</th>\n",
       "      <td>135.653846</td>\n",
       "      <td>136.461538</td>\n",
       "    </tr>\n",
       "    <tr>\n",
       "      <th>107.0</th>\n",
       "      <td>139.615385</td>\n",
       "      <td>138.346154</td>\n",
       "    </tr>\n",
       "    <tr>\n",
       "      <th>108.0</th>\n",
       "      <td>136.230769</td>\n",
       "      <td>131.500000</td>\n",
       "    </tr>\n",
       "    <tr>\n",
       "      <th>109.0</th>\n",
       "      <td>130.557692</td>\n",
       "      <td>137.634615</td>\n",
       "    </tr>\n",
       "    <tr>\n",
       "      <th>110.0</th>\n",
       "      <td>130.961538</td>\n",
       "      <td>138.346154</td>\n",
       "    </tr>\n",
       "    <tr>\n",
       "      <th>111.0</th>\n",
       "      <td>136.461538</td>\n",
       "      <td>132.096154</td>\n",
       "    </tr>\n",
       "    <tr>\n",
       "      <th>112.0</th>\n",
       "      <td>130.500000</td>\n",
       "      <td>135.500000</td>\n",
       "    </tr>\n",
       "    <tr>\n",
       "      <th>113.0</th>\n",
       "      <td>135.384615</td>\n",
       "      <td>134.326923</td>\n",
       "    </tr>\n",
       "    <tr>\n",
       "      <th>114.0</th>\n",
       "      <td>124.519231</td>\n",
       "      <td>131.903846</td>\n",
       "    </tr>\n",
       "    <tr>\n",
       "      <th>115.0</th>\n",
       "      <td>130.788462</td>\n",
       "      <td>131.057692</td>\n",
       "    </tr>\n",
       "    <tr>\n",
       "      <th>116.0</th>\n",
       "      <td>132.884615</td>\n",
       "      <td>132.269231</td>\n",
       "    </tr>\n",
       "    <tr>\n",
       "      <th>117.0</th>\n",
       "      <td>134.134615</td>\n",
       "      <td>136.615385</td>\n",
       "    </tr>\n",
       "    <tr>\n",
       "      <th>118.0</th>\n",
       "      <td>129.519231</td>\n",
       "      <td>139.326923</td>\n",
       "    </tr>\n",
       "    <tr>\n",
       "      <th>119.0</th>\n",
       "      <td>137.134615</td>\n",
       "      <td>127.538462</td>\n",
       "    </tr>\n",
       "    <tr>\n",
       "      <th>120.0</th>\n",
       "      <td>136.019231</td>\n",
       "      <td>130.884615</td>\n",
       "    </tr>\n",
       "  </tbody>\n",
       "</table>\n",
       "</div>"
      ],
      "text/plain": [
       "year              1.0         2.0\n",
       "store_num                        \n",
       "101.0      132.538462  134.461538\n",
       "102.0      139.692308  137.923077\n",
       "103.0      130.557692  134.807692\n",
       "104.0      127.653846  135.942308\n",
       "105.0      136.000000  134.961538\n",
       "106.0      135.653846  136.461538\n",
       "107.0      139.615385  138.346154\n",
       "108.0      136.230769  131.500000\n",
       "109.0      130.557692  137.634615\n",
       "110.0      130.961538  138.346154\n",
       "111.0      136.461538  132.096154\n",
       "112.0      130.500000  135.500000\n",
       "113.0      135.384615  134.326923\n",
       "114.0      124.519231  131.903846\n",
       "115.0      130.788462  131.057692\n",
       "116.0      132.884615  132.269231\n",
       "117.0      134.134615  136.615385\n",
       "118.0      129.519231  139.326923\n",
       "119.0      137.134615  127.538462\n",
       "120.0      136.019231  130.884615"
      ]
     },
     "execution_count": 12,
     "metadata": {},
     "output_type": "execute_result"
    }
   ],
   "source": [
    "# A limitation for Groupby() is that the output from grouping by multiple factors is \n",
    "# not structured for reuse (not a regular dataframe)\n",
    "\n",
    "# to solve this issue, we can use the unstack() method as follows\n",
    "# the unstack() method pivot the indicies and returns a nicely formatted dataframe\n",
    "\n",
    "store_sales.groupby(['store_num', 'year']).p1_sales.mean().unstack()"
   ]
  },
  {
   "cell_type": "code",
   "execution_count": 94,
   "metadata": {
    "colab": {},
    "colab_type": "code",
    "hidden": true,
    "id": "FnogDmQlziZ-"
   },
   "outputs": [
    {
     "data": {
      "text/plain": [
       "country\n",
       "AUS    13980.0\n",
       "BRA    27857.0\n",
       "CHN    27642.0\n",
       "DEU    70323.0\n",
       "GBR    41915.0\n",
       "JPN    54817.0\n",
       "USA    42119.0\n",
       "Name: p1_sales, dtype: float64"
      ]
     },
     "execution_count": 94,
     "metadata": {},
     "output_type": "execute_result"
    }
   ],
   "source": [
    "# here is another example to find the total sales for p1 across different countries\n",
    "\n",
    "p1_sales_by_country = store_sales.groupby(['country']).p1_sales.sum()\n",
    "p1_sales_by_country"
   ]
  },
  {
   "cell_type": "markdown",
   "metadata": {
    "colab_type": "text",
    "heading_collapsed": true,
    "hidden": true,
    "id": "TL4E-fjG2ARc"
   },
   "source": [
    "#### 3.2.1 Discrete Variables"
   ]
  },
  {
   "cell_type": "markdown",
   "metadata": {
    "hidden": true
   },
   "source": [
    "- We use frequency tables and relative frequency tables to decribe discrete (categorical) data\n",
    "- The method value_counts() is a pandas method that helps us create such table"
   ]
  },
  {
   "cell_type": "code",
   "execution_count": 95,
   "metadata": {
    "colab": {},
    "colab_type": "code",
    "hidden": true,
    "id": "ZeW-k3bgYwB5"
   },
   "outputs": [
    {
     "data": {
      "text/plain": [
       "2.29    420\n",
       "2.19    417\n",
       "2.49    416\n",
       "2.99    415\n",
       "2.79    412\n",
       "Name: p1_price, dtype: int64"
      ]
     },
     "execution_count": 95,
     "metadata": {},
     "output_type": "execute_result"
    }
   ],
   "source": [
    "# notice here that we have 5 price levels\n",
    "# by default the value_counts created a sorted output\n",
    "store_sales.p1_price.value_counts()"
   ]
  },
  {
   "cell_type": "code",
   "execution_count": 96,
   "metadata": {
    "hidden": true
   },
   "outputs": [
    {
     "data": {
      "text/plain": [
       "2.29    0.201923\n",
       "2.19    0.200481\n",
       "2.49    0.200000\n",
       "2.99    0.199519\n",
       "2.79    0.198077\n",
       "Name: p1_price, dtype: float64"
      ]
     },
     "execution_count": 96,
     "metadata": {},
     "output_type": "execute_result"
    }
   ],
   "source": [
    "# relative frequency table\n",
    "store_sales.p1_price.value_counts(normalize=True)"
   ]
  },
  {
   "cell_type": "code",
   "execution_count": 97,
   "metadata": {
    "hidden": true
   },
   "outputs": [
    {
     "data": {
      "text/plain": [
       "2.29    20.192308\n",
       "2.19    20.048077\n",
       "2.49    20.000000\n",
       "2.99    19.951923\n",
       "2.79    19.807692\n",
       "Name: p1_price, dtype: float64"
      ]
     },
     "execution_count": 97,
     "metadata": {},
     "output_type": "execute_result"
    }
   ],
   "source": [
    "# we can show them in percentages by multiplying the output vector by 100\n",
    "# notice that this is allowed in Pandas since it supports vectorized operations\n",
    "store_sales.p1_price.value_counts(normalize=True)*100"
   ]
  },
  {
   "cell_type": "code",
   "execution_count": 100,
   "metadata": {
    "colab": {},
    "colab_type": "code",
    "hidden": true,
    "id": "rDLnesIoTRre"
   },
   "outputs": [
    {
     "data": {
      "text/plain": [
       "2.29    420\n",
       "2.19    417\n",
       "2.49    416\n",
       "2.99    415\n",
       "2.79    412\n",
       "Name: p1_price, dtype: int64"
      ]
     },
     "execution_count": 100,
     "metadata": {},
     "output_type": "execute_result"
    }
   ],
   "source": [
    "# we can always store our output in a variable that we can act upon later\n",
    "p1_table = store_sales.p1_price.value_counts()\n",
    "p1_table"
   ]
  },
  {
   "cell_type": "code",
   "execution_count": 101,
   "metadata": {
    "colab": {},
    "colab_type": "code",
    "hidden": true,
    "id": "UCz9xECnY1EJ"
   },
   "outputs": [
    {
     "data": {
      "text/plain": [
       "pandas.core.series.Series"
      ]
     },
     "execution_count": 101,
     "metadata": {},
     "output_type": "execute_result"
    }
   ],
   "source": [
    "type(p1_table)"
   ]
  },
  {
   "cell_type": "code",
   "execution_count": 102,
   "metadata": {
    "colab": {},
    "colab_type": "code",
    "hidden": true,
    "id": "FxBN43TGwbOU",
    "scrolled": true
   },
   "outputs": [
    {
     "data": {
      "text/plain": [
       "<Axes: >"
      ]
     },
     "execution_count": 102,
     "metadata": {},
     "output_type": "execute_result"
    },
    {
     "data": {
      "image/png": "[encoded data removed]",
      "text/plain": [
       "<Figure size 640x480 with 1 Axes>"
      ]
     },
     "metadata": {},
     "output_type": "display_data"
    }
   ],
   "source": [
    "# for example, we can plot method on p1_table to show the price distribution for product 1\n",
    "\n",
    "p1_table.plot.bar() "
   ]
  },
  {
   "cell_type": "code",
   "execution_count": 41,
   "metadata": {
    "colab": {},
    "colab_type": "code",
    "hidden": true,
    "id": "xgBZQaMSvlMz"
   },
   "outputs": [
    {
     "data": {
      "text/html": [
       "<div>\n",
       "<style scoped>\n",
       "    .dataframe tbody tr th:only-of-type {\n",
       "        vertical-align: middle;\n",
       "    }\n",
       "\n",
       "    .dataframe tbody tr th {\n",
       "        vertical-align: top;\n",
       "    }\n",
       "\n",
       "    .dataframe thead th {\n",
       "        text-align: right;\n",
       "    }\n",
       "</style>\n",
       "<table border=\"1\" class=\"dataframe\">\n",
       "  <thead>\n",
       "    <tr style=\"text-align: right;\">\n",
       "      <th>country</th>\n",
       "      <th>AUS</th>\n",
       "      <th>BRA</th>\n",
       "      <th>CHN</th>\n",
       "      <th>DEU</th>\n",
       "      <th>GBR</th>\n",
       "      <th>JPN</th>\n",
       "      <th>USA</th>\n",
       "    </tr>\n",
       "    <tr>\n",
       "      <th>p1_promo</th>\n",
       "      <th></th>\n",
       "      <th></th>\n",
       "      <th></th>\n",
       "      <th></th>\n",
       "      <th></th>\n",
       "      <th></th>\n",
       "      <th></th>\n",
       "    </tr>\n",
       "  </thead>\n",
       "  <tbody>\n",
       "    <tr>\n",
       "      <th>0</th>\n",
       "      <td>2.515843</td>\n",
       "      <td>2.554398</td>\n",
       "      <td>2.543093</td>\n",
       "      <td>2.553956</td>\n",
       "      <td>2.570212</td>\n",
       "      <td>2.544521</td>\n",
       "      <td>2.533463</td>\n",
       "    </tr>\n",
       "    <tr>\n",
       "      <th>1</th>\n",
       "      <td>2.550000</td>\n",
       "      <td>2.454706</td>\n",
       "      <td>2.647143</td>\n",
       "      <td>2.530000</td>\n",
       "      <td>2.586552</td>\n",
       "      <td>2.570000</td>\n",
       "      <td>2.538276</td>\n",
       "    </tr>\n",
       "  </tbody>\n",
       "</table>\n",
       "</div>"
      ],
      "text/plain": [
       "country        AUS       BRA       CHN       DEU       GBR       JPN       USA\n",
       "p1_promo                                                                      \n",
       "0         2.515843  2.554398  2.543093  2.553956  2.570212  2.544521  2.533463\n",
       "1         2.550000  2.454706  2.647143  2.530000  2.586552  2.570000  2.538276"
      ]
     },
     "execution_count": 41,
     "metadata": {},
     "output_type": "execute_result"
    }
   ],
   "source": [
    "# if we have two categorical variables, we can create a cross-tabulation as follows\n",
    "# this cross tabulation shows us the joint distribution of the two categorical variables\n",
    "\n",
    "# the following line of code find the joint distribution of the mean price for product 1 by promotion and country\n",
    "\n",
    "store_sales.groupby(['p1_promo', 'country']).p1_price.mean().unstack()"
   ]
  },
  {
   "cell_type": "code",
   "execution_count": 103,
   "metadata": {
    "hidden": true
   },
   "outputs": [
    {
     "data": {
      "text/html": [
       "<div>\n",
       "<style scoped>\n",
       "    .dataframe tbody tr th:only-of-type {\n",
       "        vertical-align: middle;\n",
       "    }\n",
       "\n",
       "    .dataframe tbody tr th {\n",
       "        vertical-align: top;\n",
       "    }\n",
       "\n",
       "    .dataframe thead th {\n",
       "        text-align: right;\n",
       "    }\n",
       "</style>\n",
       "<table border=\"1\" class=\"dataframe\">\n",
       "  <thead>\n",
       "    <tr style=\"text-align: right;\">\n",
       "      <th>country</th>\n",
       "      <th>AUS</th>\n",
       "      <th>BRA</th>\n",
       "      <th>CHN</th>\n",
       "      <th>DEU</th>\n",
       "      <th>GBR</th>\n",
       "      <th>JPN</th>\n",
       "      <th>USA</th>\n",
       "    </tr>\n",
       "    <tr>\n",
       "      <th>p1_promo</th>\n",
       "      <th></th>\n",
       "      <th></th>\n",
       "      <th></th>\n",
       "      <th></th>\n",
       "      <th></th>\n",
       "      <th></th>\n",
       "      <th></th>\n",
       "    </tr>\n",
       "  </thead>\n",
       "  <tbody>\n",
       "    <tr>\n",
       "      <th>0</th>\n",
       "      <td>89</td>\n",
       "      <td>191</td>\n",
       "      <td>194</td>\n",
       "      <td>455</td>\n",
       "      <td>283</td>\n",
       "      <td>376</td>\n",
       "      <td>283</td>\n",
       "    </tr>\n",
       "    <tr>\n",
       "      <th>1</th>\n",
       "      <td>15</td>\n",
       "      <td>17</td>\n",
       "      <td>14</td>\n",
       "      <td>65</td>\n",
       "      <td>29</td>\n",
       "      <td>40</td>\n",
       "      <td>29</td>\n",
       "    </tr>\n",
       "  </tbody>\n",
       "</table>\n",
       "</div>"
      ],
      "text/plain": [
       "country   AUS  BRA  CHN  DEU  GBR  JPN  USA\n",
       "p1_promo                                   \n",
       "0          89  191  194  455  283  376  283\n",
       "1          15   17   14   65   29   40   29"
      ]
     },
     "execution_count": 103,
     "metadata": {},
     "output_type": "execute_result"
    }
   ],
   "source": [
    "# the following line of code find the joint distribution of the number of transactions\n",
    "# by promotion and country\n",
    "\n",
    "store_sales.groupby(['p1_promo', 'country']).country.count().unstack()"
   ]
  },
  {
   "cell_type": "code",
   "execution_count": 36,
   "metadata": {
    "colab": {},
    "colab_type": "code",
    "hidden": true,
    "id": "KNNDXdNGgywe",
    "scrolled": true
   },
   "outputs": [
    {
     "data": {
      "text/html": [
       "<div>\n",
       "<style scoped>\n",
       "    .dataframe tbody tr th:only-of-type {\n",
       "        vertical-align: middle;\n",
       "    }\n",
       "\n",
       "    .dataframe tbody tr th {\n",
       "        vertical-align: top;\n",
       "    }\n",
       "\n",
       "    .dataframe thead th {\n",
       "        text-align: right;\n",
       "    }\n",
       "</style>\n",
       "<table border=\"1\" class=\"dataframe\">\n",
       "  <thead>\n",
       "    <tr style=\"text-align: right;\">\n",
       "      <th>country</th>\n",
       "      <th>AUS</th>\n",
       "      <th>BRA</th>\n",
       "      <th>CHN</th>\n",
       "      <th>DEU</th>\n",
       "      <th>GBR</th>\n",
       "      <th>JPN</th>\n",
       "      <th>USA</th>\n",
       "    </tr>\n",
       "    <tr>\n",
       "      <th>p1_promo</th>\n",
       "      <th></th>\n",
       "      <th></th>\n",
       "      <th></th>\n",
       "      <th></th>\n",
       "      <th></th>\n",
       "      <th></th>\n",
       "      <th></th>\n",
       "    </tr>\n",
       "  </thead>\n",
       "  <tbody>\n",
       "    <tr>\n",
       "      <th>0</th>\n",
       "      <td>89</td>\n",
       "      <td>191</td>\n",
       "      <td>194</td>\n",
       "      <td>455</td>\n",
       "      <td>283</td>\n",
       "      <td>376</td>\n",
       "      <td>283</td>\n",
       "    </tr>\n",
       "    <tr>\n",
       "      <th>1</th>\n",
       "      <td>15</td>\n",
       "      <td>17</td>\n",
       "      <td>14</td>\n",
       "      <td>65</td>\n",
       "      <td>29</td>\n",
       "      <td>40</td>\n",
       "      <td>29</td>\n",
       "    </tr>\n",
       "  </tbody>\n",
       "</table>\n",
       "</div>"
      ],
      "text/plain": [
       "country   AUS  BRA  CHN  DEU  GBR  JPN  USA\n",
       "p1_promo                                   \n",
       "0          89  191  194  455  283  376  283\n",
       "1          15   17   14   65   29   40   29"
      ]
     },
     "execution_count": 36,
     "metadata": {},
     "output_type": "execute_result"
    }
   ],
   "source": [
    "# pandas has a crosstab() method which makes it easier to create cross tabs\n",
    "# the output is similar to the previous output so you can use either command\n",
    "\n",
    "pd.crosstab(store_sales.p1_promo, store_sales.country)"
   ]
  },
  {
   "cell_type": "code",
   "execution_count": 46,
   "metadata": {
    "hidden": true
   },
   "outputs": [
    {
     "data": {
      "text/html": [
       "<div>\n",
       "<style scoped>\n",
       "    .dataframe tbody tr th:only-of-type {\n",
       "        vertical-align: middle;\n",
       "    }\n",
       "\n",
       "    .dataframe tbody tr th {\n",
       "        vertical-align: top;\n",
       "    }\n",
       "\n",
       "    .dataframe thead th {\n",
       "        text-align: right;\n",
       "    }\n",
       "</style>\n",
       "<table border=\"1\" class=\"dataframe\">\n",
       "  <thead>\n",
       "    <tr style=\"text-align: right;\">\n",
       "      <th>country</th>\n",
       "      <th>AUS</th>\n",
       "      <th>BRA</th>\n",
       "      <th>CHN</th>\n",
       "      <th>DEU</th>\n",
       "      <th>GBR</th>\n",
       "      <th>JPN</th>\n",
       "      <th>USA</th>\n",
       "      <th>All</th>\n",
       "    </tr>\n",
       "    <tr>\n",
       "      <th>p1_promo</th>\n",
       "      <th></th>\n",
       "      <th></th>\n",
       "      <th></th>\n",
       "      <th></th>\n",
       "      <th></th>\n",
       "      <th></th>\n",
       "      <th></th>\n",
       "      <th></th>\n",
       "    </tr>\n",
       "  </thead>\n",
       "  <tbody>\n",
       "    <tr>\n",
       "      <th>0</th>\n",
       "      <td>0.042788</td>\n",
       "      <td>0.091827</td>\n",
       "      <td>0.093269</td>\n",
       "      <td>0.21875</td>\n",
       "      <td>0.136058</td>\n",
       "      <td>0.180769</td>\n",
       "      <td>0.136058</td>\n",
       "      <td>0.899519</td>\n",
       "    </tr>\n",
       "    <tr>\n",
       "      <th>1</th>\n",
       "      <td>0.007212</td>\n",
       "      <td>0.008173</td>\n",
       "      <td>0.006731</td>\n",
       "      <td>0.03125</td>\n",
       "      <td>0.013942</td>\n",
       "      <td>0.019231</td>\n",
       "      <td>0.013942</td>\n",
       "      <td>0.100481</td>\n",
       "    </tr>\n",
       "    <tr>\n",
       "      <th>All</th>\n",
       "      <td>0.050000</td>\n",
       "      <td>0.100000</td>\n",
       "      <td>0.100000</td>\n",
       "      <td>0.25000</td>\n",
       "      <td>0.150000</td>\n",
       "      <td>0.200000</td>\n",
       "      <td>0.150000</td>\n",
       "      <td>1.000000</td>\n",
       "    </tr>\n",
       "  </tbody>\n",
       "</table>\n",
       "</div>"
      ],
      "text/plain": [
       "country        AUS       BRA       CHN      DEU       GBR       JPN       USA  \\\n",
       "p1_promo                                                                        \n",
       "0         0.042788  0.091827  0.093269  0.21875  0.136058  0.180769  0.136058   \n",
       "1         0.007212  0.008173  0.006731  0.03125  0.013942  0.019231  0.013942   \n",
       "All       0.050000  0.100000  0.100000  0.25000  0.150000  0.200000  0.150000   \n",
       "\n",
       "country        All  \n",
       "p1_promo            \n",
       "0         0.899519  \n",
       "1         0.100481  \n",
       "All       1.000000  "
      ]
     },
     "execution_count": 46,
     "metadata": {},
     "output_type": "execute_result"
    }
   ],
   "source": [
    "# With cross tabs, we can normalize our table using the normalize argument:\n",
    "\n",
    "# If passed ‘all‘ or True, will normalize overall values.\n",
    "# If passed ‘index‘ will normalize over each row.\n",
    "# If passed ‘columns‘ will normalize over each column.\n",
    "# If margins is True, will also normalize margin values.\n",
    "\n",
    "# normalize by total\n",
    "pd.crosstab(store_sales.p1_promo, store_sales.country, normalize= 'all', margins= True)\n"
   ]
  },
  {
   "cell_type": "code",
   "execution_count": 47,
   "metadata": {
    "hidden": true
   },
   "outputs": [
    {
     "data": {
      "text/html": [
       "<div>\n",
       "<style scoped>\n",
       "    .dataframe tbody tr th:only-of-type {\n",
       "        vertical-align: middle;\n",
       "    }\n",
       "\n",
       "    .dataframe tbody tr th {\n",
       "        vertical-align: top;\n",
       "    }\n",
       "\n",
       "    .dataframe thead th {\n",
       "        text-align: right;\n",
       "    }\n",
       "</style>\n",
       "<table border=\"1\" class=\"dataframe\">\n",
       "  <thead>\n",
       "    <tr style=\"text-align: right;\">\n",
       "      <th>country</th>\n",
       "      <th>AUS</th>\n",
       "      <th>BRA</th>\n",
       "      <th>CHN</th>\n",
       "      <th>DEU</th>\n",
       "      <th>GBR</th>\n",
       "      <th>JPN</th>\n",
       "      <th>USA</th>\n",
       "    </tr>\n",
       "    <tr>\n",
       "      <th>p1_promo</th>\n",
       "      <th></th>\n",
       "      <th></th>\n",
       "      <th></th>\n",
       "      <th></th>\n",
       "      <th></th>\n",
       "      <th></th>\n",
       "      <th></th>\n",
       "    </tr>\n",
       "  </thead>\n",
       "  <tbody>\n",
       "    <tr>\n",
       "      <th>0</th>\n",
       "      <td>0.047568</td>\n",
       "      <td>0.102084</td>\n",
       "      <td>0.103688</td>\n",
       "      <td>0.243185</td>\n",
       "      <td>0.151256</td>\n",
       "      <td>0.200962</td>\n",
       "      <td>0.151256</td>\n",
       "    </tr>\n",
       "    <tr>\n",
       "      <th>1</th>\n",
       "      <td>0.071770</td>\n",
       "      <td>0.081340</td>\n",
       "      <td>0.066986</td>\n",
       "      <td>0.311005</td>\n",
       "      <td>0.138756</td>\n",
       "      <td>0.191388</td>\n",
       "      <td>0.138756</td>\n",
       "    </tr>\n",
       "  </tbody>\n",
       "</table>\n",
       "</div>"
      ],
      "text/plain": [
       "country        AUS       BRA       CHN       DEU       GBR       JPN       USA\n",
       "p1_promo                                                                      \n",
       "0         0.047568  0.102084  0.103688  0.243185  0.151256  0.200962  0.151256\n",
       "1         0.071770  0.081340  0.066986  0.311005  0.138756  0.191388  0.138756"
      ]
     },
     "execution_count": 47,
     "metadata": {},
     "output_type": "execute_result"
    }
   ],
   "source": [
    "# normalize by row\n",
    "# Conditional probability (conditioned on promo here)\n",
    "pd.crosstab(store_sales.p1_promo, store_sales.country, normalize= 'index')\n",
    "\n",
    "# P(USA | promotion) = 0.138756"
   ]
  },
  {
   "cell_type": "code",
   "execution_count": 50,
   "metadata": {
    "hidden": true
   },
   "outputs": [
    {
     "data": {
      "text/html": [
       "<div>\n",
       "<style scoped>\n",
       "    .dataframe tbody tr th:only-of-type {\n",
       "        vertical-align: middle;\n",
       "    }\n",
       "\n",
       "    .dataframe tbody tr th {\n",
       "        vertical-align: top;\n",
       "    }\n",
       "\n",
       "    .dataframe thead th {\n",
       "        text-align: right;\n",
       "    }\n",
       "</style>\n",
       "<table border=\"1\" class=\"dataframe\">\n",
       "  <thead>\n",
       "    <tr style=\"text-align: right;\">\n",
       "      <th>country</th>\n",
       "      <th>AUS</th>\n",
       "      <th>BRA</th>\n",
       "      <th>CHN</th>\n",
       "      <th>DEU</th>\n",
       "      <th>GBR</th>\n",
       "      <th>JPN</th>\n",
       "      <th>USA</th>\n",
       "    </tr>\n",
       "    <tr>\n",
       "      <th>p1_promo</th>\n",
       "      <th></th>\n",
       "      <th></th>\n",
       "      <th></th>\n",
       "      <th></th>\n",
       "      <th></th>\n",
       "      <th></th>\n",
       "      <th></th>\n",
       "    </tr>\n",
       "  </thead>\n",
       "  <tbody>\n",
       "    <tr>\n",
       "      <th>0</th>\n",
       "      <td>0.855769</td>\n",
       "      <td>0.918269</td>\n",
       "      <td>0.932692</td>\n",
       "      <td>0.875</td>\n",
       "      <td>0.907051</td>\n",
       "      <td>0.903846</td>\n",
       "      <td>0.907051</td>\n",
       "    </tr>\n",
       "    <tr>\n",
       "      <th>1</th>\n",
       "      <td>0.144231</td>\n",
       "      <td>0.081731</td>\n",
       "      <td>0.067308</td>\n",
       "      <td>0.125</td>\n",
       "      <td>0.092949</td>\n",
       "      <td>0.096154</td>\n",
       "      <td>0.092949</td>\n",
       "    </tr>\n",
       "  </tbody>\n",
       "</table>\n",
       "</div>"
      ],
      "text/plain": [
       "country        AUS       BRA       CHN    DEU       GBR       JPN       USA\n",
       "p1_promo                                                                   \n",
       "0         0.855769  0.918269  0.932692  0.875  0.907051  0.903846  0.907051\n",
       "1         0.144231  0.081731  0.067308  0.125  0.092949  0.096154  0.092949"
      ]
     },
     "execution_count": 50,
     "metadata": {},
     "output_type": "execute_result"
    }
   ],
   "source": [
    "# normalize by column\n",
    "\n",
    "# Conditional probability (conditioned on country here)\n",
    "pd.crosstab(store_sales.p1_promo, store_sales.country, normalize= 'columns')\n",
    "\n",
    "# P(promotion| Japan) = 0.096154"
   ]
  },
  {
   "cell_type": "markdown",
   "metadata": {
    "hidden": true
   },
   "source": [
    "- More on crosstabs (https://pythonguides.com/crosstab-in-python-pandas/)"
   ]
  },
  {
   "cell_type": "markdown",
   "metadata": {
    "colab_type": "text",
    "heading_collapsed": true,
    "hidden": true,
    "id": "N20UXjnj2MJW"
   },
   "source": [
    "#### 3.2.2 Continuous Variables"
   ]
  },
  {
   "cell_type": "markdown",
   "metadata": {
    "hidden": true
   },
   "source": [
    "- For continous variables, we can use the following distribution methods to describe extreme values, central tendency, dispersion, and percentiles\n",
    "\n",
    "- Extremes\n",
    "    - `min()`: minimum value\n",
    "    - `max()`: maximum value\n",
    "- Central tendency:\n",
    "    - `mean()`: average\n",
    "    - `median()`: median\n",
    "- Dispersion:\n",
    "    - `var()`: variance around the mean\n",
    "    - `std()`: standar deviation\n",
    "- Points:\n",
    "    - `quantile()`: percentiles"
   ]
  },
  {
   "cell_type": "code",
   "execution_count": 51,
   "metadata": {
    "colab": {},
    "colab_type": "code",
    "hidden": true,
    "id": "3CI_EcLWxtY9"
   },
   "outputs": [
    {
     "data": {
      "text/plain": [
       "51.0"
      ]
     },
     "execution_count": 51,
     "metadata": {},
     "output_type": "execute_result"
    }
   ],
   "source": [
    "store_sales.p2_sales.min()"
   ]
  },
  {
   "cell_type": "code",
   "execution_count": 52,
   "metadata": {
    "colab": {},
    "colab_type": "code",
    "hidden": true,
    "id": "GhQI3ehPzhFo"
   },
   "outputs": [
    {
     "data": {
      "text/plain": [
       "265.0"
      ]
     },
     "execution_count": 52,
     "metadata": {},
     "output_type": "execute_result"
    }
   ],
   "source": [
    "store_sales.p1_sales.max()"
   ]
  },
  {
   "cell_type": "code",
   "execution_count": 53,
   "metadata": {
    "colab": {},
    "colab_type": "code",
    "hidden": true,
    "id": "VYDzTh5ozxb5"
   },
   "outputs": [
    {
     "data": {
      "text/plain": [
       "0.10048076923076923"
      ]
     },
     "execution_count": 53,
     "metadata": {},
     "output_type": "execute_result"
    }
   ],
   "source": [
    "store_sales.p1_promo.mean()"
   ]
  },
  {
   "cell_type": "code",
   "execution_count": 54,
   "metadata": {
    "colab": {},
    "colab_type": "code",
    "hidden": true,
    "id": "8kDL87vzz2S5"
   },
   "outputs": [
    {
     "data": {
      "text/plain": [
       "96.0"
      ]
     },
     "execution_count": 54,
     "metadata": {},
     "output_type": "execute_result"
    }
   ],
   "source": [
    "store_sales.p2_sales.median()"
   ]
  },
  {
   "cell_type": "code",
   "execution_count": 55,
   "metadata": {
    "colab": {},
    "colab_type": "code",
    "hidden": true,
    "id": "idBfNMaIz7EK"
   },
   "outputs": [
    {
     "data": {
      "text/plain": [
       "861.7204626392133"
      ]
     },
     "execution_count": 55,
     "metadata": {},
     "output_type": "execute_result"
    }
   ],
   "source": [
    "store_sales.p1_sales.var()"
   ]
  },
  {
   "cell_type": "code",
   "execution_count": 56,
   "metadata": {
    "colab": {},
    "colab_type": "code",
    "hidden": true,
    "id": "2IlR3mq4z9UB"
   },
   "outputs": [
    {
     "data": {
      "text/plain": [
       "29.355075585649807"
      ]
     },
     "execution_count": 56,
     "metadata": {},
     "output_type": "execute_result"
    }
   ],
   "source": [
    "store_sales.p1_sales.std()"
   ]
  },
  {
   "cell_type": "code",
   "execution_count": 59,
   "metadata": {
    "colab": {},
    "colab_type": "code",
    "hidden": true,
    "id": "HWjJHeys0Y5S"
   },
   "outputs": [
    {
     "data": {
      "text/plain": [
       "0.25    113.0\n",
       "0.50    130.0\n",
       "0.75    151.0\n",
       "Name: p1_sales, dtype: float64"
      ]
     },
     "execution_count": 59,
     "metadata": {},
     "output_type": "execute_result"
    }
   ],
   "source": [
    "# 25th, 50th, and 75th percentiles\n",
    "store_sales.p1_sales.quantile(q=[0.25, 0.5, 0.75])"
   ]
  },
  {
   "cell_type": "code",
   "execution_count": 60,
   "metadata": {
    "colab": {},
    "colab_type": "code",
    "hidden": true,
    "id": "EcbMjjkT0qdr"
   },
   "outputs": [
    {
     "data": {
      "text/plain": [
       "0.05     93.0\n",
       "0.95    187.0\n",
       "Name: p1_sales, dtype: float64"
      ]
     },
     "execution_count": 60,
     "metadata": {},
     "output_type": "execute_result"
    }
   ],
   "source": [
    "store_sales.p1_sales.quantile(q=[0.05, 0.95])"
   ]
  },
  {
   "cell_type": "code",
   "execution_count": 62,
   "metadata": {
    "colab": {},
    "colab_type": "code",
    "hidden": true,
    "id": "zJ75vPdh1jx9"
   },
   "outputs": [
    {
     "data": {
      "text/plain": [
       "0.0     68.0\n",
       "0.1    100.0\n",
       "0.2    109.0\n",
       "0.3    116.0\n",
       "0.4    123.0\n",
       "0.5    130.0\n",
       "0.6    138.0\n",
       "0.7    146.0\n",
       "0.8    158.0\n",
       "0.9    174.0\n",
       "1.0    265.0\n",
       "Name: p1_sales, dtype: float64"
      ]
     },
     "execution_count": 62,
     "metadata": {},
     "output_type": "execute_result"
    }
   ],
   "source": [
    "import numpy as np\n",
    "\n",
    "# percentiles from 0th to 100th with increment of 10\n",
    "store_sales.p1_sales.quantile(q=np.arange(0, 1.1, 0.1))"
   ]
  },
  {
   "cell_type": "markdown",
   "metadata": {
    "colab_type": "text",
    "heading_collapsed": true,
    "id": "4Hd4exSJ68tu"
   },
   "source": [
    "### 2.2 Summarizing Data Frames"
   ]
  },
  {
   "cell_type": "code",
   "execution_count": 63,
   "metadata": {
    "colab": {},
    "colab_type": "code",
    "hidden": true,
    "id": "Fix4ui1t4Xzz"
   },
   "outputs": [
    {
     "data": {
      "text/html": [
       "<div>\n",
       "<style scoped>\n",
       "    .dataframe tbody tr th:only-of-type {\n",
       "        vertical-align: middle;\n",
       "    }\n",
       "\n",
       "    .dataframe tbody tr th {\n",
       "        vertical-align: top;\n",
       "    }\n",
       "\n",
       "    .dataframe thead th {\n",
       "        text-align: right;\n",
       "    }\n",
       "</style>\n",
       "<table border=\"1\" class=\"dataframe\">\n",
       "  <thead>\n",
       "    <tr style=\"text-align: right;\">\n",
       "      <th></th>\n",
       "      <th>store_num</th>\n",
       "      <th>year</th>\n",
       "      <th>week</th>\n",
       "      <th>p1_sales</th>\n",
       "      <th>p2_sales</th>\n",
       "      <th>p1_price</th>\n",
       "      <th>p2_price</th>\n",
       "      <th>p1_promo</th>\n",
       "      <th>p2_promo</th>\n",
       "    </tr>\n",
       "  </thead>\n",
       "  <tbody>\n",
       "    <tr>\n",
       "      <th>count</th>\n",
       "      <td>2080.000000</td>\n",
       "      <td>2080.00000</td>\n",
       "      <td>2080.00000</td>\n",
       "      <td>2080.000000</td>\n",
       "      <td>2080.000000</td>\n",
       "      <td>2080.000000</td>\n",
       "      <td>2080.000000</td>\n",
       "      <td>2080.000000</td>\n",
       "      <td>2080.000000</td>\n",
       "    </tr>\n",
       "    <tr>\n",
       "      <th>mean</th>\n",
       "      <td>110.500000</td>\n",
       "      <td>1.50000</td>\n",
       "      <td>26.50000</td>\n",
       "      <td>133.967788</td>\n",
       "      <td>99.911058</td>\n",
       "      <td>2.548654</td>\n",
       "      <td>2.716106</td>\n",
       "      <td>0.100481</td>\n",
       "      <td>0.145673</td>\n",
       "    </tr>\n",
       "    <tr>\n",
       "      <th>std</th>\n",
       "      <td>5.767668</td>\n",
       "      <td>0.50012</td>\n",
       "      <td>15.01194</td>\n",
       "      <td>29.355076</td>\n",
       "      <td>24.453788</td>\n",
       "      <td>0.300716</td>\n",
       "      <td>0.333559</td>\n",
       "      <td>0.300712</td>\n",
       "      <td>0.352863</td>\n",
       "    </tr>\n",
       "    <tr>\n",
       "      <th>min</th>\n",
       "      <td>101.000000</td>\n",
       "      <td>1.00000</td>\n",
       "      <td>1.00000</td>\n",
       "      <td>68.000000</td>\n",
       "      <td>51.000000</td>\n",
       "      <td>2.190000</td>\n",
       "      <td>2.290000</td>\n",
       "      <td>0.000000</td>\n",
       "      <td>0.000000</td>\n",
       "    </tr>\n",
       "    <tr>\n",
       "      <th>25%</th>\n",
       "      <td>105.750000</td>\n",
       "      <td>1.00000</td>\n",
       "      <td>13.75000</td>\n",
       "      <td>113.000000</td>\n",
       "      <td>82.000000</td>\n",
       "      <td>2.290000</td>\n",
       "      <td>2.490000</td>\n",
       "      <td>0.000000</td>\n",
       "      <td>0.000000</td>\n",
       "    </tr>\n",
       "    <tr>\n",
       "      <th>50%</th>\n",
       "      <td>110.500000</td>\n",
       "      <td>1.50000</td>\n",
       "      <td>26.50000</td>\n",
       "      <td>130.000000</td>\n",
       "      <td>96.000000</td>\n",
       "      <td>2.490000</td>\n",
       "      <td>2.590000</td>\n",
       "      <td>0.000000</td>\n",
       "      <td>0.000000</td>\n",
       "    </tr>\n",
       "    <tr>\n",
       "      <th>75%</th>\n",
       "      <td>115.250000</td>\n",
       "      <td>2.00000</td>\n",
       "      <td>39.25000</td>\n",
       "      <td>151.000000</td>\n",
       "      <td>115.000000</td>\n",
       "      <td>2.790000</td>\n",
       "      <td>2.990000</td>\n",
       "      <td>0.000000</td>\n",
       "      <td>0.000000</td>\n",
       "    </tr>\n",
       "    <tr>\n",
       "      <th>max</th>\n",
       "      <td>120.000000</td>\n",
       "      <td>2.00000</td>\n",
       "      <td>52.00000</td>\n",
       "      <td>265.000000</td>\n",
       "      <td>210.000000</td>\n",
       "      <td>2.990000</td>\n",
       "      <td>3.190000</td>\n",
       "      <td>1.000000</td>\n",
       "      <td>1.000000</td>\n",
       "    </tr>\n",
       "  </tbody>\n",
       "</table>\n",
       "</div>"
      ],
      "text/plain": [
       "         store_num        year        week     p1_sales     p2_sales  \\\n",
       "count  2080.000000  2080.00000  2080.00000  2080.000000  2080.000000   \n",
       "mean    110.500000     1.50000    26.50000   133.967788    99.911058   \n",
       "std       5.767668     0.50012    15.01194    29.355076    24.453788   \n",
       "min     101.000000     1.00000     1.00000    68.000000    51.000000   \n",
       "25%     105.750000     1.00000    13.75000   113.000000    82.000000   \n",
       "50%     110.500000     1.50000    26.50000   130.000000    96.000000   \n",
       "75%     115.250000     2.00000    39.25000   151.000000   115.000000   \n",
       "max     120.000000     2.00000    52.00000   265.000000   210.000000   \n",
       "\n",
       "          p1_price     p2_price     p1_promo     p2_promo  \n",
       "count  2080.000000  2080.000000  2080.000000  2080.000000  \n",
       "mean      2.548654     2.716106     0.100481     0.145673  \n",
       "std       0.300716     0.333559     0.300712     0.352863  \n",
       "min       2.190000     2.290000     0.000000     0.000000  \n",
       "25%       2.290000     2.490000     0.000000     0.000000  \n",
       "50%       2.490000     2.590000     0.000000     0.000000  \n",
       "75%       2.790000     2.990000     0.000000     0.000000  \n",
       "max       2.990000     3.190000     1.000000     1.000000  "
      ]
     },
     "execution_count": 63,
     "metadata": {},
     "output_type": "execute_result"
    }
   ],
   "source": [
    "store_sales.describe()"
   ]
  },
  {
   "cell_type": "code",
   "execution_count": 64,
   "metadata": {
    "colab": {},
    "colab_type": "code",
    "hidden": true,
    "id": "f2rak70qDu_P"
   },
   "outputs": [
    {
     "data": {
      "text/plain": [
       "count    2080.000000\n",
       "mean        2.548654\n",
       "std         0.300716\n",
       "min         2.190000\n",
       "25%         2.290000\n",
       "50%         2.490000\n",
       "75%         2.790000\n",
       "max         2.990000\n",
       "Name: p1_price, dtype: float64"
      ]
     },
     "execution_count": 64,
     "metadata": {},
     "output_type": "execute_result"
    }
   ],
   "source": [
    "store_sales.p1_price.describe()"
   ]
  },
  {
   "cell_type": "markdown",
   "metadata": {
    "colab_type": "text",
    "heading_collapsed": true,
    "hidden": true,
    "id": "iOLa7P5QEXyP"
   },
   "source": [
    "#### 3.3.4 apply()"
   ]
  },
  {
   "cell_type": "markdown",
   "metadata": {
    "hidden": true
   },
   "source": [
    "- We will get back to this next time"
   ]
  },
  {
   "cell_type": "markdown",
   "metadata": {
    "colab_type": "text",
    "heading_collapsed": true,
    "id": "nM2dV1VAJFtS"
   },
   "source": [
    "### 2.3 Single Variable Visualization"
   ]
  },
  {
   "cell_type": "markdown",
   "metadata": {
    "colab_type": "text",
    "heading_collapsed": true,
    "hidden": true,
    "id": "hqF8VDAgUgAd"
   },
   "source": [
    "#### 2.4.1 Histograms"
   ]
  },
  {
   "cell_type": "code",
   "execution_count": 65,
   "metadata": {
    "colab": {},
    "colab_type": "code",
    "hidden": true,
    "id": "6RejrUJORcLp"
   },
   "outputs": [
    {
     "data": {
      "text/plain": [
       "<AxesSubplot:>"
      ]
     },
     "execution_count": 65,
     "metadata": {},
     "output_type": "execute_result"
    },
    {
     "data": {
      "image/png": "[encoded data removed]",
      "text/plain": [
       "<Figure size 432x288 with 1 Axes>"
      ]
     },
     "metadata": {
      "needs_background": "light"
     },
     "output_type": "display_data"
    }
   ],
   "source": [
    "store_sales.p1_sales.hist()"
   ]
  },
  {
   "cell_type": "code",
   "execution_count": 66,
   "metadata": {
    "colab": {},
    "colab_type": "code",
    "hidden": true,
    "id": "q36qbFdxEL87"
   },
   "outputs": [
    {
     "data": {
      "text/plain": [
       "Text(0, 0.5, 'Count')"
      ]
     },
     "execution_count": 66,
     "metadata": {},
     "output_type": "execute_result"
    },
    {
     "data": {
      "image/png": "[encoded data removed]",
      "text/plain": [
       "<Figure size 432x288 with 1 Axes>"
      ]
     },
     "metadata": {
      "needs_background": "light"
     },
     "output_type": "display_data"
    }
   ],
   "source": [
    "import matplotlib.pyplot as plt\n",
    "store_sales.p1_sales.hist()\n",
    "plt.title('Product 1 weekly sales frequencies, All stores')\n",
    "plt.xlabel('Product 1 sales (units)')\n",
    "plt.ylabel('Count')"
   ]
  },
  {
   "cell_type": "code",
   "execution_count": 67,
   "metadata": {
    "colab": {},
    "colab_type": "code",
    "hidden": true,
    "id": "I_WPO3YOuALt"
   },
   "outputs": [],
   "source": [
    "plt.rcParams.update({'font.size': 12})"
   ]
  },
  {
   "cell_type": "code",
   "execution_count": 70,
   "metadata": {
    "colab": {},
    "colab_type": "code",
    "hidden": true,
    "id": "L9LDrKZjoJUU"
   },
   "outputs": [
    {
     "data": {
      "image/png": "[encoded data removed]",
      "text/plain": [
       "<Figure size 432x288 with 1 Axes>"
      ]
     },
     "metadata": {
      "needs_background": "light"
     },
     "output_type": "display_data"
    }
   ],
   "source": [
    "store_sales.p1_sales.hist(bins=30,\n",
    "                          edgecolor='k',\n",
    "                          facecolor='lightblue')\n",
    "plt.title('Product 1 weekly sales frequencies, All stores')\n",
    "plt.xlabel('Product 1 sales (units)')\n",
    "plt.ylabel('Count')\n",
    "plt.grid(False)\n",
    "plt.box(False)"
   ]
  },
  {
   "cell_type": "code",
   "execution_count": 71,
   "metadata": {
    "colab": {},
    "colab_type": "code",
    "hidden": true,
    "id": "tkFBPVTsRGPy"
   },
   "outputs": [
    {
     "data": {
      "image/png": "[encoded data removed]",
      "text/plain": [
       "<Figure size 432x288 with 1 Axes>"
      ]
     },
     "metadata": {
      "needs_background": "light"
     },
     "output_type": "display_data"
    }
   ],
   "source": [
    "store_sales.p1_sales.hist(bins=30,\n",
    "                          edgecolor='k',\n",
    "                          facecolor='lightblue',\n",
    "                          density=True)\n",
    "plt.title('Product 1 weekly sales frequencies, All stores')\n",
    "plt.xlabel('Product 1 sales (units)')\n",
    "plt.ylabel('Relative frequency')\n",
    "plt.xticks(range(60, 300, 20))\n",
    "plt.grid(False)\n",
    "plt.box(False)"
   ]
  },
  {
   "cell_type": "code",
   "execution_count": 72,
   "metadata": {
    "colab": {},
    "colab_type": "code",
    "hidden": true,
    "id": "rebdhuPGRizp"
   },
   "outputs": [
    {
     "data": {
      "image/png": "[encoded data removed]",
      "text/plain": [
       "<Figure size 432x288 with 1 Axes>"
      ]
     },
     "metadata": {
      "needs_background": "light"
     },
     "output_type": "display_data"
    }
   ],
   "source": [
    "store_sales.p1_sales.hist(bins=30,\n",
    "                          edgecolor='k',\n",
    "                          facecolor='lightblue',\n",
    "                          density=True)\n",
    "store_sales.p1_sales.plot.density(color='red')\n",
    "plt.title('Product 1 weekly sales frequencies, All stores')\n",
    "plt.xlabel('Product 1 sales (units)')\n",
    "plt.ylabel('Relative frequency')\n",
    "plt.xticks(range(60, 300, 20))\n",
    "plt.xlim((60, 290))\n",
    "plt.box(False)"
   ]
  },
  {
   "cell_type": "markdown",
   "metadata": {
    "colab_type": "text",
    "hidden": true,
    "id": "bbW65MHiUjR9"
   },
   "source": [
    "#### 2.4.2 Box plots"
   ]
  },
  {
   "cell_type": "code",
   "execution_count": 79,
   "metadata": {
    "colab": {},
    "colab_type": "code",
    "hidden": true,
    "id": "Urfr3bf4ToA2"
   },
   "outputs": [
    {
     "data": {
      "image/png": "[encoded data removed]",
      "text/plain": [
       "<Figure size 432x288 with 1 Axes>"
      ]
     },
     "metadata": {
      "needs_background": "light"
     },
     "output_type": "display_data"
    }
   ],
   "source": [
    "p = store_sales.p2_sales.plot.box(vert=False)\n",
    "plt.title('Weekly sales of P2, All stores')\n",
    "plt.xlabel('Weekly sales')\n",
    "p.set_facecolor('w')"
   ]
  },
  {
   "cell_type": "code",
   "execution_count": 80,
   "metadata": {
    "colab": {},
    "colab_type": "code",
    "hidden": true,
    "id": "T1vWGW0Ypu0x"
   },
   "outputs": [
    {
     "data": {
      "image/png": "[encoded data removed]",
      "text/plain": [
       "<Figure size 432x288 with 1 Axes>"
      ]
     },
     "metadata": {
      "needs_background": "light"
     },
     "output_type": "display_data"
    }
   ],
   "source": [
    "store_sales.boxplot(column='p2_sales', by='store_num', vert=False)\n",
    "plt.suptitle('')\n",
    "plt.title('Weekly sales of p2 by store')\n",
    "plt.xlabel('Weekly unit sales')\n",
    "plt.ylabel('Store')\n",
    "plt.box(False)"
   ]
  },
  {
   "cell_type": "code",
   "execution_count": 105,
   "metadata": {
    "colab": {},
    "colab_type": "code",
    "hidden": true,
    "id": "MGVCSnypuNjx"
   },
   "outputs": [
    {
     "ename": "NameError",
     "evalue": "name 'plt' is not defined",
     "output_type": "error",
     "traceback": [
      "\u001b[1;31m---------------------------------------------------------------------------\u001b[0m",
      "\u001b[1;31mNameError\u001b[0m                                 Traceback (most recent call last)",
      "Cell \u001b[1;32mIn[105], line 2\u001b[0m\n\u001b[0;32m      1\u001b[0m store_sales\u001b[38;5;241m.\u001b[39mboxplot(column\u001b[38;5;241m=\u001b[39m\u001b[38;5;124m'\u001b[39m\u001b[38;5;124mp2_sales\u001b[39m\u001b[38;5;124m'\u001b[39m, by\u001b[38;5;241m=\u001b[39m\u001b[38;5;124m'\u001b[39m\u001b[38;5;124mp2_promo\u001b[39m\u001b[38;5;124m'\u001b[39m, vert\u001b[38;5;241m=\u001b[39m\u001b[38;5;28;01mFalse\u001b[39;00m)\n\u001b[1;32m----> 2\u001b[0m plt\u001b[38;5;241m.\u001b[39msuptitle(\u001b[38;5;124m'\u001b[39m\u001b[38;5;124m'\u001b[39m)\n\u001b[0;32m      3\u001b[0m plt\u001b[38;5;241m.\u001b[39mtitle(\u001b[38;5;124m'\u001b[39m\u001b[38;5;124mWeekly sales of p2 with and without promotion\u001b[39m\u001b[38;5;124m'\u001b[39m)\n\u001b[0;32m      4\u001b[0m plt\u001b[38;5;241m.\u001b[39mxlabel(\u001b[38;5;124m'\u001b[39m\u001b[38;5;124mWeekly unit sales\u001b[39m\u001b[38;5;124m'\u001b[39m)\n",
      "\u001b[1;31mNameError\u001b[0m: name 'plt' is not defined"
     ]
    },
    {
     "data": {
      "image/png": "[encoded data removed]",
      "text/plain": [
       "<Figure size 640x480 with 1 Axes>"
      ]
     },
     "metadata": {},
     "output_type": "display_data"
    }
   ],
   "source": [
    "store_sales.boxplot(column='p2_sales', by='p2_promo', vert=False)\n",
    "plt.suptitle('')\n",
    "plt.title('Weekly sales of p2 with and without promotion')\n",
    "plt.xlabel('Weekly unit sales')\n",
    "plt.ylabel('P2 promo in store?')\n",
    "plt.yticks([1, 2], ['No', 'Yes'])\n",
    "plt.box(False)"
   ]
  },
  {
   "cell_type": "code",
   "execution_count": null,
   "metadata": {},
   "outputs": [],
   "source": []
  }
 ],
 "metadata": {
  "colab": {
   "collapsed_sections": [],
   "name": "Chapter 3 - Describing Data",
   "provenance": []
  },
  "kernelspec": {
   "display_name": "Python 3 (ipykernel)",
   "language": "python",
   "name": "python3"
  },
  "language_info": {
   "codemirror_mode": {
    "name": "ipython",
    "version": 3
   },
   "file_extension": ".py",
   "mimetype": "text/x-python",
   "name": "python",
   "nbconvert_exporter": "python",
   "pygments_lexer": "ipython3",
   "version": "3.11.4"
  },
  "varInspector": {
   "cols": {
    "lenName": 16,
    "lenType": 16,
    "lenVar": 40
   },
   "kernels_config": {
    "python": {
     "delete_cmd_postfix": "",
     "delete_cmd_prefix": "del ",
     "library": "var_list.py",
     "varRefreshCmd": "print(var_dic_list())"
    },
    "r": {
     "delete_cmd_postfix": ") ",
     "delete_cmd_prefix": "rm(",
     "library": "var_list.r",
     "varRefreshCmd": "cat(var_dic_list()) "
    }
   },
   "types_to_exclude": [
    "module",
    "function",
    "builtin_function_or_method",
    "instance",
    "_Feature"
   ],
   "window_display": false
  }
 },
 "nbformat": 4,
 "nbformat_minor": 1
}
