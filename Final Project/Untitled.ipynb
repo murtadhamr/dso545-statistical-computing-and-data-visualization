{
 "cells": [
  {
   "cell_type": "code",
   "execution_count": 1,
   "id": "09601f86-8903-44aa-b0f7-ced924720b58",
   "metadata": {
    "tags": []
   },
   "outputs": [],
   "source": [
    "x = ['a', 'bc']\n",
    "y = ['ac', 'b']"
   ]
  },
  {
   "cell_type": "code",
   "execution_count": 6,
   "id": "4260dcbe-d066-4c46-ba5a-bfd8ca633269",
   "metadata": {
    "tags": []
   },
   "outputs": [
    {
     "ename": "SyntaxError",
     "evalue": "invalid syntax (829717746.py, line 1)",
     "output_type": "error",
     "traceback": [
      "\u001b[0;36m  Cell \u001b[0;32mIn[6], line 1\u001b[0;36m\u001b[0m\n\u001b[0;31m    ''+i for i in x\u001b[0m\n\u001b[0m         ^\u001b[0m\n\u001b[0;31mSyntaxError\u001b[0m\u001b[0;31m:\u001b[0m invalid syntax\n"
     ]
    }
   ],
   "source": [
    "a = ''\n",
    "''+i for i in x"
   ]
  },
  {
   "cell_type": "code",
   "execution_count": 7,
   "id": "0b6df65e-1480-427a-9818-5b9bbc82f02b",
   "metadata": {
    "tags": []
   },
   "outputs": [
    {
     "data": {
      "text/plain": [
       "False"
      ]
     },
     "execution_count": 7,
     "metadata": {},
     "output_type": "execute_result"
    }
   ],
   "source": [
    "'abcd' == 'abdc'"
   ]
  },
  {
   "cell_type": "code",
   "execution_count": 14,
   "id": "4601a671-fd0a-4c87-ae89-f0d98b46bbcc",
   "metadata": {
    "tags": []
   },
   "outputs": [
    {
     "data": {
      "text/plain": [
       "[5, 4, 2, 1]"
      ]
     },
     "execution_count": 14,
     "metadata": {},
     "output_type": "execute_result"
    }
   ],
   "source": [
    "x = [1, 4, 2, 5]\n",
    "x.sort(reverse=True)\n",
    "x"
   ]
  },
  {
   "cell_type": "code",
   "execution_count": 23,
   "id": "aaffece0-951b-4125-9bba-bb7b1210e012",
   "metadata": {
    "tags": []
   },
   "outputs": [
    {
     "data": {
      "text/plain": [
       "7"
      ]
     },
     "execution_count": 23,
     "metadata": {},
     "output_type": "execute_result"
    }
   ],
   "source": [
    "nums = [12,28,83,4,25,26,25,2,25,25,25,12]\n",
    "target = 213\n",
    "\n",
    "nums.sort(reverse = True)\n",
    "temp = []\n",
    "i = 0\n",
    "while(sum(temp) < target):\n",
    "    temp.append(nums[i])\n",
    "    i +=1\n",
    "    \n",
    "len(temp)"
   ]
  },
  {
   "cell_type": "code",
   "execution_count": 22,
   "id": "5a5fcfd0-3bc6-4c3c-a238-17e11407c757",
   "metadata": {
    "tags": []
   },
   "outputs": [
    {
     "data": {
      "text/plain": [
       "0"
      ]
     },
     "execution_count": 22,
     "metadata": {},
     "output_type": "execute_result"
    }
   ],
   "source": [
    "targe\n",
    "[12,28,83,4,25,26,25,2,25,25,25,12]"
   ]
  },
  {
   "cell_type": "code",
   "execution_count": 27,
   "id": "1afdf164-2f33-4970-a6c2-c8f17d92345e",
   "metadata": {
    "tags": []
   },
   "outputs": [
    {
     "name": "stdout",
     "output_type": "stream",
     "text": [
      "83\n",
      "111\n",
      "137\n",
      "162\n",
      "187\n",
      "212\n",
      "237\n",
      "262\n",
      "274\n",
      "286\n",
      "290\n",
      "292\n"
     ]
    }
   ],
   "source": [
    "y = 0\n",
    "\n",
    "for x in nums:\n",
    "    y += x\n",
    "    print(y)"
   ]
  },
  {
   "cell_type": "code",
   "execution_count": 29,
   "id": "c349b29a-6b27-4d8f-9920-e0b6814ca080",
   "metadata": {
    "tags": []
   },
   "outputs": [
    {
     "data": {
      "text/plain": [
       "[83, 28, 26, 25, 25, 25, 25, 25, 12, 12, 4, 2]"
      ]
     },
     "execution_count": 29,
     "metadata": {},
     "output_type": "execute_result"
    }
   ],
   "source": [
    "nums"
   ]
  },
  {
   "cell_type": "code",
   "execution_count": 30,
   "id": "0c9cc0b0-9dc3-4529-82a1-fd4c4af42dfd",
   "metadata": {
    "tags": []
   },
   "outputs": [
    {
     "data": {
      "text/plain": [
       "[1, 2, 3, 4, 5, 6]"
      ]
     },
     "execution_count": 30,
     "metadata": {},
     "output_type": "execute_result"
    }
   ],
   "source": [
    "a = [1, 2, 3]\n",
    "b = [4, 5, 6]\n",
    "\n",
    "a + b"
   ]
  },
  {
   "cell_type": "code",
   "execution_count": 58,
   "id": "b6a163c8-42d5-4805-9d71-a073bbfc532e",
   "metadata": {
    "tags": []
   },
   "outputs": [
    {
     "name": "stdout",
     "output_type": "stream",
     "text": [
      "fl\n"
     ]
    }
   ],
   "source": [
    "strs = [\"flower\",\"flow\",\"flight\"]\n",
    "min_len = 9999999\n",
    "shortest_string = ''\n",
    "for st in strs:\n",
    "    if len(st) < min_len:\n",
    "        min_len = len(st)\n",
    "        shortest_string = st\n",
    "        \n",
    "strs_2 = [x for x in strs if x not in shortest_string]\n",
    "\n",
    "common_prefix = ''\n",
    "\n",
    "\n",
    "for i in range(len(shortest_string), -1,  -1):\n",
    "    temp = 0\n",
    "    for st in strs_2:\n",
    "        if shortest_string[0:i] in st:\n",
    "            temp += 1\n",
    "    if temp == len(strs_2):\n",
    "        common_prefix = shortest_string[0:i]\n",
    "        break\n",
    "\n",
    "print(common_prefix)"
   ]
  }
 ],
 "metadata": {
  "kernelspec": {
   "display_name": "Python 3 (ipykernel)",
   "language": "python",
   "name": "python3"
  },
  "language_info": {
   "codemirror_mode": {
    "name": "ipython",
    "version": 3
   },
   "file_extension": ".py",
   "mimetype": "text/x-python",
   "name": "python",
   "nbconvert_exporter": "python",
   "pygments_lexer": "ipython3",
   "version": "3.11.4"
  }
 },
 "nbformat": 4,
 "nbformat_minor": 5
}
