{
 "cells": [
  {
   "cell_type": "code",
   "execution_count": 2,
   "id": "ba6d7465-b650-458c-82a6-e8e11a65de1a",
   "metadata": {
    "tags": []
   },
   "outputs": [],
   "source": [
    "import numpy as np # for mathematical caluclations\n",
    "import pandas as pd \n",
    "from datetime import datetime  # to access datetime\n",
    "import scipy.stats as stats\n",
    "\n",
    "# for data visualization\n",
    "import matplotlib.pyplot as plt \n",
    "import seaborn as sns \n",
    "import plotly.express as px # for interactive plotting\n",
    "import plotly.graph_objects as go # for interactive plotting\n",
    "\n",
    "# set the plot style in matplotlib to ggplot and the firgure size to 15x5## Augmented Dickey Fuller Test for Assessing Stationarity\n",
    "plt.style.use('ggplot')\n",
    "plt.rcParams[\"figure.figsize\"] = (10,5)\n",
    "\n",
    "# for ingnoring warnings\n",
    "import warnings # to ignore warning\n",
    "warnings.filterwarnings('ignore')\n",
    "pd.set_option('display.max_columns',None)"
   ]
  },
  {
   "cell_type": "markdown",
   "id": "7d17fa76-d701-41f8-9b44-dcaabb8f52fb",
   "metadata": {},
   "source": [
    "## Creating Data Frame for Analysis"
   ]
  },
  {
   "cell_type": "code",
   "execution_count": 2,
   "id": "a40bd106-d74a-4ef0-98f4-f9e248cca05a",
   "metadata": {
    "tags": []
   },
   "outputs": [
    {
     "data": {
      "text/html": [
       "<div>\n",
       "<style scoped>\n",
       "    .dataframe tbody tr th:only-of-type {\n",
       "        vertical-align: middle;\n",
       "    }\n",
       "\n",
       "    .dataframe tbody tr th {\n",
       "        vertical-align: top;\n",
       "    }\n",
       "\n",
       "    .dataframe thead th {\n",
       "        text-align: right;\n",
       "    }\n",
       "</style>\n",
       "<table border=\"1\" class=\"dataframe\">\n",
       "  <thead>\n",
       "    <tr style=\"text-align: right;\">\n",
       "      <th></th>\n",
       "      <th>Rk</th>\n",
       "      <th>Player</th>\n",
       "      <th>Pos</th>\n",
       "      <th>Age</th>\n",
       "      <th>Tm</th>\n",
       "      <th>G</th>\n",
       "      <th>GS</th>\n",
       "      <th>MP</th>\n",
       "      <th>FG</th>\n",
       "      <th>FGA</th>\n",
       "      <th>FG%</th>\n",
       "      <th>3P</th>\n",
       "      <th>3PA</th>\n",
       "      <th>3P%</th>\n",
       "      <th>2P</th>\n",
       "      <th>2PA</th>\n",
       "      <th>2P%</th>\n",
       "      <th>eFG%</th>\n",
       "      <th>FT</th>\n",
       "      <th>FTA</th>\n",
       "      <th>FT%</th>\n",
       "      <th>ORB</th>\n",
       "      <th>DRB</th>\n",
       "      <th>TRB</th>\n",
       "      <th>AST</th>\n",
       "      <th>STL</th>\n",
       "      <th>BLK</th>\n",
       "      <th>TOV</th>\n",
       "      <th>PF</th>\n",
       "      <th>PTS</th>\n",
       "      <th>Player-additional</th>\n",
       "    </tr>\n",
       "  </thead>\n",
       "  <tbody>\n",
       "    <tr>\n",
       "      <th>0</th>\n",
       "      <td>1</td>\n",
       "      <td>Precious Achiuwa</td>\n",
       "      <td>C</td>\n",
       "      <td>23</td>\n",
       "      <td>TOR</td>\n",
       "      <td>55</td>\n",
       "      <td>12</td>\n",
       "      <td>1140</td>\n",
       "      <td>196</td>\n",
       "      <td>404</td>\n",
       "      <td>0.485</td>\n",
       "      <td>29</td>\n",
       "      <td>108</td>\n",
       "      <td>0.269</td>\n",
       "      <td>167</td>\n",
       "      <td>296</td>\n",
       "      <td>0.564</td>\n",
       "      <td>0.521</td>\n",
       "      <td>87</td>\n",
       "      <td>124</td>\n",
       "      <td>0.702</td>\n",
       "      <td>100</td>\n",
       "      <td>228</td>\n",
       "      <td>328</td>\n",
       "      <td>50</td>\n",
       "      <td>31</td>\n",
       "      <td>30</td>\n",
       "      <td>59</td>\n",
       "      <td>102</td>\n",
       "      <td>508</td>\n",
       "      <td>achiupr01</td>\n",
       "    </tr>\n",
       "    <tr>\n",
       "      <th>1</th>\n",
       "      <td>2</td>\n",
       "      <td>Steven Adams</td>\n",
       "      <td>C</td>\n",
       "      <td>29</td>\n",
       "      <td>MEM</td>\n",
       "      <td>42</td>\n",
       "      <td>42</td>\n",
       "      <td>1133</td>\n",
       "      <td>157</td>\n",
       "      <td>263</td>\n",
       "      <td>0.597</td>\n",
       "      <td>0</td>\n",
       "      <td>1</td>\n",
       "      <td>0.000</td>\n",
       "      <td>157</td>\n",
       "      <td>262</td>\n",
       "      <td>0.599</td>\n",
       "      <td>0.597</td>\n",
       "      <td>47</td>\n",
       "      <td>129</td>\n",
       "      <td>0.364</td>\n",
       "      <td>214</td>\n",
       "      <td>271</td>\n",
       "      <td>485</td>\n",
       "      <td>97</td>\n",
       "      <td>36</td>\n",
       "      <td>46</td>\n",
       "      <td>79</td>\n",
       "      <td>98</td>\n",
       "      <td>361</td>\n",
       "      <td>adamsst01</td>\n",
       "    </tr>\n",
       "    <tr>\n",
       "      <th>2</th>\n",
       "      <td>3</td>\n",
       "      <td>Bam Adebayo</td>\n",
       "      <td>C</td>\n",
       "      <td>25</td>\n",
       "      <td>MIA</td>\n",
       "      <td>75</td>\n",
       "      <td>75</td>\n",
       "      <td>2598</td>\n",
       "      <td>602</td>\n",
       "      <td>1114</td>\n",
       "      <td>0.540</td>\n",
       "      <td>1</td>\n",
       "      <td>12</td>\n",
       "      <td>0.083</td>\n",
       "      <td>601</td>\n",
       "      <td>1102</td>\n",
       "      <td>0.545</td>\n",
       "      <td>0.541</td>\n",
       "      <td>324</td>\n",
       "      <td>402</td>\n",
       "      <td>0.806</td>\n",
       "      <td>184</td>\n",
       "      <td>504</td>\n",
       "      <td>688</td>\n",
       "      <td>240</td>\n",
       "      <td>88</td>\n",
       "      <td>61</td>\n",
       "      <td>187</td>\n",
       "      <td>208</td>\n",
       "      <td>1529</td>\n",
       "      <td>adebaba01</td>\n",
       "    </tr>\n",
       "    <tr>\n",
       "      <th>3</th>\n",
       "      <td>4</td>\n",
       "      <td>Ochai Agbaji</td>\n",
       "      <td>SG</td>\n",
       "      <td>22</td>\n",
       "      <td>UTA</td>\n",
       "      <td>59</td>\n",
       "      <td>22</td>\n",
       "      <td>1209</td>\n",
       "      <td>165</td>\n",
       "      <td>386</td>\n",
       "      <td>0.427</td>\n",
       "      <td>81</td>\n",
       "      <td>228</td>\n",
       "      <td>0.355</td>\n",
       "      <td>84</td>\n",
       "      <td>158</td>\n",
       "      <td>0.532</td>\n",
       "      <td>0.532</td>\n",
       "      <td>56</td>\n",
       "      <td>69</td>\n",
       "      <td>0.812</td>\n",
       "      <td>43</td>\n",
       "      <td>78</td>\n",
       "      <td>121</td>\n",
       "      <td>67</td>\n",
       "      <td>16</td>\n",
       "      <td>15</td>\n",
       "      <td>41</td>\n",
       "      <td>99</td>\n",
       "      <td>467</td>\n",
       "      <td>agbajoc01</td>\n",
       "    </tr>\n",
       "    <tr>\n",
       "      <th>4</th>\n",
       "      <td>5</td>\n",
       "      <td>Santi Aldama</td>\n",
       "      <td>PF</td>\n",
       "      <td>22</td>\n",
       "      <td>MEM</td>\n",
       "      <td>77</td>\n",
       "      <td>20</td>\n",
       "      <td>1682</td>\n",
       "      <td>247</td>\n",
       "      <td>525</td>\n",
       "      <td>0.470</td>\n",
       "      <td>94</td>\n",
       "      <td>266</td>\n",
       "      <td>0.353</td>\n",
       "      <td>153</td>\n",
       "      <td>259</td>\n",
       "      <td>0.591</td>\n",
       "      <td>0.560</td>\n",
       "      <td>108</td>\n",
       "      <td>144</td>\n",
       "      <td>0.750</td>\n",
       "      <td>85</td>\n",
       "      <td>286</td>\n",
       "      <td>371</td>\n",
       "      <td>97</td>\n",
       "      <td>45</td>\n",
       "      <td>48</td>\n",
       "      <td>60</td>\n",
       "      <td>143</td>\n",
       "      <td>696</td>\n",
       "      <td>aldamsa01</td>\n",
       "    </tr>\n",
       "  </tbody>\n",
       "</table>\n",
       "</div>"
      ],
      "text/plain": [
       "   Rk            Player Pos  Age   Tm   G  GS    MP   FG   FGA    FG%  3P  \\\n",
       "0   1  Precious Achiuwa   C   23  TOR  55  12  1140  196   404  0.485  29   \n",
       "1   2      Steven Adams   C   29  MEM  42  42  1133  157   263  0.597   0   \n",
       "2   3       Bam Adebayo   C   25  MIA  75  75  2598  602  1114  0.540   1   \n",
       "3   4      Ochai Agbaji  SG   22  UTA  59  22  1209  165   386  0.427  81   \n",
       "4   5      Santi Aldama  PF   22  MEM  77  20  1682  247   525  0.470  94   \n",
       "\n",
       "   3PA    3P%   2P   2PA    2P%   eFG%   FT  FTA    FT%  ORB  DRB  TRB  AST  \\\n",
       "0  108  0.269  167   296  0.564  0.521   87  124  0.702  100  228  328   50   \n",
       "1    1  0.000  157   262  0.599  0.597   47  129  0.364  214  271  485   97   \n",
       "2   12  0.083  601  1102  0.545  0.541  324  402  0.806  184  504  688  240   \n",
       "3  228  0.355   84   158  0.532  0.532   56   69  0.812   43   78  121   67   \n",
       "4  266  0.353  153   259  0.591  0.560  108  144  0.750   85  286  371   97   \n",
       "\n",
       "   STL  BLK  TOV   PF   PTS Player-additional  \n",
       "0   31   30   59  102   508         achiupr01  \n",
       "1   36   46   79   98   361         adamsst01  \n",
       "2   88   61  187  208  1529         adebaba01  \n",
       "3   16   15   41   99   467         agbajoc01  \n",
       "4   45   48   60  143   696         aldamsa01  "
      ]
     },
     "execution_count": 2,
     "metadata": {},
     "output_type": "execute_result"
    }
   ],
   "source": [
    "# importing data\n",
    "stats = pd.read_csv('nba_stats_cleaned.csv')\n",
    "stats.head()"
   ]
  },
  {
   "cell_type": "code",
   "execution_count": 3,
   "id": "c8f70c5d-79d3-46cb-aaef-eba0d3d1ca24",
   "metadata": {
    "tags": []
   },
   "outputs": [
    {
     "data": {
      "text/html": [
       "<div>\n",
       "<style scoped>\n",
       "    .dataframe tbody tr th:only-of-type {\n",
       "        vertical-align: middle;\n",
       "    }\n",
       "\n",
       "    .dataframe tbody tr th {\n",
       "        vertical-align: top;\n",
       "    }\n",
       "\n",
       "    .dataframe thead th {\n",
       "        text-align: right;\n",
       "    }\n",
       "</style>\n",
       "<table border=\"1\" class=\"dataframe\">\n",
       "  <thead>\n",
       "    <tr style=\"text-align: right;\">\n",
       "      <th></th>\n",
       "      <th>Rk</th>\n",
       "      <th>Age</th>\n",
       "      <th>G</th>\n",
       "      <th>GS</th>\n",
       "      <th>MP</th>\n",
       "      <th>FG</th>\n",
       "      <th>FGA</th>\n",
       "      <th>FG%</th>\n",
       "      <th>3P</th>\n",
       "      <th>3PA</th>\n",
       "      <th>3P%</th>\n",
       "      <th>2P</th>\n",
       "      <th>2PA</th>\n",
       "      <th>2P%</th>\n",
       "      <th>eFG%</th>\n",
       "      <th>FT</th>\n",
       "      <th>FTA</th>\n",
       "      <th>FT%</th>\n",
       "      <th>ORB</th>\n",
       "      <th>DRB</th>\n",
       "      <th>TRB</th>\n",
       "      <th>AST</th>\n",
       "      <th>STL</th>\n",
       "      <th>BLK</th>\n",
       "      <th>TOV</th>\n",
       "      <th>PF</th>\n",
       "      <th>PTS</th>\n",
       "    </tr>\n",
       "  </thead>\n",
       "  <tbody>\n",
       "    <tr>\n",
       "      <th>count</th>\n",
       "      <td>108.000000</td>\n",
       "      <td>108.000000</td>\n",
       "      <td>108.000000</td>\n",
       "      <td>108.000000</td>\n",
       "      <td>108.000000</td>\n",
       "      <td>108.000000</td>\n",
       "      <td>108.000000</td>\n",
       "      <td>108.000000</td>\n",
       "      <td>108.000000</td>\n",
       "      <td>108.000000</td>\n",
       "      <td>98.000000</td>\n",
       "      <td>108.000000</td>\n",
       "      <td>108.000000</td>\n",
       "      <td>108.000000</td>\n",
       "      <td>108.000000</td>\n",
       "      <td>108.000000</td>\n",
       "      <td>108.000000</td>\n",
       "      <td>108.000000</td>\n",
       "      <td>108.000000</td>\n",
       "      <td>108.000000</td>\n",
       "      <td>108.000000</td>\n",
       "      <td>108.000000</td>\n",
       "      <td>108.000000</td>\n",
       "      <td>108.000000</td>\n",
       "      <td>108.000000</td>\n",
       "      <td>108.000000</td>\n",
       "      <td>108.000000</td>\n",
       "    </tr>\n",
       "    <tr>\n",
       "      <th>mean</th>\n",
       "      <td>261.777778</td>\n",
       "      <td>26.222222</td>\n",
       "      <td>49.342593</td>\n",
       "      <td>23.731481</td>\n",
       "      <td>1014.648148</td>\n",
       "      <td>184.268519</td>\n",
       "      <td>323.842593</td>\n",
       "      <td>0.560491</td>\n",
       "      <td>20.305556</td>\n",
       "      <td>58.000000</td>\n",
       "      <td>0.286429</td>\n",
       "      <td>163.962963</td>\n",
       "      <td>265.842593</td>\n",
       "      <td>0.603380</td>\n",
       "      <td>0.592139</td>\n",
       "      <td>83.611111</td>\n",
       "      <td>116.333333</td>\n",
       "      <td>0.691898</td>\n",
       "      <td>95.398148</td>\n",
       "      <td>213.027778</td>\n",
       "      <td>308.425926</td>\n",
       "      <td>76.462963</td>\n",
       "      <td>26.120370</td>\n",
       "      <td>43.129630</td>\n",
       "      <td>57.564815</td>\n",
       "      <td>110.000000</td>\n",
       "      <td>472.453704</td>\n",
       "    </tr>\n",
       "    <tr>\n",
       "      <th>std</th>\n",
       "      <td>162.236146</td>\n",
       "      <td>4.405462</td>\n",
       "      <td>22.352387</td>\n",
       "      <td>27.835165</td>\n",
       "      <td>757.680046</td>\n",
       "      <td>169.746959</td>\n",
       "      <td>300.434923</td>\n",
       "      <td>0.099036</td>\n",
       "      <td>33.792788</td>\n",
       "      <td>89.994081</td>\n",
       "      <td>0.194323</td>\n",
       "      <td>155.758375</td>\n",
       "      <td>254.689812</td>\n",
       "      <td>0.085346</td>\n",
       "      <td>0.084843</td>\n",
       "      <td>100.537605</td>\n",
       "      <td>125.268832</td>\n",
       "      <td>0.150064</td>\n",
       "      <td>76.243332</td>\n",
       "      <td>182.183253</td>\n",
       "      <td>249.990325</td>\n",
       "      <td>101.703842</td>\n",
       "      <td>22.061392</td>\n",
       "      <td>42.469801</td>\n",
       "      <td>53.708850</td>\n",
       "      <td>73.871826</td>\n",
       "      <td>448.971501</td>\n",
       "    </tr>\n",
       "    <tr>\n",
       "      <th>min</th>\n",
       "      <td>1.000000</td>\n",
       "      <td>19.000000</td>\n",
       "      <td>1.000000</td>\n",
       "      <td>0.000000</td>\n",
       "      <td>20.000000</td>\n",
       "      <td>2.000000</td>\n",
       "      <td>5.000000</td>\n",
       "      <td>0.250000</td>\n",
       "      <td>0.000000</td>\n",
       "      <td>0.000000</td>\n",
       "      <td>0.000000</td>\n",
       "      <td>1.000000</td>\n",
       "      <td>3.000000</td>\n",
       "      <td>0.250000</td>\n",
       "      <td>0.250000</td>\n",
       "      <td>0.000000</td>\n",
       "      <td>2.000000</td>\n",
       "      <td>0.000000</td>\n",
       "      <td>1.000000</td>\n",
       "      <td>1.000000</td>\n",
       "      <td>2.000000</td>\n",
       "      <td>0.000000</td>\n",
       "      <td>0.000000</td>\n",
       "      <td>0.000000</td>\n",
       "      <td>0.000000</td>\n",
       "      <td>0.000000</td>\n",
       "      <td>6.000000</td>\n",
       "    </tr>\n",
       "    <tr>\n",
       "      <th>25%</th>\n",
       "      <td>120.500000</td>\n",
       "      <td>23.000000</td>\n",
       "      <td>36.000000</td>\n",
       "      <td>1.000000</td>\n",
       "      <td>353.250000</td>\n",
       "      <td>55.000000</td>\n",
       "      <td>89.000000</td>\n",
       "      <td>0.500000</td>\n",
       "      <td>0.000000</td>\n",
       "      <td>2.750000</td>\n",
       "      <td>0.170750</td>\n",
       "      <td>46.750000</td>\n",
       "      <td>71.750000</td>\n",
       "      <td>0.571000</td>\n",
       "      <td>0.553500</td>\n",
       "      <td>19.750000</td>\n",
       "      <td>26.750000</td>\n",
       "      <td>0.626500</td>\n",
       "      <td>31.000000</td>\n",
       "      <td>72.250000</td>\n",
       "      <td>103.500000</td>\n",
       "      <td>15.000000</td>\n",
       "      <td>6.750000</td>\n",
       "      <td>11.750000</td>\n",
       "      <td>19.500000</td>\n",
       "      <td>43.750000</td>\n",
       "      <td>136.750000</td>\n",
       "    </tr>\n",
       "    <tr>\n",
       "      <th>50%</th>\n",
       "      <td>255.500000</td>\n",
       "      <td>25.000000</td>\n",
       "      <td>52.000000</td>\n",
       "      <td>8.500000</td>\n",
       "      <td>858.000000</td>\n",
       "      <td>126.000000</td>\n",
       "      <td>237.500000</td>\n",
       "      <td>0.551500</td>\n",
       "      <td>4.000000</td>\n",
       "      <td>13.500000</td>\n",
       "      <td>0.328500</td>\n",
       "      <td>121.000000</td>\n",
       "      <td>186.000000</td>\n",
       "      <td>0.614500</td>\n",
       "      <td>0.593500</td>\n",
       "      <td>44.000000</td>\n",
       "      <td>71.500000</td>\n",
       "      <td>0.703000</td>\n",
       "      <td>85.000000</td>\n",
       "      <td>168.000000</td>\n",
       "      <td>261.000000</td>\n",
       "      <td>48.500000</td>\n",
       "      <td>19.500000</td>\n",
       "      <td>30.000000</td>\n",
       "      <td>41.000000</td>\n",
       "      <td>100.000000</td>\n",
       "      <td>321.500000</td>\n",
       "    </tr>\n",
       "    <tr>\n",
       "      <th>75%</th>\n",
       "      <td>409.250000</td>\n",
       "      <td>29.000000</td>\n",
       "      <td>68.000000</td>\n",
       "      <td>48.250000</td>\n",
       "      <td>1675.000000</td>\n",
       "      <td>279.500000</td>\n",
       "      <td>487.250000</td>\n",
       "      <td>0.630500</td>\n",
       "      <td>21.500000</td>\n",
       "      <td>68.000000</td>\n",
       "      <td>0.381500</td>\n",
       "      <td>236.750000</td>\n",
       "      <td>386.500000</td>\n",
       "      <td>0.650000</td>\n",
       "      <td>0.642750</td>\n",
       "      <td>113.750000</td>\n",
       "      <td>161.250000</td>\n",
       "      <td>0.778250</td>\n",
       "      <td>133.500000</td>\n",
       "      <td>329.750000</td>\n",
       "      <td>474.500000</td>\n",
       "      <td>90.750000</td>\n",
       "      <td>43.250000</td>\n",
       "      <td>57.500000</td>\n",
       "      <td>82.000000</td>\n",
       "      <td>170.250000</td>\n",
       "      <td>696.750000</td>\n",
       "    </tr>\n",
       "    <tr>\n",
       "      <th>max</th>\n",
       "      <td>539.000000</td>\n",
       "      <td>42.000000</td>\n",
       "      <td>82.000000</td>\n",
       "      <td>82.000000</td>\n",
       "      <td>2746.000000</td>\n",
       "      <td>728.000000</td>\n",
       "      <td>1328.000000</td>\n",
       "      <td>0.819000</td>\n",
       "      <td>145.000000</td>\n",
       "      <td>364.000000</td>\n",
       "      <td>1.000000</td>\n",
       "      <td>662.000000</td>\n",
       "      <td>1128.000000</td>\n",
       "      <td>0.819000</td>\n",
       "      <td>0.819000</td>\n",
       "      <td>661.000000</td>\n",
       "      <td>771.000000</td>\n",
       "      <td>1.000000</td>\n",
       "      <td>274.000000</td>\n",
       "      <td>744.000000</td>\n",
       "      <td>973.000000</td>\n",
       "      <td>678.000000</td>\n",
       "      <td>88.000000</td>\n",
       "      <td>193.000000</td>\n",
       "      <td>247.000000</td>\n",
       "      <td>279.000000</td>\n",
       "      <td>2183.000000</td>\n",
       "    </tr>\n",
       "  </tbody>\n",
       "</table>\n",
       "</div>"
      ],
      "text/plain": [
       "               Rk         Age           G          GS           MP  \\\n",
       "count  108.000000  108.000000  108.000000  108.000000   108.000000   \n",
       "mean   261.777778   26.222222   49.342593   23.731481  1014.648148   \n",
       "std    162.236146    4.405462   22.352387   27.835165   757.680046   \n",
       "min      1.000000   19.000000    1.000000    0.000000    20.000000   \n",
       "25%    120.500000   23.000000   36.000000    1.000000   353.250000   \n",
       "50%    255.500000   25.000000   52.000000    8.500000   858.000000   \n",
       "75%    409.250000   29.000000   68.000000   48.250000  1675.000000   \n",
       "max    539.000000   42.000000   82.000000   82.000000  2746.000000   \n",
       "\n",
       "               FG          FGA         FG%          3P         3PA        3P%  \\\n",
       "count  108.000000   108.000000  108.000000  108.000000  108.000000  98.000000   \n",
       "mean   184.268519   323.842593    0.560491   20.305556   58.000000   0.286429   \n",
       "std    169.746959   300.434923    0.099036   33.792788   89.994081   0.194323   \n",
       "min      2.000000     5.000000    0.250000    0.000000    0.000000   0.000000   \n",
       "25%     55.000000    89.000000    0.500000    0.000000    2.750000   0.170750   \n",
       "50%    126.000000   237.500000    0.551500    4.000000   13.500000   0.328500   \n",
       "75%    279.500000   487.250000    0.630500   21.500000   68.000000   0.381500   \n",
       "max    728.000000  1328.000000    0.819000  145.000000  364.000000   1.000000   \n",
       "\n",
       "               2P          2PA         2P%        eFG%          FT  \\\n",
       "count  108.000000   108.000000  108.000000  108.000000  108.000000   \n",
       "mean   163.962963   265.842593    0.603380    0.592139   83.611111   \n",
       "std    155.758375   254.689812    0.085346    0.084843  100.537605   \n",
       "min      1.000000     3.000000    0.250000    0.250000    0.000000   \n",
       "25%     46.750000    71.750000    0.571000    0.553500   19.750000   \n",
       "50%    121.000000   186.000000    0.614500    0.593500   44.000000   \n",
       "75%    236.750000   386.500000    0.650000    0.642750  113.750000   \n",
       "max    662.000000  1128.000000    0.819000    0.819000  661.000000   \n",
       "\n",
       "              FTA         FT%         ORB         DRB         TRB         AST  \\\n",
       "count  108.000000  108.000000  108.000000  108.000000  108.000000  108.000000   \n",
       "mean   116.333333    0.691898   95.398148  213.027778  308.425926   76.462963   \n",
       "std    125.268832    0.150064   76.243332  182.183253  249.990325  101.703842   \n",
       "min      2.000000    0.000000    1.000000    1.000000    2.000000    0.000000   \n",
       "25%     26.750000    0.626500   31.000000   72.250000  103.500000   15.000000   \n",
       "50%     71.500000    0.703000   85.000000  168.000000  261.000000   48.500000   \n",
       "75%    161.250000    0.778250  133.500000  329.750000  474.500000   90.750000   \n",
       "max    771.000000    1.000000  274.000000  744.000000  973.000000  678.000000   \n",
       "\n",
       "              STL         BLK         TOV          PF          PTS  \n",
       "count  108.000000  108.000000  108.000000  108.000000   108.000000  \n",
       "mean    26.120370   43.129630   57.564815  110.000000   472.453704  \n",
       "std     22.061392   42.469801   53.708850   73.871826   448.971501  \n",
       "min      0.000000    0.000000    0.000000    0.000000     6.000000  \n",
       "25%      6.750000   11.750000   19.500000   43.750000   136.750000  \n",
       "50%     19.500000   30.000000   41.000000  100.000000   321.500000  \n",
       "75%     43.250000   57.500000   82.000000  170.250000   696.750000  \n",
       "max     88.000000  193.000000  247.000000  279.000000  2183.000000  "
      ]
     },
     "execution_count": 3,
     "metadata": {},
     "output_type": "execute_result"
    }
   ],
   "source": [
    "# creating data just for centers\n",
    "center = stats[stats['Pos']=='C']\n",
    "center.describe()"
   ]
  },
  {
   "cell_type": "code",
   "execution_count": 4,
   "id": "b5b4428b-1935-4b3d-8e11-dd0cde302512",
   "metadata": {
    "tags": []
   },
   "outputs": [
    {
     "data": {
      "text/html": [
       "<div>\n",
       "<style scoped>\n",
       "    .dataframe tbody tr th:only-of-type {\n",
       "        vertical-align: middle;\n",
       "    }\n",
       "\n",
       "    .dataframe tbody tr th {\n",
       "        vertical-align: top;\n",
       "    }\n",
       "\n",
       "    .dataframe thead th {\n",
       "        text-align: right;\n",
       "    }\n",
       "</style>\n",
       "<table border=\"1\" class=\"dataframe\">\n",
       "  <thead>\n",
       "    <tr style=\"text-align: right;\">\n",
       "      <th></th>\n",
       "      <th>Rk</th>\n",
       "      <th>Player</th>\n",
       "      <th>Pos</th>\n",
       "      <th>Age</th>\n",
       "      <th>Tm</th>\n",
       "      <th>G</th>\n",
       "      <th>GS</th>\n",
       "      <th>MP</th>\n",
       "      <th>FG</th>\n",
       "      <th>FGA</th>\n",
       "      <th>FG%</th>\n",
       "      <th>3P</th>\n",
       "      <th>3PA</th>\n",
       "      <th>3P%</th>\n",
       "      <th>2P</th>\n",
       "      <th>2PA</th>\n",
       "      <th>2P%</th>\n",
       "      <th>eFG%</th>\n",
       "      <th>FT</th>\n",
       "      <th>FTA</th>\n",
       "      <th>FT%</th>\n",
       "      <th>ORB</th>\n",
       "      <th>DRB</th>\n",
       "      <th>TRB</th>\n",
       "      <th>AST</th>\n",
       "      <th>STL</th>\n",
       "      <th>BLK</th>\n",
       "      <th>TOV</th>\n",
       "      <th>PF</th>\n",
       "      <th>PTS</th>\n",
       "      <th>Player-additional</th>\n",
       "    </tr>\n",
       "  </thead>\n",
       "  <tbody>\n",
       "    <tr>\n",
       "      <th>0</th>\n",
       "      <td>1</td>\n",
       "      <td>Precious Achiuwa</td>\n",
       "      <td>C</td>\n",
       "      <td>23</td>\n",
       "      <td>TOR</td>\n",
       "      <td>55</td>\n",
       "      <td>12</td>\n",
       "      <td>1140</td>\n",
       "      <td>196</td>\n",
       "      <td>404</td>\n",
       "      <td>0.485</td>\n",
       "      <td>29</td>\n",
       "      <td>108</td>\n",
       "      <td>0.269</td>\n",
       "      <td>167</td>\n",
       "      <td>296</td>\n",
       "      <td>0.564</td>\n",
       "      <td>0.521</td>\n",
       "      <td>87</td>\n",
       "      <td>124</td>\n",
       "      <td>0.702</td>\n",
       "      <td>100</td>\n",
       "      <td>228</td>\n",
       "      <td>328</td>\n",
       "      <td>50</td>\n",
       "      <td>31</td>\n",
       "      <td>30</td>\n",
       "      <td>59</td>\n",
       "      <td>102</td>\n",
       "      <td>508</td>\n",
       "      <td>achiupr01</td>\n",
       "    </tr>\n",
       "    <tr>\n",
       "      <th>1</th>\n",
       "      <td>2</td>\n",
       "      <td>Steven Adams</td>\n",
       "      <td>C</td>\n",
       "      <td>29</td>\n",
       "      <td>MEM</td>\n",
       "      <td>42</td>\n",
       "      <td>42</td>\n",
       "      <td>1133</td>\n",
       "      <td>157</td>\n",
       "      <td>263</td>\n",
       "      <td>0.597</td>\n",
       "      <td>0</td>\n",
       "      <td>1</td>\n",
       "      <td>0.000</td>\n",
       "      <td>157</td>\n",
       "      <td>262</td>\n",
       "      <td>0.599</td>\n",
       "      <td>0.597</td>\n",
       "      <td>47</td>\n",
       "      <td>129</td>\n",
       "      <td>0.364</td>\n",
       "      <td>214</td>\n",
       "      <td>271</td>\n",
       "      <td>485</td>\n",
       "      <td>97</td>\n",
       "      <td>36</td>\n",
       "      <td>46</td>\n",
       "      <td>79</td>\n",
       "      <td>98</td>\n",
       "      <td>361</td>\n",
       "      <td>adamsst01</td>\n",
       "    </tr>\n",
       "    <tr>\n",
       "      <th>2</th>\n",
       "      <td>3</td>\n",
       "      <td>Bam Adebayo</td>\n",
       "      <td>C</td>\n",
       "      <td>25</td>\n",
       "      <td>MIA</td>\n",
       "      <td>75</td>\n",
       "      <td>75</td>\n",
       "      <td>2598</td>\n",
       "      <td>602</td>\n",
       "      <td>1114</td>\n",
       "      <td>0.540</td>\n",
       "      <td>1</td>\n",
       "      <td>12</td>\n",
       "      <td>0.083</td>\n",
       "      <td>601</td>\n",
       "      <td>1102</td>\n",
       "      <td>0.545</td>\n",
       "      <td>0.541</td>\n",
       "      <td>324</td>\n",
       "      <td>402</td>\n",
       "      <td>0.806</td>\n",
       "      <td>184</td>\n",
       "      <td>504</td>\n",
       "      <td>688</td>\n",
       "      <td>240</td>\n",
       "      <td>88</td>\n",
       "      <td>61</td>\n",
       "      <td>187</td>\n",
       "      <td>208</td>\n",
       "      <td>1529</td>\n",
       "      <td>adebaba01</td>\n",
       "    </tr>\n",
       "    <tr>\n",
       "      <th>3</th>\n",
       "      <td>8</td>\n",
       "      <td>Jarrett Allen</td>\n",
       "      <td>C</td>\n",
       "      <td>24</td>\n",
       "      <td>CLE</td>\n",
       "      <td>68</td>\n",
       "      <td>68</td>\n",
       "      <td>2220</td>\n",
       "      <td>403</td>\n",
       "      <td>626</td>\n",
       "      <td>0.644</td>\n",
       "      <td>1</td>\n",
       "      <td>10</td>\n",
       "      <td>0.100</td>\n",
       "      <td>402</td>\n",
       "      <td>616</td>\n",
       "      <td>0.653</td>\n",
       "      <td>0.645</td>\n",
       "      <td>162</td>\n",
       "      <td>221</td>\n",
       "      <td>0.733</td>\n",
       "      <td>221</td>\n",
       "      <td>445</td>\n",
       "      <td>666</td>\n",
       "      <td>113</td>\n",
       "      <td>54</td>\n",
       "      <td>84</td>\n",
       "      <td>93</td>\n",
       "      <td>153</td>\n",
       "      <td>969</td>\n",
       "      <td>allenja01</td>\n",
       "    </tr>\n",
       "    <tr>\n",
       "      <th>4</th>\n",
       "      <td>17</td>\n",
       "      <td>Deandre Ayton</td>\n",
       "      <td>C</td>\n",
       "      <td>24</td>\n",
       "      <td>PHO</td>\n",
       "      <td>67</td>\n",
       "      <td>67</td>\n",
       "      <td>2035</td>\n",
       "      <td>522</td>\n",
       "      <td>887</td>\n",
       "      <td>0.589</td>\n",
       "      <td>7</td>\n",
       "      <td>24</td>\n",
       "      <td>0.292</td>\n",
       "      <td>515</td>\n",
       "      <td>863</td>\n",
       "      <td>0.597</td>\n",
       "      <td>0.592</td>\n",
       "      <td>152</td>\n",
       "      <td>200</td>\n",
       "      <td>0.760</td>\n",
       "      <td>172</td>\n",
       "      <td>495</td>\n",
       "      <td>667</td>\n",
       "      <td>115</td>\n",
       "      <td>37</td>\n",
       "      <td>53</td>\n",
       "      <td>120</td>\n",
       "      <td>190</td>\n",
       "      <td>1203</td>\n",
       "      <td>aytonde01</td>\n",
       "    </tr>\n",
       "  </tbody>\n",
       "</table>\n",
       "</div>"
      ],
      "text/plain": [
       "   Rk            Player Pos  Age   Tm   G  GS    MP   FG   FGA    FG%  3P  \\\n",
       "0   1  Precious Achiuwa   C   23  TOR  55  12  1140  196   404  0.485  29   \n",
       "1   2      Steven Adams   C   29  MEM  42  42  1133  157   263  0.597   0   \n",
       "2   3       Bam Adebayo   C   25  MIA  75  75  2598  602  1114  0.540   1   \n",
       "3   8     Jarrett Allen   C   24  CLE  68  68  2220  403   626  0.644   1   \n",
       "4  17     Deandre Ayton   C   24  PHO  67  67  2035  522   887  0.589   7   \n",
       "\n",
       "   3PA    3P%   2P   2PA    2P%   eFG%   FT  FTA    FT%  ORB  DRB  TRB  AST  \\\n",
       "0  108  0.269  167   296  0.564  0.521   87  124  0.702  100  228  328   50   \n",
       "1    1  0.000  157   262  0.599  0.597   47  129  0.364  214  271  485   97   \n",
       "2   12  0.083  601  1102  0.545  0.541  324  402  0.806  184  504  688  240   \n",
       "3   10  0.100  402   616  0.653  0.645  162  221  0.733  221  445  666  113   \n",
       "4   24  0.292  515   863  0.597  0.592  152  200  0.760  172  495  667  115   \n",
       "\n",
       "   STL  BLK  TOV   PF   PTS Player-additional  \n",
       "0   31   30   59  102   508         achiupr01  \n",
       "1   36   46   79   98   361         adamsst01  \n",
       "2   88   61  187  208  1529         adebaba01  \n",
       "3   54   84   93  153   969         allenja01  \n",
       "4   37   53  120  190  1203         aytonde01  "
      ]
     },
     "execution_count": 4,
     "metadata": {},
     "output_type": "execute_result"
    }
   ],
   "source": [
    "# setting indexes\n",
    "center = center.reset_index(drop=True)\n",
    "center.head()"
   ]
  },
  {
   "cell_type": "code",
   "execution_count": 5,
   "id": "f512a8ea-b37c-44d9-974c-4078740e191f",
   "metadata": {
    "tags": []
   },
   "outputs": [],
   "source": [
    "# dataframe for advanced player stats\n",
    "advanced = pd.read_csv('NBA Advanced Cleaned Stats.csv')"
   ]
  },
  {
   "cell_type": "code",
   "execution_count": 6,
   "id": "138e8cc4-4e43-4759-acd5-d5674a63d9a8",
   "metadata": {
    "tags": []
   },
   "outputs": [
    {
     "data": {
      "text/html": [
       "<div>\n",
       "<style scoped>\n",
       "    .dataframe tbody tr th:only-of-type {\n",
       "        vertical-align: middle;\n",
       "    }\n",
       "\n",
       "    .dataframe tbody tr th {\n",
       "        vertical-align: top;\n",
       "    }\n",
       "\n",
       "    .dataframe thead th {\n",
       "        text-align: right;\n",
       "    }\n",
       "</style>\n",
       "<table border=\"1\" class=\"dataframe\">\n",
       "  <thead>\n",
       "    <tr style=\"text-align: right;\">\n",
       "      <th></th>\n",
       "      <th>index</th>\n",
       "      <th>Rk</th>\n",
       "      <th>Player</th>\n",
       "      <th>Pos</th>\n",
       "      <th>Age</th>\n",
       "      <th>Tm</th>\n",
       "      <th>G</th>\n",
       "      <th>MP</th>\n",
       "      <th>PER</th>\n",
       "      <th>TS%</th>\n",
       "      <th>3PAr</th>\n",
       "      <th>FTr</th>\n",
       "      <th>ORB%</th>\n",
       "      <th>DRB%</th>\n",
       "      <th>TRB%</th>\n",
       "      <th>AST%</th>\n",
       "      <th>STL%</th>\n",
       "      <th>BLK%</th>\n",
       "      <th>TOV%</th>\n",
       "      <th>USG%</th>\n",
       "      <th>Unnamed: 19</th>\n",
       "      <th>OWS</th>\n",
       "      <th>DWS</th>\n",
       "      <th>WS</th>\n",
       "      <th>WS/48</th>\n",
       "      <th>Unnamed: 24</th>\n",
       "      <th>OBPM</th>\n",
       "      <th>DBPM</th>\n",
       "      <th>BPM</th>\n",
       "      <th>VORP</th>\n",
       "      <th>Player-additional</th>\n",
       "    </tr>\n",
       "  </thead>\n",
       "  <tbody>\n",
       "    <tr>\n",
       "      <th>0</th>\n",
       "      <td>0</td>\n",
       "      <td>1</td>\n",
       "      <td>Precious Achiuwa</td>\n",
       "      <td>C</td>\n",
       "      <td>23</td>\n",
       "      <td>TOR</td>\n",
       "      <td>55</td>\n",
       "      <td>1140</td>\n",
       "      <td>15.2</td>\n",
       "      <td>0.554</td>\n",
       "      <td>0.267</td>\n",
       "      <td>0.307</td>\n",
       "      <td>9.3</td>\n",
       "      <td>24.4</td>\n",
       "      <td>16.3</td>\n",
       "      <td>6.3</td>\n",
       "      <td>1.3</td>\n",
       "      <td>2.6</td>\n",
       "      <td>11.4</td>\n",
       "      <td>19.4</td>\n",
       "      <td>NaN</td>\n",
       "      <td>0.8</td>\n",
       "      <td>1.4</td>\n",
       "      <td>2.2</td>\n",
       "      <td>0.093</td>\n",
       "      <td>NaN</td>\n",
       "      <td>-1.4</td>\n",
       "      <td>-0.8</td>\n",
       "      <td>-2.3</td>\n",
       "      <td>-0.1</td>\n",
       "      <td>achiupr01</td>\n",
       "    </tr>\n",
       "    <tr>\n",
       "      <th>1</th>\n",
       "      <td>1</td>\n",
       "      <td>2</td>\n",
       "      <td>Steven Adams</td>\n",
       "      <td>C</td>\n",
       "      <td>29</td>\n",
       "      <td>MEM</td>\n",
       "      <td>42</td>\n",
       "      <td>1133</td>\n",
       "      <td>17.5</td>\n",
       "      <td>0.564</td>\n",
       "      <td>0.004</td>\n",
       "      <td>0.490</td>\n",
       "      <td>20.1</td>\n",
       "      <td>25.3</td>\n",
       "      <td>22.7</td>\n",
       "      <td>11.2</td>\n",
       "      <td>1.5</td>\n",
       "      <td>3.7</td>\n",
       "      <td>19.8</td>\n",
       "      <td>14.6</td>\n",
       "      <td>NaN</td>\n",
       "      <td>1.3</td>\n",
       "      <td>2.1</td>\n",
       "      <td>3.4</td>\n",
       "      <td>0.144</td>\n",
       "      <td>NaN</td>\n",
       "      <td>-0.3</td>\n",
       "      <td>0.9</td>\n",
       "      <td>0.6</td>\n",
       "      <td>0.7</td>\n",
       "      <td>adamsst01</td>\n",
       "    </tr>\n",
       "    <tr>\n",
       "      <th>2</th>\n",
       "      <td>2</td>\n",
       "      <td>3</td>\n",
       "      <td>Bam Adebayo</td>\n",
       "      <td>C</td>\n",
       "      <td>25</td>\n",
       "      <td>MIA</td>\n",
       "      <td>75</td>\n",
       "      <td>2598</td>\n",
       "      <td>20.1</td>\n",
       "      <td>0.592</td>\n",
       "      <td>0.011</td>\n",
       "      <td>0.361</td>\n",
       "      <td>8.0</td>\n",
       "      <td>23.6</td>\n",
       "      <td>15.5</td>\n",
       "      <td>15.9</td>\n",
       "      <td>1.7</td>\n",
       "      <td>2.4</td>\n",
       "      <td>12.7</td>\n",
       "      <td>25.2</td>\n",
       "      <td>NaN</td>\n",
       "      <td>3.6</td>\n",
       "      <td>3.8</td>\n",
       "      <td>7.4</td>\n",
       "      <td>0.137</td>\n",
       "      <td>NaN</td>\n",
       "      <td>0.8</td>\n",
       "      <td>0.8</td>\n",
       "      <td>1.5</td>\n",
       "      <td>2.3</td>\n",
       "      <td>adebaba01</td>\n",
       "    </tr>\n",
       "    <tr>\n",
       "      <th>3</th>\n",
       "      <td>7</td>\n",
       "      <td>8</td>\n",
       "      <td>Jarrett Allen</td>\n",
       "      <td>C</td>\n",
       "      <td>24</td>\n",
       "      <td>CLE</td>\n",
       "      <td>68</td>\n",
       "      <td>2220</td>\n",
       "      <td>19.9</td>\n",
       "      <td>0.670</td>\n",
       "      <td>0.016</td>\n",
       "      <td>0.353</td>\n",
       "      <td>11.7</td>\n",
       "      <td>23.6</td>\n",
       "      <td>17.7</td>\n",
       "      <td>7.5</td>\n",
       "      <td>1.2</td>\n",
       "      <td>3.5</td>\n",
       "      <td>11.4</td>\n",
       "      <td>16.4</td>\n",
       "      <td>NaN</td>\n",
       "      <td>5.5</td>\n",
       "      <td>4.0</td>\n",
       "      <td>9.5</td>\n",
       "      <td>0.205</td>\n",
       "      <td>NaN</td>\n",
       "      <td>1.3</td>\n",
       "      <td>1.0</td>\n",
       "      <td>2.4</td>\n",
       "      <td>2.4</td>\n",
       "      <td>allenja01</td>\n",
       "    </tr>\n",
       "    <tr>\n",
       "      <th>4</th>\n",
       "      <td>16</td>\n",
       "      <td>17</td>\n",
       "      <td>Deandre Ayton</td>\n",
       "      <td>C</td>\n",
       "      <td>24</td>\n",
       "      <td>PHO</td>\n",
       "      <td>67</td>\n",
       "      <td>2035</td>\n",
       "      <td>19.9</td>\n",
       "      <td>0.617</td>\n",
       "      <td>0.027</td>\n",
       "      <td>0.225</td>\n",
       "      <td>9.2</td>\n",
       "      <td>27.5</td>\n",
       "      <td>18.1</td>\n",
       "      <td>9.2</td>\n",
       "      <td>0.9</td>\n",
       "      <td>2.3</td>\n",
       "      <td>11.0</td>\n",
       "      <td>22.9</td>\n",
       "      <td>NaN</td>\n",
       "      <td>3.3</td>\n",
       "      <td>3.0</td>\n",
       "      <td>6.2</td>\n",
       "      <td>0.147</td>\n",
       "      <td>NaN</td>\n",
       "      <td>0.9</td>\n",
       "      <td>0.0</td>\n",
       "      <td>0.9</td>\n",
       "      <td>1.5</td>\n",
       "      <td>aytonde01</td>\n",
       "    </tr>\n",
       "  </tbody>\n",
       "</table>\n",
       "</div>"
      ],
      "text/plain": [
       "   index  Rk            Player Pos  Age   Tm   G    MP   PER    TS%   3PAr  \\\n",
       "0      0   1  Precious Achiuwa   C   23  TOR  55  1140  15.2  0.554  0.267   \n",
       "1      1   2      Steven Adams   C   29  MEM  42  1133  17.5  0.564  0.004   \n",
       "2      2   3       Bam Adebayo   C   25  MIA  75  2598  20.1  0.592  0.011   \n",
       "3      7   8     Jarrett Allen   C   24  CLE  68  2220  19.9  0.670  0.016   \n",
       "4     16  17     Deandre Ayton   C   24  PHO  67  2035  19.9  0.617  0.027   \n",
       "\n",
       "     FTr  ORB%  DRB%  TRB%  AST%  STL%  BLK%  TOV%  USG%  Unnamed: 19  OWS  \\\n",
       "0  0.307   9.3  24.4  16.3   6.3   1.3   2.6  11.4  19.4          NaN  0.8   \n",
       "1  0.490  20.1  25.3  22.7  11.2   1.5   3.7  19.8  14.6          NaN  1.3   \n",
       "2  0.361   8.0  23.6  15.5  15.9   1.7   2.4  12.7  25.2          NaN  3.6   \n",
       "3  0.353  11.7  23.6  17.7   7.5   1.2   3.5  11.4  16.4          NaN  5.5   \n",
       "4  0.225   9.2  27.5  18.1   9.2   0.9   2.3  11.0  22.9          NaN  3.3   \n",
       "\n",
       "   DWS   WS  WS/48  Unnamed: 24  OBPM  DBPM  BPM  VORP Player-additional  \n",
       "0  1.4  2.2  0.093          NaN  -1.4  -0.8 -2.3  -0.1         achiupr01  \n",
       "1  2.1  3.4  0.144          NaN  -0.3   0.9  0.6   0.7         adamsst01  \n",
       "2  3.8  7.4  0.137          NaN   0.8   0.8  1.5   2.3         adebaba01  \n",
       "3  4.0  9.5  0.205          NaN   1.3   1.0  2.4   2.4         allenja01  \n",
       "4  3.0  6.2  0.147          NaN   0.9   0.0  0.9   1.5         aytonde01  "
      ]
     },
     "execution_count": 6,
     "metadata": {},
     "output_type": "execute_result"
    }
   ],
   "source": [
    "# making advanced stat dataframe of only centers\n",
    "ad_center=advanced[advanced['Pos']=='C']\n",
    "ad_center = ad_center.reset_index()\n",
    "ad_center.head()"
   ]
  },
  {
   "cell_type": "markdown",
   "id": "d5ecb628-7f8b-49a0-a2f3-d89ad05205e6",
   "metadata": {},
   "source": [
    "## Splitting centers up by team standing"
   ]
  },
  {
   "cell_type": "code",
   "execution_count": 7,
   "id": "a9549bd5-e690-4b2f-a5b2-07aef2d90083",
   "metadata": {
    "tags": []
   },
   "outputs": [],
   "source": [
    "# defining which teams are the top half and bottom half of the league by total wins\n",
    "top = ['MIL','BOS','PHI','DEN','MEM','CLE','SAC','NYK','PHO','BRK','MIA','LAC','GSW','LAL','MIN']\n",
    "bot = ['NOP','ATL','TOR','CHI','OKC','DAL','UTA','IND','WAS','ORL','POR','CHO','HOU','SAS','DET']"
   ]
  },
  {
   "cell_type": "code",
   "execution_count": 8,
   "id": "8c690646-7b6c-465f-8d70-74c02a0fbcb5",
   "metadata": {
    "tags": []
   },
   "outputs": [],
   "source": [
    "# creating column to say which group a player belongs to\n",
    "center['Standing']=0\n",
    "for i in range(len(center)):\n",
    "    if center.loc[i,'Tm'] in top:\n",
    "        center.loc[i,'Standing']='Top'\n",
    "    else:\n",
    "        center.loc[i,'Standing']='Bottom'"
   ]
  },
  {
   "cell_type": "code",
   "execution_count": 9,
   "id": "c16e9dec-ba6f-4fc8-a1f2-f773526ad84c",
   "metadata": {
    "tags": []
   },
   "outputs": [
    {
     "data": {
      "text/html": [
       "<div>\n",
       "<style scoped>\n",
       "    .dataframe tbody tr th:only-of-type {\n",
       "        vertical-align: middle;\n",
       "    }\n",
       "\n",
       "    .dataframe tbody tr th {\n",
       "        vertical-align: top;\n",
       "    }\n",
       "\n",
       "    .dataframe thead th {\n",
       "        text-align: right;\n",
       "    }\n",
       "</style>\n",
       "<table border=\"1\" class=\"dataframe\">\n",
       "  <thead>\n",
       "    <tr style=\"text-align: right;\">\n",
       "      <th></th>\n",
       "      <th>Rk</th>\n",
       "      <th>Age</th>\n",
       "      <th>G</th>\n",
       "      <th>GS</th>\n",
       "      <th>MP</th>\n",
       "      <th>FG</th>\n",
       "      <th>FGA</th>\n",
       "      <th>FG%</th>\n",
       "      <th>3P</th>\n",
       "      <th>3PA</th>\n",
       "      <th>3P%</th>\n",
       "      <th>2P</th>\n",
       "      <th>2PA</th>\n",
       "      <th>2P%</th>\n",
       "      <th>eFG%</th>\n",
       "      <th>FT</th>\n",
       "      <th>FTA</th>\n",
       "      <th>FT%</th>\n",
       "      <th>ORB</th>\n",
       "      <th>DRB</th>\n",
       "      <th>TRB</th>\n",
       "      <th>AST</th>\n",
       "      <th>STL</th>\n",
       "      <th>BLK</th>\n",
       "      <th>TOV</th>\n",
       "      <th>PF</th>\n",
       "      <th>PTS</th>\n",
       "    </tr>\n",
       "  </thead>\n",
       "  <tbody>\n",
       "    <tr>\n",
       "      <th>count</th>\n",
       "      <td>108.000000</td>\n",
       "      <td>108.000000</td>\n",
       "      <td>108.000000</td>\n",
       "      <td>108.000000</td>\n",
       "      <td>108.000000</td>\n",
       "      <td>108.000000</td>\n",
       "      <td>108.000000</td>\n",
       "      <td>108.000000</td>\n",
       "      <td>108.000000</td>\n",
       "      <td>108.000000</td>\n",
       "      <td>98.000000</td>\n",
       "      <td>108.000000</td>\n",
       "      <td>108.000000</td>\n",
       "      <td>108.000000</td>\n",
       "      <td>108.000000</td>\n",
       "      <td>108.000000</td>\n",
       "      <td>108.000000</td>\n",
       "      <td>108.000000</td>\n",
       "      <td>108.000000</td>\n",
       "      <td>108.000000</td>\n",
       "      <td>108.000000</td>\n",
       "      <td>108.000000</td>\n",
       "      <td>108.000000</td>\n",
       "      <td>108.000000</td>\n",
       "      <td>108.000000</td>\n",
       "      <td>108.000000</td>\n",
       "      <td>108.000000</td>\n",
       "    </tr>\n",
       "    <tr>\n",
       "      <th>mean</th>\n",
       "      <td>261.777778</td>\n",
       "      <td>26.222222</td>\n",
       "      <td>49.342593</td>\n",
       "      <td>23.731481</td>\n",
       "      <td>1014.648148</td>\n",
       "      <td>184.268519</td>\n",
       "      <td>323.842593</td>\n",
       "      <td>0.560491</td>\n",
       "      <td>20.305556</td>\n",
       "      <td>58.000000</td>\n",
       "      <td>0.286429</td>\n",
       "      <td>163.962963</td>\n",
       "      <td>265.842593</td>\n",
       "      <td>0.603380</td>\n",
       "      <td>0.592139</td>\n",
       "      <td>83.611111</td>\n",
       "      <td>116.333333</td>\n",
       "      <td>0.691898</td>\n",
       "      <td>95.398148</td>\n",
       "      <td>213.027778</td>\n",
       "      <td>308.425926</td>\n",
       "      <td>76.462963</td>\n",
       "      <td>26.120370</td>\n",
       "      <td>43.129630</td>\n",
       "      <td>57.564815</td>\n",
       "      <td>110.000000</td>\n",
       "      <td>472.453704</td>\n",
       "    </tr>\n",
       "    <tr>\n",
       "      <th>std</th>\n",
       "      <td>162.236146</td>\n",
       "      <td>4.405462</td>\n",
       "      <td>22.352387</td>\n",
       "      <td>27.835165</td>\n",
       "      <td>757.680046</td>\n",
       "      <td>169.746959</td>\n",
       "      <td>300.434923</td>\n",
       "      <td>0.099036</td>\n",
       "      <td>33.792788</td>\n",
       "      <td>89.994081</td>\n",
       "      <td>0.194323</td>\n",
       "      <td>155.758375</td>\n",
       "      <td>254.689812</td>\n",
       "      <td>0.085346</td>\n",
       "      <td>0.084843</td>\n",
       "      <td>100.537605</td>\n",
       "      <td>125.268832</td>\n",
       "      <td>0.150064</td>\n",
       "      <td>76.243332</td>\n",
       "      <td>182.183253</td>\n",
       "      <td>249.990325</td>\n",
       "      <td>101.703842</td>\n",
       "      <td>22.061392</td>\n",
       "      <td>42.469801</td>\n",
       "      <td>53.708850</td>\n",
       "      <td>73.871826</td>\n",
       "      <td>448.971501</td>\n",
       "    </tr>\n",
       "    <tr>\n",
       "      <th>min</th>\n",
       "      <td>1.000000</td>\n",
       "      <td>19.000000</td>\n",
       "      <td>1.000000</td>\n",
       "      <td>0.000000</td>\n",
       "      <td>20.000000</td>\n",
       "      <td>2.000000</td>\n",
       "      <td>5.000000</td>\n",
       "      <td>0.250000</td>\n",
       "      <td>0.000000</td>\n",
       "      <td>0.000000</td>\n",
       "      <td>0.000000</td>\n",
       "      <td>1.000000</td>\n",
       "      <td>3.000000</td>\n",
       "      <td>0.250000</td>\n",
       "      <td>0.250000</td>\n",
       "      <td>0.000000</td>\n",
       "      <td>2.000000</td>\n",
       "      <td>0.000000</td>\n",
       "      <td>1.000000</td>\n",
       "      <td>1.000000</td>\n",
       "      <td>2.000000</td>\n",
       "      <td>0.000000</td>\n",
       "      <td>0.000000</td>\n",
       "      <td>0.000000</td>\n",
       "      <td>0.000000</td>\n",
       "      <td>0.000000</td>\n",
       "      <td>6.000000</td>\n",
       "    </tr>\n",
       "    <tr>\n",
       "      <th>25%</th>\n",
       "      <td>120.500000</td>\n",
       "      <td>23.000000</td>\n",
       "      <td>36.000000</td>\n",
       "      <td>1.000000</td>\n",
       "      <td>353.250000</td>\n",
       "      <td>55.000000</td>\n",
       "      <td>89.000000</td>\n",
       "      <td>0.500000</td>\n",
       "      <td>0.000000</td>\n",
       "      <td>2.750000</td>\n",
       "      <td>0.170750</td>\n",
       "      <td>46.750000</td>\n",
       "      <td>71.750000</td>\n",
       "      <td>0.571000</td>\n",
       "      <td>0.553500</td>\n",
       "      <td>19.750000</td>\n",
       "      <td>26.750000</td>\n",
       "      <td>0.626500</td>\n",
       "      <td>31.000000</td>\n",
       "      <td>72.250000</td>\n",
       "      <td>103.500000</td>\n",
       "      <td>15.000000</td>\n",
       "      <td>6.750000</td>\n",
       "      <td>11.750000</td>\n",
       "      <td>19.500000</td>\n",
       "      <td>43.750000</td>\n",
       "      <td>136.750000</td>\n",
       "    </tr>\n",
       "    <tr>\n",
       "      <th>50%</th>\n",
       "      <td>255.500000</td>\n",
       "      <td>25.000000</td>\n",
       "      <td>52.000000</td>\n",
       "      <td>8.500000</td>\n",
       "      <td>858.000000</td>\n",
       "      <td>126.000000</td>\n",
       "      <td>237.500000</td>\n",
       "      <td>0.551500</td>\n",
       "      <td>4.000000</td>\n",
       "      <td>13.500000</td>\n",
       "      <td>0.328500</td>\n",
       "      <td>121.000000</td>\n",
       "      <td>186.000000</td>\n",
       "      <td>0.614500</td>\n",
       "      <td>0.593500</td>\n",
       "      <td>44.000000</td>\n",
       "      <td>71.500000</td>\n",
       "      <td>0.703000</td>\n",
       "      <td>85.000000</td>\n",
       "      <td>168.000000</td>\n",
       "      <td>261.000000</td>\n",
       "      <td>48.500000</td>\n",
       "      <td>19.500000</td>\n",
       "      <td>30.000000</td>\n",
       "      <td>41.000000</td>\n",
       "      <td>100.000000</td>\n",
       "      <td>321.500000</td>\n",
       "    </tr>\n",
       "    <tr>\n",
       "      <th>75%</th>\n",
       "      <td>409.250000</td>\n",
       "      <td>29.000000</td>\n",
       "      <td>68.000000</td>\n",
       "      <td>48.250000</td>\n",
       "      <td>1675.000000</td>\n",
       "      <td>279.500000</td>\n",
       "      <td>487.250000</td>\n",
       "      <td>0.630500</td>\n",
       "      <td>21.500000</td>\n",
       "      <td>68.000000</td>\n",
       "      <td>0.381500</td>\n",
       "      <td>236.750000</td>\n",
       "      <td>386.500000</td>\n",
       "      <td>0.650000</td>\n",
       "      <td>0.642750</td>\n",
       "      <td>113.750000</td>\n",
       "      <td>161.250000</td>\n",
       "      <td>0.778250</td>\n",
       "      <td>133.500000</td>\n",
       "      <td>329.750000</td>\n",
       "      <td>474.500000</td>\n",
       "      <td>90.750000</td>\n",
       "      <td>43.250000</td>\n",
       "      <td>57.500000</td>\n",
       "      <td>82.000000</td>\n",
       "      <td>170.250000</td>\n",
       "      <td>696.750000</td>\n",
       "    </tr>\n",
       "    <tr>\n",
       "      <th>max</th>\n",
       "      <td>539.000000</td>\n",
       "      <td>42.000000</td>\n",
       "      <td>82.000000</td>\n",
       "      <td>82.000000</td>\n",
       "      <td>2746.000000</td>\n",
       "      <td>728.000000</td>\n",
       "      <td>1328.000000</td>\n",
       "      <td>0.819000</td>\n",
       "      <td>145.000000</td>\n",
       "      <td>364.000000</td>\n",
       "      <td>1.000000</td>\n",
       "      <td>662.000000</td>\n",
       "      <td>1128.000000</td>\n",
       "      <td>0.819000</td>\n",
       "      <td>0.819000</td>\n",
       "      <td>661.000000</td>\n",
       "      <td>771.000000</td>\n",
       "      <td>1.000000</td>\n",
       "      <td>274.000000</td>\n",
       "      <td>744.000000</td>\n",
       "      <td>973.000000</td>\n",
       "      <td>678.000000</td>\n",
       "      <td>88.000000</td>\n",
       "      <td>193.000000</td>\n",
       "      <td>247.000000</td>\n",
       "      <td>279.000000</td>\n",
       "      <td>2183.000000</td>\n",
       "    </tr>\n",
       "  </tbody>\n",
       "</table>\n",
       "</div>"
      ],
      "text/plain": [
       "               Rk         Age           G          GS           MP  \\\n",
       "count  108.000000  108.000000  108.000000  108.000000   108.000000   \n",
       "mean   261.777778   26.222222   49.342593   23.731481  1014.648148   \n",
       "std    162.236146    4.405462   22.352387   27.835165   757.680046   \n",
       "min      1.000000   19.000000    1.000000    0.000000    20.000000   \n",
       "25%    120.500000   23.000000   36.000000    1.000000   353.250000   \n",
       "50%    255.500000   25.000000   52.000000    8.500000   858.000000   \n",
       "75%    409.250000   29.000000   68.000000   48.250000  1675.000000   \n",
       "max    539.000000   42.000000   82.000000   82.000000  2746.000000   \n",
       "\n",
       "               FG          FGA         FG%          3P         3PA        3P%  \\\n",
       "count  108.000000   108.000000  108.000000  108.000000  108.000000  98.000000   \n",
       "mean   184.268519   323.842593    0.560491   20.305556   58.000000   0.286429   \n",
       "std    169.746959   300.434923    0.099036   33.792788   89.994081   0.194323   \n",
       "min      2.000000     5.000000    0.250000    0.000000    0.000000   0.000000   \n",
       "25%     55.000000    89.000000    0.500000    0.000000    2.750000   0.170750   \n",
       "50%    126.000000   237.500000    0.551500    4.000000   13.500000   0.328500   \n",
       "75%    279.500000   487.250000    0.630500   21.500000   68.000000   0.381500   \n",
       "max    728.000000  1328.000000    0.819000  145.000000  364.000000   1.000000   \n",
       "\n",
       "               2P          2PA         2P%        eFG%          FT  \\\n",
       "count  108.000000   108.000000  108.000000  108.000000  108.000000   \n",
       "mean   163.962963   265.842593    0.603380    0.592139   83.611111   \n",
       "std    155.758375   254.689812    0.085346    0.084843  100.537605   \n",
       "min      1.000000     3.000000    0.250000    0.250000    0.000000   \n",
       "25%     46.750000    71.750000    0.571000    0.553500   19.750000   \n",
       "50%    121.000000   186.000000    0.614500    0.593500   44.000000   \n",
       "75%    236.750000   386.500000    0.650000    0.642750  113.750000   \n",
       "max    662.000000  1128.000000    0.819000    0.819000  661.000000   \n",
       "\n",
       "              FTA         FT%         ORB         DRB         TRB         AST  \\\n",
       "count  108.000000  108.000000  108.000000  108.000000  108.000000  108.000000   \n",
       "mean   116.333333    0.691898   95.398148  213.027778  308.425926   76.462963   \n",
       "std    125.268832    0.150064   76.243332  182.183253  249.990325  101.703842   \n",
       "min      2.000000    0.000000    1.000000    1.000000    2.000000    0.000000   \n",
       "25%     26.750000    0.626500   31.000000   72.250000  103.500000   15.000000   \n",
       "50%     71.500000    0.703000   85.000000  168.000000  261.000000   48.500000   \n",
       "75%    161.250000    0.778250  133.500000  329.750000  474.500000   90.750000   \n",
       "max    771.000000    1.000000  274.000000  744.000000  973.000000  678.000000   \n",
       "\n",
       "              STL         BLK         TOV          PF          PTS  \n",
       "count  108.000000  108.000000  108.000000  108.000000   108.000000  \n",
       "mean    26.120370   43.129630   57.564815  110.000000   472.453704  \n",
       "std     22.061392   42.469801   53.708850   73.871826   448.971501  \n",
       "min      0.000000    0.000000    0.000000    0.000000     6.000000  \n",
       "25%      6.750000   11.750000   19.500000   43.750000   136.750000  \n",
       "50%     19.500000   30.000000   41.000000  100.000000   321.500000  \n",
       "75%     43.250000   57.500000   82.000000  170.250000   696.750000  \n",
       "max     88.000000  193.000000  247.000000  279.000000  2183.000000  "
      ]
     },
     "execution_count": 9,
     "metadata": {},
     "output_type": "execute_result"
    }
   ],
   "source": [
    "center.describe()"
   ]
  },
  {
   "cell_type": "code",
   "execution_count": 10,
   "id": "aa6bdb22-becb-4c2d-8cee-37801926d9fe",
   "metadata": {
    "tags": []
   },
   "outputs": [],
   "source": [
    "# creating new data frame with only centers that play above a certain threshold of minutes\n",
    "center2=center[((center['MP']>=1500)&(center['Standing']=='Bottom'))|\n",
    "               ((center['MP']>=1700)&(center['Standing']=='Top'))]"
   ]
  },
  {
   "cell_type": "code",
   "execution_count": 11,
   "id": "4254e172-cb50-4413-a909-7df464bfab55",
   "metadata": {
    "tags": []
   },
   "outputs": [
    {
     "data": {
      "text/plain": [
       "Standing\n",
       "Top       15\n",
       "Bottom    15\n",
       "Name: count, dtype: int64"
      ]
     },
     "execution_count": 11,
     "metadata": {},
     "output_type": "execute_result"
    }
   ],
   "source": [
    "center2['Standing'].value_counts()"
   ]
  },
  {
   "cell_type": "code",
   "execution_count": 12,
   "id": "9a418b9e-d4a8-4e49-be32-f1a8a15e193c",
   "metadata": {
    "tags": []
   },
   "outputs": [
    {
     "data": {
      "text/html": [
       "<div>\n",
       "<style scoped>\n",
       "    .dataframe tbody tr th:only-of-type {\n",
       "        vertical-align: middle;\n",
       "    }\n",
       "\n",
       "    .dataframe tbody tr th {\n",
       "        vertical-align: top;\n",
       "    }\n",
       "\n",
       "    .dataframe thead th {\n",
       "        text-align: right;\n",
       "    }\n",
       "</style>\n",
       "<table border=\"1\" class=\"dataframe\">\n",
       "  <thead>\n",
       "    <tr style=\"text-align: right;\">\n",
       "      <th></th>\n",
       "      <th>index</th>\n",
       "      <th>Rk</th>\n",
       "      <th>Player</th>\n",
       "      <th>Pos</th>\n",
       "      <th>Age</th>\n",
       "      <th>Tm</th>\n",
       "      <th>G</th>\n",
       "      <th>MP</th>\n",
       "      <th>PER</th>\n",
       "      <th>TS%</th>\n",
       "      <th>3PAr</th>\n",
       "      <th>FTr</th>\n",
       "      <th>ORB%</th>\n",
       "      <th>DRB%</th>\n",
       "      <th>TRB%</th>\n",
       "      <th>AST%</th>\n",
       "      <th>STL%</th>\n",
       "      <th>BLK%</th>\n",
       "      <th>TOV%</th>\n",
       "      <th>USG%</th>\n",
       "      <th>Unnamed: 19</th>\n",
       "      <th>OWS</th>\n",
       "      <th>DWS</th>\n",
       "      <th>WS</th>\n",
       "      <th>WS/48</th>\n",
       "      <th>Unnamed: 24</th>\n",
       "      <th>OBPM</th>\n",
       "      <th>DBPM</th>\n",
       "      <th>BPM</th>\n",
       "      <th>VORP</th>\n",
       "      <th>Player-additional</th>\n",
       "      <th>Standing</th>\n",
       "    </tr>\n",
       "  </thead>\n",
       "  <tbody>\n",
       "    <tr>\n",
       "      <th>0</th>\n",
       "      <td>0</td>\n",
       "      <td>1</td>\n",
       "      <td>Precious Achiuwa</td>\n",
       "      <td>C</td>\n",
       "      <td>23</td>\n",
       "      <td>TOR</td>\n",
       "      <td>55</td>\n",
       "      <td>1140</td>\n",
       "      <td>15.2</td>\n",
       "      <td>0.554</td>\n",
       "      <td>0.267</td>\n",
       "      <td>0.307</td>\n",
       "      <td>9.3</td>\n",
       "      <td>24.4</td>\n",
       "      <td>16.3</td>\n",
       "      <td>6.3</td>\n",
       "      <td>1.3</td>\n",
       "      <td>2.6</td>\n",
       "      <td>11.4</td>\n",
       "      <td>19.4</td>\n",
       "      <td>NaN</td>\n",
       "      <td>0.8</td>\n",
       "      <td>1.4</td>\n",
       "      <td>2.2</td>\n",
       "      <td>0.093</td>\n",
       "      <td>NaN</td>\n",
       "      <td>-1.4</td>\n",
       "      <td>-0.8</td>\n",
       "      <td>-2.3</td>\n",
       "      <td>-0.1</td>\n",
       "      <td>achiupr01</td>\n",
       "      <td>Bottom</td>\n",
       "    </tr>\n",
       "    <tr>\n",
       "      <th>1</th>\n",
       "      <td>1</td>\n",
       "      <td>2</td>\n",
       "      <td>Steven Adams</td>\n",
       "      <td>C</td>\n",
       "      <td>29</td>\n",
       "      <td>MEM</td>\n",
       "      <td>42</td>\n",
       "      <td>1133</td>\n",
       "      <td>17.5</td>\n",
       "      <td>0.564</td>\n",
       "      <td>0.004</td>\n",
       "      <td>0.490</td>\n",
       "      <td>20.1</td>\n",
       "      <td>25.3</td>\n",
       "      <td>22.7</td>\n",
       "      <td>11.2</td>\n",
       "      <td>1.5</td>\n",
       "      <td>3.7</td>\n",
       "      <td>19.8</td>\n",
       "      <td>14.6</td>\n",
       "      <td>NaN</td>\n",
       "      <td>1.3</td>\n",
       "      <td>2.1</td>\n",
       "      <td>3.4</td>\n",
       "      <td>0.144</td>\n",
       "      <td>NaN</td>\n",
       "      <td>-0.3</td>\n",
       "      <td>0.9</td>\n",
       "      <td>0.6</td>\n",
       "      <td>0.7</td>\n",
       "      <td>adamsst01</td>\n",
       "      <td>Top</td>\n",
       "    </tr>\n",
       "    <tr>\n",
       "      <th>2</th>\n",
       "      <td>2</td>\n",
       "      <td>3</td>\n",
       "      <td>Bam Adebayo</td>\n",
       "      <td>C</td>\n",
       "      <td>25</td>\n",
       "      <td>MIA</td>\n",
       "      <td>75</td>\n",
       "      <td>2598</td>\n",
       "      <td>20.1</td>\n",
       "      <td>0.592</td>\n",
       "      <td>0.011</td>\n",
       "      <td>0.361</td>\n",
       "      <td>8.0</td>\n",
       "      <td>23.6</td>\n",
       "      <td>15.5</td>\n",
       "      <td>15.9</td>\n",
       "      <td>1.7</td>\n",
       "      <td>2.4</td>\n",
       "      <td>12.7</td>\n",
       "      <td>25.2</td>\n",
       "      <td>NaN</td>\n",
       "      <td>3.6</td>\n",
       "      <td>3.8</td>\n",
       "      <td>7.4</td>\n",
       "      <td>0.137</td>\n",
       "      <td>NaN</td>\n",
       "      <td>0.8</td>\n",
       "      <td>0.8</td>\n",
       "      <td>1.5</td>\n",
       "      <td>2.3</td>\n",
       "      <td>adebaba01</td>\n",
       "      <td>Top</td>\n",
       "    </tr>\n",
       "    <tr>\n",
       "      <th>3</th>\n",
       "      <td>7</td>\n",
       "      <td>8</td>\n",
       "      <td>Jarrett Allen</td>\n",
       "      <td>C</td>\n",
       "      <td>24</td>\n",
       "      <td>CLE</td>\n",
       "      <td>68</td>\n",
       "      <td>2220</td>\n",
       "      <td>19.9</td>\n",
       "      <td>0.670</td>\n",
       "      <td>0.016</td>\n",
       "      <td>0.353</td>\n",
       "      <td>11.7</td>\n",
       "      <td>23.6</td>\n",
       "      <td>17.7</td>\n",
       "      <td>7.5</td>\n",
       "      <td>1.2</td>\n",
       "      <td>3.5</td>\n",
       "      <td>11.4</td>\n",
       "      <td>16.4</td>\n",
       "      <td>NaN</td>\n",
       "      <td>5.5</td>\n",
       "      <td>4.0</td>\n",
       "      <td>9.5</td>\n",
       "      <td>0.205</td>\n",
       "      <td>NaN</td>\n",
       "      <td>1.3</td>\n",
       "      <td>1.0</td>\n",
       "      <td>2.4</td>\n",
       "      <td>2.4</td>\n",
       "      <td>allenja01</td>\n",
       "      <td>Top</td>\n",
       "    </tr>\n",
       "    <tr>\n",
       "      <th>4</th>\n",
       "      <td>16</td>\n",
       "      <td>17</td>\n",
       "      <td>Deandre Ayton</td>\n",
       "      <td>C</td>\n",
       "      <td>24</td>\n",
       "      <td>PHO</td>\n",
       "      <td>67</td>\n",
       "      <td>2035</td>\n",
       "      <td>19.9</td>\n",
       "      <td>0.617</td>\n",
       "      <td>0.027</td>\n",
       "      <td>0.225</td>\n",
       "      <td>9.2</td>\n",
       "      <td>27.5</td>\n",
       "      <td>18.1</td>\n",
       "      <td>9.2</td>\n",
       "      <td>0.9</td>\n",
       "      <td>2.3</td>\n",
       "      <td>11.0</td>\n",
       "      <td>22.9</td>\n",
       "      <td>NaN</td>\n",
       "      <td>3.3</td>\n",
       "      <td>3.0</td>\n",
       "      <td>6.2</td>\n",
       "      <td>0.147</td>\n",
       "      <td>NaN</td>\n",
       "      <td>0.9</td>\n",
       "      <td>0.0</td>\n",
       "      <td>0.9</td>\n",
       "      <td>1.5</td>\n",
       "      <td>aytonde01</td>\n",
       "      <td>Top</td>\n",
       "    </tr>\n",
       "  </tbody>\n",
       "</table>\n",
       "</div>"
      ],
      "text/plain": [
       "   index  Rk            Player Pos  Age   Tm   G    MP   PER    TS%   3PAr  \\\n",
       "0      0   1  Precious Achiuwa   C   23  TOR  55  1140  15.2  0.554  0.267   \n",
       "1      1   2      Steven Adams   C   29  MEM  42  1133  17.5  0.564  0.004   \n",
       "2      2   3       Bam Adebayo   C   25  MIA  75  2598  20.1  0.592  0.011   \n",
       "3      7   8     Jarrett Allen   C   24  CLE  68  2220  19.9  0.670  0.016   \n",
       "4     16  17     Deandre Ayton   C   24  PHO  67  2035  19.9  0.617  0.027   \n",
       "\n",
       "     FTr  ORB%  DRB%  TRB%  AST%  STL%  BLK%  TOV%  USG%  Unnamed: 19  OWS  \\\n",
       "0  0.307   9.3  24.4  16.3   6.3   1.3   2.6  11.4  19.4          NaN  0.8   \n",
       "1  0.490  20.1  25.3  22.7  11.2   1.5   3.7  19.8  14.6          NaN  1.3   \n",
       "2  0.361   8.0  23.6  15.5  15.9   1.7   2.4  12.7  25.2          NaN  3.6   \n",
       "3  0.353  11.7  23.6  17.7   7.5   1.2   3.5  11.4  16.4          NaN  5.5   \n",
       "4  0.225   9.2  27.5  18.1   9.2   0.9   2.3  11.0  22.9          NaN  3.3   \n",
       "\n",
       "   DWS   WS  WS/48  Unnamed: 24  OBPM  DBPM  BPM  VORP Player-additional  \\\n",
       "0  1.4  2.2  0.093          NaN  -1.4  -0.8 -2.3  -0.1         achiupr01   \n",
       "1  2.1  3.4  0.144          NaN  -0.3   0.9  0.6   0.7         adamsst01   \n",
       "2  3.8  7.4  0.137          NaN   0.8   0.8  1.5   2.3         adebaba01   \n",
       "3  4.0  9.5  0.205          NaN   1.3   1.0  2.4   2.4         allenja01   \n",
       "4  3.0  6.2  0.147          NaN   0.9   0.0  0.9   1.5         aytonde01   \n",
       "\n",
       "  Standing  \n",
       "0   Bottom  \n",
       "1      Top  \n",
       "2      Top  \n",
       "3      Top  \n",
       "4      Top  "
      ]
     },
     "execution_count": 12,
     "metadata": {},
     "output_type": "execute_result"
    }
   ],
   "source": [
    "# Creating standing column in advanced stat dataframe\n",
    "ad_center['Standing']=0\n",
    "for i in range(len(ad_center)):\n",
    "    if ad_center.loc[i,'Tm'] in top:\n",
    "        ad_center.loc[i,'Standing']='Top'\n",
    "    else:\n",
    "        ad_center.loc[i,'Standing']='Bottom'\n",
    "ad_center.head()"
   ]
  },
  {
   "cell_type": "code",
   "execution_count": 13,
   "id": "0843dab2-b42f-4fdf-8684-ba34796f2398",
   "metadata": {
    "tags": []
   },
   "outputs": [],
   "source": [
    "# Filtering out players \n",
    "ad_center2=ad_center[((ad_center['MP']>=1500)&(ad_center['Standing']=='Bottom'))|\n",
    "               ((ad_center['MP']>=1700)&(ad_center['Standing']=='Top'))]"
   ]
  },
  {
   "cell_type": "code",
   "execution_count": 14,
   "id": "a60afc0f-b363-4e60-a0ea-62ba6c98693e",
   "metadata": {
    "tags": []
   },
   "outputs": [
    {
     "data": {
      "text/plain": [
       "Standing\n",
       "Top       15\n",
       "Bottom    15\n",
       "Name: count, dtype: int64"
      ]
     },
     "execution_count": 14,
     "metadata": {},
     "output_type": "execute_result"
    }
   ],
   "source": [
    "ad_center2['Standing'].value_counts()"
   ]
  },
  {
   "cell_type": "markdown",
   "id": "ca753a2a-0620-42cb-a516-139f622f87de",
   "metadata": {},
   "source": [
    "## Significance Testing"
   ]
  },
  {
   "cell_type": "code",
   "execution_count": 15,
   "id": "c7ac058d-f77d-4a34-b2bc-dd9e5fac275c",
   "metadata": {
    "tags": []
   },
   "outputs": [],
   "source": [
    "import scipy.stats as stats"
   ]
  },
  {
   "cell_type": "code",
   "execution_count": 16,
   "id": "0180e584-ef47-4b59-946c-2a01c3117d97",
   "metadata": {
    "tags": []
   },
   "outputs": [
    {
     "data": {
      "text/html": [
       "<div>\n",
       "<style scoped>\n",
       "    .dataframe tbody tr th:only-of-type {\n",
       "        vertical-align: middle;\n",
       "    }\n",
       "\n",
       "    .dataframe tbody tr th {\n",
       "        vertical-align: top;\n",
       "    }\n",
       "\n",
       "    .dataframe thead th {\n",
       "        text-align: right;\n",
       "    }\n",
       "</style>\n",
       "<table border=\"1\" class=\"dataframe\">\n",
       "  <thead>\n",
       "    <tr style=\"text-align: right;\">\n",
       "      <th></th>\n",
       "      <th>Metrics</th>\n",
       "      <th>P-Value</th>\n",
       "      <th>Decision</th>\n",
       "    </tr>\n",
       "  </thead>\n",
       "  <tbody>\n",
       "    <tr>\n",
       "      <th>6</th>\n",
       "      <td>2P</td>\n",
       "      <td>0.043241</td>\n",
       "      <td>Reject</td>\n",
       "    </tr>\n",
       "  </tbody>\n",
       "</table>\n",
       "</div>"
      ],
      "text/plain": [
       "  Metrics   P-Value Decision\n",
       "6      2P  0.043241   Reject"
      ]
     },
     "execution_count": 16,
     "metadata": {},
     "output_type": "execute_result"
    }
   ],
   "source": [
    "# t test for basic stats at alpha level of 0.05\n",
    "included=['FG', 'FGA', 'FG%', '3P', '3PA', '3P%', '2P', '2PA', '2P%',\n",
    "       'eFG%', 'FT', 'FTA', 'FT%', 'ORB', 'DRB', 'TRB', 'AST', 'STL', 'BLK',\n",
    "       'TOV', 'PF', 'PTS']\n",
    "result=[]\n",
    "import scipy.stats as stats\n",
    "for i in included:\n",
    "    bfg=center2[center2['Standing']=='Bottom'][i]\n",
    "    tfg=center2[center2['Standing']=='Top'][i]\n",
    "    result.append(stats.ttest_ind(a=bfg, b=tfg,equal_var=True).pvalue)\n",
    "alpha=0.05\n",
    "decision=[]\n",
    "for i in result:\n",
    "    if i < alpha:\n",
    "        decision.append('Reject')\n",
    "    else:\n",
    "        decision.append('Accept')\n",
    "final=pd.DataFrame(data={'Metrics':included,'P-Value':result,'Decision':decision})\n",
    "final[final['Decision']=='Reject'].sort_values(by='P-Value')"
   ]
  },
  {
   "cell_type": "code",
   "execution_count": 17,
   "id": "efeea024-4523-42ee-891a-db268aff0a2e",
   "metadata": {
    "tags": []
   },
   "outputs": [
    {
     "data": {
      "text/html": [
       "<div>\n",
       "<style scoped>\n",
       "    .dataframe tbody tr th:only-of-type {\n",
       "        vertical-align: middle;\n",
       "    }\n",
       "\n",
       "    .dataframe tbody tr th {\n",
       "        vertical-align: top;\n",
       "    }\n",
       "\n",
       "    .dataframe thead th {\n",
       "        text-align: right;\n",
       "    }\n",
       "</style>\n",
       "<table border=\"1\" class=\"dataframe\">\n",
       "  <thead>\n",
       "    <tr style=\"text-align: right;\">\n",
       "      <th></th>\n",
       "      <th>Metrics</th>\n",
       "      <th>P-Value</th>\n",
       "      <th>Decision</th>\n",
       "    </tr>\n",
       "  </thead>\n",
       "  <tbody>\n",
       "    <tr>\n",
       "      <th>13</th>\n",
       "      <td>DWS</td>\n",
       "      <td>0.000052</td>\n",
       "      <td>Reject</td>\n",
       "    </tr>\n",
       "    <tr>\n",
       "      <th>14</th>\n",
       "      <td>WS</td>\n",
       "      <td>0.000405</td>\n",
       "      <td>Reject</td>\n",
       "    </tr>\n",
       "    <tr>\n",
       "      <th>17</th>\n",
       "      <td>DBPM</td>\n",
       "      <td>0.002217</td>\n",
       "      <td>Reject</td>\n",
       "    </tr>\n",
       "    <tr>\n",
       "      <th>15</th>\n",
       "      <td>WS/48</td>\n",
       "      <td>0.005564</td>\n",
       "      <td>Reject</td>\n",
       "    </tr>\n",
       "    <tr>\n",
       "      <th>12</th>\n",
       "      <td>OWS</td>\n",
       "      <td>0.009219</td>\n",
       "      <td>Reject</td>\n",
       "    </tr>\n",
       "    <tr>\n",
       "      <th>19</th>\n",
       "      <td>VORP</td>\n",
       "      <td>0.019704</td>\n",
       "      <td>Reject</td>\n",
       "    </tr>\n",
       "    <tr>\n",
       "      <th>18</th>\n",
       "      <td>BPM</td>\n",
       "      <td>0.033730</td>\n",
       "      <td>Reject</td>\n",
       "    </tr>\n",
       "  </tbody>\n",
       "</table>\n",
       "</div>"
      ],
      "text/plain": [
       "   Metrics   P-Value Decision\n",
       "13     DWS  0.000052   Reject\n",
       "14      WS  0.000405   Reject\n",
       "17    DBPM  0.002217   Reject\n",
       "15   WS/48  0.005564   Reject\n",
       "12     OWS  0.009219   Reject\n",
       "19    VORP  0.019704   Reject\n",
       "18     BPM  0.033730   Reject"
      ]
     },
     "execution_count": 17,
     "metadata": {},
     "output_type": "execute_result"
    }
   ],
   "source": [
    "# t test for advanced stats at alpha level of 0.05\n",
    "included=['PER', 'TS%', '3PAr', 'FTr', 'ORB%', 'DRB%',\n",
    "       'TRB%', 'AST%', 'STL%', 'BLK%', 'TOV%', 'USG%', 'OWS', 'DWS', 'WS',\n",
    "       'WS/48', 'OBPM', 'DBPM', 'BPM', 'VORP']\n",
    "result=[]\n",
    "import scipy.stats as stats\n",
    "for i in included:\n",
    "    bfg=ad_center2[ad_center2['Standing']=='Bottom'][i]\n",
    "    tfg=ad_center2[ad_center2['Standing']=='Top'][i]\n",
    "    result.append(stats.ttest_ind(a=bfg, b=tfg,equal_var=True).pvalue)\n",
    "alpha=0.05\n",
    "decision=[]\n",
    "for i in result:\n",
    "    if i < alpha:\n",
    "        decision.append('Reject')\n",
    "    else:\n",
    "        decision.append('Accept')\n",
    "final=pd.DataFrame(data={'Metrics':included,'P-Value':result,'Decision':decision})\n",
    "final[final['Decision']=='Reject'].sort_values(by='P-Value')"
   ]
  },
  {
   "cell_type": "code",
   "execution_count": null,
   "id": "101f4728-ac71-476f-af6d-1f32f6b177e2",
   "metadata": {},
   "outputs": [],
   "source": [
    "fig = px.histogram(ad_center2, x='2P', color='Standing',\n",
    "                   marginal=\"box\", height=500, width=1000) # or violin, rug\n",
    "fig.update_traces(opacity=0.3)\n",
    "fig.update_layout(barmode='overlay',plot_bgcolor='rgba(0, 0, 0, 0)')\n",
    "fig.update_xaxes(dtick=0.5,ticks='outside',showline=True,linecolor='black',mirror=False)\n",
    "fig.show()"
   ]
  },
  {
   "cell_type": "code",
   "execution_count": 94,
   "id": "a5dc3111-22fb-44e2-87c6-a8f62bb81fc4",
   "metadata": {
    "tags": []
   },
   "outputs": [
    {
     "data": {
      "application/vnd.plotly.v1+json": {
       "config": {
        "plotlyServerURL": "https://plot.ly"
       },
       "data": [
        {
         "alignmentgroup": "True",
         "bingroup": "x",
         "hovertemplate": "Standing=Top<br>VORP=%{x}<br>count=%{y}<extra></extra>",
         "legendgroup": "Top",
         "marker": {
          "color": "#636efa",
          "pattern": {
           "shape": ""
          }
         },
         "name": "Top",
         "offsetgroup": "Top",
         "opacity": 0.3,
         "orientation": "v",
         "showlegend": true,
         "type": "histogram",
         "x": [
          2.3,
          2.4,
          1.5,
          2.9,
          4,
          6.4,
          1.4,
          2.5,
          2.2,
          8.8,
          2,
          2.5,
          2.2,
          5.4,
          0.6
         ],
         "xaxis": "x",
         "yaxis": "y"
        },
        {
         "alignmentgroup": "True",
         "hovertemplate": "Standing=Top<br>VORP=%{x}<extra></extra>",
         "legendgroup": "Top",
         "marker": {
          "color": "#636efa"
         },
         "name": "Top",
         "notched": true,
         "offsetgroup": "Top",
         "opacity": 0.3,
         "showlegend": false,
         "type": "box",
         "x": [
          2.3,
          2.4,
          1.5,
          2.9,
          4,
          6.4,
          1.4,
          2.5,
          2.2,
          8.8,
          2,
          2.5,
          2.2,
          5.4,
          0.6
         ],
         "xaxis": "x2",
         "yaxis": "y2"
        },
        {
         "alignmentgroup": "True",
         "bingroup": "x",
         "hovertemplate": "Standing=Bottom<br>VORP=%{x}<br>count=%{y}<extra></extra>",
         "legendgroup": "Bottom",
         "marker": {
          "color": "#EF553B",
          "pattern": {
           "shape": ""
          }
         },
         "name": "Bottom",
         "offsetgroup": "Bottom",
         "opacity": 0.3,
         "orientation": "v",
         "showlegend": true,
         "type": "histogram",
         "x": [
          1.8,
          1.3,
          0.5,
          0.8,
          1.2,
          2.1,
          1.3,
          1.2,
          1.9,
          3.4,
          1.9,
          1.9,
          0.8,
          3.2,
          1.6
         ],
         "xaxis": "x",
         "yaxis": "y"
        },
        {
         "alignmentgroup": "True",
         "hovertemplate": "Standing=Bottom<br>VORP=%{x}<extra></extra>",
         "legendgroup": "Bottom",
         "marker": {
          "color": "#EF553B"
         },
         "name": "Bottom",
         "notched": true,
         "offsetgroup": "Bottom",
         "opacity": 0.3,
         "showlegend": false,
         "type": "box",
         "x": [
          1.8,
          1.3,
          0.5,
          0.8,
          1.2,
          2.1,
          1.3,
          1.2,
          1.9,
          3.4,
          1.9,
          1.9,
          0.8,
          3.2,
          1.6
         ],
         "xaxis": "x2",
         "yaxis": "y2"
        }
       ],
       "layout": {
        "barmode": "overlay",
        "height": 500,
        "legend": {
         "title": {
          "text": "Standing"
         },
         "tracegroupgap": 0
        },
        "margin": {
         "t": 60
        },
        "plot_bgcolor": "rgba(0, 0, 0, 0)",
        "template": {
         "data": {
          "bar": [
           {
            "error_x": {
             "color": "#2a3f5f"
            },
            "error_y": {
             "color": "#2a3f5f"
            },
            "marker": {
             "line": {
              "color": "#E5ECF6",
              "width": 0.5
             },
             "pattern": {
              "fillmode": "overlay",
              "size": 10,
              "solidity": 0.2
             }
            },
            "type": "bar"
           }
          ],
          "barpolar": [
           {
            "marker": {
             "line": {
              "color": "#E5ECF6",
              "width": 0.5
             },
             "pattern": {
              "fillmode": "overlay",
              "size": 10,
              "solidity": 0.2
             }
            },
            "type": "barpolar"
           }
          ],
          "carpet": [
           {
            "aaxis": {
             "endlinecolor": "#2a3f5f",
             "gridcolor": "white",
             "linecolor": "white",
             "minorgridcolor": "white",
             "startlinecolor": "#2a3f5f"
            },
            "baxis": {
             "endlinecolor": "#2a3f5f",
             "gridcolor": "white",
             "linecolor": "white",
             "minorgridcolor": "white",
             "startlinecolor": "#2a3f5f"
            },
            "type": "carpet"
           }
          ],
          "choropleth": [
           {
            "colorbar": {
             "outlinewidth": 0,
             "ticks": ""
            },
            "type": "choropleth"
           }
          ],
          "contour": [
           {
            "colorbar": {
             "outlinewidth": 0,
             "ticks": ""
            },
            "colorscale": [
             [
              0,
              "#0d0887"
             ],
             [
              0.1111111111111111,
              "#46039f"
             ],
             [
              0.2222222222222222,
              "#7201a8"
             ],
             [
              0.3333333333333333,
              "#9c179e"
             ],
             [
              0.4444444444444444,
              "#bd3786"
             ],
             [
              0.5555555555555556,
              "#d8576b"
             ],
             [
              0.6666666666666666,
              "#ed7953"
             ],
             [
              0.7777777777777778,
              "#fb9f3a"
             ],
             [
              0.8888888888888888,
              "#fdca26"
             ],
             [
              1,
              "#f0f921"
             ]
            ],
            "type": "contour"
           }
          ],
          "contourcarpet": [
           {
            "colorbar": {
             "outlinewidth": 0,
             "ticks": ""
            },
            "type": "contourcarpet"
           }
          ],
          "heatmap": [
           {
            "colorbar": {
             "outlinewidth": 0,
             "ticks": ""
            },
            "colorscale": [
             [
              0,
              "#0d0887"
             ],
             [
              0.1111111111111111,
              "#46039f"
             ],
             [
              0.2222222222222222,
              "#7201a8"
             ],
             [
              0.3333333333333333,
              "#9c179e"
             ],
             [
              0.4444444444444444,
              "#bd3786"
             ],
             [
              0.5555555555555556,
              "#d8576b"
             ],
             [
              0.6666666666666666,
              "#ed7953"
             ],
             [
              0.7777777777777778,
              "#fb9f3a"
             ],
             [
              0.8888888888888888,
              "#fdca26"
             ],
             [
              1,
              "#f0f921"
             ]
            ],
            "type": "heatmap"
           }
          ],
          "heatmapgl": [
           {
            "colorbar": {
             "outlinewidth": 0,
             "ticks": ""
            },
            "colorscale": [
             [
              0,
              "#0d0887"
             ],
             [
              0.1111111111111111,
              "#46039f"
             ],
             [
              0.2222222222222222,
              "#7201a8"
             ],
             [
              0.3333333333333333,
              "#9c179e"
             ],
             [
              0.4444444444444444,
              "#bd3786"
             ],
             [
              0.5555555555555556,
              "#d8576b"
             ],
             [
              0.6666666666666666,
              "#ed7953"
             ],
             [
              0.7777777777777778,
              "#fb9f3a"
             ],
             [
              0.8888888888888888,
              "#fdca26"
             ],
             [
              1,
              "#f0f921"
             ]
            ],
            "type": "heatmapgl"
           }
          ],
          "histogram": [
           {
            "marker": {
             "pattern": {
              "fillmode": "overlay",
              "size": 10,
              "solidity": 0.2
             }
            },
            "type": "histogram"
           }
          ],
          "histogram2d": [
           {
            "colorbar": {
             "outlinewidth": 0,
             "ticks": ""
            },
            "colorscale": [
             [
              0,
              "#0d0887"
             ],
             [
              0.1111111111111111,
              "#46039f"
             ],
             [
              0.2222222222222222,
              "#7201a8"
             ],
             [
              0.3333333333333333,
              "#9c179e"
             ],
             [
              0.4444444444444444,
              "#bd3786"
             ],
             [
              0.5555555555555556,
              "#d8576b"
             ],
             [
              0.6666666666666666,
              "#ed7953"
             ],
             [
              0.7777777777777778,
              "#fb9f3a"
             ],
             [
              0.8888888888888888,
              "#fdca26"
             ],
             [
              1,
              "#f0f921"
             ]
            ],
            "type": "histogram2d"
           }
          ],
          "histogram2dcontour": [
           {
            "colorbar": {
             "outlinewidth": 0,
             "ticks": ""
            },
            "colorscale": [
             [
              0,
              "#0d0887"
             ],
             [
              0.1111111111111111,
              "#46039f"
             ],
             [
              0.2222222222222222,
              "#7201a8"
             ],
             [
              0.3333333333333333,
              "#9c179e"
             ],
             [
              0.4444444444444444,
              "#bd3786"
             ],
             [
              0.5555555555555556,
              "#d8576b"
             ],
             [
              0.6666666666666666,
              "#ed7953"
             ],
             [
              0.7777777777777778,
              "#fb9f3a"
             ],
             [
              0.8888888888888888,
              "#fdca26"
             ],
             [
              1,
              "#f0f921"
             ]
            ],
            "type": "histogram2dcontour"
           }
          ],
          "mesh3d": [
           {
            "colorbar": {
             "outlinewidth": 0,
             "ticks": ""
            },
            "type": "mesh3d"
           }
          ],
          "parcoords": [
           {
            "line": {
             "colorbar": {
              "outlinewidth": 0,
              "ticks": ""
             }
            },
            "type": "parcoords"
           }
          ],
          "pie": [
           {
            "automargin": true,
            "type": "pie"
           }
          ],
          "scatter": [
           {
            "fillpattern": {
             "fillmode": "overlay",
             "size": 10,
             "solidity": 0.2
            },
            "type": "scatter"
           }
          ],
          "scatter3d": [
           {
            "line": {
             "colorbar": {
              "outlinewidth": 0,
              "ticks": ""
             }
            },
            "marker": {
             "colorbar": {
              "outlinewidth": 0,
              "ticks": ""
             }
            },
            "type": "scatter3d"
           }
          ],
          "scattercarpet": [
           {
            "marker": {
             "colorbar": {
              "outlinewidth": 0,
              "ticks": ""
             }
            },
            "type": "scattercarpet"
           }
          ],
          "scattergeo": [
           {
            "marker": {
             "colorbar": {
              "outlinewidth": 0,
              "ticks": ""
             }
            },
            "type": "scattergeo"
           }
          ],
          "scattergl": [
           {
            "marker": {
             "colorbar": {
              "outlinewidth": 0,
              "ticks": ""
             }
            },
            "type": "scattergl"
           }
          ],
          "scattermapbox": [
           {
            "marker": {
             "colorbar": {
              "outlinewidth": 0,
              "ticks": ""
             }
            },
            "type": "scattermapbox"
           }
          ],
          "scatterpolar": [
           {
            "marker": {
             "colorbar": {
              "outlinewidth": 0,
              "ticks": ""
             }
            },
            "type": "scatterpolar"
           }
          ],
          "scatterpolargl": [
           {
            "marker": {
             "colorbar": {
              "outlinewidth": 0,
              "ticks": ""
             }
            },
            "type": "scatterpolargl"
           }
          ],
          "scatterternary": [
           {
            "marker": {
             "colorbar": {
              "outlinewidth": 0,
              "ticks": ""
             }
            },
            "type": "scatterternary"
           }
          ],
          "surface": [
           {
            "colorbar": {
             "outlinewidth": 0,
             "ticks": ""
            },
            "colorscale": [
             [
              0,
              "#0d0887"
             ],
             [
              0.1111111111111111,
              "#46039f"
             ],
             [
              0.2222222222222222,
              "#7201a8"
             ],
             [
              0.3333333333333333,
              "#9c179e"
             ],
             [
              0.4444444444444444,
              "#bd3786"
             ],
             [
              0.5555555555555556,
              "#d8576b"
             ],
             [
              0.6666666666666666,
              "#ed7953"
             ],
             [
              0.7777777777777778,
              "#fb9f3a"
             ],
             [
              0.8888888888888888,
              "#fdca26"
             ],
             [
              1,
              "#f0f921"
             ]
            ],
            "type": "surface"
           }
          ],
          "table": [
           {
            "cells": {
             "fill": {
              "color": "#EBF0F8"
             },
             "line": {
              "color": "white"
             }
            },
            "header": {
             "fill": {
              "color": "#C8D4E3"
             },
             "line": {
              "color": "white"
             }
            },
            "type": "table"
           }
          ]
         },
         "layout": {
          "annotationdefaults": {
           "arrowcolor": "#2a3f5f",
           "arrowhead": 0,
           "arrowwidth": 1
          },
          "autotypenumbers": "strict",
          "coloraxis": {
           "colorbar": {
            "outlinewidth": 0,
            "ticks": ""
           }
          },
          "colorscale": {
           "diverging": [
            [
             0,
             "#8e0152"
            ],
            [
             0.1,
             "#c51b7d"
            ],
            [
             0.2,
             "#de77ae"
            ],
            [
             0.3,
             "#f1b6da"
            ],
            [
             0.4,
             "#fde0ef"
            ],
            [
             0.5,
             "#f7f7f7"
            ],
            [
             0.6,
             "#e6f5d0"
            ],
            [
             0.7,
             "#b8e186"
            ],
            [
             0.8,
             "#7fbc41"
            ],
            [
             0.9,
             "#4d9221"
            ],
            [
             1,
             "#276419"
            ]
           ],
           "sequential": [
            [
             0,
             "#0d0887"
            ],
            [
             0.1111111111111111,
             "#46039f"
            ],
            [
             0.2222222222222222,
             "#7201a8"
            ],
            [
             0.3333333333333333,
             "#9c179e"
            ],
            [
             0.4444444444444444,
             "#bd3786"
            ],
            [
             0.5555555555555556,
             "#d8576b"
            ],
            [
             0.6666666666666666,
             "#ed7953"
            ],
            [
             0.7777777777777778,
             "#fb9f3a"
            ],
            [
             0.8888888888888888,
             "#fdca26"
            ],
            [
             1,
             "#f0f921"
            ]
           ],
           "sequentialminus": [
            [
             0,
             "#0d0887"
            ],
            [
             0.1111111111111111,
             "#46039f"
            ],
            [
             0.2222222222222222,
             "#7201a8"
            ],
            [
             0.3333333333333333,
             "#9c179e"
            ],
            [
             0.4444444444444444,
             "#bd3786"
            ],
            [
             0.5555555555555556,
             "#d8576b"
            ],
            [
             0.6666666666666666,
             "#ed7953"
            ],
            [
             0.7777777777777778,
             "#fb9f3a"
            ],
            [
             0.8888888888888888,
             "#fdca26"
            ],
            [
             1,
             "#f0f921"
            ]
           ]
          },
          "colorway": [
           "#636efa",
           "#EF553B",
           "#00cc96",
           "#ab63fa",
           "#FFA15A",
           "#19d3f3",
           "#FF6692",
           "#B6E880",
           "#FF97FF",
           "#FECB52"
          ],
          "font": {
           "color": "#2a3f5f"
          },
          "geo": {
           "bgcolor": "white",
           "lakecolor": "white",
           "landcolor": "#E5ECF6",
           "showlakes": true,
           "showland": true,
           "subunitcolor": "white"
          },
          "hoverlabel": {
           "align": "left"
          },
          "hovermode": "closest",
          "mapbox": {
           "style": "light"
          },
          "paper_bgcolor": "white",
          "plot_bgcolor": "#E5ECF6",
          "polar": {
           "angularaxis": {
            "gridcolor": "white",
            "linecolor": "white",
            "ticks": ""
           },
           "bgcolor": "#E5ECF6",
           "radialaxis": {
            "gridcolor": "white",
            "linecolor": "white",
            "ticks": ""
           }
          },
          "scene": {
           "xaxis": {
            "backgroundcolor": "#E5ECF6",
            "gridcolor": "white",
            "gridwidth": 2,
            "linecolor": "white",
            "showbackground": true,
            "ticks": "",
            "zerolinecolor": "white"
           },
           "yaxis": {
            "backgroundcolor": "#E5ECF6",
            "gridcolor": "white",
            "gridwidth": 2,
            "linecolor": "white",
            "showbackground": true,
            "ticks": "",
            "zerolinecolor": "white"
           },
           "zaxis": {
            "backgroundcolor": "#E5ECF6",
            "gridcolor": "white",
            "gridwidth": 2,
            "linecolor": "white",
            "showbackground": true,
            "ticks": "",
            "zerolinecolor": "white"
           }
          },
          "shapedefaults": {
           "line": {
            "color": "#2a3f5f"
           }
          },
          "ternary": {
           "aaxis": {
            "gridcolor": "white",
            "linecolor": "white",
            "ticks": ""
           },
           "baxis": {
            "gridcolor": "white",
            "linecolor": "white",
            "ticks": ""
           },
           "bgcolor": "#E5ECF6",
           "caxis": {
            "gridcolor": "white",
            "linecolor": "white",
            "ticks": ""
           }
          },
          "title": {
           "x": 0.05
          },
          "xaxis": {
           "automargin": true,
           "gridcolor": "white",
           "linecolor": "white",
           "ticks": "",
           "title": {
            "standoff": 15
           },
           "zerolinecolor": "white",
           "zerolinewidth": 2
          },
          "yaxis": {
           "automargin": true,
           "gridcolor": "white",
           "linecolor": "white",
           "ticks": "",
           "title": {
            "standoff": 15
           },
           "zerolinecolor": "white",
           "zerolinewidth": 2
          }
         }
        },
        "width": 1000,
        "xaxis": {
         "anchor": "y",
         "autorange": true,
         "domain": [
          0,
          1
         ],
         "dtick": 0.5,
         "linecolor": "black",
         "mirror": false,
         "range": [
          0,
          9.263157894736842
         ],
         "showline": true,
         "ticks": "outside",
         "title": {
          "text": "VORP"
         },
         "type": "linear"
        },
        "xaxis2": {
         "anchor": "y2",
         "autorange": true,
         "domain": [
          0,
          1
         ],
         "dtick": 0.5,
         "linecolor": "black",
         "matches": "x",
         "mirror": false,
         "range": [
          0,
          9.263157894736842
         ],
         "showgrid": true,
         "showline": true,
         "showticklabels": false,
         "ticks": "outside",
         "type": "linear"
        },
        "yaxis": {
         "anchor": "x",
         "autorange": true,
         "domain": [
          0,
          0.7326
         ],
         "range": [
          0,
          9.473684210526315
         ],
         "title": {
          "text": "count"
         }
        },
        "yaxis2": {
         "anchor": "x2",
         "autorange": true,
         "domain": [
          0.7426,
          1
         ],
         "matches": "y2",
         "range": [
          -0.5,
          1.5
         ],
         "showgrid": false,
         "showline": false,
         "showticklabels": false,
         "ticks": "",
         "type": "category"
        }
       }
      },
      "image/png": "[encoded data removed]",
      "text/html": [
       "<div>                            <div id=\"1da0cebb-6dcc-4df9-8c4c-48d0d725be56\" class=\"plotly-graph-div\" style=\"height:500px; width:1000px;\"></div>            <script type=\"text/javascript\">                require([\"plotly\"], function(Plotly) {                    window.PLOTLYENV=window.PLOTLYENV || {};                                    if (document.getElementById(\"1da0cebb-6dcc-4df9-8c4c-48d0d725be56\")) {                    Plotly.newPlot(                        \"1da0cebb-6dcc-4df9-8c4c-48d0d725be56\",                        [{\"alignmentgroup\":\"True\",\"bingroup\":\"x\",\"hovertemplate\":\"Standing=Top\\u003cbr\\u003eVORP=%{x}\\u003cbr\\u003ecount=%{y}\\u003cextra\\u003e\\u003c\\u002fextra\\u003e\",\"legendgroup\":\"Top\",\"marker\":{\"color\":\"#636efa\",\"pattern\":{\"shape\":\"\"}},\"name\":\"Top\",\"offsetgroup\":\"Top\",\"orientation\":\"v\",\"showlegend\":true,\"x\":[2.3,2.4,1.5,2.9,4.0,6.4,1.4,2.5,2.2,8.8,2.0,2.5,2.2,5.4,0.6],\"xaxis\":\"x\",\"yaxis\":\"y\",\"type\":\"histogram\",\"opacity\":0.3},{\"alignmentgroup\":\"True\",\"hovertemplate\":\"Standing=Top\\u003cbr\\u003eVORP=%{x}\\u003cextra\\u003e\\u003c\\u002fextra\\u003e\",\"legendgroup\":\"Top\",\"marker\":{\"color\":\"#636efa\"},\"name\":\"Top\",\"notched\":true,\"offsetgroup\":\"Top\",\"showlegend\":false,\"x\":[2.3,2.4,1.5,2.9,4.0,6.4,1.4,2.5,2.2,8.8,2.0,2.5,2.2,5.4,0.6],\"xaxis\":\"x2\",\"yaxis\":\"y2\",\"type\":\"box\",\"opacity\":0.3},{\"alignmentgroup\":\"True\",\"bingroup\":\"x\",\"hovertemplate\":\"Standing=Bottom\\u003cbr\\u003eVORP=%{x}\\u003cbr\\u003ecount=%{y}\\u003cextra\\u003e\\u003c\\u002fextra\\u003e\",\"legendgroup\":\"Bottom\",\"marker\":{\"color\":\"#EF553B\",\"pattern\":{\"shape\":\"\"}},\"name\":\"Bottom\",\"offsetgroup\":\"Bottom\",\"orientation\":\"v\",\"showlegend\":true,\"x\":[1.8,1.3,0.5,0.8,1.2,2.1,1.3,1.2,1.9,3.4,1.9,1.9,0.8,3.2,1.6],\"xaxis\":\"x\",\"yaxis\":\"y\",\"type\":\"histogram\",\"opacity\":0.3},{\"alignmentgroup\":\"True\",\"hovertemplate\":\"Standing=Bottom\\u003cbr\\u003eVORP=%{x}\\u003cextra\\u003e\\u003c\\u002fextra\\u003e\",\"legendgroup\":\"Bottom\",\"marker\":{\"color\":\"#EF553B\"},\"name\":\"Bottom\",\"notched\":true,\"offsetgroup\":\"Bottom\",\"showlegend\":false,\"x\":[1.8,1.3,0.5,0.8,1.2,2.1,1.3,1.2,1.9,3.4,1.9,1.9,0.8,3.2,1.6],\"xaxis\":\"x2\",\"yaxis\":\"y2\",\"type\":\"box\",\"opacity\":0.3}],                        {\"template\":{\"data\":{\"histogram2dcontour\":[{\"type\":\"histogram2dcontour\",\"colorbar\":{\"outlinewidth\":0,\"ticks\":\"\"},\"colorscale\":[[0.0,\"#0d0887\"],[0.1111111111111111,\"#46039f\"],[0.2222222222222222,\"#7201a8\"],[0.3333333333333333,\"#9c179e\"],[0.4444444444444444,\"#bd3786\"],[0.5555555555555556,\"#d8576b\"],[0.6666666666666666,\"#ed7953\"],[0.7777777777777778,\"#fb9f3a\"],[0.8888888888888888,\"#fdca26\"],[1.0,\"#f0f921\"]]}],\"choropleth\":[{\"type\":\"choropleth\",\"colorbar\":{\"outlinewidth\":0,\"ticks\":\"\"}}],\"histogram2d\":[{\"type\":\"histogram2d\",\"colorbar\":{\"outlinewidth\":0,\"ticks\":\"\"},\"colorscale\":[[0.0,\"#0d0887\"],[0.1111111111111111,\"#46039f\"],[0.2222222222222222,\"#7201a8\"],[0.3333333333333333,\"#9c179e\"],[0.4444444444444444,\"#bd3786\"],[0.5555555555555556,\"#d8576b\"],[0.6666666666666666,\"#ed7953\"],[0.7777777777777778,\"#fb9f3a\"],[0.8888888888888888,\"#fdca26\"],[1.0,\"#f0f921\"]]}],\"heatmap\":[{\"type\":\"heatmap\",\"colorbar\":{\"outlinewidth\":0,\"ticks\":\"\"},\"colorscale\":[[0.0,\"#0d0887\"],[0.1111111111111111,\"#46039f\"],[0.2222222222222222,\"#7201a8\"],[0.3333333333333333,\"#9c179e\"],[0.4444444444444444,\"#bd3786\"],[0.5555555555555556,\"#d8576b\"],[0.6666666666666666,\"#ed7953\"],[0.7777777777777778,\"#fb9f3a\"],[0.8888888888888888,\"#fdca26\"],[1.0,\"#f0f921\"]]}],\"heatmapgl\":[{\"type\":\"heatmapgl\",\"colorbar\":{\"outlinewidth\":0,\"ticks\":\"\"},\"colorscale\":[[0.0,\"#0d0887\"],[0.1111111111111111,\"#46039f\"],[0.2222222222222222,\"#7201a8\"],[0.3333333333333333,\"#9c179e\"],[0.4444444444444444,\"#bd3786\"],[0.5555555555555556,\"#d8576b\"],[0.6666666666666666,\"#ed7953\"],[0.7777777777777778,\"#fb9f3a\"],[0.8888888888888888,\"#fdca26\"],[1.0,\"#f0f921\"]]}],\"contourcarpet\":[{\"type\":\"contourcarpet\",\"colorbar\":{\"outlinewidth\":0,\"ticks\":\"\"}}],\"contour\":[{\"type\":\"contour\",\"colorbar\":{\"outlinewidth\":0,\"ticks\":\"\"},\"colorscale\":[[0.0,\"#0d0887\"],[0.1111111111111111,\"#46039f\"],[0.2222222222222222,\"#7201a8\"],[0.3333333333333333,\"#9c179e\"],[0.4444444444444444,\"#bd3786\"],[0.5555555555555556,\"#d8576b\"],[0.6666666666666666,\"#ed7953\"],[0.7777777777777778,\"#fb9f3a\"],[0.8888888888888888,\"#fdca26\"],[1.0,\"#f0f921\"]]}],\"surface\":[{\"type\":\"surface\",\"colorbar\":{\"outlinewidth\":0,\"ticks\":\"\"},\"colorscale\":[[0.0,\"#0d0887\"],[0.1111111111111111,\"#46039f\"],[0.2222222222222222,\"#7201a8\"],[0.3333333333333333,\"#9c179e\"],[0.4444444444444444,\"#bd3786\"],[0.5555555555555556,\"#d8576b\"],[0.6666666666666666,\"#ed7953\"],[0.7777777777777778,\"#fb9f3a\"],[0.8888888888888888,\"#fdca26\"],[1.0,\"#f0f921\"]]}],\"mesh3d\":[{\"type\":\"mesh3d\",\"colorbar\":{\"outlinewidth\":0,\"ticks\":\"\"}}],\"scatter\":[{\"fillpattern\":{\"fillmode\":\"overlay\",\"size\":10,\"solidity\":0.2},\"type\":\"scatter\"}],\"parcoords\":[{\"type\":\"parcoords\",\"line\":{\"colorbar\":{\"outlinewidth\":0,\"ticks\":\"\"}}}],\"scatterpolargl\":[{\"type\":\"scatterpolargl\",\"marker\":{\"colorbar\":{\"outlinewidth\":0,\"ticks\":\"\"}}}],\"bar\":[{\"error_x\":{\"color\":\"#2a3f5f\"},\"error_y\":{\"color\":\"#2a3f5f\"},\"marker\":{\"line\":{\"color\":\"#E5ECF6\",\"width\":0.5},\"pattern\":{\"fillmode\":\"overlay\",\"size\":10,\"solidity\":0.2}},\"type\":\"bar\"}],\"scattergeo\":[{\"type\":\"scattergeo\",\"marker\":{\"colorbar\":{\"outlinewidth\":0,\"ticks\":\"\"}}}],\"scatterpolar\":[{\"type\":\"scatterpolar\",\"marker\":{\"colorbar\":{\"outlinewidth\":0,\"ticks\":\"\"}}}],\"histogram\":[{\"marker\":{\"pattern\":{\"fillmode\":\"overlay\",\"size\":10,\"solidity\":0.2}},\"type\":\"histogram\"}],\"scattergl\":[{\"type\":\"scattergl\",\"marker\":{\"colorbar\":{\"outlinewidth\":0,\"ticks\":\"\"}}}],\"scatter3d\":[{\"type\":\"scatter3d\",\"line\":{\"colorbar\":{\"outlinewidth\":0,\"ticks\":\"\"}},\"marker\":{\"colorbar\":{\"outlinewidth\":0,\"ticks\":\"\"}}}],\"scattermapbox\":[{\"type\":\"scattermapbox\",\"marker\":{\"colorbar\":{\"outlinewidth\":0,\"ticks\":\"\"}}}],\"scatterternary\":[{\"type\":\"scatterternary\",\"marker\":{\"colorbar\":{\"outlinewidth\":0,\"ticks\":\"\"}}}],\"scattercarpet\":[{\"type\":\"scattercarpet\",\"marker\":{\"colorbar\":{\"outlinewidth\":0,\"ticks\":\"\"}}}],\"carpet\":[{\"aaxis\":{\"endlinecolor\":\"#2a3f5f\",\"gridcolor\":\"white\",\"linecolor\":\"white\",\"minorgridcolor\":\"white\",\"startlinecolor\":\"#2a3f5f\"},\"baxis\":{\"endlinecolor\":\"#2a3f5f\",\"gridcolor\":\"white\",\"linecolor\":\"white\",\"minorgridcolor\":\"white\",\"startlinecolor\":\"#2a3f5f\"},\"type\":\"carpet\"}],\"table\":[{\"cells\":{\"fill\":{\"color\":\"#EBF0F8\"},\"line\":{\"color\":\"white\"}},\"header\":{\"fill\":{\"color\":\"#C8D4E3\"},\"line\":{\"color\":\"white\"}},\"type\":\"table\"}],\"barpolar\":[{\"marker\":{\"line\":{\"color\":\"#E5ECF6\",\"width\":0.5},\"pattern\":{\"fillmode\":\"overlay\",\"size\":10,\"solidity\":0.2}},\"type\":\"barpolar\"}],\"pie\":[{\"automargin\":true,\"type\":\"pie\"}]},\"layout\":{\"autotypenumbers\":\"strict\",\"colorway\":[\"#636efa\",\"#EF553B\",\"#00cc96\",\"#ab63fa\",\"#FFA15A\",\"#19d3f3\",\"#FF6692\",\"#B6E880\",\"#FF97FF\",\"#FECB52\"],\"font\":{\"color\":\"#2a3f5f\"},\"hovermode\":\"closest\",\"hoverlabel\":{\"align\":\"left\"},\"paper_bgcolor\":\"white\",\"plot_bgcolor\":\"#E5ECF6\",\"polar\":{\"bgcolor\":\"#E5ECF6\",\"angularaxis\":{\"gridcolor\":\"white\",\"linecolor\":\"white\",\"ticks\":\"\"},\"radialaxis\":{\"gridcolor\":\"white\",\"linecolor\":\"white\",\"ticks\":\"\"}},\"ternary\":{\"bgcolor\":\"#E5ECF6\",\"aaxis\":{\"gridcolor\":\"white\",\"linecolor\":\"white\",\"ticks\":\"\"},\"baxis\":{\"gridcolor\":\"white\",\"linecolor\":\"white\",\"ticks\":\"\"},\"caxis\":{\"gridcolor\":\"white\",\"linecolor\":\"white\",\"ticks\":\"\"}},\"coloraxis\":{\"colorbar\":{\"outlinewidth\":0,\"ticks\":\"\"}},\"colorscale\":{\"sequential\":[[0.0,\"#0d0887\"],[0.1111111111111111,\"#46039f\"],[0.2222222222222222,\"#7201a8\"],[0.3333333333333333,\"#9c179e\"],[0.4444444444444444,\"#bd3786\"],[0.5555555555555556,\"#d8576b\"],[0.6666666666666666,\"#ed7953\"],[0.7777777777777778,\"#fb9f3a\"],[0.8888888888888888,\"#fdca26\"],[1.0,\"#f0f921\"]],\"sequentialminus\":[[0.0,\"#0d0887\"],[0.1111111111111111,\"#46039f\"],[0.2222222222222222,\"#7201a8\"],[0.3333333333333333,\"#9c179e\"],[0.4444444444444444,\"#bd3786\"],[0.5555555555555556,\"#d8576b\"],[0.6666666666666666,\"#ed7953\"],[0.7777777777777778,\"#fb9f3a\"],[0.8888888888888888,\"#fdca26\"],[1.0,\"#f0f921\"]],\"diverging\":[[0,\"#8e0152\"],[0.1,\"#c51b7d\"],[0.2,\"#de77ae\"],[0.3,\"#f1b6da\"],[0.4,\"#fde0ef\"],[0.5,\"#f7f7f7\"],[0.6,\"#e6f5d0\"],[0.7,\"#b8e186\"],[0.8,\"#7fbc41\"],[0.9,\"#4d9221\"],[1,\"#276419\"]]},\"xaxis\":{\"gridcolor\":\"white\",\"linecolor\":\"white\",\"ticks\":\"\",\"title\":{\"standoff\":15},\"zerolinecolor\":\"white\",\"automargin\":true,\"zerolinewidth\":2},\"yaxis\":{\"gridcolor\":\"white\",\"linecolor\":\"white\",\"ticks\":\"\",\"title\":{\"standoff\":15},\"zerolinecolor\":\"white\",\"automargin\":true,\"zerolinewidth\":2},\"scene\":{\"xaxis\":{\"backgroundcolor\":\"#E5ECF6\",\"gridcolor\":\"white\",\"linecolor\":\"white\",\"showbackground\":true,\"ticks\":\"\",\"zerolinecolor\":\"white\",\"gridwidth\":2},\"yaxis\":{\"backgroundcolor\":\"#E5ECF6\",\"gridcolor\":\"white\",\"linecolor\":\"white\",\"showbackground\":true,\"ticks\":\"\",\"zerolinecolor\":\"white\",\"gridwidth\":2},\"zaxis\":{\"backgroundcolor\":\"#E5ECF6\",\"gridcolor\":\"white\",\"linecolor\":\"white\",\"showbackground\":true,\"ticks\":\"\",\"zerolinecolor\":\"white\",\"gridwidth\":2}},\"shapedefaults\":{\"line\":{\"color\":\"#2a3f5f\"}},\"annotationdefaults\":{\"arrowcolor\":\"#2a3f5f\",\"arrowhead\":0,\"arrowwidth\":1},\"geo\":{\"bgcolor\":\"white\",\"landcolor\":\"#E5ECF6\",\"subunitcolor\":\"white\",\"showland\":true,\"showlakes\":true,\"lakecolor\":\"white\"},\"title\":{\"x\":0.05},\"mapbox\":{\"style\":\"light\"}}},\"xaxis\":{\"anchor\":\"y\",\"domain\":[0.0,1.0],\"title\":{\"text\":\"VORP\"},\"dtick\":0.5,\"ticks\":\"outside\",\"showline\":true,\"linecolor\":\"black\",\"mirror\":false},\"yaxis\":{\"anchor\":\"x\",\"domain\":[0.0,0.7326],\"title\":{\"text\":\"count\"}},\"xaxis2\":{\"anchor\":\"y2\",\"domain\":[0.0,1.0],\"matches\":\"x\",\"showticklabels\":false,\"showgrid\":true,\"dtick\":0.5,\"ticks\":\"outside\",\"showline\":true,\"linecolor\":\"black\",\"mirror\":false},\"yaxis2\":{\"anchor\":\"x2\",\"domain\":[0.7426,1.0],\"matches\":\"y2\",\"showticklabels\":false,\"showline\":false,\"ticks\":\"\",\"showgrid\":false},\"legend\":{\"title\":{\"text\":\"Standing\"},\"tracegroupgap\":0},\"margin\":{\"t\":60},\"barmode\":\"overlay\",\"height\":500,\"width\":1000,\"plot_bgcolor\":\"rgba(0, 0, 0, 0)\"},                        {\"responsive\": true}                    ).then(function(){\n",
       "                            \n",
       "var gd = document.getElementById('1da0cebb-6dcc-4df9-8c4c-48d0d725be56');\n",
       "var x = new MutationObserver(function (mutations, observer) {{\n",
       "        var display = window.getComputedStyle(gd).display;\n",
       "        if (!display || display === 'none') {{\n",
       "            console.log([gd, 'removed!']);\n",
       "            Plotly.purge(gd);\n",
       "            observer.disconnect();\n",
       "        }}\n",
       "}});\n",
       "\n",
       "// Listen for the removal of the full notebook cells\n",
       "var notebookContainer = gd.closest('#notebook-container');\n",
       "if (notebookContainer) {{\n",
       "    x.observe(notebookContainer, {childList: true});\n",
       "}}\n",
       "\n",
       "// Listen for the clearing of the current output cell\n",
       "var outputEl = gd.closest('.output');\n",
       "if (outputEl) {{\n",
       "    x.observe(outputEl, {childList: true});\n",
       "}}\n",
       "\n",
       "                        })                };                });            </script>        </div>"
      ]
     },
     "metadata": {},
     "output_type": "display_data"
    }
   ],
   "source": [
    "fig = px.histogram(ad_center2, x='VORP', color='Standing',\n",
    "                   marginal=\"box\", height=500, width=1000) # or violin, rug\n",
    "fig.update_traces(opacity=0.3)\n",
    "fig.update_layout(barmode='overlay',plot_bgcolor='rgba(0, 0, 0, 0)')\n",
    "fig.update_xaxes(dtick=0.5,ticks='outside',showline=True,linecolor='black',mirror=False)\n",
    "fig.show()"
   ]
  },
  {
   "cell_type": "code",
   "execution_count": 93,
   "id": "cde94e59-6ddc-4d59-82dc-9a23adb81a39",
   "metadata": {
    "tags": []
   },
   "outputs": [
    {
     "data": {
      "application/vnd.plotly.v1+json": {
       "config": {
        "plotlyServerURL": "https://plot.ly"
       },
       "data": [
        {
         "alignmentgroup": "True",
         "bingroup": "x",
         "hovertemplate": "Standing=Top<br>DBPM=%{x}<br>count=%{y}<extra></extra>",
         "legendgroup": "Top",
         "marker": {
          "color": "#636efa",
          "pattern": {
           "shape": ""
          }
         },
         "name": "Top",
         "offsetgroup": "Top",
         "opacity": 0.3,
         "orientation": "v",
         "showlegend": true,
         "type": "histogram",
         "x": [
          0.8,
          1,
          0,
          2.2,
          1.7,
          2.3,
          0.7,
          1.7,
          2,
          4.5,
          1.3,
          1.3,
          1,
          1.8,
          0.2
         ],
         "xaxis": "x",
         "yaxis": "y"
        },
        {
         "alignmentgroup": "True",
         "hovertemplate": "Standing=Top<br>DBPM=%{x}<extra></extra>",
         "legendgroup": "Top",
         "marker": {
          "color": "#636efa"
         },
         "name": "Top",
         "notched": true,
         "offsetgroup": "Top",
         "opacity": 0.3,
         "showlegend": false,
         "type": "box",
         "x": [
          0.8,
          1,
          0,
          2.2,
          1.7,
          2.3,
          0.7,
          1.7,
          2,
          4.5,
          1.3,
          1.3,
          1,
          1.8,
          0.2
         ],
         "xaxis": "x2",
         "yaxis": "y2"
        },
        {
         "alignmentgroup": "True",
         "bingroup": "x",
         "hovertemplate": "Standing=Bottom<br>DBPM=%{x}<br>count=%{y}<extra></extra>",
         "legendgroup": "Bottom",
         "marker": {
          "color": "#EF553B",
          "pattern": {
           "shape": ""
          }
         },
         "name": "Bottom",
         "offsetgroup": "Bottom",
         "opacity": 0.3,
         "orientation": "v",
         "showlegend": true,
         "type": "histogram",
         "x": [
          -0.1,
          0.1,
          -0.4,
          0.9,
          0.6,
          1.5,
          0.8,
          0.9,
          0.8,
          0.5,
          0.4,
          0.7,
          -0.4,
          0.7,
          -0.3
         ],
         "xaxis": "x",
         "yaxis": "y"
        },
        {
         "alignmentgroup": "True",
         "hovertemplate": "Standing=Bottom<br>DBPM=%{x}<extra></extra>",
         "legendgroup": "Bottom",
         "marker": {
          "color": "#EF553B"
         },
         "name": "Bottom",
         "notched": true,
         "offsetgroup": "Bottom",
         "opacity": 0.3,
         "showlegend": false,
         "type": "box",
         "x": [
          -0.1,
          0.1,
          -0.4,
          0.9,
          0.6,
          1.5,
          0.8,
          0.9,
          0.8,
          0.5,
          0.4,
          0.7,
          -0.4,
          0.7,
          -0.3
         ],
         "xaxis": "x2",
         "yaxis": "y2"
        }
       ],
       "layout": {
        "barmode": "overlay",
        "height": 500,
        "legend": {
         "title": {
          "text": "Standing"
         },
         "tracegroupgap": 0
        },
        "margin": {
         "t": 60
        },
        "plot_bgcolor": "rgba(0, 0, 0, 0)",
        "template": {
         "data": {
          "bar": [
           {
            "error_x": {
             "color": "#2a3f5f"
            },
            "error_y": {
             "color": "#2a3f5f"
            },
            "marker": {
             "line": {
              "color": "#E5ECF6",
              "width": 0.5
             },
             "pattern": {
              "fillmode": "overlay",
              "size": 10,
              "solidity": 0.2
             }
            },
            "type": "bar"
           }
          ],
          "barpolar": [
           {
            "marker": {
             "line": {
              "color": "#E5ECF6",
              "width": 0.5
             },
             "pattern": {
              "fillmode": "overlay",
              "size": 10,
              "solidity": 0.2
             }
            },
            "type": "barpolar"
           }
          ],
          "carpet": [
           {
            "aaxis": {
             "endlinecolor": "#2a3f5f",
             "gridcolor": "white",
             "linecolor": "white",
             "minorgridcolor": "white",
             "startlinecolor": "#2a3f5f"
            },
            "baxis": {
             "endlinecolor": "#2a3f5f",
             "gridcolor": "white",
             "linecolor": "white",
             "minorgridcolor": "white",
             "startlinecolor": "#2a3f5f"
            },
            "type": "carpet"
           }
          ],
          "choropleth": [
           {
            "colorbar": {
             "outlinewidth": 0,
             "ticks": ""
            },
            "type": "choropleth"
           }
          ],
          "contour": [
           {
            "colorbar": {
             "outlinewidth": 0,
             "ticks": ""
            },
            "colorscale": [
             [
              0,
              "#0d0887"
             ],
             [
              0.1111111111111111,
              "#46039f"
             ],
             [
              0.2222222222222222,
              "#7201a8"
             ],
             [
              0.3333333333333333,
              "#9c179e"
             ],
             [
              0.4444444444444444,
              "#bd3786"
             ],
             [
              0.5555555555555556,
              "#d8576b"
             ],
             [
              0.6666666666666666,
              "#ed7953"
             ],
             [
              0.7777777777777778,
              "#fb9f3a"
             ],
             [
              0.8888888888888888,
              "#fdca26"
             ],
             [
              1,
              "#f0f921"
             ]
            ],
            "type": "contour"
           }
          ],
          "contourcarpet": [
           {
            "colorbar": {
             "outlinewidth": 0,
             "ticks": ""
            },
            "type": "contourcarpet"
           }
          ],
          "heatmap": [
           {
            "colorbar": {
             "outlinewidth": 0,
             "ticks": ""
            },
            "colorscale": [
             [
              0,
              "#0d0887"
             ],
             [
              0.1111111111111111,
              "#46039f"
             ],
             [
              0.2222222222222222,
              "#7201a8"
             ],
             [
              0.3333333333333333,
              "#9c179e"
             ],
             [
              0.4444444444444444,
              "#bd3786"
             ],
             [
              0.5555555555555556,
              "#d8576b"
             ],
             [
              0.6666666666666666,
              "#ed7953"
             ],
             [
              0.7777777777777778,
              "#fb9f3a"
             ],
             [
              0.8888888888888888,
              "#fdca26"
             ],
             [
              1,
              "#f0f921"
             ]
            ],
            "type": "heatmap"
           }
          ],
          "heatmapgl": [
           {
            "colorbar": {
             "outlinewidth": 0,
             "ticks": ""
            },
            "colorscale": [
             [
              0,
              "#0d0887"
             ],
             [
              0.1111111111111111,
              "#46039f"
             ],
             [
              0.2222222222222222,
              "#7201a8"
             ],
             [
              0.3333333333333333,
              "#9c179e"
             ],
             [
              0.4444444444444444,
              "#bd3786"
             ],
             [
              0.5555555555555556,
              "#d8576b"
             ],
             [
              0.6666666666666666,
              "#ed7953"
             ],
             [
              0.7777777777777778,
              "#fb9f3a"
             ],
             [
              0.8888888888888888,
              "#fdca26"
             ],
             [
              1,
              "#f0f921"
             ]
            ],
            "type": "heatmapgl"
           }
          ],
          "histogram": [
           {
            "marker": {
             "pattern": {
              "fillmode": "overlay",
              "size": 10,
              "solidity": 0.2
             }
            },
            "type": "histogram"
           }
          ],
          "histogram2d": [
           {
            "colorbar": {
             "outlinewidth": 0,
             "ticks": ""
            },
            "colorscale": [
             [
              0,
              "#0d0887"
             ],
             [
              0.1111111111111111,
              "#46039f"
             ],
             [
              0.2222222222222222,
              "#7201a8"
             ],
             [
              0.3333333333333333,
              "#9c179e"
             ],
             [
              0.4444444444444444,
              "#bd3786"
             ],
             [
              0.5555555555555556,
              "#d8576b"
             ],
             [
              0.6666666666666666,
              "#ed7953"
             ],
             [
              0.7777777777777778,
              "#fb9f3a"
             ],
             [
              0.8888888888888888,
              "#fdca26"
             ],
             [
              1,
              "#f0f921"
             ]
            ],
            "type": "histogram2d"
           }
          ],
          "histogram2dcontour": [
           {
            "colorbar": {
             "outlinewidth": 0,
             "ticks": ""
            },
            "colorscale": [
             [
              0,
              "#0d0887"
             ],
             [
              0.1111111111111111,
              "#46039f"
             ],
             [
              0.2222222222222222,
              "#7201a8"
             ],
             [
              0.3333333333333333,
              "#9c179e"
             ],
             [
              0.4444444444444444,
              "#bd3786"
             ],
             [
              0.5555555555555556,
              "#d8576b"
             ],
             [
              0.6666666666666666,
              "#ed7953"
             ],
             [
              0.7777777777777778,
              "#fb9f3a"
             ],
             [
              0.8888888888888888,
              "#fdca26"
             ],
             [
              1,
              "#f0f921"
             ]
            ],
            "type": "histogram2dcontour"
           }
          ],
          "mesh3d": [
           {
            "colorbar": {
             "outlinewidth": 0,
             "ticks": ""
            },
            "type": "mesh3d"
           }
          ],
          "parcoords": [
           {
            "line": {
             "colorbar": {
              "outlinewidth": 0,
              "ticks": ""
             }
            },
            "type": "parcoords"
           }
          ],
          "pie": [
           {
            "automargin": true,
            "type": "pie"
           }
          ],
          "scatter": [
           {
            "fillpattern": {
             "fillmode": "overlay",
             "size": 10,
             "solidity": 0.2
            },
            "type": "scatter"
           }
          ],
          "scatter3d": [
           {
            "line": {
             "colorbar": {
              "outlinewidth": 0,
              "ticks": ""
             }
            },
            "marker": {
             "colorbar": {
              "outlinewidth": 0,
              "ticks": ""
             }
            },
            "type": "scatter3d"
           }
          ],
          "scattercarpet": [
           {
            "marker": {
             "colorbar": {
              "outlinewidth": 0,
              "ticks": ""
             }
            },
            "type": "scattercarpet"
           }
          ],
          "scattergeo": [
           {
            "marker": {
             "colorbar": {
              "outlinewidth": 0,
              "ticks": ""
             }
            },
            "type": "scattergeo"
           }
          ],
          "scattergl": [
           {
            "marker": {
             "colorbar": {
              "outlinewidth": 0,
              "ticks": ""
             }
            },
            "type": "scattergl"
           }
          ],
          "scattermapbox": [
           {
            "marker": {
             "colorbar": {
              "outlinewidth": 0,
              "ticks": ""
             }
            },
            "type": "scattermapbox"
           }
          ],
          "scatterpolar": [
           {
            "marker": {
             "colorbar": {
              "outlinewidth": 0,
              "ticks": ""
             }
            },
            "type": "scatterpolar"
           }
          ],
          "scatterpolargl": [
           {
            "marker": {
             "colorbar": {
              "outlinewidth": 0,
              "ticks": ""
             }
            },
            "type": "scatterpolargl"
           }
          ],
          "scatterternary": [
           {
            "marker": {
             "colorbar": {
              "outlinewidth": 0,
              "ticks": ""
             }
            },
            "type": "scatterternary"
           }
          ],
          "surface": [
           {
            "colorbar": {
             "outlinewidth": 0,
             "ticks": ""
            },
            "colorscale": [
             [
              0,
              "#0d0887"
             ],
             [
              0.1111111111111111,
              "#46039f"
             ],
             [
              0.2222222222222222,
              "#7201a8"
             ],
             [
              0.3333333333333333,
              "#9c179e"
             ],
             [
              0.4444444444444444,
              "#bd3786"
             ],
             [
              0.5555555555555556,
              "#d8576b"
             ],
             [
              0.6666666666666666,
              "#ed7953"
             ],
             [
              0.7777777777777778,
              "#fb9f3a"
             ],
             [
              0.8888888888888888,
              "#fdca26"
             ],
             [
              1,
              "#f0f921"
             ]
            ],
            "type": "surface"
           }
          ],
          "table": [
           {
            "cells": {
             "fill": {
              "color": "#EBF0F8"
             },
             "line": {
              "color": "white"
             }
            },
            "header": {
             "fill": {
              "color": "#C8D4E3"
             },
             "line": {
              "color": "white"
             }
            },
            "type": "table"
           }
          ]
         },
         "layout": {
          "annotationdefaults": {
           "arrowcolor": "#2a3f5f",
           "arrowhead": 0,
           "arrowwidth": 1
          },
          "autotypenumbers": "strict",
          "coloraxis": {
           "colorbar": {
            "outlinewidth": 0,
            "ticks": ""
           }
          },
          "colorscale": {
           "diverging": [
            [
             0,
             "#8e0152"
            ],
            [
             0.1,
             "#c51b7d"
            ],
            [
             0.2,
             "#de77ae"
            ],
            [
             0.3,
             "#f1b6da"
            ],
            [
             0.4,
             "#fde0ef"
            ],
            [
             0.5,
             "#f7f7f7"
            ],
            [
             0.6,
             "#e6f5d0"
            ],
            [
             0.7,
             "#b8e186"
            ],
            [
             0.8,
             "#7fbc41"
            ],
            [
             0.9,
             "#4d9221"
            ],
            [
             1,
             "#276419"
            ]
           ],
           "sequential": [
            [
             0,
             "#0d0887"
            ],
            [
             0.1111111111111111,
             "#46039f"
            ],
            [
             0.2222222222222222,
             "#7201a8"
            ],
            [
             0.3333333333333333,
             "#9c179e"
            ],
            [
             0.4444444444444444,
             "#bd3786"
            ],
            [
             0.5555555555555556,
             "#d8576b"
            ],
            [
             0.6666666666666666,
             "#ed7953"
            ],
            [
             0.7777777777777778,
             "#fb9f3a"
            ],
            [
             0.8888888888888888,
             "#fdca26"
            ],
            [
             1,
             "#f0f921"
            ]
           ],
           "sequentialminus": [
            [
             0,
             "#0d0887"
            ],
            [
             0.1111111111111111,
             "#46039f"
            ],
            [
             0.2222222222222222,
             "#7201a8"
            ],
            [
             0.3333333333333333,
             "#9c179e"
            ],
            [
             0.4444444444444444,
             "#bd3786"
            ],
            [
             0.5555555555555556,
             "#d8576b"
            ],
            [
             0.6666666666666666,
             "#ed7953"
            ],
            [
             0.7777777777777778,
             "#fb9f3a"
            ],
            [
             0.8888888888888888,
             "#fdca26"
            ],
            [
             1,
             "#f0f921"
            ]
           ]
          },
          "colorway": [
           "#636efa",
           "#EF553B",
           "#00cc96",
           "#ab63fa",
           "#FFA15A",
           "#19d3f3",
           "#FF6692",
           "#B6E880",
           "#FF97FF",
           "#FECB52"
          ],
          "font": {
           "color": "#2a3f5f"
          },
          "geo": {
           "bgcolor": "white",
           "lakecolor": "white",
           "landcolor": "#E5ECF6",
           "showlakes": true,
           "showland": true,
           "subunitcolor": "white"
          },
          "hoverlabel": {
           "align": "left"
          },
          "hovermode": "closest",
          "mapbox": {
           "style": "light"
          },
          "paper_bgcolor": "white",
          "plot_bgcolor": "#E5ECF6",
          "polar": {
           "angularaxis": {
            "gridcolor": "white",
            "linecolor": "white",
            "ticks": ""
           },
           "bgcolor": "#E5ECF6",
           "radialaxis": {
            "gridcolor": "white",
            "linecolor": "white",
            "ticks": ""
           }
          },
          "scene": {
           "xaxis": {
            "backgroundcolor": "#E5ECF6",
            "gridcolor": "white",
            "gridwidth": 2,
            "linecolor": "white",
            "showbackground": true,
            "ticks": "",
            "zerolinecolor": "white"
           },
           "yaxis": {
            "backgroundcolor": "#E5ECF6",
            "gridcolor": "white",
            "gridwidth": 2,
            "linecolor": "white",
            "showbackground": true,
            "ticks": "",
            "zerolinecolor": "white"
           },
           "zaxis": {
            "backgroundcolor": "#E5ECF6",
            "gridcolor": "white",
            "gridwidth": 2,
            "linecolor": "white",
            "showbackground": true,
            "ticks": "",
            "zerolinecolor": "white"
           }
          },
          "shapedefaults": {
           "line": {
            "color": "#2a3f5f"
           }
          },
          "ternary": {
           "aaxis": {
            "gridcolor": "white",
            "linecolor": "white",
            "ticks": ""
           },
           "baxis": {
            "gridcolor": "white",
            "linecolor": "white",
            "ticks": ""
           },
           "bgcolor": "#E5ECF6",
           "caxis": {
            "gridcolor": "white",
            "linecolor": "white",
            "ticks": ""
           }
          },
          "title": {
           "x": 0.05
          },
          "xaxis": {
           "automargin": true,
           "gridcolor": "white",
           "linecolor": "white",
           "ticks": "",
           "title": {
            "standoff": 15
           },
           "zerolinecolor": "white",
           "zerolinewidth": 2
          },
          "yaxis": {
           "automargin": true,
           "gridcolor": "white",
           "linecolor": "white",
           "ticks": "",
           "title": {
            "standoff": 15
           },
           "zerolinecolor": "white",
           "zerolinewidth": 2
          }
         }
        },
        "width": 1000,
        "xaxis": {
         "anchor": "y",
         "autorange": true,
         "domain": [
          0,
          1
         ],
         "dtick": 0.5,
         "linecolor": "black",
         "mirror": false,
         "range": [
          -1,
          5
         ],
         "showline": true,
         "ticks": "outside",
         "title": {
          "text": "DBPM"
         },
         "type": "linear"
        },
        "xaxis2": {
         "anchor": "y2",
         "autorange": true,
         "domain": [
          0,
          1
         ],
         "dtick": 0.5,
         "linecolor": "black",
         "matches": "x",
         "mirror": false,
         "range": [
          -1,
          5
         ],
         "showgrid": true,
         "showline": true,
         "showticklabels": false,
         "ticks": "outside",
         "type": "linear"
        },
        "yaxis": {
         "anchor": "x",
         "autorange": true,
         "domain": [
          0,
          0.7326
         ],
         "range": [
          0,
          10.526315789473685
         ],
         "title": {
          "text": "count"
         }
        },
        "yaxis2": {
         "anchor": "x2",
         "autorange": true,
         "domain": [
          0.7426,
          1
         ],
         "matches": "y2",
         "range": [
          -0.5,
          1.5
         ],
         "showgrid": false,
         "showline": false,
         "showticklabels": false,
         "ticks": "",
         "type": "category"
        }
       }
      },
      "image/png": "[encoded data removed]",
      "text/html": [
       "<div>                            <div id=\"79e49b09-de03-44dd-b1f9-be7920e6ee61\" class=\"plotly-graph-div\" style=\"height:500px; width:1000px;\"></div>            <script type=\"text/javascript\">                require([\"plotly\"], function(Plotly) {                    window.PLOTLYENV=window.PLOTLYENV || {};                                    if (document.getElementById(\"79e49b09-de03-44dd-b1f9-be7920e6ee61\")) {                    Plotly.newPlot(                        \"79e49b09-de03-44dd-b1f9-be7920e6ee61\",                        [{\"alignmentgroup\":\"True\",\"bingroup\":\"x\",\"hovertemplate\":\"Standing=Top\\u003cbr\\u003eDBPM=%{x}\\u003cbr\\u003ecount=%{y}\\u003cextra\\u003e\\u003c\\u002fextra\\u003e\",\"legendgroup\":\"Top\",\"marker\":{\"color\":\"#636efa\",\"pattern\":{\"shape\":\"\"}},\"name\":\"Top\",\"offsetgroup\":\"Top\",\"orientation\":\"v\",\"showlegend\":true,\"x\":[0.8,1.0,0.0,2.2,1.7,2.3,0.7,1.7,2.0,4.5,1.3,1.3,1.0,1.8,0.2],\"xaxis\":\"x\",\"yaxis\":\"y\",\"type\":\"histogram\",\"opacity\":0.3},{\"alignmentgroup\":\"True\",\"hovertemplate\":\"Standing=Top\\u003cbr\\u003eDBPM=%{x}\\u003cextra\\u003e\\u003c\\u002fextra\\u003e\",\"legendgroup\":\"Top\",\"marker\":{\"color\":\"#636efa\"},\"name\":\"Top\",\"notched\":true,\"offsetgroup\":\"Top\",\"showlegend\":false,\"x\":[0.8,1.0,0.0,2.2,1.7,2.3,0.7,1.7,2.0,4.5,1.3,1.3,1.0,1.8,0.2],\"xaxis\":\"x2\",\"yaxis\":\"y2\",\"type\":\"box\",\"opacity\":0.3},{\"alignmentgroup\":\"True\",\"bingroup\":\"x\",\"hovertemplate\":\"Standing=Bottom\\u003cbr\\u003eDBPM=%{x}\\u003cbr\\u003ecount=%{y}\\u003cextra\\u003e\\u003c\\u002fextra\\u003e\",\"legendgroup\":\"Bottom\",\"marker\":{\"color\":\"#EF553B\",\"pattern\":{\"shape\":\"\"}},\"name\":\"Bottom\",\"offsetgroup\":\"Bottom\",\"orientation\":\"v\",\"showlegend\":true,\"x\":[-0.1,0.1,-0.4,0.9,0.6,1.5,0.8,0.9,0.8,0.5,0.4,0.7,-0.4,0.7,-0.3],\"xaxis\":\"x\",\"yaxis\":\"y\",\"type\":\"histogram\",\"opacity\":0.3},{\"alignmentgroup\":\"True\",\"hovertemplate\":\"Standing=Bottom\\u003cbr\\u003eDBPM=%{x}\\u003cextra\\u003e\\u003c\\u002fextra\\u003e\",\"legendgroup\":\"Bottom\",\"marker\":{\"color\":\"#EF553B\"},\"name\":\"Bottom\",\"notched\":true,\"offsetgroup\":\"Bottom\",\"showlegend\":false,\"x\":[-0.1,0.1,-0.4,0.9,0.6,1.5,0.8,0.9,0.8,0.5,0.4,0.7,-0.4,0.7,-0.3],\"xaxis\":\"x2\",\"yaxis\":\"y2\",\"type\":\"box\",\"opacity\":0.3}],                        {\"template\":{\"data\":{\"histogram2dcontour\":[{\"type\":\"histogram2dcontour\",\"colorbar\":{\"outlinewidth\":0,\"ticks\":\"\"},\"colorscale\":[[0.0,\"#0d0887\"],[0.1111111111111111,\"#46039f\"],[0.2222222222222222,\"#7201a8\"],[0.3333333333333333,\"#9c179e\"],[0.4444444444444444,\"#bd3786\"],[0.5555555555555556,\"#d8576b\"],[0.6666666666666666,\"#ed7953\"],[0.7777777777777778,\"#fb9f3a\"],[0.8888888888888888,\"#fdca26\"],[1.0,\"#f0f921\"]]}],\"choropleth\":[{\"type\":\"choropleth\",\"colorbar\":{\"outlinewidth\":0,\"ticks\":\"\"}}],\"histogram2d\":[{\"type\":\"histogram2d\",\"colorbar\":{\"outlinewidth\":0,\"ticks\":\"\"},\"colorscale\":[[0.0,\"#0d0887\"],[0.1111111111111111,\"#46039f\"],[0.2222222222222222,\"#7201a8\"],[0.3333333333333333,\"#9c179e\"],[0.4444444444444444,\"#bd3786\"],[0.5555555555555556,\"#d8576b\"],[0.6666666666666666,\"#ed7953\"],[0.7777777777777778,\"#fb9f3a\"],[0.8888888888888888,\"#fdca26\"],[1.0,\"#f0f921\"]]}],\"heatmap\":[{\"type\":\"heatmap\",\"colorbar\":{\"outlinewidth\":0,\"ticks\":\"\"},\"colorscale\":[[0.0,\"#0d0887\"],[0.1111111111111111,\"#46039f\"],[0.2222222222222222,\"#7201a8\"],[0.3333333333333333,\"#9c179e\"],[0.4444444444444444,\"#bd3786\"],[0.5555555555555556,\"#d8576b\"],[0.6666666666666666,\"#ed7953\"],[0.7777777777777778,\"#fb9f3a\"],[0.8888888888888888,\"#fdca26\"],[1.0,\"#f0f921\"]]}],\"heatmapgl\":[{\"type\":\"heatmapgl\",\"colorbar\":{\"outlinewidth\":0,\"ticks\":\"\"},\"colorscale\":[[0.0,\"#0d0887\"],[0.1111111111111111,\"#46039f\"],[0.2222222222222222,\"#7201a8\"],[0.3333333333333333,\"#9c179e\"],[0.4444444444444444,\"#bd3786\"],[0.5555555555555556,\"#d8576b\"],[0.6666666666666666,\"#ed7953\"],[0.7777777777777778,\"#fb9f3a\"],[0.8888888888888888,\"#fdca26\"],[1.0,\"#f0f921\"]]}],\"contourcarpet\":[{\"type\":\"contourcarpet\",\"colorbar\":{\"outlinewidth\":0,\"ticks\":\"\"}}],\"contour\":[{\"type\":\"contour\",\"colorbar\":{\"outlinewidth\":0,\"ticks\":\"\"},\"colorscale\":[[0.0,\"#0d0887\"],[0.1111111111111111,\"#46039f\"],[0.2222222222222222,\"#7201a8\"],[0.3333333333333333,\"#9c179e\"],[0.4444444444444444,\"#bd3786\"],[0.5555555555555556,\"#d8576b\"],[0.6666666666666666,\"#ed7953\"],[0.7777777777777778,\"#fb9f3a\"],[0.8888888888888888,\"#fdca26\"],[1.0,\"#f0f921\"]]}],\"surface\":[{\"type\":\"surface\",\"colorbar\":{\"outlinewidth\":0,\"ticks\":\"\"},\"colorscale\":[[0.0,\"#0d0887\"],[0.1111111111111111,\"#46039f\"],[0.2222222222222222,\"#7201a8\"],[0.3333333333333333,\"#9c179e\"],[0.4444444444444444,\"#bd3786\"],[0.5555555555555556,\"#d8576b\"],[0.6666666666666666,\"#ed7953\"],[0.7777777777777778,\"#fb9f3a\"],[0.8888888888888888,\"#fdca26\"],[1.0,\"#f0f921\"]]}],\"mesh3d\":[{\"type\":\"mesh3d\",\"colorbar\":{\"outlinewidth\":0,\"ticks\":\"\"}}],\"scatter\":[{\"fillpattern\":{\"fillmode\":\"overlay\",\"size\":10,\"solidity\":0.2},\"type\":\"scatter\"}],\"parcoords\":[{\"type\":\"parcoords\",\"line\":{\"colorbar\":{\"outlinewidth\":0,\"ticks\":\"\"}}}],\"scatterpolargl\":[{\"type\":\"scatterpolargl\",\"marker\":{\"colorbar\":{\"outlinewidth\":0,\"ticks\":\"\"}}}],\"bar\":[{\"error_x\":{\"color\":\"#2a3f5f\"},\"error_y\":{\"color\":\"#2a3f5f\"},\"marker\":{\"line\":{\"color\":\"#E5ECF6\",\"width\":0.5},\"pattern\":{\"fillmode\":\"overlay\",\"size\":10,\"solidity\":0.2}},\"type\":\"bar\"}],\"scattergeo\":[{\"type\":\"scattergeo\",\"marker\":{\"colorbar\":{\"outlinewidth\":0,\"ticks\":\"\"}}}],\"scatterpolar\":[{\"type\":\"scatterpolar\",\"marker\":{\"colorbar\":{\"outlinewidth\":0,\"ticks\":\"\"}}}],\"histogram\":[{\"marker\":{\"pattern\":{\"fillmode\":\"overlay\",\"size\":10,\"solidity\":0.2}},\"type\":\"histogram\"}],\"scattergl\":[{\"type\":\"scattergl\",\"marker\":{\"colorbar\":{\"outlinewidth\":0,\"ticks\":\"\"}}}],\"scatter3d\":[{\"type\":\"scatter3d\",\"line\":{\"colorbar\":{\"outlinewidth\":0,\"ticks\":\"\"}},\"marker\":{\"colorbar\":{\"outlinewidth\":0,\"ticks\":\"\"}}}],\"scattermapbox\":[{\"type\":\"scattermapbox\",\"marker\":{\"colorbar\":{\"outlinewidth\":0,\"ticks\":\"\"}}}],\"scatterternary\":[{\"type\":\"scatterternary\",\"marker\":{\"colorbar\":{\"outlinewidth\":0,\"ticks\":\"\"}}}],\"scattercarpet\":[{\"type\":\"scattercarpet\",\"marker\":{\"colorbar\":{\"outlinewidth\":0,\"ticks\":\"\"}}}],\"carpet\":[{\"aaxis\":{\"endlinecolor\":\"#2a3f5f\",\"gridcolor\":\"white\",\"linecolor\":\"white\",\"minorgridcolor\":\"white\",\"startlinecolor\":\"#2a3f5f\"},\"baxis\":{\"endlinecolor\":\"#2a3f5f\",\"gridcolor\":\"white\",\"linecolor\":\"white\",\"minorgridcolor\":\"white\",\"startlinecolor\":\"#2a3f5f\"},\"type\":\"carpet\"}],\"table\":[{\"cells\":{\"fill\":{\"color\":\"#EBF0F8\"},\"line\":{\"color\":\"white\"}},\"header\":{\"fill\":{\"color\":\"#C8D4E3\"},\"line\":{\"color\":\"white\"}},\"type\":\"table\"}],\"barpolar\":[{\"marker\":{\"line\":{\"color\":\"#E5ECF6\",\"width\":0.5},\"pattern\":{\"fillmode\":\"overlay\",\"size\":10,\"solidity\":0.2}},\"type\":\"barpolar\"}],\"pie\":[{\"automargin\":true,\"type\":\"pie\"}]},\"layout\":{\"autotypenumbers\":\"strict\",\"colorway\":[\"#636efa\",\"#EF553B\",\"#00cc96\",\"#ab63fa\",\"#FFA15A\",\"#19d3f3\",\"#FF6692\",\"#B6E880\",\"#FF97FF\",\"#FECB52\"],\"font\":{\"color\":\"#2a3f5f\"},\"hovermode\":\"closest\",\"hoverlabel\":{\"align\":\"left\"},\"paper_bgcolor\":\"white\",\"plot_bgcolor\":\"#E5ECF6\",\"polar\":{\"bgcolor\":\"#E5ECF6\",\"angularaxis\":{\"gridcolor\":\"white\",\"linecolor\":\"white\",\"ticks\":\"\"},\"radialaxis\":{\"gridcolor\":\"white\",\"linecolor\":\"white\",\"ticks\":\"\"}},\"ternary\":{\"bgcolor\":\"#E5ECF6\",\"aaxis\":{\"gridcolor\":\"white\",\"linecolor\":\"white\",\"ticks\":\"\"},\"baxis\":{\"gridcolor\":\"white\",\"linecolor\":\"white\",\"ticks\":\"\"},\"caxis\":{\"gridcolor\":\"white\",\"linecolor\":\"white\",\"ticks\":\"\"}},\"coloraxis\":{\"colorbar\":{\"outlinewidth\":0,\"ticks\":\"\"}},\"colorscale\":{\"sequential\":[[0.0,\"#0d0887\"],[0.1111111111111111,\"#46039f\"],[0.2222222222222222,\"#7201a8\"],[0.3333333333333333,\"#9c179e\"],[0.4444444444444444,\"#bd3786\"],[0.5555555555555556,\"#d8576b\"],[0.6666666666666666,\"#ed7953\"],[0.7777777777777778,\"#fb9f3a\"],[0.8888888888888888,\"#fdca26\"],[1.0,\"#f0f921\"]],\"sequentialminus\":[[0.0,\"#0d0887\"],[0.1111111111111111,\"#46039f\"],[0.2222222222222222,\"#7201a8\"],[0.3333333333333333,\"#9c179e\"],[0.4444444444444444,\"#bd3786\"],[0.5555555555555556,\"#d8576b\"],[0.6666666666666666,\"#ed7953\"],[0.7777777777777778,\"#fb9f3a\"],[0.8888888888888888,\"#fdca26\"],[1.0,\"#f0f921\"]],\"diverging\":[[0,\"#8e0152\"],[0.1,\"#c51b7d\"],[0.2,\"#de77ae\"],[0.3,\"#f1b6da\"],[0.4,\"#fde0ef\"],[0.5,\"#f7f7f7\"],[0.6,\"#e6f5d0\"],[0.7,\"#b8e186\"],[0.8,\"#7fbc41\"],[0.9,\"#4d9221\"],[1,\"#276419\"]]},\"xaxis\":{\"gridcolor\":\"white\",\"linecolor\":\"white\",\"ticks\":\"\",\"title\":{\"standoff\":15},\"zerolinecolor\":\"white\",\"automargin\":true,\"zerolinewidth\":2},\"yaxis\":{\"gridcolor\":\"white\",\"linecolor\":\"white\",\"ticks\":\"\",\"title\":{\"standoff\":15},\"zerolinecolor\":\"white\",\"automargin\":true,\"zerolinewidth\":2},\"scene\":{\"xaxis\":{\"backgroundcolor\":\"#E5ECF6\",\"gridcolor\":\"white\",\"linecolor\":\"white\",\"showbackground\":true,\"ticks\":\"\",\"zerolinecolor\":\"white\",\"gridwidth\":2},\"yaxis\":{\"backgroundcolor\":\"#E5ECF6\",\"gridcolor\":\"white\",\"linecolor\":\"white\",\"showbackground\":true,\"ticks\":\"\",\"zerolinecolor\":\"white\",\"gridwidth\":2},\"zaxis\":{\"backgroundcolor\":\"#E5ECF6\",\"gridcolor\":\"white\",\"linecolor\":\"white\",\"showbackground\":true,\"ticks\":\"\",\"zerolinecolor\":\"white\",\"gridwidth\":2}},\"shapedefaults\":{\"line\":{\"color\":\"#2a3f5f\"}},\"annotationdefaults\":{\"arrowcolor\":\"#2a3f5f\",\"arrowhead\":0,\"arrowwidth\":1},\"geo\":{\"bgcolor\":\"white\",\"landcolor\":\"#E5ECF6\",\"subunitcolor\":\"white\",\"showland\":true,\"showlakes\":true,\"lakecolor\":\"white\"},\"title\":{\"x\":0.05},\"mapbox\":{\"style\":\"light\"}}},\"xaxis\":{\"anchor\":\"y\",\"domain\":[0.0,1.0],\"title\":{\"text\":\"DBPM\"},\"dtick\":0.5,\"ticks\":\"outside\",\"showline\":true,\"linecolor\":\"black\",\"mirror\":false},\"yaxis\":{\"anchor\":\"x\",\"domain\":[0.0,0.7326],\"title\":{\"text\":\"count\"}},\"xaxis2\":{\"anchor\":\"y2\",\"domain\":[0.0,1.0],\"matches\":\"x\",\"showticklabels\":false,\"showgrid\":true,\"dtick\":0.5,\"ticks\":\"outside\",\"showline\":true,\"linecolor\":\"black\",\"mirror\":false},\"yaxis2\":{\"anchor\":\"x2\",\"domain\":[0.7426,1.0],\"matches\":\"y2\",\"showticklabels\":false,\"showline\":false,\"ticks\":\"\",\"showgrid\":false},\"legend\":{\"title\":{\"text\":\"Standing\"},\"tracegroupgap\":0},\"margin\":{\"t\":60},\"barmode\":\"overlay\",\"height\":500,\"width\":1000,\"plot_bgcolor\":\"rgba(0, 0, 0, 0)\"},                        {\"responsive\": true}                    ).then(function(){\n",
       "                            \n",
       "var gd = document.getElementById('79e49b09-de03-44dd-b1f9-be7920e6ee61');\n",
       "var x = new MutationObserver(function (mutations, observer) {{\n",
       "        var display = window.getComputedStyle(gd).display;\n",
       "        if (!display || display === 'none') {{\n",
       "            console.log([gd, 'removed!']);\n",
       "            Plotly.purge(gd);\n",
       "            observer.disconnect();\n",
       "        }}\n",
       "}});\n",
       "\n",
       "// Listen for the removal of the full notebook cells\n",
       "var notebookContainer = gd.closest('#notebook-container');\n",
       "if (notebookContainer) {{\n",
       "    x.observe(notebookContainer, {childList: true});\n",
       "}}\n",
       "\n",
       "// Listen for the clearing of the current output cell\n",
       "var outputEl = gd.closest('.output');\n",
       "if (outputEl) {{\n",
       "    x.observe(outputEl, {childList: true});\n",
       "}}\n",
       "\n",
       "                        })                };                });            </script>        </div>"
      ]
     },
     "metadata": {},
     "output_type": "display_data"
    }
   ],
   "source": [
    "fig = px.histogram(ad_center2, x='DBPM', color='Standing',\n",
    "                   marginal=\"box\", height=500, width=1000) # or violin, rug\n",
    "fig.update_traces(opacity=0.3)\n",
    "fig.update_layout(barmode='overlay',plot_bgcolor='rgba(0, 0, 0, 0)')\n",
    "fig.update_xaxes(dtick=0.5,ticks='outside',showline=True,linecolor='black',mirror=False)\n",
    "fig.show()"
   ]
  },
  {
   "cell_type": "code",
   "execution_count": 95,
   "id": "7e405882-32ce-4ed6-9251-05742f1c3663",
   "metadata": {
    "tags": []
   },
   "outputs": [
    {
     "data": {
      "application/vnd.plotly.v1+json": {
       "config": {
        "plotlyServerURL": "https://plot.ly"
       },
       "data": [
        {
         "alignmentgroup": "True",
         "bingroup": "x",
         "hovertemplate": "Standing=Top<br>BPM=%{x}<br>count=%{y}<extra></extra>",
         "legendgroup": "Top",
         "marker": {
          "color": "#636efa",
          "pattern": {
           "shape": ""
          }
         },
         "name": "Top",
         "offsetgroup": "Top",
         "opacity": 0.3,
         "orientation": "v",
         "showlegend": true,
         "type": "histogram",
         "x": [
          1.5,
          2.4,
          0.9,
          3.1,
          6.3,
          9.2,
          0.7,
          3.3,
          2.8,
          13,
          2.1,
          2.1,
          2.2,
          5.8,
          -0.9
         ],
         "xaxis": "x",
         "yaxis": "y"
        },
        {
         "alignmentgroup": "True",
         "hovertemplate": "Standing=Top<br>BPM=%{x}<extra></extra>",
         "legendgroup": "Top",
         "marker": {
          "color": "#636efa"
         },
         "name": "Top",
         "notched": true,
         "offsetgroup": "Top",
         "opacity": 0.3,
         "showlegend": false,
         "type": "box",
         "x": [
          1.5,
          2.4,
          0.9,
          3.1,
          6.3,
          9.2,
          0.7,
          3.3,
          2.8,
          13,
          2.1,
          2.1,
          2.2,
          5.8,
          -0.9
         ],
         "xaxis": "x2",
         "yaxis": "y2"
        },
        {
         "alignmentgroup": "True",
         "bingroup": "x",
         "hovertemplate": "Standing=Bottom<br>BPM=%{x}<br>count=%{y}<extra></extra>",
         "legendgroup": "Bottom",
         "marker": {
          "color": "#EF553B",
          "pattern": {
           "shape": ""
          }
         },
         "name": "Bottom",
         "offsetgroup": "Bottom",
         "opacity": 0.3,
         "orientation": "v",
         "showlegend": true,
         "type": "histogram",
         "x": [
          2.2,
          1,
          -0.8,
          0.1,
          1,
          2.9,
          0.8,
          0.4,
          1.9,
          4.3,
          1.4,
          2.1,
          -0.4,
          2.7,
          1.7
         ],
         "xaxis": "x",
         "yaxis": "y"
        },
        {
         "alignmentgroup": "True",
         "hovertemplate": "Standing=Bottom<br>BPM=%{x}<extra></extra>",
         "legendgroup": "Bottom",
         "marker": {
          "color": "#EF553B"
         },
         "name": "Bottom",
         "notched": true,
         "offsetgroup": "Bottom",
         "opacity": 0.3,
         "showlegend": false,
         "type": "box",
         "x": [
          2.2,
          1,
          -0.8,
          0.1,
          1,
          2.9,
          0.8,
          0.4,
          1.9,
          4.3,
          1.4,
          2.1,
          -0.4,
          2.7,
          1.7
         ],
         "xaxis": "x2",
         "yaxis": "y2"
        }
       ],
       "layout": {
        "barmode": "overlay",
        "height": 500,
        "legend": {
         "title": {
          "text": "Standing"
         },
         "tracegroupgap": 0
        },
        "margin": {
         "t": 60
        },
        "plot_bgcolor": "rgba(0, 0, 0, 0)",
        "template": {
         "data": {
          "bar": [
           {
            "error_x": {
             "color": "#2a3f5f"
            },
            "error_y": {
             "color": "#2a3f5f"
            },
            "marker": {
             "line": {
              "color": "#E5ECF6",
              "width": 0.5
             },
             "pattern": {
              "fillmode": "overlay",
              "size": 10,
              "solidity": 0.2
             }
            },
            "type": "bar"
           }
          ],
          "barpolar": [
           {
            "marker": {
             "line": {
              "color": "#E5ECF6",
              "width": 0.5
             },
             "pattern": {
              "fillmode": "overlay",
              "size": 10,
              "solidity": 0.2
             }
            },
            "type": "barpolar"
           }
          ],
          "carpet": [
           {
            "aaxis": {
             "endlinecolor": "#2a3f5f",
             "gridcolor": "white",
             "linecolor": "white",
             "minorgridcolor": "white",
             "startlinecolor": "#2a3f5f"
            },
            "baxis": {
             "endlinecolor": "#2a3f5f",
             "gridcolor": "white",
             "linecolor": "white",
             "minorgridcolor": "white",
             "startlinecolor": "#2a3f5f"
            },
            "type": "carpet"
           }
          ],
          "choropleth": [
           {
            "colorbar": {
             "outlinewidth": 0,
             "ticks": ""
            },
            "type": "choropleth"
           }
          ],
          "contour": [
           {
            "colorbar": {
             "outlinewidth": 0,
             "ticks": ""
            },
            "colorscale": [
             [
              0,
              "#0d0887"
             ],
             [
              0.1111111111111111,
              "#46039f"
             ],
             [
              0.2222222222222222,
              "#7201a8"
             ],
             [
              0.3333333333333333,
              "#9c179e"
             ],
             [
              0.4444444444444444,
              "#bd3786"
             ],
             [
              0.5555555555555556,
              "#d8576b"
             ],
             [
              0.6666666666666666,
              "#ed7953"
             ],
             [
              0.7777777777777778,
              "#fb9f3a"
             ],
             [
              0.8888888888888888,
              "#fdca26"
             ],
             [
              1,
              "#f0f921"
             ]
            ],
            "type": "contour"
           }
          ],
          "contourcarpet": [
           {
            "colorbar": {
             "outlinewidth": 0,
             "ticks": ""
            },
            "type": "contourcarpet"
           }
          ],
          "heatmap": [
           {
            "colorbar": {
             "outlinewidth": 0,
             "ticks": ""
            },
            "colorscale": [
             [
              0,
              "#0d0887"
             ],
             [
              0.1111111111111111,
              "#46039f"
             ],
             [
              0.2222222222222222,
              "#7201a8"
             ],
             [
              0.3333333333333333,
              "#9c179e"
             ],
             [
              0.4444444444444444,
              "#bd3786"
             ],
             [
              0.5555555555555556,
              "#d8576b"
             ],
             [
              0.6666666666666666,
              "#ed7953"
             ],
             [
              0.7777777777777778,
              "#fb9f3a"
             ],
             [
              0.8888888888888888,
              "#fdca26"
             ],
             [
              1,
              "#f0f921"
             ]
            ],
            "type": "heatmap"
           }
          ],
          "heatmapgl": [
           {
            "colorbar": {
             "outlinewidth": 0,
             "ticks": ""
            },
            "colorscale": [
             [
              0,
              "#0d0887"
             ],
             [
              0.1111111111111111,
              "#46039f"
             ],
             [
              0.2222222222222222,
              "#7201a8"
             ],
             [
              0.3333333333333333,
              "#9c179e"
             ],
             [
              0.4444444444444444,
              "#bd3786"
             ],
             [
              0.5555555555555556,
              "#d8576b"
             ],
             [
              0.6666666666666666,
              "#ed7953"
             ],
             [
              0.7777777777777778,
              "#fb9f3a"
             ],
             [
              0.8888888888888888,
              "#fdca26"
             ],
             [
              1,
              "#f0f921"
             ]
            ],
            "type": "heatmapgl"
           }
          ],
          "histogram": [
           {
            "marker": {
             "pattern": {
              "fillmode": "overlay",
              "size": 10,
              "solidity": 0.2
             }
            },
            "type": "histogram"
           }
          ],
          "histogram2d": [
           {
            "colorbar": {
             "outlinewidth": 0,
             "ticks": ""
            },
            "colorscale": [
             [
              0,
              "#0d0887"
             ],
             [
              0.1111111111111111,
              "#46039f"
             ],
             [
              0.2222222222222222,
              "#7201a8"
             ],
             [
              0.3333333333333333,
              "#9c179e"
             ],
             [
              0.4444444444444444,
              "#bd3786"
             ],
             [
              0.5555555555555556,
              "#d8576b"
             ],
             [
              0.6666666666666666,
              "#ed7953"
             ],
             [
              0.7777777777777778,
              "#fb9f3a"
             ],
             [
              0.8888888888888888,
              "#fdca26"
             ],
             [
              1,
              "#f0f921"
             ]
            ],
            "type": "histogram2d"
           }
          ],
          "histogram2dcontour": [
           {
            "colorbar": {
             "outlinewidth": 0,
             "ticks": ""
            },
            "colorscale": [
             [
              0,
              "#0d0887"
             ],
             [
              0.1111111111111111,
              "#46039f"
             ],
             [
              0.2222222222222222,
              "#7201a8"
             ],
             [
              0.3333333333333333,
              "#9c179e"
             ],
             [
              0.4444444444444444,
              "#bd3786"
             ],
             [
              0.5555555555555556,
              "#d8576b"
             ],
             [
              0.6666666666666666,
              "#ed7953"
             ],
             [
              0.7777777777777778,
              "#fb9f3a"
             ],
             [
              0.8888888888888888,
              "#fdca26"
             ],
             [
              1,
              "#f0f921"
             ]
            ],
            "type": "histogram2dcontour"
           }
          ],
          "mesh3d": [
           {
            "colorbar": {
             "outlinewidth": 0,
             "ticks": ""
            },
            "type": "mesh3d"
           }
          ],
          "parcoords": [
           {
            "line": {
             "colorbar": {
              "outlinewidth": 0,
              "ticks": ""
             }
            },
            "type": "parcoords"
           }
          ],
          "pie": [
           {
            "automargin": true,
            "type": "pie"
           }
          ],
          "scatter": [
           {
            "fillpattern": {
             "fillmode": "overlay",
             "size": 10,
             "solidity": 0.2
            },
            "type": "scatter"
           }
          ],
          "scatter3d": [
           {
            "line": {
             "colorbar": {
              "outlinewidth": 0,
              "ticks": ""
             }
            },
            "marker": {
             "colorbar": {
              "outlinewidth": 0,
              "ticks": ""
             }
            },
            "type": "scatter3d"
           }
          ],
          "scattercarpet": [
           {
            "marker": {
             "colorbar": {
              "outlinewidth": 0,
              "ticks": ""
             }
            },
            "type": "scattercarpet"
           }
          ],
          "scattergeo": [
           {
            "marker": {
             "colorbar": {
              "outlinewidth": 0,
              "ticks": ""
             }
            },
            "type": "scattergeo"
           }
          ],
          "scattergl": [
           {
            "marker": {
             "colorbar": {
              "outlinewidth": 0,
              "ticks": ""
             }
            },
            "type": "scattergl"
           }
          ],
          "scattermapbox": [
           {
            "marker": {
             "colorbar": {
              "outlinewidth": 0,
              "ticks": ""
             }
            },
            "type": "scattermapbox"
           }
          ],
          "scatterpolar": [
           {
            "marker": {
             "colorbar": {
              "outlinewidth": 0,
              "ticks": ""
             }
            },
            "type": "scatterpolar"
           }
          ],
          "scatterpolargl": [
           {
            "marker": {
             "colorbar": {
              "outlinewidth": 0,
              "ticks": ""
             }
            },
            "type": "scatterpolargl"
           }
          ],
          "scatterternary": [
           {
            "marker": {
             "colorbar": {
              "outlinewidth": 0,
              "ticks": ""
             }
            },
            "type": "scatterternary"
           }
          ],
          "surface": [
           {
            "colorbar": {
             "outlinewidth": 0,
             "ticks": ""
            },
            "colorscale": [
             [
              0,
              "#0d0887"
             ],
             [
              0.1111111111111111,
              "#46039f"
             ],
             [
              0.2222222222222222,
              "#7201a8"
             ],
             [
              0.3333333333333333,
              "#9c179e"
             ],
             [
              0.4444444444444444,
              "#bd3786"
             ],
             [
              0.5555555555555556,
              "#d8576b"
             ],
             [
              0.6666666666666666,
              "#ed7953"
             ],
             [
              0.7777777777777778,
              "#fb9f3a"
             ],
             [
              0.8888888888888888,
              "#fdca26"
             ],
             [
              1,
              "#f0f921"
             ]
            ],
            "type": "surface"
           }
          ],
          "table": [
           {
            "cells": {
             "fill": {
              "color": "#EBF0F8"
             },
             "line": {
              "color": "white"
             }
            },
            "header": {
             "fill": {
              "color": "#C8D4E3"
             },
             "line": {
              "color": "white"
             }
            },
            "type": "table"
           }
          ]
         },
         "layout": {
          "annotationdefaults": {
           "arrowcolor": "#2a3f5f",
           "arrowhead": 0,
           "arrowwidth": 1
          },
          "autotypenumbers": "strict",
          "coloraxis": {
           "colorbar": {
            "outlinewidth": 0,
            "ticks": ""
           }
          },
          "colorscale": {
           "diverging": [
            [
             0,
             "#8e0152"
            ],
            [
             0.1,
             "#c51b7d"
            ],
            [
             0.2,
             "#de77ae"
            ],
            [
             0.3,
             "#f1b6da"
            ],
            [
             0.4,
             "#fde0ef"
            ],
            [
             0.5,
             "#f7f7f7"
            ],
            [
             0.6,
             "#e6f5d0"
            ],
            [
             0.7,
             "#b8e186"
            ],
            [
             0.8,
             "#7fbc41"
            ],
            [
             0.9,
             "#4d9221"
            ],
            [
             1,
             "#276419"
            ]
           ],
           "sequential": [
            [
             0,
             "#0d0887"
            ],
            [
             0.1111111111111111,
             "#46039f"
            ],
            [
             0.2222222222222222,
             "#7201a8"
            ],
            [
             0.3333333333333333,
             "#9c179e"
            ],
            [
             0.4444444444444444,
             "#bd3786"
            ],
            [
             0.5555555555555556,
             "#d8576b"
            ],
            [
             0.6666666666666666,
             "#ed7953"
            ],
            [
             0.7777777777777778,
             "#fb9f3a"
            ],
            [
             0.8888888888888888,
             "#fdca26"
            ],
            [
             1,
             "#f0f921"
            ]
           ],
           "sequentialminus": [
            [
             0,
             "#0d0887"
            ],
            [
             0.1111111111111111,
             "#46039f"
            ],
            [
             0.2222222222222222,
             "#7201a8"
            ],
            [
             0.3333333333333333,
             "#9c179e"
            ],
            [
             0.4444444444444444,
             "#bd3786"
            ],
            [
             0.5555555555555556,
             "#d8576b"
            ],
            [
             0.6666666666666666,
             "#ed7953"
            ],
            [
             0.7777777777777778,
             "#fb9f3a"
            ],
            [
             0.8888888888888888,
             "#fdca26"
            ],
            [
             1,
             "#f0f921"
            ]
           ]
          },
          "colorway": [
           "#636efa",
           "#EF553B",
           "#00cc96",
           "#ab63fa",
           "#FFA15A",
           "#19d3f3",
           "#FF6692",
           "#B6E880",
           "#FF97FF",
           "#FECB52"
          ],
          "font": {
           "color": "#2a3f5f"
          },
          "geo": {
           "bgcolor": "white",
           "lakecolor": "white",
           "landcolor": "#E5ECF6",
           "showlakes": true,
           "showland": true,
           "subunitcolor": "white"
          },
          "hoverlabel": {
           "align": "left"
          },
          "hovermode": "closest",
          "mapbox": {
           "style": "light"
          },
          "paper_bgcolor": "white",
          "plot_bgcolor": "#E5ECF6",
          "polar": {
           "angularaxis": {
            "gridcolor": "white",
            "linecolor": "white",
            "ticks": ""
           },
           "bgcolor": "#E5ECF6",
           "radialaxis": {
            "gridcolor": "white",
            "linecolor": "white",
            "ticks": ""
           }
          },
          "scene": {
           "xaxis": {
            "backgroundcolor": "#E5ECF6",
            "gridcolor": "white",
            "gridwidth": 2,
            "linecolor": "white",
            "showbackground": true,
            "ticks": "",
            "zerolinecolor": "white"
           },
           "yaxis": {
            "backgroundcolor": "#E5ECF6",
            "gridcolor": "white",
            "gridwidth": 2,
            "linecolor": "white",
            "showbackground": true,
            "ticks": "",
            "zerolinecolor": "white"
           },
           "zaxis": {
            "backgroundcolor": "#E5ECF6",
            "gridcolor": "white",
            "gridwidth": 2,
            "linecolor": "white",
            "showbackground": true,
            "ticks": "",
            "zerolinecolor": "white"
           }
          },
          "shapedefaults": {
           "line": {
            "color": "#2a3f5f"
           }
          },
          "ternary": {
           "aaxis": {
            "gridcolor": "white",
            "linecolor": "white",
            "ticks": ""
           },
           "baxis": {
            "gridcolor": "white",
            "linecolor": "white",
            "ticks": ""
           },
           "bgcolor": "#E5ECF6",
           "caxis": {
            "gridcolor": "white",
            "linecolor": "white",
            "ticks": ""
           }
          },
          "title": {
           "x": 0.05
          },
          "xaxis": {
           "automargin": true,
           "gridcolor": "white",
           "linecolor": "white",
           "ticks": "",
           "title": {
            "standoff": 15
           },
           "zerolinecolor": "white",
           "zerolinewidth": 2
          },
          "yaxis": {
           "automargin": true,
           "gridcolor": "white",
           "linecolor": "white",
           "ticks": "",
           "title": {
            "standoff": 15
           },
           "zerolinecolor": "white",
           "zerolinewidth": 2
          }
         }
        },
        "width": 1000,
        "xaxis": {
         "anchor": "y",
         "autorange": true,
         "domain": [
          0,
          1
         ],
         "dtick": 0.5,
         "linecolor": "black",
         "mirror": false,
         "range": [
          -2,
          14
         ],
         "showline": true,
         "ticks": "outside",
         "title": {
          "text": "BPM"
         },
         "type": "linear"
        },
        "xaxis2": {
         "anchor": "y2",
         "autorange": true,
         "domain": [
          0,
          1
         ],
         "dtick": 0.5,
         "linecolor": "black",
         "matches": "x",
         "mirror": false,
         "range": [
          -2,
          14
         ],
         "showgrid": true,
         "showline": true,
         "showticklabels": false,
         "ticks": "outside",
         "type": "linear"
        },
        "yaxis": {
         "anchor": "x",
         "autorange": true,
         "domain": [
          0,
          0.7326
         ],
         "range": [
          0,
          8.421052631578947
         ],
         "title": {
          "text": "count"
         }
        },
        "yaxis2": {
         "anchor": "x2",
         "autorange": true,
         "domain": [
          0.7426,
          1
         ],
         "matches": "y2",
         "range": [
          -0.5,
          1.5
         ],
         "showgrid": false,
         "showline": false,
         "showticklabels": false,
         "ticks": "",
         "type": "category"
        }
       }
      },
      "image/png": "[encoded data removed]",
      "text/html": [
       "<div>                            <div id=\"5e7804b9-2799-4d07-af7e-697edf87ffbb\" class=\"plotly-graph-div\" style=\"height:500px; width:1000px;\"></div>            <script type=\"text/javascript\">                require([\"plotly\"], function(Plotly) {                    window.PLOTLYENV=window.PLOTLYENV || {};                                    if (document.getElementById(\"5e7804b9-2799-4d07-af7e-697edf87ffbb\")) {                    Plotly.newPlot(                        \"5e7804b9-2799-4d07-af7e-697edf87ffbb\",                        [{\"alignmentgroup\":\"True\",\"bingroup\":\"x\",\"hovertemplate\":\"Standing=Top\\u003cbr\\u003eBPM=%{x}\\u003cbr\\u003ecount=%{y}\\u003cextra\\u003e\\u003c\\u002fextra\\u003e\",\"legendgroup\":\"Top\",\"marker\":{\"color\":\"#636efa\",\"pattern\":{\"shape\":\"\"}},\"name\":\"Top\",\"offsetgroup\":\"Top\",\"orientation\":\"v\",\"showlegend\":true,\"x\":[1.5,2.4,0.9,3.1,6.3,9.2,0.7,3.3,2.8,13.0,2.1,2.1,2.2,5.8,-0.9],\"xaxis\":\"x\",\"yaxis\":\"y\",\"type\":\"histogram\",\"opacity\":0.3},{\"alignmentgroup\":\"True\",\"hovertemplate\":\"Standing=Top\\u003cbr\\u003eBPM=%{x}\\u003cextra\\u003e\\u003c\\u002fextra\\u003e\",\"legendgroup\":\"Top\",\"marker\":{\"color\":\"#636efa\"},\"name\":\"Top\",\"notched\":true,\"offsetgroup\":\"Top\",\"showlegend\":false,\"x\":[1.5,2.4,0.9,3.1,6.3,9.2,0.7,3.3,2.8,13.0,2.1,2.1,2.2,5.8,-0.9],\"xaxis\":\"x2\",\"yaxis\":\"y2\",\"type\":\"box\",\"opacity\":0.3},{\"alignmentgroup\":\"True\",\"bingroup\":\"x\",\"hovertemplate\":\"Standing=Bottom\\u003cbr\\u003eBPM=%{x}\\u003cbr\\u003ecount=%{y}\\u003cextra\\u003e\\u003c\\u002fextra\\u003e\",\"legendgroup\":\"Bottom\",\"marker\":{\"color\":\"#EF553B\",\"pattern\":{\"shape\":\"\"}},\"name\":\"Bottom\",\"offsetgroup\":\"Bottom\",\"orientation\":\"v\",\"showlegend\":true,\"x\":[2.2,1.0,-0.8,0.1,1.0,2.9,0.8,0.4,1.9,4.3,1.4,2.1,-0.4,2.7,1.7],\"xaxis\":\"x\",\"yaxis\":\"y\",\"type\":\"histogram\",\"opacity\":0.3},{\"alignmentgroup\":\"True\",\"hovertemplate\":\"Standing=Bottom\\u003cbr\\u003eBPM=%{x}\\u003cextra\\u003e\\u003c\\u002fextra\\u003e\",\"legendgroup\":\"Bottom\",\"marker\":{\"color\":\"#EF553B\"},\"name\":\"Bottom\",\"notched\":true,\"offsetgroup\":\"Bottom\",\"showlegend\":false,\"x\":[2.2,1.0,-0.8,0.1,1.0,2.9,0.8,0.4,1.9,4.3,1.4,2.1,-0.4,2.7,1.7],\"xaxis\":\"x2\",\"yaxis\":\"y2\",\"type\":\"box\",\"opacity\":0.3}],                        {\"template\":{\"data\":{\"histogram2dcontour\":[{\"type\":\"histogram2dcontour\",\"colorbar\":{\"outlinewidth\":0,\"ticks\":\"\"},\"colorscale\":[[0.0,\"#0d0887\"],[0.1111111111111111,\"#46039f\"],[0.2222222222222222,\"#7201a8\"],[0.3333333333333333,\"#9c179e\"],[0.4444444444444444,\"#bd3786\"],[0.5555555555555556,\"#d8576b\"],[0.6666666666666666,\"#ed7953\"],[0.7777777777777778,\"#fb9f3a\"],[0.8888888888888888,\"#fdca26\"],[1.0,\"#f0f921\"]]}],\"choropleth\":[{\"type\":\"choropleth\",\"colorbar\":{\"outlinewidth\":0,\"ticks\":\"\"}}],\"histogram2d\":[{\"type\":\"histogram2d\",\"colorbar\":{\"outlinewidth\":0,\"ticks\":\"\"},\"colorscale\":[[0.0,\"#0d0887\"],[0.1111111111111111,\"#46039f\"],[0.2222222222222222,\"#7201a8\"],[0.3333333333333333,\"#9c179e\"],[0.4444444444444444,\"#bd3786\"],[0.5555555555555556,\"#d8576b\"],[0.6666666666666666,\"#ed7953\"],[0.7777777777777778,\"#fb9f3a\"],[0.8888888888888888,\"#fdca26\"],[1.0,\"#f0f921\"]]}],\"heatmap\":[{\"type\":\"heatmap\",\"colorbar\":{\"outlinewidth\":0,\"ticks\":\"\"},\"colorscale\":[[0.0,\"#0d0887\"],[0.1111111111111111,\"#46039f\"],[0.2222222222222222,\"#7201a8\"],[0.3333333333333333,\"#9c179e\"],[0.4444444444444444,\"#bd3786\"],[0.5555555555555556,\"#d8576b\"],[0.6666666666666666,\"#ed7953\"],[0.7777777777777778,\"#fb9f3a\"],[0.8888888888888888,\"#fdca26\"],[1.0,\"#f0f921\"]]}],\"heatmapgl\":[{\"type\":\"heatmapgl\",\"colorbar\":{\"outlinewidth\":0,\"ticks\":\"\"},\"colorscale\":[[0.0,\"#0d0887\"],[0.1111111111111111,\"#46039f\"],[0.2222222222222222,\"#7201a8\"],[0.3333333333333333,\"#9c179e\"],[0.4444444444444444,\"#bd3786\"],[0.5555555555555556,\"#d8576b\"],[0.6666666666666666,\"#ed7953\"],[0.7777777777777778,\"#fb9f3a\"],[0.8888888888888888,\"#fdca26\"],[1.0,\"#f0f921\"]]}],\"contourcarpet\":[{\"type\":\"contourcarpet\",\"colorbar\":{\"outlinewidth\":0,\"ticks\":\"\"}}],\"contour\":[{\"type\":\"contour\",\"colorbar\":{\"outlinewidth\":0,\"ticks\":\"\"},\"colorscale\":[[0.0,\"#0d0887\"],[0.1111111111111111,\"#46039f\"],[0.2222222222222222,\"#7201a8\"],[0.3333333333333333,\"#9c179e\"],[0.4444444444444444,\"#bd3786\"],[0.5555555555555556,\"#d8576b\"],[0.6666666666666666,\"#ed7953\"],[0.7777777777777778,\"#fb9f3a\"],[0.8888888888888888,\"#fdca26\"],[1.0,\"#f0f921\"]]}],\"surface\":[{\"type\":\"surface\",\"colorbar\":{\"outlinewidth\":0,\"ticks\":\"\"},\"colorscale\":[[0.0,\"#0d0887\"],[0.1111111111111111,\"#46039f\"],[0.2222222222222222,\"#7201a8\"],[0.3333333333333333,\"#9c179e\"],[0.4444444444444444,\"#bd3786\"],[0.5555555555555556,\"#d8576b\"],[0.6666666666666666,\"#ed7953\"],[0.7777777777777778,\"#fb9f3a\"],[0.8888888888888888,\"#fdca26\"],[1.0,\"#f0f921\"]]}],\"mesh3d\":[{\"type\":\"mesh3d\",\"colorbar\":{\"outlinewidth\":0,\"ticks\":\"\"}}],\"scatter\":[{\"fillpattern\":{\"fillmode\":\"overlay\",\"size\":10,\"solidity\":0.2},\"type\":\"scatter\"}],\"parcoords\":[{\"type\":\"parcoords\",\"line\":{\"colorbar\":{\"outlinewidth\":0,\"ticks\":\"\"}}}],\"scatterpolargl\":[{\"type\":\"scatterpolargl\",\"marker\":{\"colorbar\":{\"outlinewidth\":0,\"ticks\":\"\"}}}],\"bar\":[{\"error_x\":{\"color\":\"#2a3f5f\"},\"error_y\":{\"color\":\"#2a3f5f\"},\"marker\":{\"line\":{\"color\":\"#E5ECF6\",\"width\":0.5},\"pattern\":{\"fillmode\":\"overlay\",\"size\":10,\"solidity\":0.2}},\"type\":\"bar\"}],\"scattergeo\":[{\"type\":\"scattergeo\",\"marker\":{\"colorbar\":{\"outlinewidth\":0,\"ticks\":\"\"}}}],\"scatterpolar\":[{\"type\":\"scatterpolar\",\"marker\":{\"colorbar\":{\"outlinewidth\":0,\"ticks\":\"\"}}}],\"histogram\":[{\"marker\":{\"pattern\":{\"fillmode\":\"overlay\",\"size\":10,\"solidity\":0.2}},\"type\":\"histogram\"}],\"scattergl\":[{\"type\":\"scattergl\",\"marker\":{\"colorbar\":{\"outlinewidth\":0,\"ticks\":\"\"}}}],\"scatter3d\":[{\"type\":\"scatter3d\",\"line\":{\"colorbar\":{\"outlinewidth\":0,\"ticks\":\"\"}},\"marker\":{\"colorbar\":{\"outlinewidth\":0,\"ticks\":\"\"}}}],\"scattermapbox\":[{\"type\":\"scattermapbox\",\"marker\":{\"colorbar\":{\"outlinewidth\":0,\"ticks\":\"\"}}}],\"scatterternary\":[{\"type\":\"scatterternary\",\"marker\":{\"colorbar\":{\"outlinewidth\":0,\"ticks\":\"\"}}}],\"scattercarpet\":[{\"type\":\"scattercarpet\",\"marker\":{\"colorbar\":{\"outlinewidth\":0,\"ticks\":\"\"}}}],\"carpet\":[{\"aaxis\":{\"endlinecolor\":\"#2a3f5f\",\"gridcolor\":\"white\",\"linecolor\":\"white\",\"minorgridcolor\":\"white\",\"startlinecolor\":\"#2a3f5f\"},\"baxis\":{\"endlinecolor\":\"#2a3f5f\",\"gridcolor\":\"white\",\"linecolor\":\"white\",\"minorgridcolor\":\"white\",\"startlinecolor\":\"#2a3f5f\"},\"type\":\"carpet\"}],\"table\":[{\"cells\":{\"fill\":{\"color\":\"#EBF0F8\"},\"line\":{\"color\":\"white\"}},\"header\":{\"fill\":{\"color\":\"#C8D4E3\"},\"line\":{\"color\":\"white\"}},\"type\":\"table\"}],\"barpolar\":[{\"marker\":{\"line\":{\"color\":\"#E5ECF6\",\"width\":0.5},\"pattern\":{\"fillmode\":\"overlay\",\"size\":10,\"solidity\":0.2}},\"type\":\"barpolar\"}],\"pie\":[{\"automargin\":true,\"type\":\"pie\"}]},\"layout\":{\"autotypenumbers\":\"strict\",\"colorway\":[\"#636efa\",\"#EF553B\",\"#00cc96\",\"#ab63fa\",\"#FFA15A\",\"#19d3f3\",\"#FF6692\",\"#B6E880\",\"#FF97FF\",\"#FECB52\"],\"font\":{\"color\":\"#2a3f5f\"},\"hovermode\":\"closest\",\"hoverlabel\":{\"align\":\"left\"},\"paper_bgcolor\":\"white\",\"plot_bgcolor\":\"#E5ECF6\",\"polar\":{\"bgcolor\":\"#E5ECF6\",\"angularaxis\":{\"gridcolor\":\"white\",\"linecolor\":\"white\",\"ticks\":\"\"},\"radialaxis\":{\"gridcolor\":\"white\",\"linecolor\":\"white\",\"ticks\":\"\"}},\"ternary\":{\"bgcolor\":\"#E5ECF6\",\"aaxis\":{\"gridcolor\":\"white\",\"linecolor\":\"white\",\"ticks\":\"\"},\"baxis\":{\"gridcolor\":\"white\",\"linecolor\":\"white\",\"ticks\":\"\"},\"caxis\":{\"gridcolor\":\"white\",\"linecolor\":\"white\",\"ticks\":\"\"}},\"coloraxis\":{\"colorbar\":{\"outlinewidth\":0,\"ticks\":\"\"}},\"colorscale\":{\"sequential\":[[0.0,\"#0d0887\"],[0.1111111111111111,\"#46039f\"],[0.2222222222222222,\"#7201a8\"],[0.3333333333333333,\"#9c179e\"],[0.4444444444444444,\"#bd3786\"],[0.5555555555555556,\"#d8576b\"],[0.6666666666666666,\"#ed7953\"],[0.7777777777777778,\"#fb9f3a\"],[0.8888888888888888,\"#fdca26\"],[1.0,\"#f0f921\"]],\"sequentialminus\":[[0.0,\"#0d0887\"],[0.1111111111111111,\"#46039f\"],[0.2222222222222222,\"#7201a8\"],[0.3333333333333333,\"#9c179e\"],[0.4444444444444444,\"#bd3786\"],[0.5555555555555556,\"#d8576b\"],[0.6666666666666666,\"#ed7953\"],[0.7777777777777778,\"#fb9f3a\"],[0.8888888888888888,\"#fdca26\"],[1.0,\"#f0f921\"]],\"diverging\":[[0,\"#8e0152\"],[0.1,\"#c51b7d\"],[0.2,\"#de77ae\"],[0.3,\"#f1b6da\"],[0.4,\"#fde0ef\"],[0.5,\"#f7f7f7\"],[0.6,\"#e6f5d0\"],[0.7,\"#b8e186\"],[0.8,\"#7fbc41\"],[0.9,\"#4d9221\"],[1,\"#276419\"]]},\"xaxis\":{\"gridcolor\":\"white\",\"linecolor\":\"white\",\"ticks\":\"\",\"title\":{\"standoff\":15},\"zerolinecolor\":\"white\",\"automargin\":true,\"zerolinewidth\":2},\"yaxis\":{\"gridcolor\":\"white\",\"linecolor\":\"white\",\"ticks\":\"\",\"title\":{\"standoff\":15},\"zerolinecolor\":\"white\",\"automargin\":true,\"zerolinewidth\":2},\"scene\":{\"xaxis\":{\"backgroundcolor\":\"#E5ECF6\",\"gridcolor\":\"white\",\"linecolor\":\"white\",\"showbackground\":true,\"ticks\":\"\",\"zerolinecolor\":\"white\",\"gridwidth\":2},\"yaxis\":{\"backgroundcolor\":\"#E5ECF6\",\"gridcolor\":\"white\",\"linecolor\":\"white\",\"showbackground\":true,\"ticks\":\"\",\"zerolinecolor\":\"white\",\"gridwidth\":2},\"zaxis\":{\"backgroundcolor\":\"#E5ECF6\",\"gridcolor\":\"white\",\"linecolor\":\"white\",\"showbackground\":true,\"ticks\":\"\",\"zerolinecolor\":\"white\",\"gridwidth\":2}},\"shapedefaults\":{\"line\":{\"color\":\"#2a3f5f\"}},\"annotationdefaults\":{\"arrowcolor\":\"#2a3f5f\",\"arrowhead\":0,\"arrowwidth\":1},\"geo\":{\"bgcolor\":\"white\",\"landcolor\":\"#E5ECF6\",\"subunitcolor\":\"white\",\"showland\":true,\"showlakes\":true,\"lakecolor\":\"white\"},\"title\":{\"x\":0.05},\"mapbox\":{\"style\":\"light\"}}},\"xaxis\":{\"anchor\":\"y\",\"domain\":[0.0,1.0],\"title\":{\"text\":\"BPM\"},\"dtick\":0.5,\"ticks\":\"outside\",\"showline\":true,\"linecolor\":\"black\",\"mirror\":false},\"yaxis\":{\"anchor\":\"x\",\"domain\":[0.0,0.7326],\"title\":{\"text\":\"count\"}},\"xaxis2\":{\"anchor\":\"y2\",\"domain\":[0.0,1.0],\"matches\":\"x\",\"showticklabels\":false,\"showgrid\":true,\"dtick\":0.5,\"ticks\":\"outside\",\"showline\":true,\"linecolor\":\"black\",\"mirror\":false},\"yaxis2\":{\"anchor\":\"x2\",\"domain\":[0.7426,1.0],\"matches\":\"y2\",\"showticklabels\":false,\"showline\":false,\"ticks\":\"\",\"showgrid\":false},\"legend\":{\"title\":{\"text\":\"Standing\"},\"tracegroupgap\":0},\"margin\":{\"t\":60},\"barmode\":\"overlay\",\"height\":500,\"width\":1000,\"plot_bgcolor\":\"rgba(0, 0, 0, 0)\"},                        {\"responsive\": true}                    ).then(function(){\n",
       "                            \n",
       "var gd = document.getElementById('5e7804b9-2799-4d07-af7e-697edf87ffbb');\n",
       "var x = new MutationObserver(function (mutations, observer) {{\n",
       "        var display = window.getComputedStyle(gd).display;\n",
       "        if (!display || display === 'none') {{\n",
       "            console.log([gd, 'removed!']);\n",
       "            Plotly.purge(gd);\n",
       "            observer.disconnect();\n",
       "        }}\n",
       "}});\n",
       "\n",
       "// Listen for the removal of the full notebook cells\n",
       "var notebookContainer = gd.closest('#notebook-container');\n",
       "if (notebookContainer) {{\n",
       "    x.observe(notebookContainer, {childList: true});\n",
       "}}\n",
       "\n",
       "// Listen for the clearing of the current output cell\n",
       "var outputEl = gd.closest('.output');\n",
       "if (outputEl) {{\n",
       "    x.observe(outputEl, {childList: true});\n",
       "}}\n",
       "\n",
       "                        })                };                });            </script>        </div>"
      ]
     },
     "metadata": {},
     "output_type": "display_data"
    }
   ],
   "source": [
    "fig = px.histogram(ad_center2, x='BPM', color='Standing',\n",
    "                   marginal=\"box\", height=500, width=1000) # or violin, rug\n",
    "fig.update_traces(opacity=0.3)\n",
    "fig.update_layout(barmode='overlay',plot_bgcolor='rgba(0, 0, 0, 0)')\n",
    "fig.update_xaxes(dtick=0.5,ticks='outside',showline=True,linecolor='black',mirror=False)\n",
    "fig.show()"
   ]
  },
  {
   "cell_type": "markdown",
   "id": "9506addc-d7ab-4b86-81b1-c0b2e14da41a",
   "metadata": {},
   "source": [
    "Winning stats\n",
    "- 2pt\n",
    "- DBPM \n",
    "- VORP\n",
    "- BPM"
   ]
  },
  {
   "cell_type": "markdown",
   "id": "030a4e5c-ae5d-4fa1-90e6-992099039925",
   "metadata": {},
   "source": [
    "## Making Weighted Scores for Each Center Based on Stats of Interest"
   ]
  },
  {
   "cell_type": "code",
   "execution_count": 27,
   "id": "46e4dad1-2381-46e1-bf78-d54fbe85f235",
   "metadata": {
    "tags": []
   },
   "outputs": [
    {
     "data": {
      "text/html": [
       "<div>\n",
       "<style scoped>\n",
       "    .dataframe tbody tr th:only-of-type {\n",
       "        vertical-align: middle;\n",
       "    }\n",
       "\n",
       "    .dataframe tbody tr th {\n",
       "        vertical-align: top;\n",
       "    }\n",
       "\n",
       "    .dataframe thead th {\n",
       "        text-align: right;\n",
       "    }\n",
       "</style>\n",
       "<table border=\"1\" class=\"dataframe\">\n",
       "  <thead>\n",
       "    <tr style=\"text-align: right;\">\n",
       "      <th></th>\n",
       "      <th>index</th>\n",
       "      <th>Rk</th>\n",
       "      <th>Player_x</th>\n",
       "      <th>Pos_x</th>\n",
       "      <th>Age_x</th>\n",
       "      <th>Tm_x</th>\n",
       "      <th>G_x</th>\n",
       "      <th>MP_x</th>\n",
       "      <th>PER</th>\n",
       "      <th>TS%</th>\n",
       "      <th>3PAr</th>\n",
       "      <th>FTr</th>\n",
       "      <th>ORB%</th>\n",
       "      <th>DRB%</th>\n",
       "      <th>TRB%</th>\n",
       "      <th>AST%</th>\n",
       "      <th>STL%</th>\n",
       "      <th>BLK%</th>\n",
       "      <th>TOV%</th>\n",
       "      <th>USG%</th>\n",
       "      <th>Unnamed: 19</th>\n",
       "      <th>OWS</th>\n",
       "      <th>DWS</th>\n",
       "      <th>WS</th>\n",
       "      <th>WS/48</th>\n",
       "      <th>Unnamed: 24</th>\n",
       "      <th>OBPM</th>\n",
       "      <th>DBPM</th>\n",
       "      <th>BPM</th>\n",
       "      <th>VORP</th>\n",
       "      <th>Player-additional_x</th>\n",
       "      <th>Standing_x</th>\n",
       "      <th>Player_y</th>\n",
       "      <th>Pos_y</th>\n",
       "      <th>Age_y</th>\n",
       "      <th>Tm_y</th>\n",
       "      <th>G_y</th>\n",
       "      <th>GS</th>\n",
       "      <th>MP_y</th>\n",
       "      <th>FG</th>\n",
       "      <th>FGA</th>\n",
       "      <th>FG%</th>\n",
       "      <th>3P</th>\n",
       "      <th>3PA</th>\n",
       "      <th>3P%</th>\n",
       "      <th>2P</th>\n",
       "      <th>2PA</th>\n",
       "      <th>2P%</th>\n",
       "      <th>eFG%</th>\n",
       "      <th>FT</th>\n",
       "      <th>FTA</th>\n",
       "      <th>FT%</th>\n",
       "      <th>ORB</th>\n",
       "      <th>DRB</th>\n",
       "      <th>TRB</th>\n",
       "      <th>AST</th>\n",
       "      <th>STL</th>\n",
       "      <th>BLK</th>\n",
       "      <th>TOV</th>\n",
       "      <th>PF</th>\n",
       "      <th>PTS</th>\n",
       "      <th>Player-additional_y</th>\n",
       "      <th>Standing_y</th>\n",
       "    </tr>\n",
       "  </thead>\n",
       "  <tbody>\n",
       "    <tr>\n",
       "      <th>0</th>\n",
       "      <td>2</td>\n",
       "      <td>3</td>\n",
       "      <td>Bam Adebayo</td>\n",
       "      <td>C</td>\n",
       "      <td>25</td>\n",
       "      <td>MIA</td>\n",
       "      <td>75</td>\n",
       "      <td>2598</td>\n",
       "      <td>20.1</td>\n",
       "      <td>0.592</td>\n",
       "      <td>0.011</td>\n",
       "      <td>0.361</td>\n",
       "      <td>8.0</td>\n",
       "      <td>23.6</td>\n",
       "      <td>15.5</td>\n",
       "      <td>15.9</td>\n",
       "      <td>1.7</td>\n",
       "      <td>2.4</td>\n",
       "      <td>12.7</td>\n",
       "      <td>25.2</td>\n",
       "      <td>NaN</td>\n",
       "      <td>3.6</td>\n",
       "      <td>3.8</td>\n",
       "      <td>7.4</td>\n",
       "      <td>0.137</td>\n",
       "      <td>NaN</td>\n",
       "      <td>0.8</td>\n",
       "      <td>0.8</td>\n",
       "      <td>1.5</td>\n",
       "      <td>2.3</td>\n",
       "      <td>adebaba01</td>\n",
       "      <td>Top</td>\n",
       "      <td>Bam Adebayo</td>\n",
       "      <td>C</td>\n",
       "      <td>25</td>\n",
       "      <td>MIA</td>\n",
       "      <td>75</td>\n",
       "      <td>75</td>\n",
       "      <td>2598</td>\n",
       "      <td>602</td>\n",
       "      <td>1114</td>\n",
       "      <td>0.540</td>\n",
       "      <td>1</td>\n",
       "      <td>12</td>\n",
       "      <td>0.083</td>\n",
       "      <td>601</td>\n",
       "      <td>1102</td>\n",
       "      <td>0.545</td>\n",
       "      <td>0.541</td>\n",
       "      <td>324</td>\n",
       "      <td>402</td>\n",
       "      <td>0.806</td>\n",
       "      <td>184</td>\n",
       "      <td>504</td>\n",
       "      <td>688</td>\n",
       "      <td>240</td>\n",
       "      <td>88</td>\n",
       "      <td>61</td>\n",
       "      <td>187</td>\n",
       "      <td>208</td>\n",
       "      <td>1529</td>\n",
       "      <td>adebaba01</td>\n",
       "      <td>Top</td>\n",
       "    </tr>\n",
       "    <tr>\n",
       "      <th>1</th>\n",
       "      <td>7</td>\n",
       "      <td>8</td>\n",
       "      <td>Jarrett Allen</td>\n",
       "      <td>C</td>\n",
       "      <td>24</td>\n",
       "      <td>CLE</td>\n",
       "      <td>68</td>\n",
       "      <td>2220</td>\n",
       "      <td>19.9</td>\n",
       "      <td>0.670</td>\n",
       "      <td>0.016</td>\n",
       "      <td>0.353</td>\n",
       "      <td>11.7</td>\n",
       "      <td>23.6</td>\n",
       "      <td>17.7</td>\n",
       "      <td>7.5</td>\n",
       "      <td>1.2</td>\n",
       "      <td>3.5</td>\n",
       "      <td>11.4</td>\n",
       "      <td>16.4</td>\n",
       "      <td>NaN</td>\n",
       "      <td>5.5</td>\n",
       "      <td>4.0</td>\n",
       "      <td>9.5</td>\n",
       "      <td>0.205</td>\n",
       "      <td>NaN</td>\n",
       "      <td>1.3</td>\n",
       "      <td>1.0</td>\n",
       "      <td>2.4</td>\n",
       "      <td>2.4</td>\n",
       "      <td>allenja01</td>\n",
       "      <td>Top</td>\n",
       "      <td>Jarrett Allen</td>\n",
       "      <td>C</td>\n",
       "      <td>24</td>\n",
       "      <td>CLE</td>\n",
       "      <td>68</td>\n",
       "      <td>68</td>\n",
       "      <td>2220</td>\n",
       "      <td>403</td>\n",
       "      <td>626</td>\n",
       "      <td>0.644</td>\n",
       "      <td>1</td>\n",
       "      <td>10</td>\n",
       "      <td>0.100</td>\n",
       "      <td>402</td>\n",
       "      <td>616</td>\n",
       "      <td>0.653</td>\n",
       "      <td>0.645</td>\n",
       "      <td>162</td>\n",
       "      <td>221</td>\n",
       "      <td>0.733</td>\n",
       "      <td>221</td>\n",
       "      <td>445</td>\n",
       "      <td>666</td>\n",
       "      <td>113</td>\n",
       "      <td>54</td>\n",
       "      <td>84</td>\n",
       "      <td>93</td>\n",
       "      <td>153</td>\n",
       "      <td>969</td>\n",
       "      <td>allenja01</td>\n",
       "      <td>Top</td>\n",
       "    </tr>\n",
       "    <tr>\n",
       "      <th>2</th>\n",
       "      <td>16</td>\n",
       "      <td>17</td>\n",
       "      <td>Deandre Ayton</td>\n",
       "      <td>C</td>\n",
       "      <td>24</td>\n",
       "      <td>PHO</td>\n",
       "      <td>67</td>\n",
       "      <td>2035</td>\n",
       "      <td>19.9</td>\n",
       "      <td>0.617</td>\n",
       "      <td>0.027</td>\n",
       "      <td>0.225</td>\n",
       "      <td>9.2</td>\n",
       "      <td>27.5</td>\n",
       "      <td>18.1</td>\n",
       "      <td>9.2</td>\n",
       "      <td>0.9</td>\n",
       "      <td>2.3</td>\n",
       "      <td>11.0</td>\n",
       "      <td>22.9</td>\n",
       "      <td>NaN</td>\n",
       "      <td>3.3</td>\n",
       "      <td>3.0</td>\n",
       "      <td>6.2</td>\n",
       "      <td>0.147</td>\n",
       "      <td>NaN</td>\n",
       "      <td>0.9</td>\n",
       "      <td>0.0</td>\n",
       "      <td>0.9</td>\n",
       "      <td>1.5</td>\n",
       "      <td>aytonde01</td>\n",
       "      <td>Top</td>\n",
       "      <td>Deandre Ayton</td>\n",
       "      <td>C</td>\n",
       "      <td>24</td>\n",
       "      <td>PHO</td>\n",
       "      <td>67</td>\n",
       "      <td>67</td>\n",
       "      <td>2035</td>\n",
       "      <td>522</td>\n",
       "      <td>887</td>\n",
       "      <td>0.589</td>\n",
       "      <td>7</td>\n",
       "      <td>24</td>\n",
       "      <td>0.292</td>\n",
       "      <td>515</td>\n",
       "      <td>863</td>\n",
       "      <td>0.597</td>\n",
       "      <td>0.592</td>\n",
       "      <td>152</td>\n",
       "      <td>200</td>\n",
       "      <td>0.760</td>\n",
       "      <td>172</td>\n",
       "      <td>495</td>\n",
       "      <td>667</td>\n",
       "      <td>115</td>\n",
       "      <td>37</td>\n",
       "      <td>53</td>\n",
       "      <td>120</td>\n",
       "      <td>190</td>\n",
       "      <td>1203</td>\n",
       "      <td>aytonde01</td>\n",
       "      <td>Top</td>\n",
       "    </tr>\n",
       "    <tr>\n",
       "      <th>3</th>\n",
       "      <td>83</td>\n",
       "      <td>81</td>\n",
       "      <td>Clint Capela</td>\n",
       "      <td>C</td>\n",
       "      <td>28</td>\n",
       "      <td>ATL</td>\n",
       "      <td>65</td>\n",
       "      <td>1730</td>\n",
       "      <td>22.1</td>\n",
       "      <td>0.656</td>\n",
       "      <td>0.002</td>\n",
       "      <td>0.244</td>\n",
       "      <td>16.1</td>\n",
       "      <td>29.4</td>\n",
       "      <td>22.7</td>\n",
       "      <td>4.7</td>\n",
       "      <td>1.2</td>\n",
       "      <td>3.9</td>\n",
       "      <td>8.3</td>\n",
       "      <td>15.7</td>\n",
       "      <td>NaN</td>\n",
       "      <td>4.9</td>\n",
       "      <td>2.4</td>\n",
       "      <td>7.2</td>\n",
       "      <td>0.201</td>\n",
       "      <td>NaN</td>\n",
       "      <td>2.3</td>\n",
       "      <td>-0.1</td>\n",
       "      <td>2.2</td>\n",
       "      <td>1.8</td>\n",
       "      <td>capelca01</td>\n",
       "      <td>Bottom</td>\n",
       "      <td>Clint Capela</td>\n",
       "      <td>C</td>\n",
       "      <td>28</td>\n",
       "      <td>ATL</td>\n",
       "      <td>65</td>\n",
       "      <td>63</td>\n",
       "      <td>1730</td>\n",
       "      <td>350</td>\n",
       "      <td>536</td>\n",
       "      <td>0.653</td>\n",
       "      <td>0</td>\n",
       "      <td>1</td>\n",
       "      <td>0.000</td>\n",
       "      <td>350</td>\n",
       "      <td>535</td>\n",
       "      <td>0.654</td>\n",
       "      <td>0.653</td>\n",
       "      <td>79</td>\n",
       "      <td>131</td>\n",
       "      <td>0.603</td>\n",
       "      <td>258</td>\n",
       "      <td>459</td>\n",
       "      <td>717</td>\n",
       "      <td>58</td>\n",
       "      <td>45</td>\n",
       "      <td>79</td>\n",
       "      <td>54</td>\n",
       "      <td>139</td>\n",
       "      <td>779</td>\n",
       "      <td>capelca01</td>\n",
       "      <td>Bottom</td>\n",
       "    </tr>\n",
       "    <tr>\n",
       "      <th>4</th>\n",
       "      <td>86</td>\n",
       "      <td>84</td>\n",
       "      <td>Wendell Carter Jr.</td>\n",
       "      <td>C</td>\n",
       "      <td>23</td>\n",
       "      <td>ORL</td>\n",
       "      <td>57</td>\n",
       "      <td>1690</td>\n",
       "      <td>17.3</td>\n",
       "      <td>0.621</td>\n",
       "      <td>0.367</td>\n",
       "      <td>0.318</td>\n",
       "      <td>8.0</td>\n",
       "      <td>25.3</td>\n",
       "      <td>16.6</td>\n",
       "      <td>12.0</td>\n",
       "      <td>0.9</td>\n",
       "      <td>1.9</td>\n",
       "      <td>13.2</td>\n",
       "      <td>20.5</td>\n",
       "      <td>NaN</td>\n",
       "      <td>2.6</td>\n",
       "      <td>2.0</td>\n",
       "      <td>4.6</td>\n",
       "      <td>0.130</td>\n",
       "      <td>NaN</td>\n",
       "      <td>0.9</td>\n",
       "      <td>0.1</td>\n",
       "      <td>1.0</td>\n",
       "      <td>1.3</td>\n",
       "      <td>cartewe01</td>\n",
       "      <td>Bottom</td>\n",
       "      <td>Wendell Carter Jr.</td>\n",
       "      <td>C</td>\n",
       "      <td>23</td>\n",
       "      <td>ORL</td>\n",
       "      <td>57</td>\n",
       "      <td>54</td>\n",
       "      <td>1690</td>\n",
       "      <td>322</td>\n",
       "      <td>613</td>\n",
       "      <td>0.525</td>\n",
       "      <td>80</td>\n",
       "      <td>225</td>\n",
       "      <td>0.356</td>\n",
       "      <td>242</td>\n",
       "      <td>388</td>\n",
       "      <td>0.624</td>\n",
       "      <td>0.591</td>\n",
       "      <td>144</td>\n",
       "      <td>195</td>\n",
       "      <td>0.738</td>\n",
       "      <td>120</td>\n",
       "      <td>377</td>\n",
       "      <td>497</td>\n",
       "      <td>132</td>\n",
       "      <td>30</td>\n",
       "      <td>33</td>\n",
       "      <td>106</td>\n",
       "      <td>159</td>\n",
       "      <td>868</td>\n",
       "      <td>cartewe01</td>\n",
       "      <td>Bottom</td>\n",
       "    </tr>\n",
       "  </tbody>\n",
       "</table>\n",
       "</div>"
      ],
      "text/plain": [
       "   index  Rk            Player_x Pos_x  Age_x Tm_x  G_x  MP_x   PER    TS%  \\\n",
       "0      2   3         Bam Adebayo     C     25  MIA   75  2598  20.1  0.592   \n",
       "1      7   8       Jarrett Allen     C     24  CLE   68  2220  19.9  0.670   \n",
       "2     16  17       Deandre Ayton     C     24  PHO   67  2035  19.9  0.617   \n",
       "3     83  81        Clint Capela     C     28  ATL   65  1730  22.1  0.656   \n",
       "4     86  84  Wendell Carter Jr.     C     23  ORL   57  1690  17.3  0.621   \n",
       "\n",
       "    3PAr    FTr  ORB%  DRB%  TRB%  AST%  STL%  BLK%  TOV%  USG%  Unnamed: 19  \\\n",
       "0  0.011  0.361   8.0  23.6  15.5  15.9   1.7   2.4  12.7  25.2          NaN   \n",
       "1  0.016  0.353  11.7  23.6  17.7   7.5   1.2   3.5  11.4  16.4          NaN   \n",
       "2  0.027  0.225   9.2  27.5  18.1   9.2   0.9   2.3  11.0  22.9          NaN   \n",
       "3  0.002  0.244  16.1  29.4  22.7   4.7   1.2   3.9   8.3  15.7          NaN   \n",
       "4  0.367  0.318   8.0  25.3  16.6  12.0   0.9   1.9  13.2  20.5          NaN   \n",
       "\n",
       "   OWS  DWS   WS  WS/48  Unnamed: 24  OBPM  DBPM  BPM  VORP  \\\n",
       "0  3.6  3.8  7.4  0.137          NaN   0.8   0.8  1.5   2.3   \n",
       "1  5.5  4.0  9.5  0.205          NaN   1.3   1.0  2.4   2.4   \n",
       "2  3.3  3.0  6.2  0.147          NaN   0.9   0.0  0.9   1.5   \n",
       "3  4.9  2.4  7.2  0.201          NaN   2.3  -0.1  2.2   1.8   \n",
       "4  2.6  2.0  4.6  0.130          NaN   0.9   0.1  1.0   1.3   \n",
       "\n",
       "  Player-additional_x Standing_x            Player_y Pos_y  Age_y Tm_y  G_y  \\\n",
       "0           adebaba01        Top         Bam Adebayo     C     25  MIA   75   \n",
       "1           allenja01        Top       Jarrett Allen     C     24  CLE   68   \n",
       "2           aytonde01        Top       Deandre Ayton     C     24  PHO   67   \n",
       "3           capelca01     Bottom        Clint Capela     C     28  ATL   65   \n",
       "4           cartewe01     Bottom  Wendell Carter Jr.     C     23  ORL   57   \n",
       "\n",
       "   GS  MP_y   FG   FGA    FG%  3P  3PA    3P%   2P   2PA    2P%   eFG%   FT  \\\n",
       "0  75  2598  602  1114  0.540   1   12  0.083  601  1102  0.545  0.541  324   \n",
       "1  68  2220  403   626  0.644   1   10  0.100  402   616  0.653  0.645  162   \n",
       "2  67  2035  522   887  0.589   7   24  0.292  515   863  0.597  0.592  152   \n",
       "3  63  1730  350   536  0.653   0    1  0.000  350   535  0.654  0.653   79   \n",
       "4  54  1690  322   613  0.525  80  225  0.356  242   388  0.624  0.591  144   \n",
       "\n",
       "   FTA    FT%  ORB  DRB  TRB  AST  STL  BLK  TOV   PF   PTS  \\\n",
       "0  402  0.806  184  504  688  240   88   61  187  208  1529   \n",
       "1  221  0.733  221  445  666  113   54   84   93  153   969   \n",
       "2  200  0.760  172  495  667  115   37   53  120  190  1203   \n",
       "3  131  0.603  258  459  717   58   45   79   54  139   779   \n",
       "4  195  0.738  120  377  497  132   30   33  106  159   868   \n",
       "\n",
       "  Player-additional_y Standing_y  \n",
       "0           adebaba01        Top  \n",
       "1           allenja01        Top  \n",
       "2           aytonde01        Top  \n",
       "3           capelca01     Bottom  \n",
       "4           cartewe01     Bottom  "
      ]
     },
     "execution_count": 27,
     "metadata": {},
     "output_type": "execute_result"
    }
   ],
   "source": [
    "# making one big dataframe with regular and advanced stats\n",
    "full_center = pd.merge(ad_center2, center2, on='Rk')\n",
    "full_center.head()"
   ]
  },
  {
   "cell_type": "code",
   "execution_count": 28,
   "id": "e9537887-ee09-4b7d-a4a4-7eaa468ba650",
   "metadata": {
    "tags": []
   },
   "outputs": [
    {
     "data": {
      "text/html": [
       "<div>\n",
       "<style scoped>\n",
       "    .dataframe tbody tr th:only-of-type {\n",
       "        vertical-align: middle;\n",
       "    }\n",
       "\n",
       "    .dataframe tbody tr th {\n",
       "        vertical-align: top;\n",
       "    }\n",
       "\n",
       "    .dataframe thead th {\n",
       "        text-align: right;\n",
       "    }\n",
       "</style>\n",
       "<table border=\"1\" class=\"dataframe\">\n",
       "  <thead>\n",
       "    <tr style=\"text-align: right;\">\n",
       "      <th></th>\n",
       "      <th>Rk</th>\n",
       "      <th>Player_x</th>\n",
       "      <th>Pos_x</th>\n",
       "      <th>Age_x</th>\n",
       "      <th>Tm_x</th>\n",
       "      <th>G_x</th>\n",
       "      <th>MP_x</th>\n",
       "      <th>PER</th>\n",
       "      <th>TS%</th>\n",
       "      <th>3PAr</th>\n",
       "      <th>FTr</th>\n",
       "      <th>ORB%</th>\n",
       "      <th>DRB%</th>\n",
       "      <th>TRB%</th>\n",
       "      <th>AST%</th>\n",
       "      <th>STL%</th>\n",
       "      <th>BLK%</th>\n",
       "      <th>TOV%</th>\n",
       "      <th>USG%</th>\n",
       "      <th>OWS</th>\n",
       "      <th>DWS</th>\n",
       "      <th>WS</th>\n",
       "      <th>WS/48</th>\n",
       "      <th>OBPM</th>\n",
       "      <th>DBPM</th>\n",
       "      <th>BPM</th>\n",
       "      <th>VORP</th>\n",
       "      <th>Standing_x</th>\n",
       "      <th>GS</th>\n",
       "      <th>FG</th>\n",
       "      <th>FGA</th>\n",
       "      <th>FG%</th>\n",
       "      <th>3P</th>\n",
       "      <th>3PA</th>\n",
       "      <th>3P%</th>\n",
       "      <th>2P</th>\n",
       "      <th>2PA</th>\n",
       "      <th>2P%</th>\n",
       "      <th>eFG%</th>\n",
       "      <th>FT</th>\n",
       "      <th>FTA</th>\n",
       "      <th>FT%</th>\n",
       "      <th>ORB</th>\n",
       "      <th>DRB</th>\n",
       "      <th>TRB</th>\n",
       "      <th>AST</th>\n",
       "      <th>STL</th>\n",
       "      <th>BLK</th>\n",
       "      <th>TOV</th>\n",
       "      <th>PF</th>\n",
       "      <th>PTS</th>\n",
       "      <th>Standing_y</th>\n",
       "    </tr>\n",
       "  </thead>\n",
       "  <tbody>\n",
       "    <tr>\n",
       "      <th>0</th>\n",
       "      <td>3</td>\n",
       "      <td>Bam Adebayo</td>\n",
       "      <td>C</td>\n",
       "      <td>25</td>\n",
       "      <td>MIA</td>\n",
       "      <td>75</td>\n",
       "      <td>2598</td>\n",
       "      <td>20.1</td>\n",
       "      <td>0.592</td>\n",
       "      <td>0.011</td>\n",
       "      <td>0.361</td>\n",
       "      <td>8.0</td>\n",
       "      <td>23.6</td>\n",
       "      <td>15.5</td>\n",
       "      <td>15.9</td>\n",
       "      <td>1.7</td>\n",
       "      <td>2.4</td>\n",
       "      <td>12.7</td>\n",
       "      <td>25.2</td>\n",
       "      <td>3.6</td>\n",
       "      <td>3.8</td>\n",
       "      <td>7.4</td>\n",
       "      <td>0.137</td>\n",
       "      <td>0.8</td>\n",
       "      <td>0.8</td>\n",
       "      <td>1.5</td>\n",
       "      <td>2.3</td>\n",
       "      <td>Top</td>\n",
       "      <td>75</td>\n",
       "      <td>602</td>\n",
       "      <td>1114</td>\n",
       "      <td>0.540</td>\n",
       "      <td>1</td>\n",
       "      <td>12</td>\n",
       "      <td>0.083</td>\n",
       "      <td>601</td>\n",
       "      <td>1102</td>\n",
       "      <td>0.545</td>\n",
       "      <td>0.541</td>\n",
       "      <td>324</td>\n",
       "      <td>402</td>\n",
       "      <td>0.806</td>\n",
       "      <td>184</td>\n",
       "      <td>504</td>\n",
       "      <td>688</td>\n",
       "      <td>240</td>\n",
       "      <td>88</td>\n",
       "      <td>61</td>\n",
       "      <td>187</td>\n",
       "      <td>208</td>\n",
       "      <td>1529</td>\n",
       "      <td>Top</td>\n",
       "    </tr>\n",
       "    <tr>\n",
       "      <th>1</th>\n",
       "      <td>8</td>\n",
       "      <td>Jarrett Allen</td>\n",
       "      <td>C</td>\n",
       "      <td>24</td>\n",
       "      <td>CLE</td>\n",
       "      <td>68</td>\n",
       "      <td>2220</td>\n",
       "      <td>19.9</td>\n",
       "      <td>0.670</td>\n",
       "      <td>0.016</td>\n",
       "      <td>0.353</td>\n",
       "      <td>11.7</td>\n",
       "      <td>23.6</td>\n",
       "      <td>17.7</td>\n",
       "      <td>7.5</td>\n",
       "      <td>1.2</td>\n",
       "      <td>3.5</td>\n",
       "      <td>11.4</td>\n",
       "      <td>16.4</td>\n",
       "      <td>5.5</td>\n",
       "      <td>4.0</td>\n",
       "      <td>9.5</td>\n",
       "      <td>0.205</td>\n",
       "      <td>1.3</td>\n",
       "      <td>1.0</td>\n",
       "      <td>2.4</td>\n",
       "      <td>2.4</td>\n",
       "      <td>Top</td>\n",
       "      <td>68</td>\n",
       "      <td>403</td>\n",
       "      <td>626</td>\n",
       "      <td>0.644</td>\n",
       "      <td>1</td>\n",
       "      <td>10</td>\n",
       "      <td>0.100</td>\n",
       "      <td>402</td>\n",
       "      <td>616</td>\n",
       "      <td>0.653</td>\n",
       "      <td>0.645</td>\n",
       "      <td>162</td>\n",
       "      <td>221</td>\n",
       "      <td>0.733</td>\n",
       "      <td>221</td>\n",
       "      <td>445</td>\n",
       "      <td>666</td>\n",
       "      <td>113</td>\n",
       "      <td>54</td>\n",
       "      <td>84</td>\n",
       "      <td>93</td>\n",
       "      <td>153</td>\n",
       "      <td>969</td>\n",
       "      <td>Top</td>\n",
       "    </tr>\n",
       "    <tr>\n",
       "      <th>2</th>\n",
       "      <td>17</td>\n",
       "      <td>Deandre Ayton</td>\n",
       "      <td>C</td>\n",
       "      <td>24</td>\n",
       "      <td>PHO</td>\n",
       "      <td>67</td>\n",
       "      <td>2035</td>\n",
       "      <td>19.9</td>\n",
       "      <td>0.617</td>\n",
       "      <td>0.027</td>\n",
       "      <td>0.225</td>\n",
       "      <td>9.2</td>\n",
       "      <td>27.5</td>\n",
       "      <td>18.1</td>\n",
       "      <td>9.2</td>\n",
       "      <td>0.9</td>\n",
       "      <td>2.3</td>\n",
       "      <td>11.0</td>\n",
       "      <td>22.9</td>\n",
       "      <td>3.3</td>\n",
       "      <td>3.0</td>\n",
       "      <td>6.2</td>\n",
       "      <td>0.147</td>\n",
       "      <td>0.9</td>\n",
       "      <td>0.0</td>\n",
       "      <td>0.9</td>\n",
       "      <td>1.5</td>\n",
       "      <td>Top</td>\n",
       "      <td>67</td>\n",
       "      <td>522</td>\n",
       "      <td>887</td>\n",
       "      <td>0.589</td>\n",
       "      <td>7</td>\n",
       "      <td>24</td>\n",
       "      <td>0.292</td>\n",
       "      <td>515</td>\n",
       "      <td>863</td>\n",
       "      <td>0.597</td>\n",
       "      <td>0.592</td>\n",
       "      <td>152</td>\n",
       "      <td>200</td>\n",
       "      <td>0.760</td>\n",
       "      <td>172</td>\n",
       "      <td>495</td>\n",
       "      <td>667</td>\n",
       "      <td>115</td>\n",
       "      <td>37</td>\n",
       "      <td>53</td>\n",
       "      <td>120</td>\n",
       "      <td>190</td>\n",
       "      <td>1203</td>\n",
       "      <td>Top</td>\n",
       "    </tr>\n",
       "    <tr>\n",
       "      <th>3</th>\n",
       "      <td>81</td>\n",
       "      <td>Clint Capela</td>\n",
       "      <td>C</td>\n",
       "      <td>28</td>\n",
       "      <td>ATL</td>\n",
       "      <td>65</td>\n",
       "      <td>1730</td>\n",
       "      <td>22.1</td>\n",
       "      <td>0.656</td>\n",
       "      <td>0.002</td>\n",
       "      <td>0.244</td>\n",
       "      <td>16.1</td>\n",
       "      <td>29.4</td>\n",
       "      <td>22.7</td>\n",
       "      <td>4.7</td>\n",
       "      <td>1.2</td>\n",
       "      <td>3.9</td>\n",
       "      <td>8.3</td>\n",
       "      <td>15.7</td>\n",
       "      <td>4.9</td>\n",
       "      <td>2.4</td>\n",
       "      <td>7.2</td>\n",
       "      <td>0.201</td>\n",
       "      <td>2.3</td>\n",
       "      <td>-0.1</td>\n",
       "      <td>2.2</td>\n",
       "      <td>1.8</td>\n",
       "      <td>Bottom</td>\n",
       "      <td>63</td>\n",
       "      <td>350</td>\n",
       "      <td>536</td>\n",
       "      <td>0.653</td>\n",
       "      <td>0</td>\n",
       "      <td>1</td>\n",
       "      <td>0.000</td>\n",
       "      <td>350</td>\n",
       "      <td>535</td>\n",
       "      <td>0.654</td>\n",
       "      <td>0.653</td>\n",
       "      <td>79</td>\n",
       "      <td>131</td>\n",
       "      <td>0.603</td>\n",
       "      <td>258</td>\n",
       "      <td>459</td>\n",
       "      <td>717</td>\n",
       "      <td>58</td>\n",
       "      <td>45</td>\n",
       "      <td>79</td>\n",
       "      <td>54</td>\n",
       "      <td>139</td>\n",
       "      <td>779</td>\n",
       "      <td>Bottom</td>\n",
       "    </tr>\n",
       "    <tr>\n",
       "      <th>4</th>\n",
       "      <td>84</td>\n",
       "      <td>Wendell Carter Jr.</td>\n",
       "      <td>C</td>\n",
       "      <td>23</td>\n",
       "      <td>ORL</td>\n",
       "      <td>57</td>\n",
       "      <td>1690</td>\n",
       "      <td>17.3</td>\n",
       "      <td>0.621</td>\n",
       "      <td>0.367</td>\n",
       "      <td>0.318</td>\n",
       "      <td>8.0</td>\n",
       "      <td>25.3</td>\n",
       "      <td>16.6</td>\n",
       "      <td>12.0</td>\n",
       "      <td>0.9</td>\n",
       "      <td>1.9</td>\n",
       "      <td>13.2</td>\n",
       "      <td>20.5</td>\n",
       "      <td>2.6</td>\n",
       "      <td>2.0</td>\n",
       "      <td>4.6</td>\n",
       "      <td>0.130</td>\n",
       "      <td>0.9</td>\n",
       "      <td>0.1</td>\n",
       "      <td>1.0</td>\n",
       "      <td>1.3</td>\n",
       "      <td>Bottom</td>\n",
       "      <td>54</td>\n",
       "      <td>322</td>\n",
       "      <td>613</td>\n",
       "      <td>0.525</td>\n",
       "      <td>80</td>\n",
       "      <td>225</td>\n",
       "      <td>0.356</td>\n",
       "      <td>242</td>\n",
       "      <td>388</td>\n",
       "      <td>0.624</td>\n",
       "      <td>0.591</td>\n",
       "      <td>144</td>\n",
       "      <td>195</td>\n",
       "      <td>0.738</td>\n",
       "      <td>120</td>\n",
       "      <td>377</td>\n",
       "      <td>497</td>\n",
       "      <td>132</td>\n",
       "      <td>30</td>\n",
       "      <td>33</td>\n",
       "      <td>106</td>\n",
       "      <td>159</td>\n",
       "      <td>868</td>\n",
       "      <td>Bottom</td>\n",
       "    </tr>\n",
       "  </tbody>\n",
       "</table>\n",
       "</div>"
      ],
      "text/plain": [
       "   Rk            Player_x Pos_x  Age_x Tm_x  G_x  MP_x   PER    TS%   3PAr  \\\n",
       "0   3         Bam Adebayo     C     25  MIA   75  2598  20.1  0.592  0.011   \n",
       "1   8       Jarrett Allen     C     24  CLE   68  2220  19.9  0.670  0.016   \n",
       "2  17       Deandre Ayton     C     24  PHO   67  2035  19.9  0.617  0.027   \n",
       "3  81        Clint Capela     C     28  ATL   65  1730  22.1  0.656  0.002   \n",
       "4  84  Wendell Carter Jr.     C     23  ORL   57  1690  17.3  0.621  0.367   \n",
       "\n",
       "     FTr  ORB%  DRB%  TRB%  AST%  STL%  BLK%  TOV%  USG%  OWS  DWS   WS  \\\n",
       "0  0.361   8.0  23.6  15.5  15.9   1.7   2.4  12.7  25.2  3.6  3.8  7.4   \n",
       "1  0.353  11.7  23.6  17.7   7.5   1.2   3.5  11.4  16.4  5.5  4.0  9.5   \n",
       "2  0.225   9.2  27.5  18.1   9.2   0.9   2.3  11.0  22.9  3.3  3.0  6.2   \n",
       "3  0.244  16.1  29.4  22.7   4.7   1.2   3.9   8.3  15.7  4.9  2.4  7.2   \n",
       "4  0.318   8.0  25.3  16.6  12.0   0.9   1.9  13.2  20.5  2.6  2.0  4.6   \n",
       "\n",
       "   WS/48  OBPM  DBPM  BPM  VORP Standing_x  GS   FG   FGA    FG%  3P  3PA  \\\n",
       "0  0.137   0.8   0.8  1.5   2.3        Top  75  602  1114  0.540   1   12   \n",
       "1  0.205   1.3   1.0  2.4   2.4        Top  68  403   626  0.644   1   10   \n",
       "2  0.147   0.9   0.0  0.9   1.5        Top  67  522   887  0.589   7   24   \n",
       "3  0.201   2.3  -0.1  2.2   1.8     Bottom  63  350   536  0.653   0    1   \n",
       "4  0.130   0.9   0.1  1.0   1.3     Bottom  54  322   613  0.525  80  225   \n",
       "\n",
       "     3P%   2P   2PA    2P%   eFG%   FT  FTA    FT%  ORB  DRB  TRB  AST  STL  \\\n",
       "0  0.083  601  1102  0.545  0.541  324  402  0.806  184  504  688  240   88   \n",
       "1  0.100  402   616  0.653  0.645  162  221  0.733  221  445  666  113   54   \n",
       "2  0.292  515   863  0.597  0.592  152  200  0.760  172  495  667  115   37   \n",
       "3  0.000  350   535  0.654  0.653   79  131  0.603  258  459  717   58   45   \n",
       "4  0.356  242   388  0.624  0.591  144  195  0.738  120  377  497  132   30   \n",
       "\n",
       "   BLK  TOV   PF   PTS Standing_y  \n",
       "0   61  187  208  1529        Top  \n",
       "1   84   93  153   969        Top  \n",
       "2   53  120  190  1203        Top  \n",
       "3   79   54  139   779     Bottom  \n",
       "4   33  106  159   868     Bottom  "
      ]
     },
     "execution_count": 28,
     "metadata": {},
     "output_type": "execute_result"
    }
   ],
   "source": [
    "# Removing null or duplicate columns\n",
    "full_center = full_center.drop(columns=['index','Unnamed: 19','Unnamed: 24','Player-additional_x','Player_y',\n",
    "                                        'Pos_y','Age_y','Tm_y','G_y','MP_y','Player-additional_y'])\n",
    "full_center.head()\n",
    "                               "
   ]
  },
  {
   "cell_type": "code",
   "execution_count": 29,
   "id": "352dd988-7c29-42ec-bd48-bf8fd9fe01bb",
   "metadata": {
    "tags": []
   },
   "outputs": [
    {
     "name": "stdout",
     "output_type": "stream",
     "text": [
      "              Player_x  Weighted_Score\n",
      "14        Nikola Jokić        0.972432\n",
      "8          Joel Embiid        0.736519\n",
      "23    Domantas Sabonis        0.571141\n",
      "6        Anthony Davis        0.526742\n",
      "5          Nic Claxton        0.420568\n",
      "0          Bam Adebayo        0.365595\n",
      "27      Nikola Vučević        0.361479\n",
      "13   Jaren Jackson Jr.        0.346793\n",
      "22  Kristaps Porziņģis        0.346789\n",
      "1        Jarrett Allen        0.321704\n",
      "17         Brook Lopez        0.312406\n",
      "15      Walker Kessler        0.310922\n",
      "20       Mason Plumlee        0.284608\n",
      "21        Jakob Poeltl        0.281864\n",
      "24      Alperen Şengün        0.262866\n",
      "16        Kevon Looney        0.260815\n",
      "12          Al Horford        0.260273\n",
      "2        Deandre Ayton        0.254408\n",
      "25        Myles Turner        0.249943\n",
      "11         Rudy Gobert        0.228075\n",
      "3         Clint Capela        0.220064\n",
      "18      Onyeka Okongwu        0.214963\n",
      "10      Daniel Gafford        0.195794\n",
      "28      Christian Wood        0.171374\n",
      "19        Kelly Olynyk        0.161647\n",
      "4   Wendell Carter Jr.        0.153108\n",
      "9         Drew Eubanks        0.152823\n",
      "26   Jonas Valančiūnas        0.146891\n",
      "29         Ivica Zubac        0.133961\n",
      "7          Jalen Duren        0.074030\n"
     ]
    }
   ],
   "source": [
    "# Creating new columns for normalized scores for each significant stat\n",
    "# Creating a column with the sum of all normalized stat lines\n",
    "weights={'2P':0.25,'DBPM':0.25,'BPM':0.25,'VORP':0.25}\n",
    "\n",
    "for stat in weights.keys():\n",
    "    max_val = full_center[stat].max()\n",
    "    full_center.loc[:, stat+'_norm']=full_center[stat]/max_val\n",
    "    \n",
    "full_center.loc[:,'Weighted_Score']=sum([full_center[stat+'_norm']*weight for stat, weight in weights.items()])\n",
    "\n",
    "ranked_c=full_center.sort_values('Weighted_Score',ascending=False)\n",
    "\n",
    "print(ranked_c[['Player_x','Weighted_Score']].head(30))"
   ]
  },
  {
   "cell_type": "markdown",
   "id": "449175cc-f880-42bf-bc16-8f56c56adc14",
   "metadata": {},
   "source": [
    "## Choosing optimal players for new team based on weight and salary"
   ]
  },
  {
   "cell_type": "code",
   "execution_count": 30,
   "id": "dd16ba59-f349-44b4-a4c8-a3db08b44dde",
   "metadata": {
    "tags": []
   },
   "outputs": [
    {
     "data": {
      "text/html": [
       "<div>\n",
       "<style scoped>\n",
       "    .dataframe tbody tr th:only-of-type {\n",
       "        vertical-align: middle;\n",
       "    }\n",
       "\n",
       "    .dataframe tbody tr th {\n",
       "        vertical-align: top;\n",
       "    }\n",
       "\n",
       "    .dataframe thead th {\n",
       "        text-align: right;\n",
       "    }\n",
       "</style>\n",
       "<table border=\"1\" class=\"dataframe\">\n",
       "  <thead>\n",
       "    <tr style=\"text-align: right;\">\n",
       "      <th></th>\n",
       "      <th>Player</th>\n",
       "      <th>Salary</th>\n",
       "    </tr>\n",
       "  </thead>\n",
       "  <tbody>\n",
       "    <tr>\n",
       "      <th>0</th>\n",
       "      <td>Stephen Curry</td>\n",
       "      <td>$48,070,014.00</td>\n",
       "    </tr>\n",
       "    <tr>\n",
       "      <th>1</th>\n",
       "      <td>John Wall</td>\n",
       "      <td>$47,345,760.00</td>\n",
       "    </tr>\n",
       "    <tr>\n",
       "      <th>2</th>\n",
       "      <td>Russell Westbrook</td>\n",
       "      <td>$47,080,179.00</td>\n",
       "    </tr>\n",
       "    <tr>\n",
       "      <th>3</th>\n",
       "      <td>LeBron James</td>\n",
       "      <td>$44,474,988.00</td>\n",
       "    </tr>\n",
       "    <tr>\n",
       "      <th>4</th>\n",
       "      <td>Kevin Durant</td>\n",
       "      <td>$44,119,845.00</td>\n",
       "    </tr>\n",
       "  </tbody>\n",
       "</table>\n",
       "</div>"
      ],
      "text/plain": [
       "              Player          Salary\n",
       "0      Stephen Curry  $48,070,014.00\n",
       "1          John Wall  $47,345,760.00\n",
       "2  Russell Westbrook  $47,080,179.00\n",
       "3       LeBron James  $44,474,988.00\n",
       "4       Kevin Durant  $44,119,845.00"
      ]
     },
     "execution_count": 30,
     "metadata": {},
     "output_type": "execute_result"
    }
   ],
   "source": [
    "# importing player salary and formatting columns\n",
    "salary=pd.read_csv('Nba Player Salaries.csv')\n",
    "salary=salary.rename(columns={'Player Name':'Player','2022/2023':'Salary'})\n",
    "salary=salary.drop(columns=['Player Id','2023/2024','2024/2025','2024/2025.1'])\n",
    "salary.head()"
   ]
  },
  {
   "cell_type": "code",
   "execution_count": 32,
   "id": "1a32f98a-5161-477d-9ec2-1460b3426611",
   "metadata": {
    "tags": []
   },
   "outputs": [],
   "source": [
    "ranked_c=ranked_c.rename(columns={'Player_x':'Player'})"
   ]
  },
  {
   "cell_type": "code",
   "execution_count": 43,
   "id": "f108c5da-1295-4a9f-ab40-4e97b826edbe",
   "metadata": {
    "tags": []
   },
   "outputs": [
    {
     "data": {
      "text/html": [
       "<div>\n",
       "<style scoped>\n",
       "    .dataframe tbody tr th:only-of-type {\n",
       "        vertical-align: middle;\n",
       "    }\n",
       "\n",
       "    .dataframe tbody tr th {\n",
       "        vertical-align: top;\n",
       "    }\n",
       "\n",
       "    .dataframe thead th {\n",
       "        text-align: right;\n",
       "    }\n",
       "</style>\n",
       "<table border=\"1\" class=\"dataframe\">\n",
       "  <thead>\n",
       "    <tr style=\"text-align: right;\">\n",
       "      <th></th>\n",
       "      <th>Rk</th>\n",
       "      <th>Player</th>\n",
       "      <th>Pos_x</th>\n",
       "      <th>Age_x</th>\n",
       "      <th>Tm_x</th>\n",
       "      <th>G_x</th>\n",
       "      <th>MP_x</th>\n",
       "      <th>PER</th>\n",
       "      <th>TS%</th>\n",
       "      <th>3PAr</th>\n",
       "      <th>FTr</th>\n",
       "      <th>ORB%</th>\n",
       "      <th>DRB%</th>\n",
       "      <th>TRB%</th>\n",
       "      <th>AST%</th>\n",
       "      <th>STL%</th>\n",
       "      <th>BLK%</th>\n",
       "      <th>TOV%</th>\n",
       "      <th>USG%</th>\n",
       "      <th>OWS</th>\n",
       "      <th>DWS</th>\n",
       "      <th>WS</th>\n",
       "      <th>WS/48</th>\n",
       "      <th>OBPM</th>\n",
       "      <th>DBPM</th>\n",
       "      <th>BPM</th>\n",
       "      <th>VORP</th>\n",
       "      <th>Standing_x</th>\n",
       "      <th>GS</th>\n",
       "      <th>FG</th>\n",
       "      <th>FGA</th>\n",
       "      <th>FG%</th>\n",
       "      <th>3P</th>\n",
       "      <th>3PA</th>\n",
       "      <th>3P%</th>\n",
       "      <th>2P</th>\n",
       "      <th>2PA</th>\n",
       "      <th>2P%</th>\n",
       "      <th>eFG%</th>\n",
       "      <th>FT</th>\n",
       "      <th>FTA</th>\n",
       "      <th>FT%</th>\n",
       "      <th>ORB</th>\n",
       "      <th>DRB</th>\n",
       "      <th>TRB</th>\n",
       "      <th>AST</th>\n",
       "      <th>STL</th>\n",
       "      <th>BLK</th>\n",
       "      <th>TOV</th>\n",
       "      <th>PF</th>\n",
       "      <th>PTS</th>\n",
       "      <th>Standing_y</th>\n",
       "      <th>2P_norm</th>\n",
       "      <th>DBPM_norm</th>\n",
       "      <th>BPM_norm</th>\n",
       "      <th>VORP_norm</th>\n",
       "      <th>Weighted_Score</th>\n",
       "      <th>Salary</th>\n",
       "    </tr>\n",
       "  </thead>\n",
       "  <tbody>\n",
       "    <tr>\n",
       "      <th>0</th>\n",
       "      <td>249</td>\n",
       "      <td>Nikola Jokić</td>\n",
       "      <td>C</td>\n",
       "      <td>27</td>\n",
       "      <td>DEN</td>\n",
       "      <td>69</td>\n",
       "      <td>2323</td>\n",
       "      <td>31.5</td>\n",
       "      <td>0.701</td>\n",
       "      <td>0.146</td>\n",
       "      <td>0.406</td>\n",
       "      <td>8.5</td>\n",
       "      <td>31.3</td>\n",
       "      <td>20.2</td>\n",
       "      <td>46.6</td>\n",
       "      <td>1.8</td>\n",
       "      <td>1.8</td>\n",
       "      <td>17.0</td>\n",
       "      <td>27.2</td>\n",
       "      <td>11.2</td>\n",
       "      <td>3.8</td>\n",
       "      <td>14.9</td>\n",
       "      <td>0.308</td>\n",
       "      <td>8.5</td>\n",
       "      <td>4.5</td>\n",
       "      <td>13.0</td>\n",
       "      <td>8.8</td>\n",
       "      <td>Top</td>\n",
       "      <td>69</td>\n",
       "      <td>646</td>\n",
       "      <td>1022</td>\n",
       "      <td>0.632</td>\n",
       "      <td>57</td>\n",
       "      <td>149</td>\n",
       "      <td>0.383</td>\n",
       "      <td>589</td>\n",
       "      <td>873</td>\n",
       "      <td>0.675</td>\n",
       "      <td>0.660</td>\n",
       "      <td>341</td>\n",
       "      <td>415</td>\n",
       "      <td>0.822</td>\n",
       "      <td>167</td>\n",
       "      <td>650</td>\n",
       "      <td>817</td>\n",
       "      <td>678</td>\n",
       "      <td>87</td>\n",
       "      <td>47</td>\n",
       "      <td>247</td>\n",
       "      <td>174</td>\n",
       "      <td>1690</td>\n",
       "      <td>Top</td>\n",
       "      <td>0.889728</td>\n",
       "      <td>1.000000</td>\n",
       "      <td>1.000000</td>\n",
       "      <td>1.000000</td>\n",
       "      <td>0.972432</td>\n",
       "      <td>$33,047,803.00</td>\n",
       "    </tr>\n",
       "    <tr>\n",
       "      <th>1</th>\n",
       "      <td>143</td>\n",
       "      <td>Joel Embiid</td>\n",
       "      <td>C</td>\n",
       "      <td>28</td>\n",
       "      <td>PHI</td>\n",
       "      <td>66</td>\n",
       "      <td>2284</td>\n",
       "      <td>31.4</td>\n",
       "      <td>0.655</td>\n",
       "      <td>0.151</td>\n",
       "      <td>0.581</td>\n",
       "      <td>5.9</td>\n",
       "      <td>28.3</td>\n",
       "      <td>17.3</td>\n",
       "      <td>22.9</td>\n",
       "      <td>1.4</td>\n",
       "      <td>4.6</td>\n",
       "      <td>11.9</td>\n",
       "      <td>37.0</td>\n",
       "      <td>8.4</td>\n",
       "      <td>3.9</td>\n",
       "      <td>12.3</td>\n",
       "      <td>0.259</td>\n",
       "      <td>6.8</td>\n",
       "      <td>2.3</td>\n",
       "      <td>9.2</td>\n",
       "      <td>6.4</td>\n",
       "      <td>Top</td>\n",
       "      <td>66</td>\n",
       "      <td>728</td>\n",
       "      <td>1328</td>\n",
       "      <td>0.548</td>\n",
       "      <td>66</td>\n",
       "      <td>200</td>\n",
       "      <td>0.330</td>\n",
       "      <td>662</td>\n",
       "      <td>1128</td>\n",
       "      <td>0.587</td>\n",
       "      <td>0.573</td>\n",
       "      <td>661</td>\n",
       "      <td>771</td>\n",
       "      <td>0.857</td>\n",
       "      <td>113</td>\n",
       "      <td>557</td>\n",
       "      <td>670</td>\n",
       "      <td>274</td>\n",
       "      <td>66</td>\n",
       "      <td>112</td>\n",
       "      <td>226</td>\n",
       "      <td>205</td>\n",
       "      <td>2183</td>\n",
       "      <td>Top</td>\n",
       "      <td>1.000000</td>\n",
       "      <td>0.511111</td>\n",
       "      <td>0.707692</td>\n",
       "      <td>0.727273</td>\n",
       "      <td>0.736519</td>\n",
       "      <td>$33,616,770.00</td>\n",
       "    </tr>\n",
       "    <tr>\n",
       "      <th>2</th>\n",
       "      <td>428</td>\n",
       "      <td>Domantas Sabonis</td>\n",
       "      <td>C</td>\n",
       "      <td>26</td>\n",
       "      <td>SAC</td>\n",
       "      <td>79</td>\n",
       "      <td>2736</td>\n",
       "      <td>23.5</td>\n",
       "      <td>0.668</td>\n",
       "      <td>0.088</td>\n",
       "      <td>0.467</td>\n",
       "      <td>10.6</td>\n",
       "      <td>30.0</td>\n",
       "      <td>20.3</td>\n",
       "      <td>30.4</td>\n",
       "      <td>1.1</td>\n",
       "      <td>1.2</td>\n",
       "      <td>16.9</td>\n",
       "      <td>21.3</td>\n",
       "      <td>9.6</td>\n",
       "      <td>3.0</td>\n",
       "      <td>12.6</td>\n",
       "      <td>0.221</td>\n",
       "      <td>4.1</td>\n",
       "      <td>1.8</td>\n",
       "      <td>5.8</td>\n",
       "      <td>5.4</td>\n",
       "      <td>Top</td>\n",
       "      <td>79</td>\n",
       "      <td>577</td>\n",
       "      <td>938</td>\n",
       "      <td>0.615</td>\n",
       "      <td>31</td>\n",
       "      <td>83</td>\n",
       "      <td>0.373</td>\n",
       "      <td>546</td>\n",
       "      <td>855</td>\n",
       "      <td>0.639</td>\n",
       "      <td>0.632</td>\n",
       "      <td>325</td>\n",
       "      <td>438</td>\n",
       "      <td>0.742</td>\n",
       "      <td>251</td>\n",
       "      <td>722</td>\n",
       "      <td>973</td>\n",
       "      <td>573</td>\n",
       "      <td>65</td>\n",
       "      <td>39</td>\n",
       "      <td>230</td>\n",
       "      <td>279</td>\n",
       "      <td>1510</td>\n",
       "      <td>Top</td>\n",
       "      <td>0.824773</td>\n",
       "      <td>0.400000</td>\n",
       "      <td>0.446154</td>\n",
       "      <td>0.613636</td>\n",
       "      <td>0.571141</td>\n",
       "      <td>$21,100,000.00</td>\n",
       "    </tr>\n",
       "  </tbody>\n",
       "</table>\n",
       "</div>"
      ],
      "text/plain": [
       "    Rk            Player Pos_x  Age_x Tm_x  G_x  MP_x   PER    TS%   3PAr  \\\n",
       "0  249      Nikola Jokić     C     27  DEN   69  2323  31.5  0.701  0.146   \n",
       "1  143       Joel Embiid     C     28  PHI   66  2284  31.4  0.655  0.151   \n",
       "2  428  Domantas Sabonis     C     26  SAC   79  2736  23.5  0.668  0.088   \n",
       "\n",
       "     FTr  ORB%  DRB%  TRB%  AST%  STL%  BLK%  TOV%  USG%   OWS  DWS    WS  \\\n",
       "0  0.406   8.5  31.3  20.2  46.6   1.8   1.8  17.0  27.2  11.2  3.8  14.9   \n",
       "1  0.581   5.9  28.3  17.3  22.9   1.4   4.6  11.9  37.0   8.4  3.9  12.3   \n",
       "2  0.467  10.6  30.0  20.3  30.4   1.1   1.2  16.9  21.3   9.6  3.0  12.6   \n",
       "\n",
       "   WS/48  OBPM  DBPM   BPM  VORP Standing_x  GS   FG   FGA    FG%  3P  3PA  \\\n",
       "0  0.308   8.5   4.5  13.0   8.8        Top  69  646  1022  0.632  57  149   \n",
       "1  0.259   6.8   2.3   9.2   6.4        Top  66  728  1328  0.548  66  200   \n",
       "2  0.221   4.1   1.8   5.8   5.4        Top  79  577   938  0.615  31   83   \n",
       "\n",
       "     3P%   2P   2PA    2P%   eFG%   FT  FTA    FT%  ORB  DRB  TRB  AST  STL  \\\n",
       "0  0.383  589   873  0.675  0.660  341  415  0.822  167  650  817  678   87   \n",
       "1  0.330  662  1128  0.587  0.573  661  771  0.857  113  557  670  274   66   \n",
       "2  0.373  546   855  0.639  0.632  325  438  0.742  251  722  973  573   65   \n",
       "\n",
       "   BLK  TOV   PF   PTS Standing_y   2P_norm  DBPM_norm  BPM_norm  VORP_norm  \\\n",
       "0   47  247  174  1690        Top  0.889728   1.000000  1.000000   1.000000   \n",
       "1  112  226  205  2183        Top  1.000000   0.511111  0.707692   0.727273   \n",
       "2   39  230  279  1510        Top  0.824773   0.400000  0.446154   0.613636   \n",
       "\n",
       "   Weighted_Score          Salary  \n",
       "0        0.972432  $33,047,803.00  \n",
       "1        0.736519  $33,616,770.00  \n",
       "2        0.571141  $21,100,000.00  "
      ]
     },
     "execution_count": 43,
     "metadata": {},
     "output_type": "execute_result"
    }
   ],
   "source": [
    "# merging full data frame with centers ranked by weighted score with their salaries\n",
    "ranked_c2=pd.merge(ranked_c,salary,on='Player',how='left')\n",
    "ranked_c2.head(3)"
   ]
  },
  {
   "cell_type": "code",
   "execution_count": 44,
   "id": "11ed8541-28cb-40a1-af95-a70d192d4bc9",
   "metadata": {
    "tags": []
   },
   "outputs": [],
   "source": [
    "ranked_c2=ranked_c2.rename(columns={'Pos_x':'Pos','Tm_x':'Tm'})"
   ]
  },
  {
   "cell_type": "code",
   "execution_count": 45,
   "id": "cdd57d64-3917-46ca-8157-531e866967d8",
   "metadata": {
    "tags": []
   },
   "outputs": [],
   "source": [
    "# Manually adding in missing salary\n",
    "ranked_c2.loc[8,'Salary']='$33,833,400.00'"
   ]
  },
  {
   "cell_type": "code",
   "execution_count": 46,
   "id": "fce74cd7-4c1d-4776-83da-0ed1bf7cc9c5",
   "metadata": {
    "tags": []
   },
   "outputs": [],
   "source": [
    "# Removing dollar signs in salary\n",
    "for i in range(len(ranked_c2)):\n",
    "    ranked_c2.loc[i,'Salary']=ranked_c2.loc[i,'Salary'].strip('$')"
   ]
  },
  {
   "cell_type": "code",
   "execution_count": 47,
   "id": "6488db9b-f6d5-455e-8218-8dcd33597b33",
   "metadata": {
    "tags": []
   },
   "outputs": [],
   "source": [
    "# Removing decimal and following zeroes from salary\n",
    "for i in range(len(ranked_c2)):\n",
    "    ranked_c2.loc[i,'Salary']=ranked_c2.loc[i,'Salary'][:-3]"
   ]
  },
  {
   "cell_type": "code",
   "execution_count": 48,
   "id": "85022636-dc53-4406-b6f8-1944f004cdd5",
   "metadata": {
    "tags": []
   },
   "outputs": [],
   "source": [
    "# removing commas from salary\n",
    "for i in range(len(ranked_c2)):\n",
    "    ranked_c2.loc[i,'Salary']=ranked_c2.loc[i,'Salary'].replace(',','')"
   ]
  },
  {
   "cell_type": "code",
   "execution_count": 49,
   "id": "ad4195b6-fc92-4560-802c-07e2da3f06c1",
   "metadata": {
    "tags": []
   },
   "outputs": [],
   "source": [
    "# making salary column integer\n",
    "for i in range(len(ranked_c2)):\n",
    "    ranked_c2.loc[i,'Salary']=int(ranked_c2.loc[i,'Salary'])"
   ]
  },
  {
   "cell_type": "code",
   "execution_count": 58,
   "id": "a75e5ec3-3bcf-4891-bc95-bc5f5c35e0f2",
   "metadata": {
    "tags": []
   },
   "outputs": [],
   "source": [
    "ranked_c2=ranked_c2.rename(columns={'Standing_x':'Standing'})"
   ]
  },
  {
   "cell_type": "code",
   "execution_count": 88,
   "id": "c3745e7f-27b0-4da5-95b6-343949f13c90",
   "metadata": {
    "tags": []
   },
   "outputs": [
    {
     "data": {
      "text/plain": [
       "Text(0.32, 3000000, 'Avg. Weighted Score')"
      ]
     },
     "execution_count": 88,
     "metadata": {},
     "output_type": "execute_result"
    },
    {
     "data": {
      "image/png": "[encoded data removed]",
      "text/plain": [
       "<Figure size 1000x500 with 1 Axes>"
      ]
     },
     "metadata": {},
     "output_type": "display_data"
    }
   ],
   "source": [
    "# Scatterplot depicting player salary vs weighted score\n",
    "fig=sns.scatterplot(data = ranked_c2, \n",
    "                x = 'Weighted_Score', \n",
    "                y = 'Salary', \n",
    "                hue = 'Standing')\n",
    "\n",
    "plt.title(\"Salary vs. Weighted Score for Centers\", \n",
    "          loc= 'left',\n",
    "          fontsize = 12,\n",
    "          fontweight = 'bold',\n",
    "          pad = 10)\n",
    "\n",
    "plt.ylabel(\"Salary ($10M)\", fontsize = 10)\n",
    "\n",
    "plt.xlabel(\"Weighted Score\", fontsize = 10)\n",
    "\n",
    "avg_salary = ranked_c2['Salary'].mean()\n",
    "avg_score = ranked_c2['Weighted_Score'].mean()\n",
    "\n",
    "plt.axvline(x = avg_score, color = 'orange', linestyle = '--')\n",
    "plt.axhline(y = avg_salary, color = 'orange', linestyle = '--')\n",
    "\n",
    "plt.annotate(\"Avg. Salary\", \n",
    "             (0.9,18700000), \n",
    "             color = \"orange\", \n",
    "             fontsize = 9)\n",
    "\n",
    "plt.annotate(\"Avg. Weighted Score\", \n",
    "             (0.32,3000000), \n",
    "             color = \"orange\", \n",
    "             fontsize = 9)"
   ]
  },
  {
   "cell_type": "code",
   "execution_count": 57,
   "id": "5364f8da-6336-440d-82e8-5dca94ede1dc",
   "metadata": {
    "tags": []
   },
   "outputs": [],
   "source": [
    "# exporting center ranking for optimization\n",
    "ranked_c4=ranked_c2[['Player','Tm','Pos','Weighted_Score','Salary']]\n",
    "ranked_c4.head()\n",
    "ranked_c4.to_csv('centers_final_list.csv')"
   ]
  },
  {
   "cell_type": "code",
   "execution_count": 13,
   "id": "9b2ca3bc-f00e-47b2-b9f8-1323b54a912a",
   "metadata": {
    "tags": []
   },
   "outputs": [
    {
     "data": {
      "image/png": "[encoded data removed]",
      "text/plain": [
       "<Figure size 900x500 with 1 Axes>"
      ]
     },
     "metadata": {},
     "output_type": "display_data"
    }
   ],
   "source": [
    "# Scatterplot depicting player salary vs weighted score\n",
    "full=pd.read_csv('full.csv')\n",
    "fig=sns.scatterplot(data = full, \n",
    "                x = 'Weighted_Score', \n",
    "                y = 'Salary', \n",
    "                hue = 'Pos')\n",
    "\n",
    "plt.title(\"Salary vs. Weighted Score\", \n",
    "          loc= 'left',\n",
    "          fontsize = 12,\n",
    "          fontweight = 'bold',\n",
    "          pad = 10)\n",
    "\n",
    "plt.ylabel(\"Salary ($10M)\", fontsize = 10)\n",
    "\n",
    "plt.xlabel(\"Weighted Score\", fontsize = 10)\n",
    "\n",
    "avg_salary = full['Salary'].mean()\n",
    "avg_score = full['Weighted_Score'].mean()\n",
    "\n",
    "plt.axvline(x = avg_score, color = 'grey', linestyle = '--')\n",
    "plt.axhline(y = avg_salary, color = 'grey', linestyle = '--')\n",
    "\n",
    "plt.annotate(\"Avg. Salary\", \n",
    "             (0.9,14700000), \n",
    "             color = \"green\", \n",
    "             fontsize = 9)\n",
    "\n",
    "plt.annotate(\"Avg. Weighted Score\", \n",
    "             (0.47,48400000), \n",
    "             color = \"green\", \n",
    "             fontsize = 9)\n",
    "            \n",
    "plt.rcParams[\"figure.figsize\"] = (9,5)"
   ]
  },
  {
   "cell_type": "code",
   "execution_count": null,
   "id": "2554d3bb-aec6-4cd2-bb9c-21f00a894b17",
   "metadata": {},
   "outputs": [],
   "source": []
  }
 ],
 "metadata": {
  "kernelspec": {
   "display_name": "Python 3 (ipykernel)",
   "language": "python",
   "name": "python3"
  },
  "language_info": {
   "codemirror_mode": {
    "name": "ipython",
    "version": 3
   },
   "file_extension": ".py",
   "mimetype": "text/x-python",
   "name": "python",
   "nbconvert_exporter": "python",
   "pygments_lexer": "ipython3",
   "version": "3.11.4"
  }
 },
 "nbformat": 4,
 "nbformat_minor": 5
}
