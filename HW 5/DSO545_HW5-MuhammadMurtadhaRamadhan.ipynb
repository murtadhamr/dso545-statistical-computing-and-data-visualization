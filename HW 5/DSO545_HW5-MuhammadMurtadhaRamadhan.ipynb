{
 "cells": [
  {
   "cell_type": "markdown",
   "id": "03007f57",
   "metadata": {},
   "source": [
    "# Homework 5\n",
    "\n",
    " ### Due: Tuesday Nov 21, at 11:59pm via Blackboard\n"
   ]
  },
  {
   "cell_type": "markdown",
   "id": "9caf6a6c",
   "metadata": {},
   "source": [
    "Import the necessary panda libraries"
   ]
  },
  {
   "cell_type": "code",
   "execution_count": 2,
   "id": "a8c7387f",
   "metadata": {
    "tags": []
   },
   "outputs": [],
   "source": [
    "import numpy as np # for mathematical caluclations\n",
    "import pandas as pd \n",
    "from datetime import datetime  # to access datetime\n",
    "import scipy.stats as stats\n",
    "\n",
    "# for data visualization\n",
    "import matplotlib.pyplot as plt \n",
    "import seaborn as sns \n",
    "import plotly.express as px # for interactive plotting\n",
    "import plotly.graph_objects as go # for interactive plotting\n",
    "\n",
    "# set the plot style in matplotlib to ggplot and the firgure size to 15x5## Augmented Dickey Fuller Test for Assessing Stationarity\n",
    "plt.style.use('ggplot')\n",
    "plt.rcParams[\"figure.figsize\"] = (15,5)\n",
    "\n",
    "# for ingnoring warnings\n",
    "import warnings # to ignore warning\n",
    "warnings.filterwarnings('ignore')\n"
   ]
  },
  {
   "cell_type": "markdown",
   "id": "6b7ff525",
   "metadata": {},
   "source": [
    "Q1. The stacked bar graph below shows the results of Pew Research Center's study on Trust in different levels of Government by the American public. Using plotly graph objects, re-create the bar graph below. (3 points)"
   ]
  },
  {
   "cell_type": "markdown",
   "id": "217d02aa",
   "metadata": {},
   "source": [
    "\n",
    "\n",
    "\n",
    "\n",
    "\n",
    "\n",
    "\n",
    "\n",
    "\n",
    "\n",
    "\n",
    "\n",
    "\n",
    "\n",
    "\n",
    "\n",
    "\n",
    "\n",
    "\n",
    "\n",
    "\n",
    "\n",
    "\n",
    "\n",
    "\n",
    "\n",
    "\n",
    "\n",
    "\n",
    "\n",
    "\n",
    "\n",
    "\n"
   ]
  },
  {
   "cell_type": "markdown",
   "id": "3ad5bf30",
   "metadata": {},
   "source": [
    "\n"
   ]
  },
  {
   "cell_type": "code",
   "execution_count": null,
   "id": "491c1cad-08e9-4b2f-8f32-ea406904e481",
   "metadata": {
    "tags": []
   },
   "outputs": [],
   "source": [
    "import plotly.graph_objects as go\n",
    "\n",
    "top_labels = ['None of<br>the Time', 'Only Some<br>of the Time', 'Just About<br>Always', 'Most of<br>the Time']\n",
    "\n",
    "# colors are arranged from darkets to lightest\n",
    "colors = ['rgba(38, 24, 74, 0.8)', 'rgba(71, 58, 131, 0.8)',\n",
    "          'rgba(122, 120, 168, 0.8)', 'rgba(164, 163, 204, 0.85)',\n",
    "          'rgba(190, 192, 213, 1)']\n",
    "\n",
    "# each list have the distribution of responses \n",
    "x_data = [[4, 36, 46, 12],\n",
    "          [3, 29, 53, 13],\n",
    "          [3, 20, 56, 19]]\n",
    "\n",
    "# the list of questions\n",
    "y_data = ['Federal Government',\n",
    "          'State Government', \n",
    "          'Local Government']\n",
    "\n",
    "\n",
    "fig = go.Figure()\n",
    "\n",
    "# outer loop: 5 times (scale: Strongly agree, Agree, etc.)\n",
    "# inner loop: 4 times (4 questions each with a list of responses)\n",
    "# for each of the 5 scales (i), and for each question (yd) with its list of responses (xd[i]):\n",
    "#   # Create a barchart for each question and its corresponding list of 5 ratings\n",
    "\n",
    "\n",
    "for i in range(0, len(x_data[0])):\n",
    "    for xd, yd in zip(x_data, y_data):\n",
    "        fig.add_trace(go.Bar(\n",
    "            x=[xd[i]], y=[yd],\n",
    "            orientation='h',\n",
    "            marker=dict(\n",
    "                color=colors[i],\n",
    "                line=dict(color='rgb(248, 248, 249)', width=1)\n",
    "            )\n",
    "        ))\n",
    "\n",
    "# update the layout of the figure: \n",
    "# 1. get rid of all grids, lines, ticklabels on both x and y axis \n",
    "# 2. update the bar chart to a stack barchart using `barmode = 'stack'`\n",
    "# 3. get rid of the legend \n",
    "# 4. update the margines lengths\n",
    "# 5. set the plot and paper background color to white\n",
    "\n",
    "fig.update_layout(\n",
    "    xaxis=dict(\n",
    "        showgrid=False,\n",
    "        showline=False,\n",
    "        showticklabels=False,\n",
    "        zeroline=False,\n",
    "        domain=[0.15, 1]\n",
    "    ),\n",
    "    yaxis=dict(\n",
    "        showgrid=False,\n",
    "        showline=False,\n",
    "        showticklabels=False,\n",
    "        zeroline=False,\n",
    "    ),\n",
    "    barmode='stack', # change type of barchart to stacked\n",
    "    paper_bgcolor='rgb(248, 248, 255)',\n",
    "    plot_bgcolor='rgb(248, 248, 255)',\n",
    "    margin=dict(l=120, r=10, t=140, b=80),\n",
    "    showlegend=False,\n",
    ")\n",
    "\n",
    "fig.update_layout(\n",
    "    title=\"<b>Trust in Levels of Government</b>\",\n",
    "    font=dict(\n",
    "        size=20\n",
    "    )\n",
    "    \n",
    "    \n",
    ")\n",
    "\n",
    "# fig.update_layout(xaxis_title=\"X Axis Title\", font=dict(size=18), xaxis=dict(anchor=\"y2\"))\n",
    "\n",
    "\n",
    "\n",
    "# let's add the annotations to each 'box' on the graph\n",
    "# add labels for the axes\n",
    "\n",
    "annotations = []\n",
    "for yd, xd in zip(y_data, x_data):\n",
    "    # labeling the y-axis: questions\n",
    "    annotations.append(dict(xref='paper', #x = 0.14 in referance to the whole figure (paper)\n",
    "                            yref='y', # y= yd in reference to the regular y axis on the plot\n",
    "                            x=0.14, y=yd,\n",
    "                            xanchor='right',\n",
    "                            text=str(yd),\n",
    "                            font=dict(family='Arial', size=14,\n",
    "                                      color='rgb(67, 67, 67)'),\n",
    "                            showarrow=False, align='right'))\n",
    "    \n",
    "    \n",
    "    # # labeling the first percentage of each bar (x_axis)\n",
    "    annotations.append(dict(xref='x', yref='y',\n",
    "                            x=xd[0] / 2, y=yd, # to center the position for x, divide by 2\n",
    "                            text=str(xd[0]) + '%', # this is the real value of x (the one to show)\n",
    "                            font=dict(family='Arial', size=14,\n",
    "                                      color='rgb(248, 248, 255)'),\n",
    "                            showarrow=False))\n",
    "\n",
    "    #labeling the first Likert scale (on the top)\n",
    "    if yd == y_data[-1]:\n",
    "        annotations.append(dict(xref='x', yref='paper',\n",
    "                                x=xd[0] / 2, y=1.3,\n",
    "                                text=top_labels[0],\n",
    "                                font=dict(family='Arial', size=14,\n",
    "                                            color='rgb(67, 67, 67)'),\n",
    "                                showarrow=False))\n",
    "    \n",
    "    # In the following loop, we go over the rest of labels\n",
    "    space = xd[0] # how much space is needed between each label (Strongly agree, agree, etc.)\n",
    "    for i in range(1, len(xd)):\n",
    "            # labeling the rest of percentages for each bar (x_axis)\n",
    "            annotations.append(dict(xref='x', yref='y',\n",
    "                                    x=space + (xd[i]/2), y=yd,\n",
    "                                    text=str(xd[i]) + '%',\n",
    "                                    font=dict(family='Arial', size=14,\n",
    "                                                color='rgb(248, 248, 255)'),\n",
    "                                    showarrow=False))\n",
    "            # labeling the Likert scale\n",
    "            if yd == y_data[-1]:\n",
    "                annotations.append(dict(xref='x', yref='paper',\n",
    "                                        x=space + (xd[i]/2), y=1.3,\n",
    "                                        text=top_labels[i],\n",
    "                                        font=dict(family='Arial', size=14,\n",
    "                                                    color='rgb(67, 67, 67)'),\n",
    "                                        showarrow=False))\n",
    "            space += xd[i]\n",
    "\n",
    "fig.update_layout(annotations=annotations)\n",
    "\n",
    "fig.add_annotation(dict(font=dict(color='gray',size=12),\n",
    "                                        y=-0.5,\n",
    "                                        showarrow=False,\n",
    "                                        text=\"Source: Pew Research Center\",\n",
    "                                        textangle=0,\n",
    "                                        xanchor='center',\n",
    "                                        xref=\"paper\",\n",
    "                                        yref=\"paper\"))\n",
    "\n",
    "\n",
    "fig.show()"
   ]
  },
  {
   "cell_type": "markdown",
   "id": "c59edc3e",
   "metadata": {},
   "source": [
    "Q2.The plot below shows the total population by county of the states of Illinois, Michigan and Wisconsin. Import the csv file 'population' and using plotly's choropleth mapbox function, re-create the plot below. (3 points)"
   ]
  },
  {
   "cell_type": "code",
   "execution_count": null,
   "id": "f913d839-91ac-4e60-bf96-e11ce53d90b8",
   "metadata": {
    "tags": []
   },
   "outputs": [],
   "source": [
    "from urllib.request import urlopen\n",
    "import json\n",
    "with urlopen('https://raw.githubusercontent.com/plotly/datasets/master/geojson-counties-fips.json') as response:\n",
    "    counties = json.load(response)\n",
    "\n",
    "import pandas as pd\n",
    "df = pd.read_csv(\"population.csv\", dtype={\"FIPS\": str})  # Updated column name to match the CSV file\n",
    "\n",
    "states_to_include = ['Illinois', 'Michigan', 'Wisconsin']  # Full state names\n",
    "\n",
    "df_filtered = df[df['STNAME'].isin(states_to_include)]\n",
    "\n",
    "import plotly.express as px\n",
    "\n",
    "fig = px.choropleth_mapbox(df_filtered, geojson=counties, locations='FIPS', color='TOT_POP',  # Updated column name\n",
    "                           color_continuous_scale=\"electric\",\n",
    "                           range_color=(5000, 50000),\n",
    "                           mapbox_style=\"carto-positron\",\n",
    "                           zoom=3, center = {\"lat\": 36.7782, \"lon\": -90.4179},\n",
    "                           opacity=0.5,\n",
    "                           labels={'TOT_POP': 'Total Population'}  # Updated label name\n",
    "                          )\n",
    "fig.update_layout(margin={\"r\":0,\"t\":0,\"l\":0,\"b\":0})\n",
    "fig.show()"
   ]
  },
  {
   "cell_type": "markdown",
   "id": "a8461d00",
   "metadata": {},
   "source": [
    "Q3. The Excel file \"ConSpend\" shows the consumer spending patterns (Sales) by several variables including gender, when the purchase was made (day), payment method type. Import the file. We are interesteed to see if there is a difference between weekend and weekday spenings. Create a new categorial variable \"Weekend\" that classifies the \"day\" into weekend if its Friday, Saturday or Sunday, and weekday otherwise. (3 points)  "
   ]
  },
  {
   "cell_type": "markdown",
   "id": "c2b33bcd",
   "metadata": {},
   "source": [
    "Using Seaborn, create a histogram showing Sales for weekend and weekdays, with a transparanecy of 0.3 (2 points)"
   ]
  },
  {
   "cell_type": "code",
   "execution_count": null,
   "id": "7482dc1a-6fb8-493d-b21a-70fa3a393a3d",
   "metadata": {
    "tags": []
   },
   "outputs": [],
   "source": [
    "import seaborn as sns\n",
    "plt.style.use('default')\n",
    "conspend = pd.read_excel('ConSpend.xlsx')\n",
    "conspend['Weekend'] = ['Weekend' if x in ['Sunday', 'Saturday', 'Friday'] else 'Weekday' for x in conspend['Day']]\n",
    "sns.histplot(conspend, x=\"Sales\", hue=\"Weekend\", element=\"step\", alpha = 0.3)"
   ]
  },
  {
   "cell_type": "markdown",
   "id": "d4c10cdd",
   "metadata": {},
   "source": [
    "Q4. Using plotly, create overlapping histograms that show the sales by weekdays and weekends, with an opacity of 0,3. Pass the 'marginal' argument into the function to also show a \"box\" plot.\" Also, set x-axis ticks to '50' and the plot background color to white (4 points)."
   ]
  },
  {
   "cell_type": "code",
   "execution_count": null,
   "id": "94002467",
   "metadata": {
    "tags": []
   },
   "outputs": [],
   "source": [
    "import plotly.express as px\n",
    "fig = px.histogram(conspend, x=\"Sales\", color=\"Weekend\",\n",
    "                   marginal=\"box\", # or violin, rug\n",
    "                   hover_data=conspend.columns,\n",
    "                   width=800, height=600,\n",
    "                   title='Sales by Weekend versus Weekdays',\n",
    "                   # template='simple_white', \n",
    "           \n",
    "                   )\n",
    "fig.update_traces(opacity=.3)\n",
    "fig.update_layout(barmode = 'overlay', plot_bgcolor = ('rgba(0, 0, 0, 0)'))\n",
    "# fig.update_xaxes(dtick = 50, ticks = 'outside', showline = True, linecolor = 'black', mirror = False)\n",
    "\n",
    "fig.show()"
   ]
  },
  {
   "cell_type": "markdown",
   "id": "a14be11d",
   "metadata": {},
   "source": [
    "Q5. Using Seaborn, create boxplots showing Sales for weekend and weekdays and eliminated the outliers (2 points)"
   ]
  },
  {
   "cell_type": "code",
   "execution_count": null,
   "id": "c2037a92-69f2-42c5-b8d7-6c289f6f6257",
   "metadata": {
    "tags": []
   },
   "outputs": [],
   "source": [
    "import seaborn as sns\n",
    "plt.figure(figsize=(5, 5))\n",
    "sns.boxplot(conspend, y = 'Sales', x = 'Weekend',showfliers=False)\n",
    "sns.despine()"
   ]
  },
  {
   "cell_type": "markdown",
   "id": "19fd8e14",
   "metadata": {},
   "source": [
    "Q6. Using plotly, create box plots to show weekend versu weekday sales, differentiated by color.Alos show the distribution of data points on the plot (2 points)."
   ]
  },
  {
   "cell_type": "code",
   "execution_count": null,
   "id": "6eebfc7f-344a-4f81-be13-7b55f2689c3b",
   "metadata": {
    "tags": []
   },
   "outputs": [],
   "source": [
    "import plotly.express as px\n",
    "fig = px.box(conspend, x=\"Weekend\", y=\"Sales\", points='all', color=\"Weekend\", color_discrete_sequence=['blue', 'green'], width=1000, height=600)\n",
    "fig.show()"
   ]
  },
  {
   "cell_type": "markdown",
   "id": "f6b39948",
   "metadata": {},
   "source": [
    "Q7. Generate the summary statistics for weekend and weekday sales. Is there a difference in the value of the sample means? (2 points)"
   ]
  },
  {
   "cell_type": "code",
   "execution_count": null,
   "id": "09ee34af",
   "metadata": {
    "tags": []
   },
   "outputs": [],
   "source": [
    "conspend[['Weekend', 'Sales']].groupby('Weekend').describe()"
   ]
  },
  {
   "cell_type": "markdown",
   "id": "b598b54e-07fb-4f87-a183-a2c0be19f7da",
   "metadata": {},
   "source": [
    "<b>Summary</b>: Seeing the summary statistics, there is difference of sample means value between weekend and weekday"
   ]
  },
  {
   "cell_type": "markdown",
   "id": "7ec05b54",
   "metadata": {},
   "source": [
    "Q8. At an alpha of 0.05, is there a statitsical difference between sales on weekday versus weekends? Show your statitscal test and explain. (4 points)"
   ]
  },
  {
   "cell_type": "code",
   "execution_count": null,
   "id": "ff69b389",
   "metadata": {
    "tags": []
   },
   "outputs": [],
   "source": [
    "stats.ttest_ind(a=conspend[conspend.Weekend == 'Weekend']['Sales'], b=conspend[conspend.Weekend == 'Weekday']['Sales'], equal_var=True)"
   ]
  },
  {
   "cell_type": "markdown",
   "id": "ed7c9a3d-f7bc-46a1-96e5-8e4ee732bcde",
   "metadata": {
    "tags": []
   },
   "source": [
    "<b>Summary</b>: Seeing the statistics test, there is no statistical difference of sample means value between weekend and weekday since the p-value obtained from the test is above 0.05"
   ]
  }
 ],
 "metadata": {
  "kernelspec": {
   "display_name": "Python 3 (ipykernel)",
   "language": "python",
   "name": "python3"
  },
  "language_info": {
   "codemirror_mode": {
    "name": "ipython",
    "version": 3
   },
   "file_extension": ".py",
   "mimetype": "text/x-python",
   "name": "python",
   "nbconvert_exporter": "python",
   "pygments_lexer": "ipython3",
   "version": "3.11.4"
  }
 },
 "nbformat": 4,
 "nbformat_minor": 5
}
