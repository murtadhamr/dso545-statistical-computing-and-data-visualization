{
 "cells": [
  {
   "cell_type": "markdown",
   "metadata": {
    "id": "ty_Gvth62Tav"
   },
   "source": [
    "# Homework 4\n",
    "\n",
    "\n",
    "### Due: Thursday Nov 2, at 11:59pm via Blackboard"
   ]
  },
  {
   "cell_type": "markdown",
   "metadata": {},
   "source": [
    "Q1. Import the necessary panda libraries (1 point)"
   ]
  },
  {
   "cell_type": "code",
   "execution_count": 1,
   "metadata": {},
   "outputs": [],
   "source": [
    "\n",
    "\n",
    "\n",
    "\n"
   ]
  },
  {
   "cell_type": "markdown",
   "metadata": {},
   "source": [
    "Q2A. Using Yahoo Finance import the stock data for Meta and Tesla from 2021-1-1 to 2023-1-1. Show your code (1 point)"
   ]
  },
  {
   "cell_type": "code",
   "execution_count": null,
   "metadata": {},
   "outputs": [],
   "source": []
  },
  {
   "cell_type": "markdown",
   "metadata": {},
   "source": [
    "Q2B. Create the data frames for the Meta and Tesla date, parsing the Date variable as dates and changing the index column to Date. (1 point)"
   ]
  },
  {
   "cell_type": "code",
   "execution_count": 2,
   "metadata": {},
   "outputs": [
    {
     "data": {
      "text/html": [
       "<div>\n",
       "<style scoped>\n",
       "    .dataframe tbody tr th:only-of-type {\n",
       "        vertical-align: middle;\n",
       "    }\n",
       "\n",
       "    .dataframe tbody tr th {\n",
       "        vertical-align: top;\n",
       "    }\n",
       "\n",
       "    .dataframe thead th {\n",
       "        text-align: right;\n",
       "    }\n",
       "</style>\n",
       "<table border=\"1\" class=\"dataframe\">\n",
       "  <thead>\n",
       "    <tr style=\"text-align: right;\">\n",
       "      <th></th>\n",
       "      <th>Open</th>\n",
       "      <th>High</th>\n",
       "      <th>Low</th>\n",
       "      <th>Close</th>\n",
       "      <th>Adj Close</th>\n",
       "      <th>Volume</th>\n",
       "    </tr>\n",
       "    <tr>\n",
       "      <th>Date</th>\n",
       "      <th></th>\n",
       "      <th></th>\n",
       "      <th></th>\n",
       "      <th></th>\n",
       "      <th></th>\n",
       "      <th></th>\n",
       "    </tr>\n",
       "  </thead>\n",
       "  <tbody>\n",
       "    <tr>\n",
       "      <th>2021-01-04</th>\n",
       "      <td>274.779999</td>\n",
       "      <td>275.000000</td>\n",
       "      <td>265.200012</td>\n",
       "      <td>268.940002</td>\n",
       "      <td>268.940002</td>\n",
       "      <td>15106100</td>\n",
       "    </tr>\n",
       "    <tr>\n",
       "      <th>2021-01-05</th>\n",
       "      <td>268.290009</td>\n",
       "      <td>272.399994</td>\n",
       "      <td>268.209991</td>\n",
       "      <td>270.970001</td>\n",
       "      <td>270.970001</td>\n",
       "      <td>9871600</td>\n",
       "    </tr>\n",
       "    <tr>\n",
       "      <th>2021-01-06</th>\n",
       "      <td>262.000000</td>\n",
       "      <td>267.750000</td>\n",
       "      <td>260.010010</td>\n",
       "      <td>263.309998</td>\n",
       "      <td>263.309998</td>\n",
       "      <td>24354100</td>\n",
       "    </tr>\n",
       "    <tr>\n",
       "      <th>2021-01-07</th>\n",
       "      <td>265.899994</td>\n",
       "      <td>271.609985</td>\n",
       "      <td>264.779999</td>\n",
       "      <td>268.739990</td>\n",
       "      <td>268.739990</td>\n",
       "      <td>15789800</td>\n",
       "    </tr>\n",
       "    <tr>\n",
       "      <th>2021-01-08</th>\n",
       "      <td>268.309998</td>\n",
       "      <td>268.950012</td>\n",
       "      <td>263.179993</td>\n",
       "      <td>267.570007</td>\n",
       "      <td>267.570007</td>\n",
       "      <td>18528300</td>\n",
       "    </tr>\n",
       "  </tbody>\n",
       "</table>\n",
       "</div>"
      ],
      "text/plain": [
       "                  Open        High         Low       Close   Adj Close  \\\n",
       "Date                                                                     \n",
       "2021-01-04  274.779999  275.000000  265.200012  268.940002  268.940002   \n",
       "2021-01-05  268.290009  272.399994  268.209991  270.970001  270.970001   \n",
       "2021-01-06  262.000000  267.750000  260.010010  263.309998  263.309998   \n",
       "2021-01-07  265.899994  271.609985  264.779999  268.739990  268.739990   \n",
       "2021-01-08  268.309998  268.950012  263.179993  267.570007  267.570007   \n",
       "\n",
       "              Volume  \n",
       "Date                  \n",
       "2021-01-04  15106100  \n",
       "2021-01-05   9871600  \n",
       "2021-01-06  24354100  \n",
       "2021-01-07  15789800  \n",
       "2021-01-08  18528300  "
      ]
     },
     "execution_count": 2,
     "metadata": {},
     "output_type": "execute_result"
    }
   ],
   "source": []
  },
  {
   "cell_type": "code",
   "execution_count": 3,
   "metadata": {},
   "outputs": [
    {
     "data": {
      "text/html": [
       "<div>\n",
       "<style scoped>\n",
       "    .dataframe tbody tr th:only-of-type {\n",
       "        vertical-align: middle;\n",
       "    }\n",
       "\n",
       "    .dataframe tbody tr th {\n",
       "        vertical-align: top;\n",
       "    }\n",
       "\n",
       "    .dataframe thead th {\n",
       "        text-align: right;\n",
       "    }\n",
       "</style>\n",
       "<table border=\"1\" class=\"dataframe\">\n",
       "  <thead>\n",
       "    <tr style=\"text-align: right;\">\n",
       "      <th></th>\n",
       "      <th>Open</th>\n",
       "      <th>High</th>\n",
       "      <th>Low</th>\n",
       "      <th>Close</th>\n",
       "      <th>Adj Close</th>\n",
       "      <th>Volume</th>\n",
       "    </tr>\n",
       "    <tr>\n",
       "      <th>Date</th>\n",
       "      <th></th>\n",
       "      <th></th>\n",
       "      <th></th>\n",
       "      <th></th>\n",
       "      <th></th>\n",
       "      <th></th>\n",
       "    </tr>\n",
       "  </thead>\n",
       "  <tbody>\n",
       "    <tr>\n",
       "      <th>2021-01-04</th>\n",
       "      <td>239.820007</td>\n",
       "      <td>248.163330</td>\n",
       "      <td>239.063339</td>\n",
       "      <td>243.256668</td>\n",
       "      <td>243.256668</td>\n",
       "      <td>145914600</td>\n",
       "    </tr>\n",
       "    <tr>\n",
       "      <th>2021-01-05</th>\n",
       "      <td>241.220001</td>\n",
       "      <td>246.946671</td>\n",
       "      <td>239.733337</td>\n",
       "      <td>245.036667</td>\n",
       "      <td>245.036667</td>\n",
       "      <td>96735600</td>\n",
       "    </tr>\n",
       "    <tr>\n",
       "      <th>2021-01-06</th>\n",
       "      <td>252.830002</td>\n",
       "      <td>258.000000</td>\n",
       "      <td>249.699997</td>\n",
       "      <td>251.993332</td>\n",
       "      <td>251.993332</td>\n",
       "      <td>134100000</td>\n",
       "    </tr>\n",
       "    <tr>\n",
       "      <th>2021-01-07</th>\n",
       "      <td>259.209991</td>\n",
       "      <td>272.329987</td>\n",
       "      <td>258.399994</td>\n",
       "      <td>272.013336</td>\n",
       "      <td>272.013336</td>\n",
       "      <td>154496700</td>\n",
       "    </tr>\n",
       "    <tr>\n",
       "      <th>2021-01-08</th>\n",
       "      <td>285.333344</td>\n",
       "      <td>294.829987</td>\n",
       "      <td>279.463318</td>\n",
       "      <td>293.339996</td>\n",
       "      <td>293.339996</td>\n",
       "      <td>225166500</td>\n",
       "    </tr>\n",
       "  </tbody>\n",
       "</table>\n",
       "</div>"
      ],
      "text/plain": [
       "                  Open        High         Low       Close   Adj Close  \\\n",
       "Date                                                                     \n",
       "2021-01-04  239.820007  248.163330  239.063339  243.256668  243.256668   \n",
       "2021-01-05  241.220001  246.946671  239.733337  245.036667  245.036667   \n",
       "2021-01-06  252.830002  258.000000  249.699997  251.993332  251.993332   \n",
       "2021-01-07  259.209991  272.329987  258.399994  272.013336  272.013336   \n",
       "2021-01-08  285.333344  294.829987  279.463318  293.339996  293.339996   \n",
       "\n",
       "               Volume  \n",
       "Date                   \n",
       "2021-01-04  145914600  \n",
       "2021-01-05   96735600  \n",
       "2021-01-06  134100000  \n",
       "2021-01-07  154496700  \n",
       "2021-01-08  225166500  "
      ]
     },
     "execution_count": 3,
     "metadata": {},
     "output_type": "execute_result"
    }
   ],
   "source": []
  },
  {
   "cell_type": "markdown",
   "metadata": {},
   "source": [
    "Q3. Merge the stock data for Meta and Tesla stock data. Include the necessary prefixes (2 points)"
   ]
  },
  {
   "cell_type": "code",
   "execution_count": 4,
   "metadata": {},
   "outputs": [
    {
     "data": {
      "text/html": [
       "<div>\n",
       "<style scoped>\n",
       "    .dataframe tbody tr th:only-of-type {\n",
       "        vertical-align: middle;\n",
       "    }\n",
       "\n",
       "    .dataframe tbody tr th {\n",
       "        vertical-align: top;\n",
       "    }\n",
       "\n",
       "    .dataframe thead th {\n",
       "        text-align: right;\n",
       "    }\n",
       "</style>\n",
       "<table border=\"1\" class=\"dataframe\">\n",
       "  <thead>\n",
       "    <tr style=\"text-align: right;\">\n",
       "      <th></th>\n",
       "      <th>Open_tsla</th>\n",
       "      <th>High_tsla</th>\n",
       "      <th>Low_tsla</th>\n",
       "      <th>Close_tsla</th>\n",
       "      <th>Adj Close_tsla</th>\n",
       "      <th>Volume_tsla</th>\n",
       "      <th>Open_meta</th>\n",
       "      <th>High_meta</th>\n",
       "      <th>Low_meta</th>\n",
       "      <th>Close_meta</th>\n",
       "      <th>Adj Close_meta</th>\n",
       "      <th>Volume_meta</th>\n",
       "    </tr>\n",
       "    <tr>\n",
       "      <th>Date</th>\n",
       "      <th></th>\n",
       "      <th></th>\n",
       "      <th></th>\n",
       "      <th></th>\n",
       "      <th></th>\n",
       "      <th></th>\n",
       "      <th></th>\n",
       "      <th></th>\n",
       "      <th></th>\n",
       "      <th></th>\n",
       "      <th></th>\n",
       "      <th></th>\n",
       "    </tr>\n",
       "  </thead>\n",
       "  <tbody>\n",
       "    <tr>\n",
       "      <th>2021-01-04</th>\n",
       "      <td>274.779999</td>\n",
       "      <td>275.000000</td>\n",
       "      <td>265.200012</td>\n",
       "      <td>268.940002</td>\n",
       "      <td>268.940002</td>\n",
       "      <td>15106100</td>\n",
       "      <td>239.820007</td>\n",
       "      <td>248.163330</td>\n",
       "      <td>239.063339</td>\n",
       "      <td>243.256668</td>\n",
       "      <td>243.256668</td>\n",
       "      <td>145914600</td>\n",
       "    </tr>\n",
       "    <tr>\n",
       "      <th>2021-01-05</th>\n",
       "      <td>268.290009</td>\n",
       "      <td>272.399994</td>\n",
       "      <td>268.209991</td>\n",
       "      <td>270.970001</td>\n",
       "      <td>270.970001</td>\n",
       "      <td>9871600</td>\n",
       "      <td>241.220001</td>\n",
       "      <td>246.946671</td>\n",
       "      <td>239.733337</td>\n",
       "      <td>245.036667</td>\n",
       "      <td>245.036667</td>\n",
       "      <td>96735600</td>\n",
       "    </tr>\n",
       "    <tr>\n",
       "      <th>2021-01-06</th>\n",
       "      <td>262.000000</td>\n",
       "      <td>267.750000</td>\n",
       "      <td>260.010010</td>\n",
       "      <td>263.309998</td>\n",
       "      <td>263.309998</td>\n",
       "      <td>24354100</td>\n",
       "      <td>252.830002</td>\n",
       "      <td>258.000000</td>\n",
       "      <td>249.699997</td>\n",
       "      <td>251.993332</td>\n",
       "      <td>251.993332</td>\n",
       "      <td>134100000</td>\n",
       "    </tr>\n",
       "    <tr>\n",
       "      <th>2021-01-07</th>\n",
       "      <td>265.899994</td>\n",
       "      <td>271.609985</td>\n",
       "      <td>264.779999</td>\n",
       "      <td>268.739990</td>\n",
       "      <td>268.739990</td>\n",
       "      <td>15789800</td>\n",
       "      <td>259.209991</td>\n",
       "      <td>272.329987</td>\n",
       "      <td>258.399994</td>\n",
       "      <td>272.013336</td>\n",
       "      <td>272.013336</td>\n",
       "      <td>154496700</td>\n",
       "    </tr>\n",
       "    <tr>\n",
       "      <th>2021-01-08</th>\n",
       "      <td>268.309998</td>\n",
       "      <td>268.950012</td>\n",
       "      <td>263.179993</td>\n",
       "      <td>267.570007</td>\n",
       "      <td>267.570007</td>\n",
       "      <td>18528300</td>\n",
       "      <td>285.333344</td>\n",
       "      <td>294.829987</td>\n",
       "      <td>279.463318</td>\n",
       "      <td>293.339996</td>\n",
       "      <td>293.339996</td>\n",
       "      <td>225166500</td>\n",
       "    </tr>\n",
       "  </tbody>\n",
       "</table>\n",
       "</div>"
      ],
      "text/plain": [
       "             Open_tsla   High_tsla    Low_tsla  Close_tsla  Adj Close_tsla  \\\n",
       "Date                                                                         \n",
       "2021-01-04  274.779999  275.000000  265.200012  268.940002      268.940002   \n",
       "2021-01-05  268.290009  272.399994  268.209991  270.970001      270.970001   \n",
       "2021-01-06  262.000000  267.750000  260.010010  263.309998      263.309998   \n",
       "2021-01-07  265.899994  271.609985  264.779999  268.739990      268.739990   \n",
       "2021-01-08  268.309998  268.950012  263.179993  267.570007      267.570007   \n",
       "\n",
       "            Volume_tsla   Open_meta   High_meta    Low_meta  Close_meta  \\\n",
       "Date                                                                      \n",
       "2021-01-04     15106100  239.820007  248.163330  239.063339  243.256668   \n",
       "2021-01-05      9871600  241.220001  246.946671  239.733337  245.036667   \n",
       "2021-01-06     24354100  252.830002  258.000000  249.699997  251.993332   \n",
       "2021-01-07     15789800  259.209991  272.329987  258.399994  272.013336   \n",
       "2021-01-08     18528300  285.333344  294.829987  279.463318  293.339996   \n",
       "\n",
       "            Adj Close_meta  Volume_meta  \n",
       "Date                                     \n",
       "2021-01-04      243.256668    145914600  \n",
       "2021-01-05      245.036667     96735600  \n",
       "2021-01-06      251.993332    134100000  \n",
       "2021-01-07      272.013336    154496700  \n",
       "2021-01-08      293.339996    225166500  "
      ]
     },
     "execution_count": 4,
     "metadata": {},
     "output_type": "execute_result"
    }
   ],
   "source": []
  },
  {
   "cell_type": "markdown",
   "metadata": {},
   "source": [
    "Q4a. Report the summary statistics for the Adjusted close for Tesla and Meta stocks prices. (1 point)"
   ]
  },
  {
   "cell_type": "code",
   "execution_count": 5,
   "metadata": {},
   "outputs": [
    {
     "data": {
      "text/html": [
       "<div>\n",
       "<style scoped>\n",
       "    .dataframe tbody tr th:only-of-type {\n",
       "        vertical-align: middle;\n",
       "    }\n",
       "\n",
       "    .dataframe tbody tr th {\n",
       "        vertical-align: top;\n",
       "    }\n",
       "\n",
       "    .dataframe thead th {\n",
       "        text-align: right;\n",
       "    }\n",
       "</style>\n",
       "<table border=\"1\" class=\"dataframe\">\n",
       "  <thead>\n",
       "    <tr style=\"text-align: right;\">\n",
       "      <th></th>\n",
       "      <th>Adj Close_tsla</th>\n",
       "      <th>Adj Close_meta</th>\n",
       "    </tr>\n",
       "  </thead>\n",
       "  <tbody>\n",
       "    <tr>\n",
       "      <th>count</th>\n",
       "      <td>503.000000</td>\n",
       "      <td>503.000000</td>\n",
       "    </tr>\n",
       "    <tr>\n",
       "      <th>mean</th>\n",
       "      <td>250.817098</td>\n",
       "      <td>261.542545</td>\n",
       "    </tr>\n",
       "    <tr>\n",
       "      <th>std</th>\n",
       "      <td>84.762832</td>\n",
       "      <td>55.775860</td>\n",
       "    </tr>\n",
       "    <tr>\n",
       "      <th>min</th>\n",
       "      <td>88.910004</td>\n",
       "      <td>109.099998</td>\n",
       "    </tr>\n",
       "    <tr>\n",
       "      <th>25%</th>\n",
       "      <td>170.205002</td>\n",
       "      <td>223.201668</td>\n",
       "    </tr>\n",
       "    <tr>\n",
       "      <th>50%</th>\n",
       "      <td>265.739990</td>\n",
       "      <td>251.213333</td>\n",
       "    </tr>\n",
       "    <tr>\n",
       "      <th>75%</th>\n",
       "      <td>330.300003</td>\n",
       "      <td>296.856659</td>\n",
       "    </tr>\n",
       "    <tr>\n",
       "      <th>max</th>\n",
       "      <td>382.179993</td>\n",
       "      <td>409.970001</td>\n",
       "    </tr>\n",
       "  </tbody>\n",
       "</table>\n",
       "</div>"
      ],
      "text/plain": [
       "       Adj Close_tsla  Adj Close_meta\n",
       "count      503.000000      503.000000\n",
       "mean       250.817098      261.542545\n",
       "std         84.762832       55.775860\n",
       "min         88.910004      109.099998\n",
       "25%        170.205002      223.201668\n",
       "50%        265.739990      251.213333\n",
       "75%        330.300003      296.856659\n",
       "max        382.179993      409.970001"
      ]
     },
     "execution_count": 5,
     "metadata": {},
     "output_type": "execute_result"
    }
   ],
   "source": []
  },
  {
   "cell_type": "markdown",
   "metadata": {},
   "source": [
    "Q4b: What are the Ranges and Interquartile Ranges for the Adjusted Close of Tesla and Meta Stock prices? (1 point)"
   ]
  },
  {
   "cell_type": "code",
   "execution_count": null,
   "metadata": {},
   "outputs": [],
   "source": []
  },
  {
   "cell_type": "markdown",
   "metadata": {},
   "source": [
    "Q5. Plot line graphs for the daily volumes for Meta and Tesla Stock and include the title and labels. Which stock had greater volumn volatility? (2 points)"
   ]
  },
  {
   "cell_type": "code",
   "execution_count": 41,
   "metadata": {},
   "outputs": [
    {
     "data": {
      "text/plain": [
       "Text(0.5, 1.0, 'Meta vs Tesla Volume Volatility')"
      ]
     },
     "execution_count": 41,
     "metadata": {},
     "output_type": "execute_result"
    },
    {
     "data": {
      "image/png": "[encoded data removed]",
      "text/plain": [
       "<Figure size 1200x600 with 1 Axes>"
      ]
     },
     "metadata": {},
     "output_type": "display_data"
    }
   ],
   "source": [
    "\n",
    "\n",
    "\n",
    "\n",
    "\n"
   ]
  },
  {
   "cell_type": "markdown",
   "metadata": {},
   "source": [
    "Q6. Create a new variables for both Tesla and Meta stocks in the dataframe that measures the daily differential in price, defined as the difference between the High Price and Low Price for the day (1 point)"
   ]
  },
  {
   "cell_type": "code",
   "execution_count": 7,
   "metadata": {},
   "outputs": [
    {
     "data": {
      "text/html": [
       "<div>\n",
       "<style scoped>\n",
       "    .dataframe tbody tr th:only-of-type {\n",
       "        vertical-align: middle;\n",
       "    }\n",
       "\n",
       "    .dataframe tbody tr th {\n",
       "        vertical-align: top;\n",
       "    }\n",
       "\n",
       "    .dataframe thead th {\n",
       "        text-align: right;\n",
       "    }\n",
       "</style>\n",
       "<table border=\"1\" class=\"dataframe\">\n",
       "  <thead>\n",
       "    <tr style=\"text-align: right;\">\n",
       "      <th></th>\n",
       "      <th>Open_tsla</th>\n",
       "      <th>High_tsla</th>\n",
       "      <th>Low_tsla</th>\n",
       "      <th>Close_tsla</th>\n",
       "      <th>Adj Close_tsla</th>\n",
       "      <th>Volume_tsla</th>\n",
       "      <th>Open_meta</th>\n",
       "      <th>High_meta</th>\n",
       "      <th>Low_meta</th>\n",
       "      <th>Close_meta</th>\n",
       "      <th>Adj Close_meta</th>\n",
       "      <th>Volume_meta</th>\n",
       "      <th>PriceDff_tsla</th>\n",
       "      <th>PriceDff_meta</th>\n",
       "    </tr>\n",
       "    <tr>\n",
       "      <th>Date</th>\n",
       "      <th></th>\n",
       "      <th></th>\n",
       "      <th></th>\n",
       "      <th></th>\n",
       "      <th></th>\n",
       "      <th></th>\n",
       "      <th></th>\n",
       "      <th></th>\n",
       "      <th></th>\n",
       "      <th></th>\n",
       "      <th></th>\n",
       "      <th></th>\n",
       "      <th></th>\n",
       "      <th></th>\n",
       "    </tr>\n",
       "  </thead>\n",
       "  <tbody>\n",
       "    <tr>\n",
       "      <th>2021-01-04</th>\n",
       "      <td>274.779999</td>\n",
       "      <td>275.000000</td>\n",
       "      <td>265.200012</td>\n",
       "      <td>268.940002</td>\n",
       "      <td>268.940002</td>\n",
       "      <td>15106100</td>\n",
       "      <td>239.820007</td>\n",
       "      <td>248.163330</td>\n",
       "      <td>239.063339</td>\n",
       "      <td>243.256668</td>\n",
       "      <td>243.256668</td>\n",
       "      <td>145914600</td>\n",
       "      <td>9.799988</td>\n",
       "      <td>9.099991</td>\n",
       "    </tr>\n",
       "    <tr>\n",
       "      <th>2021-01-05</th>\n",
       "      <td>268.290009</td>\n",
       "      <td>272.399994</td>\n",
       "      <td>268.209991</td>\n",
       "      <td>270.970001</td>\n",
       "      <td>270.970001</td>\n",
       "      <td>9871600</td>\n",
       "      <td>241.220001</td>\n",
       "      <td>246.946671</td>\n",
       "      <td>239.733337</td>\n",
       "      <td>245.036667</td>\n",
       "      <td>245.036667</td>\n",
       "      <td>96735600</td>\n",
       "      <td>4.190002</td>\n",
       "      <td>7.213333</td>\n",
       "    </tr>\n",
       "    <tr>\n",
       "      <th>2021-01-06</th>\n",
       "      <td>262.000000</td>\n",
       "      <td>267.750000</td>\n",
       "      <td>260.010010</td>\n",
       "      <td>263.309998</td>\n",
       "      <td>263.309998</td>\n",
       "      <td>24354100</td>\n",
       "      <td>252.830002</td>\n",
       "      <td>258.000000</td>\n",
       "      <td>249.699997</td>\n",
       "      <td>251.993332</td>\n",
       "      <td>251.993332</td>\n",
       "      <td>134100000</td>\n",
       "      <td>7.739990</td>\n",
       "      <td>8.300003</td>\n",
       "    </tr>\n",
       "    <tr>\n",
       "      <th>2021-01-07</th>\n",
       "      <td>265.899994</td>\n",
       "      <td>271.609985</td>\n",
       "      <td>264.779999</td>\n",
       "      <td>268.739990</td>\n",
       "      <td>268.739990</td>\n",
       "      <td>15789800</td>\n",
       "      <td>259.209991</td>\n",
       "      <td>272.329987</td>\n",
       "      <td>258.399994</td>\n",
       "      <td>272.013336</td>\n",
       "      <td>272.013336</td>\n",
       "      <td>154496700</td>\n",
       "      <td>6.829987</td>\n",
       "      <td>13.929993</td>\n",
       "    </tr>\n",
       "    <tr>\n",
       "      <th>2021-01-08</th>\n",
       "      <td>268.309998</td>\n",
       "      <td>268.950012</td>\n",
       "      <td>263.179993</td>\n",
       "      <td>267.570007</td>\n",
       "      <td>267.570007</td>\n",
       "      <td>18528300</td>\n",
       "      <td>285.333344</td>\n",
       "      <td>294.829987</td>\n",
       "      <td>279.463318</td>\n",
       "      <td>293.339996</td>\n",
       "      <td>293.339996</td>\n",
       "      <td>225166500</td>\n",
       "      <td>5.770020</td>\n",
       "      <td>15.366669</td>\n",
       "    </tr>\n",
       "  </tbody>\n",
       "</table>\n",
       "</div>"
      ],
      "text/plain": [
       "             Open_tsla   High_tsla    Low_tsla  Close_tsla  Adj Close_tsla  \\\n",
       "Date                                                                         \n",
       "2021-01-04  274.779999  275.000000  265.200012  268.940002      268.940002   \n",
       "2021-01-05  268.290009  272.399994  268.209991  270.970001      270.970001   \n",
       "2021-01-06  262.000000  267.750000  260.010010  263.309998      263.309998   \n",
       "2021-01-07  265.899994  271.609985  264.779999  268.739990      268.739990   \n",
       "2021-01-08  268.309998  268.950012  263.179993  267.570007      267.570007   \n",
       "\n",
       "            Volume_tsla   Open_meta   High_meta    Low_meta  Close_meta  \\\n",
       "Date                                                                      \n",
       "2021-01-04     15106100  239.820007  248.163330  239.063339  243.256668   \n",
       "2021-01-05      9871600  241.220001  246.946671  239.733337  245.036667   \n",
       "2021-01-06     24354100  252.830002  258.000000  249.699997  251.993332   \n",
       "2021-01-07     15789800  259.209991  272.329987  258.399994  272.013336   \n",
       "2021-01-08     18528300  285.333344  294.829987  279.463318  293.339996   \n",
       "\n",
       "            Adj Close_meta  Volume_meta  PriceDff_tsla  PriceDff_meta  \n",
       "Date                                                                   \n",
       "2021-01-04      243.256668    145914600       9.799988       9.099991  \n",
       "2021-01-05      245.036667     96735600       4.190002       7.213333  \n",
       "2021-01-06      251.993332    134100000       7.739990       8.300003  \n",
       "2021-01-07      272.013336    154496700       6.829987      13.929993  \n",
       "2021-01-08      293.339996    225166500       5.770020      15.366669  "
      ]
     },
     "execution_count": 7,
     "metadata": {},
     "output_type": "execute_result"
    }
   ],
   "source": [
    "\n",
    "\n",
    "\n",
    "\n"
   ]
  },
  {
   "cell_type": "markdown",
   "metadata": {},
   "source": [
    "Q7. Resample the data to create the average monthly price diffferences between Tesla and Meta Stock. (2 points)"
   ]
  },
  {
   "cell_type": "code",
   "execution_count": 8,
   "metadata": {},
   "outputs": [
    {
     "data": {
      "text/html": [
       "<div>\n",
       "<style scoped>\n",
       "    .dataframe tbody tr th:only-of-type {\n",
       "        vertical-align: middle;\n",
       "    }\n",
       "\n",
       "    .dataframe tbody tr th {\n",
       "        vertical-align: top;\n",
       "    }\n",
       "\n",
       "    .dataframe thead th {\n",
       "        text-align: right;\n",
       "    }\n",
       "</style>\n",
       "<table border=\"1\" class=\"dataframe\">\n",
       "  <thead>\n",
       "    <tr style=\"text-align: right;\">\n",
       "      <th></th>\n",
       "      <th>PriceDff_tsla</th>\n",
       "      <th>PriceDff_meta</th>\n",
       "    </tr>\n",
       "    <tr>\n",
       "      <th>Date</th>\n",
       "      <th></th>\n",
       "      <th></th>\n",
       "    </tr>\n",
       "  </thead>\n",
       "  <tbody>\n",
       "    <tr>\n",
       "      <th>2021-01-31</th>\n",
       "      <td>8.803686</td>\n",
       "      <td>11.362281</td>\n",
       "    </tr>\n",
       "    <tr>\n",
       "      <th>2021-02-28</th>\n",
       "      <td>6.808423</td>\n",
       "      <td>12.744733</td>\n",
       "    </tr>\n",
       "    <tr>\n",
       "      <th>2021-03-31</th>\n",
       "      <td>8.769563</td>\n",
       "      <td>14.384638</td>\n",
       "    </tr>\n",
       "    <tr>\n",
       "      <th>2021-04-30</th>\n",
       "      <td>6.107147</td>\n",
       "      <td>9.516985</td>\n",
       "    </tr>\n",
       "    <tr>\n",
       "      <th>2021-05-31</th>\n",
       "      <td>6.550000</td>\n",
       "      <td>8.813497</td>\n",
       "    </tr>\n",
       "  </tbody>\n",
       "</table>\n",
       "</div>"
      ],
      "text/plain": [
       "            PriceDff_tsla  PriceDff_meta\n",
       "Date                                    \n",
       "2021-01-31       8.803686      11.362281\n",
       "2021-02-28       6.808423      12.744733\n",
       "2021-03-31       8.769563      14.384638\n",
       "2021-04-30       6.107147       9.516985\n",
       "2021-05-31       6.550000       8.813497"
      ]
     },
     "execution_count": 8,
     "metadata": {},
     "output_type": "execute_result"
    }
   ],
   "source": [
    "\n",
    "\n",
    "\n"
   ]
  },
  {
   "cell_type": "markdown",
   "metadata": {},
   "source": [
    "Q8. Using Plotly, create line graphs for the monthly price differences for Tesla and Meta stocks. Include the range slider. Don't show the gridlines but include the title and labels (3 points)"
   ]
  },
  {
   "cell_type": "markdown",
   "metadata": {},
   "source": []
  },
  {
   "cell_type": "code",
   "execution_count": 39,
   "metadata": {},
   "outputs": [
    {
     "data": {
      "application/vnd.plotly.v1+json": {
       "config": {
        "plotlyServerURL": "https://plot.ly"
       },
       "data": [
        {
         "mode": "lines",
         "name": "PriceDff_meta",
         "type": "scatter",
         "x": [
          "2021-01-31T00:00:00",
          "2021-02-28T00:00:00",
          "2021-03-31T00:00:00",
          "2021-04-30T00:00:00",
          "2021-05-31T00:00:00",
          "2021-06-30T00:00:00",
          "2021-07-31T00:00:00",
          "2021-08-31T00:00:00",
          "2021-09-30T00:00:00",
          "2021-10-31T00:00:00",
          "2021-11-30T00:00:00",
          "2021-12-31T00:00:00",
          "2022-01-31T00:00:00",
          "2022-02-28T00:00:00",
          "2022-03-31T00:00:00",
          "2022-04-30T00:00:00",
          "2022-05-31T00:00:00",
          "2022-06-30T00:00:00",
          "2022-07-31T00:00:00",
          "2022-08-31T00:00:00",
          "2022-09-30T00:00:00",
          "2022-10-31T00:00:00",
          "2022-11-30T00:00:00",
          "2022-12-31T00:00:00"
         ],
         "y": [
          11.362281397769328,
          12.744733308490963,
          14.384637583857007,
          9.51698521205358,
          8.813497161865238,
          6.746815768155187,
          7.959840320405514,
          6.294090964577416,
          6.314602806454614,
          9.661269414992562,
          20.826350620814747,
          17.367273504083812,
          22.491833496093747,
          16.38807437294408,
          14.732895560886544,
          18.06116790771484,
          18.338098435174846,
          13.193333217075892,
          12.087000274658198,
          11.613477623980978,
          11.203331356956848,
          12.306668236142112,
          10.437142508370536,
          8.759998503185452
         ]
        },
        {
         "mode": "lines",
         "name": "Price_Dff_tsla",
         "type": "scatter",
         "x": [
          "2021-01-31T00:00:00",
          "2021-02-28T00:00:00",
          "2021-03-31T00:00:00",
          "2021-04-30T00:00:00",
          "2021-05-31T00:00:00",
          "2021-06-30T00:00:00",
          "2021-07-31T00:00:00",
          "2021-08-31T00:00:00",
          "2021-09-30T00:00:00",
          "2021-10-31T00:00:00",
          "2021-11-30T00:00:00",
          "2021-12-31T00:00:00",
          "2022-01-31T00:00:00",
          "2022-02-28T00:00:00",
          "2022-03-31T00:00:00",
          "2022-04-30T00:00:00",
          "2022-05-31T00:00:00",
          "2022-06-30T00:00:00",
          "2022-07-31T00:00:00",
          "2022-08-31T00:00:00",
          "2022-09-30T00:00:00",
          "2022-10-31T00:00:00",
          "2022-11-30T00:00:00",
          "2022-12-31T00:00:00"
         ],
         "y": [
          8.803686041581004,
          6.8084234940378305,
          8.76956309442935,
          6.107147216796878,
          6.5500000000000025,
          6.477275501598014,
          7.753333682105658,
          6.516362970525578,
          7.143333798363092,
          8.134759812127976,
          8.297140938895089,
          9.689544677734375,
          10.983000183105466,
          9.5084228515625,
          7.258260312287705,
          8.666500854492192,
          9.058571225120906,
          8.188571021670388,
          6.189499664306638,
          5.462609995966371,
          5.409999302455357,
          5.511904761904764,
          3.9814282371884313,
          3.9499998546782003
         ]
        }
       ],
       "layout": {
        "legend": {
         "title": {
          "text": "Stocks"
         }
        },
        "template": {
         "data": {
          "bar": [
           {
            "error_x": {
             "color": "#2a3f5f"
            },
            "error_y": {
             "color": "#2a3f5f"
            },
            "marker": {
             "line": {
              "color": "#E5ECF6",
              "width": 0.5
             },
             "pattern": {
              "fillmode": "overlay",
              "size": 10,
              "solidity": 0.2
             }
            },
            "type": "bar"
           }
          ],
          "barpolar": [
           {
            "marker": {
             "line": {
              "color": "#E5ECF6",
              "width": 0.5
             },
             "pattern": {
              "fillmode": "overlay",
              "size": 10,
              "solidity": 0.2
             }
            },
            "type": "barpolar"
           }
          ],
          "carpet": [
           {
            "aaxis": {
             "endlinecolor": "#2a3f5f",
             "gridcolor": "white",
             "linecolor": "white",
             "minorgridcolor": "white",
             "startlinecolor": "#2a3f5f"
            },
            "baxis": {
             "endlinecolor": "#2a3f5f",
             "gridcolor": "white",
             "linecolor": "white",
             "minorgridcolor": "white",
             "startlinecolor": "#2a3f5f"
            },
            "type": "carpet"
           }
          ],
          "choropleth": [
           {
            "colorbar": {
             "outlinewidth": 0,
             "ticks": ""
            },
            "type": "choropleth"
           }
          ],
          "contour": [
           {
            "colorbar": {
             "outlinewidth": 0,
             "ticks": ""
            },
            "colorscale": [
             [
              0,
              "#0d0887"
             ],
             [
              0.1111111111111111,
              "#46039f"
             ],
             [
              0.2222222222222222,
              "#7201a8"
             ],
             [
              0.3333333333333333,
              "#9c179e"
             ],
             [
              0.4444444444444444,
              "#bd3786"
             ],
             [
              0.5555555555555556,
              "#d8576b"
             ],
             [
              0.6666666666666666,
              "#ed7953"
             ],
             [
              0.7777777777777778,
              "#fb9f3a"
             ],
             [
              0.8888888888888888,
              "#fdca26"
             ],
             [
              1,
              "#f0f921"
             ]
            ],
            "type": "contour"
           }
          ],
          "contourcarpet": [
           {
            "colorbar": {
             "outlinewidth": 0,
             "ticks": ""
            },
            "type": "contourcarpet"
           }
          ],
          "heatmap": [
           {
            "colorbar": {
             "outlinewidth": 0,
             "ticks": ""
            },
            "colorscale": [
             [
              0,
              "#0d0887"
             ],
             [
              0.1111111111111111,
              "#46039f"
             ],
             [
              0.2222222222222222,
              "#7201a8"
             ],
             [
              0.3333333333333333,
              "#9c179e"
             ],
             [
              0.4444444444444444,
              "#bd3786"
             ],
             [
              0.5555555555555556,
              "#d8576b"
             ],
             [
              0.6666666666666666,
              "#ed7953"
             ],
             [
              0.7777777777777778,
              "#fb9f3a"
             ],
             [
              0.8888888888888888,
              "#fdca26"
             ],
             [
              1,
              "#f0f921"
             ]
            ],
            "type": "heatmap"
           }
          ],
          "heatmapgl": [
           {
            "colorbar": {
             "outlinewidth": 0,
             "ticks": ""
            },
            "colorscale": [
             [
              0,
              "#0d0887"
             ],
             [
              0.1111111111111111,
              "#46039f"
             ],
             [
              0.2222222222222222,
              "#7201a8"
             ],
             [
              0.3333333333333333,
              "#9c179e"
             ],
             [
              0.4444444444444444,
              "#bd3786"
             ],
             [
              0.5555555555555556,
              "#d8576b"
             ],
             [
              0.6666666666666666,
              "#ed7953"
             ],
             [
              0.7777777777777778,
              "#fb9f3a"
             ],
             [
              0.8888888888888888,
              "#fdca26"
             ],
             [
              1,
              "#f0f921"
             ]
            ],
            "type": "heatmapgl"
           }
          ],
          "histogram": [
           {
            "marker": {
             "pattern": {
              "fillmode": "overlay",
              "size": 10,
              "solidity": 0.2
             }
            },
            "type": "histogram"
           }
          ],
          "histogram2d": [
           {
            "colorbar": {
             "outlinewidth": 0,
             "ticks": ""
            },
            "colorscale": [
             [
              0,
              "#0d0887"
             ],
             [
              0.1111111111111111,
              "#46039f"
             ],
             [
              0.2222222222222222,
              "#7201a8"
             ],
             [
              0.3333333333333333,
              "#9c179e"
             ],
             [
              0.4444444444444444,
              "#bd3786"
             ],
             [
              0.5555555555555556,
              "#d8576b"
             ],
             [
              0.6666666666666666,
              "#ed7953"
             ],
             [
              0.7777777777777778,
              "#fb9f3a"
             ],
             [
              0.8888888888888888,
              "#fdca26"
             ],
             [
              1,
              "#f0f921"
             ]
            ],
            "type": "histogram2d"
           }
          ],
          "histogram2dcontour": [
           {
            "colorbar": {
             "outlinewidth": 0,
             "ticks": ""
            },
            "colorscale": [
             [
              0,
              "#0d0887"
             ],
             [
              0.1111111111111111,
              "#46039f"
             ],
             [
              0.2222222222222222,
              "#7201a8"
             ],
             [
              0.3333333333333333,
              "#9c179e"
             ],
             [
              0.4444444444444444,
              "#bd3786"
             ],
             [
              0.5555555555555556,
              "#d8576b"
             ],
             [
              0.6666666666666666,
              "#ed7953"
             ],
             [
              0.7777777777777778,
              "#fb9f3a"
             ],
             [
              0.8888888888888888,
              "#fdca26"
             ],
             [
              1,
              "#f0f921"
             ]
            ],
            "type": "histogram2dcontour"
           }
          ],
          "mesh3d": [
           {
            "colorbar": {
             "outlinewidth": 0,
             "ticks": ""
            },
            "type": "mesh3d"
           }
          ],
          "parcoords": [
           {
            "line": {
             "colorbar": {
              "outlinewidth": 0,
              "ticks": ""
             }
            },
            "type": "parcoords"
           }
          ],
          "pie": [
           {
            "automargin": true,
            "type": "pie"
           }
          ],
          "scatter": [
           {
            "fillpattern": {
             "fillmode": "overlay",
             "size": 10,
             "solidity": 0.2
            },
            "type": "scatter"
           }
          ],
          "scatter3d": [
           {
            "line": {
             "colorbar": {
              "outlinewidth": 0,
              "ticks": ""
             }
            },
            "marker": {
             "colorbar": {
              "outlinewidth": 0,
              "ticks": ""
             }
            },
            "type": "scatter3d"
           }
          ],
          "scattercarpet": [
           {
            "marker": {
             "colorbar": {
              "outlinewidth": 0,
              "ticks": ""
             }
            },
            "type": "scattercarpet"
           }
          ],
          "scattergeo": [
           {
            "marker": {
             "colorbar": {
              "outlinewidth": 0,
              "ticks": ""
             }
            },
            "type": "scattergeo"
           }
          ],
          "scattergl": [
           {
            "marker": {
             "colorbar": {
              "outlinewidth": 0,
              "ticks": ""
             }
            },
            "type": "scattergl"
           }
          ],
          "scattermapbox": [
           {
            "marker": {
             "colorbar": {
              "outlinewidth": 0,
              "ticks": ""
             }
            },
            "type": "scattermapbox"
           }
          ],
          "scatterpolar": [
           {
            "marker": {
             "colorbar": {
              "outlinewidth": 0,
              "ticks": ""
             }
            },
            "type": "scatterpolar"
           }
          ],
          "scatterpolargl": [
           {
            "marker": {
             "colorbar": {
              "outlinewidth": 0,
              "ticks": ""
             }
            },
            "type": "scatterpolargl"
           }
          ],
          "scatterternary": [
           {
            "marker": {
             "colorbar": {
              "outlinewidth": 0,
              "ticks": ""
             }
            },
            "type": "scatterternary"
           }
          ],
          "surface": [
           {
            "colorbar": {
             "outlinewidth": 0,
             "ticks": ""
            },
            "colorscale": [
             [
              0,
              "#0d0887"
             ],
             [
              0.1111111111111111,
              "#46039f"
             ],
             [
              0.2222222222222222,
              "#7201a8"
             ],
             [
              0.3333333333333333,
              "#9c179e"
             ],
             [
              0.4444444444444444,
              "#bd3786"
             ],
             [
              0.5555555555555556,
              "#d8576b"
             ],
             [
              0.6666666666666666,
              "#ed7953"
             ],
             [
              0.7777777777777778,
              "#fb9f3a"
             ],
             [
              0.8888888888888888,
              "#fdca26"
             ],
             [
              1,
              "#f0f921"
             ]
            ],
            "type": "surface"
           }
          ],
          "table": [
           {
            "cells": {
             "fill": {
              "color": "#EBF0F8"
             },
             "line": {
              "color": "white"
             }
            },
            "header": {
             "fill": {
              "color": "#C8D4E3"
             },
             "line": {
              "color": "white"
             }
            },
            "type": "table"
           }
          ]
         },
         "layout": {
          "annotationdefaults": {
           "arrowcolor": "#2a3f5f",
           "arrowhead": 0,
           "arrowwidth": 1
          },
          "autotypenumbers": "strict",
          "coloraxis": {
           "colorbar": {
            "outlinewidth": 0,
            "ticks": ""
           }
          },
          "colorscale": {
           "diverging": [
            [
             0,
             "#8e0152"
            ],
            [
             0.1,
             "#c51b7d"
            ],
            [
             0.2,
             "#de77ae"
            ],
            [
             0.3,
             "#f1b6da"
            ],
            [
             0.4,
             "#fde0ef"
            ],
            [
             0.5,
             "#f7f7f7"
            ],
            [
             0.6,
             "#e6f5d0"
            ],
            [
             0.7,
             "#b8e186"
            ],
            [
             0.8,
             "#7fbc41"
            ],
            [
             0.9,
             "#4d9221"
            ],
            [
             1,
             "#276419"
            ]
           ],
           "sequential": [
            [
             0,
             "#0d0887"
            ],
            [
             0.1111111111111111,
             "#46039f"
            ],
            [
             0.2222222222222222,
             "#7201a8"
            ],
            [
             0.3333333333333333,
             "#9c179e"
            ],
            [
             0.4444444444444444,
             "#bd3786"
            ],
            [
             0.5555555555555556,
             "#d8576b"
            ],
            [
             0.6666666666666666,
             "#ed7953"
            ],
            [
             0.7777777777777778,
             "#fb9f3a"
            ],
            [
             0.8888888888888888,
             "#fdca26"
            ],
            [
             1,
             "#f0f921"
            ]
           ],
           "sequentialminus": [
            [
             0,
             "#0d0887"
            ],
            [
             0.1111111111111111,
             "#46039f"
            ],
            [
             0.2222222222222222,
             "#7201a8"
            ],
            [
             0.3333333333333333,
             "#9c179e"
            ],
            [
             0.4444444444444444,
             "#bd3786"
            ],
            [
             0.5555555555555556,
             "#d8576b"
            ],
            [
             0.6666666666666666,
             "#ed7953"
            ],
            [
             0.7777777777777778,
             "#fb9f3a"
            ],
            [
             0.8888888888888888,
             "#fdca26"
            ],
            [
             1,
             "#f0f921"
            ]
           ]
          },
          "colorway": [
           "#636efa",
           "#EF553B",
           "#00cc96",
           "#ab63fa",
           "#FFA15A",
           "#19d3f3",
           "#FF6692",
           "#B6E880",
           "#FF97FF",
           "#FECB52"
          ],
          "font": {
           "color": "#2a3f5f"
          },
          "geo": {
           "bgcolor": "white",
           "lakecolor": "white",
           "landcolor": "#E5ECF6",
           "showlakes": true,
           "showland": true,
           "subunitcolor": "white"
          },
          "hoverlabel": {
           "align": "left"
          },
          "hovermode": "closest",
          "mapbox": {
           "style": "light"
          },
          "paper_bgcolor": "white",
          "plot_bgcolor": "#E5ECF6",
          "polar": {
           "angularaxis": {
            "gridcolor": "white",
            "linecolor": "white",
            "ticks": ""
           },
           "bgcolor": "#E5ECF6",
           "radialaxis": {
            "gridcolor": "white",
            "linecolor": "white",
            "ticks": ""
           }
          },
          "scene": {
           "xaxis": {
            "backgroundcolor": "#E5ECF6",
            "gridcolor": "white",
            "gridwidth": 2,
            "linecolor": "white",
            "showbackground": true,
            "ticks": "",
            "zerolinecolor": "white"
           },
           "yaxis": {
            "backgroundcolor": "#E5ECF6",
            "gridcolor": "white",
            "gridwidth": 2,
            "linecolor": "white",
            "showbackground": true,
            "ticks": "",
            "zerolinecolor": "white"
           },
           "zaxis": {
            "backgroundcolor": "#E5ECF6",
            "gridcolor": "white",
            "gridwidth": 2,
            "linecolor": "white",
            "showbackground": true,
            "ticks": "",
            "zerolinecolor": "white"
           }
          },
          "shapedefaults": {
           "line": {
            "color": "#2a3f5f"
           }
          },
          "ternary": {
           "aaxis": {
            "gridcolor": "white",
            "linecolor": "white",
            "ticks": ""
           },
           "baxis": {
            "gridcolor": "white",
            "linecolor": "white",
            "ticks": ""
           },
           "bgcolor": "#E5ECF6",
           "caxis": {
            "gridcolor": "white",
            "linecolor": "white",
            "ticks": ""
           }
          },
          "title": {
           "x": 0.05
          },
          "xaxis": {
           "automargin": true,
           "gridcolor": "white",
           "linecolor": "white",
           "ticks": "",
           "title": {
            "standoff": 15
           },
           "zerolinecolor": "white",
           "zerolinewidth": 2
          },
          "yaxis": {
           "automargin": true,
           "gridcolor": "white",
           "linecolor": "white",
           "ticks": "",
           "title": {
            "standoff": 15
           },
           "zerolinecolor": "white",
           "zerolinewidth": 2
          }
         }
        },
        "title": {
         "text": "Price Difference for Meta vs Tesla Stock"
        },
        "xaxis": {
         "rangeslider": {
          "visible": true
         },
         "showgrid": false,
         "showline": true,
         "title": {
          "text": "Month"
         }
        },
        "yaxis": {
         "showgrid": false,
         "showline": false,
         "showticklabels": false,
         "title": {
          "text": "Monthly Average Price Difference"
         }
        }
       }
      },
      "text/html": [
       "<div>                            <div id=\"8abbbc26-3503-4845-bc2c-3f617efb0df2\" class=\"plotly-graph-div\" style=\"height:525px; width:100%;\"></div>            <script type=\"text/javascript\">                require([\"plotly\"], function(Plotly) {                    window.PLOTLYENV=window.PLOTLYENV || {};                                    if (document.getElementById(\"8abbbc26-3503-4845-bc2c-3f617efb0df2\")) {                    Plotly.newPlot(                        \"8abbbc26-3503-4845-bc2c-3f617efb0df2\",                        [{\"mode\":\"lines\",\"name\":\"PriceDff_meta\",\"x\":[\"2021-01-31T00:00:00\",\"2021-02-28T00:00:00\",\"2021-03-31T00:00:00\",\"2021-04-30T00:00:00\",\"2021-05-31T00:00:00\",\"2021-06-30T00:00:00\",\"2021-07-31T00:00:00\",\"2021-08-31T00:00:00\",\"2021-09-30T00:00:00\",\"2021-10-31T00:00:00\",\"2021-11-30T00:00:00\",\"2021-12-31T00:00:00\",\"2022-01-31T00:00:00\",\"2022-02-28T00:00:00\",\"2022-03-31T00:00:00\",\"2022-04-30T00:00:00\",\"2022-05-31T00:00:00\",\"2022-06-30T00:00:00\",\"2022-07-31T00:00:00\",\"2022-08-31T00:00:00\",\"2022-09-30T00:00:00\",\"2022-10-31T00:00:00\",\"2022-11-30T00:00:00\",\"2022-12-31T00:00:00\"],\"y\":[11.362281397769328,12.744733308490963,14.384637583857007,9.51698521205358,8.813497161865238,6.746815768155187,7.959840320405514,6.294090964577416,6.314602806454614,9.661269414992562,20.826350620814747,17.367273504083812,22.491833496093747,16.38807437294408,14.732895560886544,18.06116790771484,18.338098435174846,13.193333217075892,12.087000274658198,11.613477623980978,11.203331356956848,12.306668236142112,10.437142508370536,8.759998503185452],\"type\":\"scatter\"},{\"mode\":\"lines\",\"name\":\"Price_Dff_tsla\",\"x\":[\"2021-01-31T00:00:00\",\"2021-02-28T00:00:00\",\"2021-03-31T00:00:00\",\"2021-04-30T00:00:00\",\"2021-05-31T00:00:00\",\"2021-06-30T00:00:00\",\"2021-07-31T00:00:00\",\"2021-08-31T00:00:00\",\"2021-09-30T00:00:00\",\"2021-10-31T00:00:00\",\"2021-11-30T00:00:00\",\"2021-12-31T00:00:00\",\"2022-01-31T00:00:00\",\"2022-02-28T00:00:00\",\"2022-03-31T00:00:00\",\"2022-04-30T00:00:00\",\"2022-05-31T00:00:00\",\"2022-06-30T00:00:00\",\"2022-07-31T00:00:00\",\"2022-08-31T00:00:00\",\"2022-09-30T00:00:00\",\"2022-10-31T00:00:00\",\"2022-11-30T00:00:00\",\"2022-12-31T00:00:00\"],\"y\":[8.803686041581004,6.8084234940378305,8.76956309442935,6.107147216796878,6.5500000000000025,6.477275501598014,7.753333682105658,6.516362970525578,7.143333798363092,8.134759812127976,8.297140938895089,9.689544677734375,10.983000183105466,9.5084228515625,7.258260312287705,8.666500854492192,9.058571225120906,8.188571021670388,6.189499664306638,5.462609995966371,5.409999302455357,5.511904761904764,3.9814282371884313,3.9499998546782003],\"type\":\"scatter\"}],                        {\"template\":{\"data\":{\"histogram2dcontour\":[{\"type\":\"histogram2dcontour\",\"colorbar\":{\"outlinewidth\":0,\"ticks\":\"\"},\"colorscale\":[[0.0,\"#0d0887\"],[0.1111111111111111,\"#46039f\"],[0.2222222222222222,\"#7201a8\"],[0.3333333333333333,\"#9c179e\"],[0.4444444444444444,\"#bd3786\"],[0.5555555555555556,\"#d8576b\"],[0.6666666666666666,\"#ed7953\"],[0.7777777777777778,\"#fb9f3a\"],[0.8888888888888888,\"#fdca26\"],[1.0,\"#f0f921\"]]}],\"choropleth\":[{\"type\":\"choropleth\",\"colorbar\":{\"outlinewidth\":0,\"ticks\":\"\"}}],\"histogram2d\":[{\"type\":\"histogram2d\",\"colorbar\":{\"outlinewidth\":0,\"ticks\":\"\"},\"colorscale\":[[0.0,\"#0d0887\"],[0.1111111111111111,\"#46039f\"],[0.2222222222222222,\"#7201a8\"],[0.3333333333333333,\"#9c179e\"],[0.4444444444444444,\"#bd3786\"],[0.5555555555555556,\"#d8576b\"],[0.6666666666666666,\"#ed7953\"],[0.7777777777777778,\"#fb9f3a\"],[0.8888888888888888,\"#fdca26\"],[1.0,\"#f0f921\"]]}],\"heatmap\":[{\"type\":\"heatmap\",\"colorbar\":{\"outlinewidth\":0,\"ticks\":\"\"},\"colorscale\":[[0.0,\"#0d0887\"],[0.1111111111111111,\"#46039f\"],[0.2222222222222222,\"#7201a8\"],[0.3333333333333333,\"#9c179e\"],[0.4444444444444444,\"#bd3786\"],[0.5555555555555556,\"#d8576b\"],[0.6666666666666666,\"#ed7953\"],[0.7777777777777778,\"#fb9f3a\"],[0.8888888888888888,\"#fdca26\"],[1.0,\"#f0f921\"]]}],\"heatmapgl\":[{\"type\":\"heatmapgl\",\"colorbar\":{\"outlinewidth\":0,\"ticks\":\"\"},\"colorscale\":[[0.0,\"#0d0887\"],[0.1111111111111111,\"#46039f\"],[0.2222222222222222,\"#7201a8\"],[0.3333333333333333,\"#9c179e\"],[0.4444444444444444,\"#bd3786\"],[0.5555555555555556,\"#d8576b\"],[0.6666666666666666,\"#ed7953\"],[0.7777777777777778,\"#fb9f3a\"],[0.8888888888888888,\"#fdca26\"],[1.0,\"#f0f921\"]]}],\"contourcarpet\":[{\"type\":\"contourcarpet\",\"colorbar\":{\"outlinewidth\":0,\"ticks\":\"\"}}],\"contour\":[{\"type\":\"contour\",\"colorbar\":{\"outlinewidth\":0,\"ticks\":\"\"},\"colorscale\":[[0.0,\"#0d0887\"],[0.1111111111111111,\"#46039f\"],[0.2222222222222222,\"#7201a8\"],[0.3333333333333333,\"#9c179e\"],[0.4444444444444444,\"#bd3786\"],[0.5555555555555556,\"#d8576b\"],[0.6666666666666666,\"#ed7953\"],[0.7777777777777778,\"#fb9f3a\"],[0.8888888888888888,\"#fdca26\"],[1.0,\"#f0f921\"]]}],\"surface\":[{\"type\":\"surface\",\"colorbar\":{\"outlinewidth\":0,\"ticks\":\"\"},\"colorscale\":[[0.0,\"#0d0887\"],[0.1111111111111111,\"#46039f\"],[0.2222222222222222,\"#7201a8\"],[0.3333333333333333,\"#9c179e\"],[0.4444444444444444,\"#bd3786\"],[0.5555555555555556,\"#d8576b\"],[0.6666666666666666,\"#ed7953\"],[0.7777777777777778,\"#fb9f3a\"],[0.8888888888888888,\"#fdca26\"],[1.0,\"#f0f921\"]]}],\"mesh3d\":[{\"type\":\"mesh3d\",\"colorbar\":{\"outlinewidth\":0,\"ticks\":\"\"}}],\"scatter\":[{\"fillpattern\":{\"fillmode\":\"overlay\",\"size\":10,\"solidity\":0.2},\"type\":\"scatter\"}],\"parcoords\":[{\"type\":\"parcoords\",\"line\":{\"colorbar\":{\"outlinewidth\":0,\"ticks\":\"\"}}}],\"scatterpolargl\":[{\"type\":\"scatterpolargl\",\"marker\":{\"colorbar\":{\"outlinewidth\":0,\"ticks\":\"\"}}}],\"bar\":[{\"error_x\":{\"color\":\"#2a3f5f\"},\"error_y\":{\"color\":\"#2a3f5f\"},\"marker\":{\"line\":{\"color\":\"#E5ECF6\",\"width\":0.5},\"pattern\":{\"fillmode\":\"overlay\",\"size\":10,\"solidity\":0.2}},\"type\":\"bar\"}],\"scattergeo\":[{\"type\":\"scattergeo\",\"marker\":{\"colorbar\":{\"outlinewidth\":0,\"ticks\":\"\"}}}],\"scatterpolar\":[{\"type\":\"scatterpolar\",\"marker\":{\"colorbar\":{\"outlinewidth\":0,\"ticks\":\"\"}}}],\"histogram\":[{\"marker\":{\"pattern\":{\"fillmode\":\"overlay\",\"size\":10,\"solidity\":0.2}},\"type\":\"histogram\"}],\"scattergl\":[{\"type\":\"scattergl\",\"marker\":{\"colorbar\":{\"outlinewidth\":0,\"ticks\":\"\"}}}],\"scatter3d\":[{\"type\":\"scatter3d\",\"line\":{\"colorbar\":{\"outlinewidth\":0,\"ticks\":\"\"}},\"marker\":{\"colorbar\":{\"outlinewidth\":0,\"ticks\":\"\"}}}],\"scattermapbox\":[{\"type\":\"scattermapbox\",\"marker\":{\"colorbar\":{\"outlinewidth\":0,\"ticks\":\"\"}}}],\"scatterternary\":[{\"type\":\"scatterternary\",\"marker\":{\"colorbar\":{\"outlinewidth\":0,\"ticks\":\"\"}}}],\"scattercarpet\":[{\"type\":\"scattercarpet\",\"marker\":{\"colorbar\":{\"outlinewidth\":0,\"ticks\":\"\"}}}],\"carpet\":[{\"aaxis\":{\"endlinecolor\":\"#2a3f5f\",\"gridcolor\":\"white\",\"linecolor\":\"white\",\"minorgridcolor\":\"white\",\"startlinecolor\":\"#2a3f5f\"},\"baxis\":{\"endlinecolor\":\"#2a3f5f\",\"gridcolor\":\"white\",\"linecolor\":\"white\",\"minorgridcolor\":\"white\",\"startlinecolor\":\"#2a3f5f\"},\"type\":\"carpet\"}],\"table\":[{\"cells\":{\"fill\":{\"color\":\"#EBF0F8\"},\"line\":{\"color\":\"white\"}},\"header\":{\"fill\":{\"color\":\"#C8D4E3\"},\"line\":{\"color\":\"white\"}},\"type\":\"table\"}],\"barpolar\":[{\"marker\":{\"line\":{\"color\":\"#E5ECF6\",\"width\":0.5},\"pattern\":{\"fillmode\":\"overlay\",\"size\":10,\"solidity\":0.2}},\"type\":\"barpolar\"}],\"pie\":[{\"automargin\":true,\"type\":\"pie\"}]},\"layout\":{\"autotypenumbers\":\"strict\",\"colorway\":[\"#636efa\",\"#EF553B\",\"#00cc96\",\"#ab63fa\",\"#FFA15A\",\"#19d3f3\",\"#FF6692\",\"#B6E880\",\"#FF97FF\",\"#FECB52\"],\"font\":{\"color\":\"#2a3f5f\"},\"hovermode\":\"closest\",\"hoverlabel\":{\"align\":\"left\"},\"paper_bgcolor\":\"white\",\"plot_bgcolor\":\"#E5ECF6\",\"polar\":{\"bgcolor\":\"#E5ECF6\",\"angularaxis\":{\"gridcolor\":\"white\",\"linecolor\":\"white\",\"ticks\":\"\"},\"radialaxis\":{\"gridcolor\":\"white\",\"linecolor\":\"white\",\"ticks\":\"\"}},\"ternary\":{\"bgcolor\":\"#E5ECF6\",\"aaxis\":{\"gridcolor\":\"white\",\"linecolor\":\"white\",\"ticks\":\"\"},\"baxis\":{\"gridcolor\":\"white\",\"linecolor\":\"white\",\"ticks\":\"\"},\"caxis\":{\"gridcolor\":\"white\",\"linecolor\":\"white\",\"ticks\":\"\"}},\"coloraxis\":{\"colorbar\":{\"outlinewidth\":0,\"ticks\":\"\"}},\"colorscale\":{\"sequential\":[[0.0,\"#0d0887\"],[0.1111111111111111,\"#46039f\"],[0.2222222222222222,\"#7201a8\"],[0.3333333333333333,\"#9c179e\"],[0.4444444444444444,\"#bd3786\"],[0.5555555555555556,\"#d8576b\"],[0.6666666666666666,\"#ed7953\"],[0.7777777777777778,\"#fb9f3a\"],[0.8888888888888888,\"#fdca26\"],[1.0,\"#f0f921\"]],\"sequentialminus\":[[0.0,\"#0d0887\"],[0.1111111111111111,\"#46039f\"],[0.2222222222222222,\"#7201a8\"],[0.3333333333333333,\"#9c179e\"],[0.4444444444444444,\"#bd3786\"],[0.5555555555555556,\"#d8576b\"],[0.6666666666666666,\"#ed7953\"],[0.7777777777777778,\"#fb9f3a\"],[0.8888888888888888,\"#fdca26\"],[1.0,\"#f0f921\"]],\"diverging\":[[0,\"#8e0152\"],[0.1,\"#c51b7d\"],[0.2,\"#de77ae\"],[0.3,\"#f1b6da\"],[0.4,\"#fde0ef\"],[0.5,\"#f7f7f7\"],[0.6,\"#e6f5d0\"],[0.7,\"#b8e186\"],[0.8,\"#7fbc41\"],[0.9,\"#4d9221\"],[1,\"#276419\"]]},\"xaxis\":{\"gridcolor\":\"white\",\"linecolor\":\"white\",\"ticks\":\"\",\"title\":{\"standoff\":15},\"zerolinecolor\":\"white\",\"automargin\":true,\"zerolinewidth\":2},\"yaxis\":{\"gridcolor\":\"white\",\"linecolor\":\"white\",\"ticks\":\"\",\"title\":{\"standoff\":15},\"zerolinecolor\":\"white\",\"automargin\":true,\"zerolinewidth\":2},\"scene\":{\"xaxis\":{\"backgroundcolor\":\"#E5ECF6\",\"gridcolor\":\"white\",\"linecolor\":\"white\",\"showbackground\":true,\"ticks\":\"\",\"zerolinecolor\":\"white\",\"gridwidth\":2},\"yaxis\":{\"backgroundcolor\":\"#E5ECF6\",\"gridcolor\":\"white\",\"linecolor\":\"white\",\"showbackground\":true,\"ticks\":\"\",\"zerolinecolor\":\"white\",\"gridwidth\":2},\"zaxis\":{\"backgroundcolor\":\"#E5ECF6\",\"gridcolor\":\"white\",\"linecolor\":\"white\",\"showbackground\":true,\"ticks\":\"\",\"zerolinecolor\":\"white\",\"gridwidth\":2}},\"shapedefaults\":{\"line\":{\"color\":\"#2a3f5f\"}},\"annotationdefaults\":{\"arrowcolor\":\"#2a3f5f\",\"arrowhead\":0,\"arrowwidth\":1},\"geo\":{\"bgcolor\":\"white\",\"landcolor\":\"#E5ECF6\",\"subunitcolor\":\"white\",\"showland\":true,\"showlakes\":true,\"lakecolor\":\"white\"},\"title\":{\"x\":0.05},\"mapbox\":{\"style\":\"light\"}}},\"xaxis\":{\"rangeslider\":{\"visible\":true},\"showline\":true,\"showgrid\":false,\"title\":{\"text\":\"Month\"}},\"yaxis\":{\"showgrid\":false,\"showline\":false,\"showticklabels\":false,\"title\":{\"text\":\"Monthly Average Price Difference\"}},\"legend\":{\"title\":{\"text\":\"Stocks\"}},\"title\":{\"text\":\"Price Difference for Meta vs Tesla Stock\"}},                        {\"responsive\": true}                    ).then(function(){\n",
       "                            \n",
       "var gd = document.getElementById('8abbbc26-3503-4845-bc2c-3f617efb0df2');\n",
       "var x = new MutationObserver(function (mutations, observer) {{\n",
       "        var display = window.getComputedStyle(gd).display;\n",
       "        if (!display || display === 'none') {{\n",
       "            console.log([gd, 'removed!']);\n",
       "            Plotly.purge(gd);\n",
       "            observer.disconnect();\n",
       "        }}\n",
       "}});\n",
       "\n",
       "// Listen for the removal of the full notebook cells\n",
       "var notebookContainer = gd.closest('#notebook-container');\n",
       "if (notebookContainer) {{\n",
       "    x.observe(notebookContainer, {childList: true});\n",
       "}}\n",
       "\n",
       "// Listen for the clearing of the current output cell\n",
       "var outputEl = gd.closest('.output');\n",
       "if (outputEl) {{\n",
       "    x.observe(outputEl, {childList: true});\n",
       "}}\n",
       "\n",
       "                        })                };                });            </script>        </div>"
      ]
     },
     "metadata": {},
     "output_type": "display_data"
    }
   ],
   "source": [
    "\n",
    "\n",
    "\n",
    "\n",
    "\n",
    "\n",
    "\n",
    "\n",
    "\n",
    "\n",
    "\n"
   ]
  },
  {
   "cell_type": "code",
   "execution_count": null,
   "metadata": {},
   "outputs": [],
   "source": []
  }
 ],
 "metadata": {
  "colab": {
   "name": "Homework01-dso545-fall21.ipynb",
   "provenance": []
  },
  "interpreter": {
   "hash": "dca0ade3e726a953b501b15e8e990130d2b7799f14cfd9f4271676035ebe5511"
  },
  "kernelspec": {
   "display_name": "Python 3 (ipykernel)",
   "language": "python",
   "name": "python3"
  },
  "language_info": {
   "codemirror_mode": {
    "name": "ipython",
    "version": 3
   },
   "file_extension": ".py",
   "mimetype": "text/x-python",
   "name": "python",
   "nbconvert_exporter": "python",
   "pygments_lexer": "ipython3",
   "version": "3.11.4"
  },
  "varInspector": {
   "cols": {
    "lenName": 16,
    "lenType": 16,
    "lenVar": 40
   },
   "kernels_config": {
    "python": {
     "delete_cmd_postfix": "",
     "delete_cmd_prefix": "del ",
     "library": "var_list.py",
     "varRefreshCmd": "print(var_dic_list())"
    },
    "r": {
     "delete_cmd_postfix": ") ",
     "delete_cmd_prefix": "rm(",
     "library": "var_list.r",
     "varRefreshCmd": "cat(var_dic_list()) "
    }
   },
   "types_to_exclude": [
    "module",
    "function",
    "builtin_function_or_method",
    "instance",
    "_Feature"
   ],
   "window_display": false
  }
 },
 "nbformat": 4,
 "nbformat_minor": 1
}
